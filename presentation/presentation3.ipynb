import geopandas as gpd
import contextily as ctx
import plotly.express as px

# set font
import matplotlib as mpl

# for Mac
mpl.rc('font',family='Hiragino Maru Gothic Pro')