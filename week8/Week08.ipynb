{
 "cells": [
  {
   "attachments": {},
   "cell_type": "markdown",
   "metadata": {
    "slideshow": {
     "slide_type": "slide"
    }
   },
   "source": [
    "# 自転車犯罪マップ\n",
    "\n",
    "<img src=\"https://raw.githubusercontent.com/yohman/23-1-Reitaku-GIS/main/Weeks/Week08/images/crime map.png\" width=600>\n",
    "\n",
    "このラボの目的:\n",
    "\n",
    "- オープンデータソースからデータを取得し、Python ノートブックにインポート\n",
    "- 複数の列から単一の住所フィールドを作成\n",
    "- 緯度と経度の座標を割り当てて各行をジオコーディング\n",
    "- 美しいチャートや地図を作成"
   ]
  },
  {
   "attachments": {},
   "cell_type": "markdown",
   "metadata": {
    "slideshow": {
     "slide_type": "slide"
    }
   },
   "source": [
    "## ライブラリをインポートする\n",
    "\n",
    "このラボで使うライブラリーを一気にインポートしよう。"
   ]
  },
  {
   "cell_type": "code",
   "execution_count": 1,
   "metadata": {
    "slideshow": {
     "slide_type": "fragment"
    }
   },
   "outputs": [],
   "source": [
    "## for spatial analysis\n",
    "import geopandas as gpd\n",
    "\n",
    "## for data analysis\n",
    "import pandas as pd\n",
    "\n",
    "## for pretty charts\n",
    "import plotly.express as px\n",
    "\n",
    "# for plotly themes テーマ\n",
    "import plotly.io as pio\n",
    "\n",
    "## for URL requests\n",
    "import urllib.request\n",
    "import requests\n",
    "\n",
    "## for maps\n",
    "import folium\n",
    "from folium import plugins"
   ]
  },
  {
   "attachments": {},
   "cell_type": "markdown",
   "metadata": {
    "slideshow": {
     "slide_type": "slide"
    }
   },
   "source": [
    "## 自転車盗難データをダウンロード\n",
    "\n",
    "<img src=\"https://raw.githubusercontent.com/yohman/23-1-Reitaku-GIS/main/Weeks/Week08/images/Chiba%20police.png\" width=400>\n",
    "\n",
    "まずは千葉県警察のサイトにアクセス。そこから次に手順でデータをダウンロード：\n",
    "\n",
    "➡️ https://www.police.pref.chiba.jp/\n",
    "\n",
    "➡️ 安全な暮らし\n",
    "\n",
    "➡️ 地域の防犯\n",
    "\n",
    "➡️ あなたの町の犯罪情勢\n",
    "\n",
    "➡️ オープンデータ\n",
    "\n",
    "➡️ 自転車盗（CSV）"
   ]
  },
  {
   "attachments": {},
   "cell_type": "markdown",
   "metadata": {
    "slideshow": {
     "slide_type": "slide"
    }
   },
   "source": [
    "ダウンロードしたファイルを `chibike.csv` と名付けて、このフォルダー（Week08) にセーブ。"
   ]
  },
  {
   "cell_type": "code",
   "execution_count": 7,
   "metadata": {},
   "outputs": [],
   "source": [
    "# ダウンロードしたデータを読み込もう\n",
    "df = pd.read_csv('chibike.csv', encoding='cp932')"
   ]
  },
  {
   "cell_type": "code",
   "execution_count": 6,
   "metadata": {
    "slideshow": {
     "slide_type": "slide"
    }
   },
   "outputs": [
    {
     "name": "stdout",
     "output_type": "stream",
     "text": [
      "<class 'pandas.core.frame.DataFrame'>\n",
      "RangeIndex: 7346 entries, 0 to 7345\n",
      "Data columns (total 15 columns):\n",
      " #   Column         Non-Null Count  Dtype \n",
      "---  ------         --------------  ----- \n",
      " 0   罪名             7346 non-null   object\n",
      " 1   手口             7346 non-null   object\n",
      " 2   管轄警察署（発生地）     7346 non-null   object\n",
      " 3   管轄交番・駐在所（発生地）  7343 non-null   object\n",
      " 4   市区町村コード（発生地）   7346 non-null   int64 \n",
      " 5   都道府県（発生地）      7346 non-null   object\n",
      " 6   市区町村（発生地）      7346 non-null   object\n",
      " 7   町丁目（発生地）       7330 non-null   object\n",
      " 8   発生年月日（始期）      7346 non-null   object\n",
      " 9   発生時（始期）        7346 non-null   object\n",
      " 10  発生場所           7346 non-null   object\n",
      " 11  発生場所の詳細        7346 non-null   object\n",
      " 12  被害者の年齢         7346 non-null   object\n",
      " 13  被害者の職業         7346 non-null   object\n",
      " 14  施錠関係           7346 non-null   object\n",
      "dtypes: int64(1), object(14)\n",
      "memory usage: 861.0+ KB\n"
     ]
    }
   ],
   "source": [
    "# データの情報\n",
    "#objuct　質的データ\n",
    "df.info()"
   ]
  },
  {
   "attachments": {},
   "cell_type": "markdown",
   "metadata": {
    "slideshow": {
     "slide_type": "slide"
    }
   },
   "source": [
    "Wow! ７千件もある！ちょっと多いので場所で絞りましょう。<h1>「柏」</h1>だけのデータフレームを作ろう。"
   ]
  },
  {
   "cell_type": "code",
   "execution_count": 4,
   "metadata": {},
   "outputs": [],
   "source": [
    "kashiwa = df[df['管轄警察署（発生地）'] == '柏'].copy()"
   ]
  },
  {
   "cell_type": "code",
   "execution_count": 5,
   "metadata": {
    "slideshow": {
     "slide_type": "slide"
    }
   },
   "outputs": [
    {
     "data": {
      "text/html": [
       "<div>\n",
       "<style scoped>\n",
       "    .dataframe tbody tr th:only-of-type {\n",
       "        vertical-align: middle;\n",
       "    }\n",
       "\n",
       "    .dataframe tbody tr th {\n",
       "        vertical-align: top;\n",
       "    }\n",
       "\n",
       "    .dataframe thead th {\n",
       "        text-align: right;\n",
       "    }\n",
       "</style>\n",
       "<table border=\"1\" class=\"dataframe\">\n",
       "  <thead>\n",
       "    <tr style=\"text-align: right;\">\n",
       "      <th></th>\n",
       "      <th>罪名</th>\n",
       "      <th>手口</th>\n",
       "      <th>管轄警察署（発生地）</th>\n",
       "      <th>管轄交番・駐在所（発生地）</th>\n",
       "      <th>市区町村コード（発生地）</th>\n",
       "      <th>都道府県（発生地）</th>\n",
       "      <th>市区町村（発生地）</th>\n",
       "      <th>町丁目（発生地）</th>\n",
       "      <th>発生年月日（始期）</th>\n",
       "      <th>発生時（始期）</th>\n",
       "      <th>発生場所</th>\n",
       "      <th>発生場所の詳細</th>\n",
       "      <th>被害者の年齢</th>\n",
       "      <th>被害者の職業</th>\n",
       "      <th>施錠関係</th>\n",
       "    </tr>\n",
       "  </thead>\n",
       "  <tbody>\n",
       "    <tr>\n",
       "      <th>2851</th>\n",
       "      <td>窃盗</td>\n",
       "      <td>自転車盗</td>\n",
       "      <td>柏</td>\n",
       "      <td>南増尾交番</td>\n",
       "      <td>122173</td>\n",
       "      <td>千葉県</td>\n",
       "      <td>柏市</td>\n",
       "      <td>南増尾１丁目</td>\n",
       "      <td>2022-12-18</td>\n",
       "      <td>19</td>\n",
       "      <td>その他</td>\n",
       "      <td>駐車（輪）場</td>\n",
       "      <td>40歳代</td>\n",
       "      <td>その他</td>\n",
       "      <td>施錠した</td>\n",
       "    </tr>\n",
       "    <tr>\n",
       "      <th>2919</th>\n",
       "      <td>窃盗</td>\n",
       "      <td>自転車盗</td>\n",
       "      <td>柏</td>\n",
       "      <td>増尾駅前交番</td>\n",
       "      <td>122173</td>\n",
       "      <td>千葉県</td>\n",
       "      <td>柏市</td>\n",
       "      <td>増尾１丁目</td>\n",
       "      <td>2022-07-21</td>\n",
       "      <td>17</td>\n",
       "      <td>道路上</td>\n",
       "      <td>その他</td>\n",
       "      <td>30歳代</td>\n",
       "      <td>その他</td>\n",
       "      <td>施錠せず</td>\n",
       "    </tr>\n",
       "    <tr>\n",
       "      <th>3195</th>\n",
       "      <td>窃盗</td>\n",
       "      <td>自転車盗</td>\n",
       "      <td>柏</td>\n",
       "      <td>花野井交番</td>\n",
       "      <td>122173</td>\n",
       "      <td>千葉県</td>\n",
       "      <td>柏市</td>\n",
       "      <td>大室</td>\n",
       "      <td>2022-02-02</td>\n",
       "      <td>19</td>\n",
       "      <td>その他の住宅（３階建て以下共同住宅等）</td>\n",
       "      <td>駐車（輪）場</td>\n",
       "      <td>10歳代</td>\n",
       "      <td>高校生</td>\n",
       "      <td>施錠した</td>\n",
       "    </tr>\n",
       "    <tr>\n",
       "      <th>2890</th>\n",
       "      <td>窃盗</td>\n",
       "      <td>自転車盗</td>\n",
       "      <td>柏</td>\n",
       "      <td>南柏駅前交番</td>\n",
       "      <td>122173</td>\n",
       "      <td>千葉県</td>\n",
       "      <td>柏市</td>\n",
       "      <td>南柏１丁目</td>\n",
       "      <td>2022-11-08</td>\n",
       "      <td>19</td>\n",
       "      <td>その他</td>\n",
       "      <td>駐車（輪）場</td>\n",
       "      <td>50歳代</td>\n",
       "      <td>その他</td>\n",
       "      <td>施錠せず</td>\n",
       "    </tr>\n",
       "    <tr>\n",
       "      <th>3065</th>\n",
       "      <td>窃盗</td>\n",
       "      <td>自転車盗</td>\n",
       "      <td>柏</td>\n",
       "      <td>柏の葉キャンパス交番</td>\n",
       "      <td>122173</td>\n",
       "      <td>千葉県</td>\n",
       "      <td>柏市</td>\n",
       "      <td>若柴</td>\n",
       "      <td>2022-04-27</td>\n",
       "      <td>10</td>\n",
       "      <td>その他</td>\n",
       "      <td>駐車（輪）場</td>\n",
       "      <td>20歳代</td>\n",
       "      <td>その他</td>\n",
       "      <td>施錠した</td>\n",
       "    </tr>\n",
       "  </tbody>\n",
       "</table>\n",
       "</div>"
      ],
      "text/plain": [
       "      罪名    手口 管轄警察署（発生地） 管轄交番・駐在所（発生地）  市区町村コード（発生地） 都道府県（発生地） 市区町村（発生地）   \n",
       "2851  窃盗  自転車盗          柏         南増尾交番        122173       千葉県        柏市  \\\n",
       "2919  窃盗  自転車盗          柏        増尾駅前交番        122173       千葉県        柏市   \n",
       "3195  窃盗  自転車盗          柏         花野井交番        122173       千葉県        柏市   \n",
       "2890  窃盗  自転車盗          柏        南柏駅前交番        122173       千葉県        柏市   \n",
       "3065  窃盗  自転車盗          柏    柏の葉キャンパス交番        122173       千葉県        柏市   \n",
       "\n",
       "     町丁目（発生地）   発生年月日（始期） 発生時（始期）                 発生場所 発生場所の詳細 被害者の年齢 被害者の職業   \n",
       "2851   南増尾１丁目  2022-12-18      19                  その他  駐車（輪）場   40歳代    その他  \\\n",
       "2919    増尾１丁目  2022-07-21      17                  道路上     その他   30歳代    その他   \n",
       "3195       大室  2022-02-02      19  その他の住宅（３階建て以下共同住宅等）  駐車（輪）場   10歳代    高校生   \n",
       "2890    南柏１丁目  2022-11-08      19                  その他  駐車（輪）場   50歳代    その他   \n",
       "3065       若柴  2022-04-27      10                  その他  駐車（輪）場   20歳代    その他   \n",
       "\n",
       "      施錠関係  \n",
       "2851  施錠した  \n",
       "2919  施錠せず  \n",
       "3195  施錠した  \n",
       "2890  施錠せず  \n",
       "3065  施錠した  "
      ]
     },
     "execution_count": 5,
     "metadata": {},
     "output_type": "execute_result"
    }
   ],
   "source": [
    "# データをチェック\n",
    "kashiwa.sample(5)"
   ]
  },
  {
   "attachments": {},
   "cell_type": "markdown",
   "metadata": {
    "slideshow": {
     "slide_type": "slide"
    }
   },
   "source": [
    "### `value_counts`でチャート\n",
    "\n",
    "このデータを見て、咄嗟に知りたいものってなんでしょう？\n",
    "\n",
    "例えば、<h1>「1日の何時に自転車の盗難が一番発生するの？」</h1>の質問に答えるためにはどのようなデータ分析が必要でしょうか？\n",
    "\n",
    "では、そのチャートを作ってみましょう。"
   ]
  },
  {
   "attachments": {},
   "cell_type": "markdown",
   "metadata": {
    "slideshow": {
     "slide_type": "slide"
    }
   },
   "source": [
    "データには **【発生時（始期）】** のカラムがあるので、各時間帯のカウントを`value_counts()`で調べる。最後に足される`reset_index()`で結果をデータフレームに変換します。"
   ]
  },
  {
   "cell_type": "code",
   "execution_count": 8,
   "metadata": {},
   "outputs": [
    {
     "data": {
      "text/html": [
       "<div>\n",
       "<style scoped>\n",
       "    .dataframe tbody tr th:only-of-type {\n",
       "        vertical-align: middle;\n",
       "    }\n",
       "\n",
       "    .dataframe tbody tr th {\n",
       "        vertical-align: top;\n",
       "    }\n",
       "\n",
       "    .dataframe thead th {\n",
       "        text-align: right;\n",
       "    }\n",
       "</style>\n",
       "<table border=\"1\" class=\"dataframe\">\n",
       "  <thead>\n",
       "    <tr style=\"text-align: right;\">\n",
       "      <th></th>\n",
       "      <th>発生時（始期）</th>\n",
       "      <th>count</th>\n",
       "    </tr>\n",
       "  </thead>\n",
       "  <tbody>\n",
       "    <tr>\n",
       "      <th>0</th>\n",
       "      <td>18</td>\n",
       "      <td>44</td>\n",
       "    </tr>\n",
       "    <tr>\n",
       "      <th>1</th>\n",
       "      <td>19</td>\n",
       "      <td>39</td>\n",
       "    </tr>\n",
       "    <tr>\n",
       "      <th>2</th>\n",
       "      <td>08</td>\n",
       "      <td>37</td>\n",
       "    </tr>\n",
       "    <tr>\n",
       "      <th>3</th>\n",
       "      <td>16</td>\n",
       "      <td>36</td>\n",
       "    </tr>\n",
       "    <tr>\n",
       "      <th>4</th>\n",
       "      <td>20</td>\n",
       "      <td>33</td>\n",
       "    </tr>\n",
       "    <tr>\n",
       "      <th>5</th>\n",
       "      <td>17</td>\n",
       "      <td>32</td>\n",
       "    </tr>\n",
       "    <tr>\n",
       "      <th>6</th>\n",
       "      <td>12</td>\n",
       "      <td>28</td>\n",
       "    </tr>\n",
       "    <tr>\n",
       "      <th>7</th>\n",
       "      <td>13</td>\n",
       "      <td>25</td>\n",
       "    </tr>\n",
       "    <tr>\n",
       "      <th>8</th>\n",
       "      <td>15</td>\n",
       "      <td>24</td>\n",
       "    </tr>\n",
       "    <tr>\n",
       "      <th>9</th>\n",
       "      <td>07</td>\n",
       "      <td>23</td>\n",
       "    </tr>\n",
       "    <tr>\n",
       "      <th>10</th>\n",
       "      <td>14</td>\n",
       "      <td>20</td>\n",
       "    </tr>\n",
       "    <tr>\n",
       "      <th>11</th>\n",
       "      <td>10</td>\n",
       "      <td>20</td>\n",
       "    </tr>\n",
       "    <tr>\n",
       "      <th>12</th>\n",
       "      <td>21</td>\n",
       "      <td>19</td>\n",
       "    </tr>\n",
       "    <tr>\n",
       "      <th>13</th>\n",
       "      <td>11</td>\n",
       "      <td>19</td>\n",
       "    </tr>\n",
       "    <tr>\n",
       "      <th>14</th>\n",
       "      <td>09</td>\n",
       "      <td>18</td>\n",
       "    </tr>\n",
       "    <tr>\n",
       "      <th>15</th>\n",
       "      <td>06</td>\n",
       "      <td>12</td>\n",
       "    </tr>\n",
       "    <tr>\n",
       "      <th>16</th>\n",
       "      <td>22</td>\n",
       "      <td>11</td>\n",
       "    </tr>\n",
       "    <tr>\n",
       "      <th>17</th>\n",
       "      <td>00</td>\n",
       "      <td>9</td>\n",
       "    </tr>\n",
       "    <tr>\n",
       "      <th>18</th>\n",
       "      <td>23</td>\n",
       "      <td>9</td>\n",
       "    </tr>\n",
       "    <tr>\n",
       "      <th>19</th>\n",
       "      <td>不明</td>\n",
       "      <td>6</td>\n",
       "    </tr>\n",
       "    <tr>\n",
       "      <th>20</th>\n",
       "      <td>05</td>\n",
       "      <td>3</td>\n",
       "    </tr>\n",
       "    <tr>\n",
       "      <th>21</th>\n",
       "      <td>04</td>\n",
       "      <td>2</td>\n",
       "    </tr>\n",
       "    <tr>\n",
       "      <th>22</th>\n",
       "      <td>02</td>\n",
       "      <td>1</td>\n",
       "    </tr>\n",
       "    <tr>\n",
       "      <th>23</th>\n",
       "      <td>01</td>\n",
       "      <td>1</td>\n",
       "    </tr>\n",
       "  </tbody>\n",
       "</table>\n",
       "</div>"
      ],
      "text/plain": [
       "   発生時（始期）  count\n",
       "0       18     44\n",
       "1       19     39\n",
       "2       08     37\n",
       "3       16     36\n",
       "4       20     33\n",
       "5       17     32\n",
       "6       12     28\n",
       "7       13     25\n",
       "8       15     24\n",
       "9       07     23\n",
       "10      14     20\n",
       "11      10     20\n",
       "12      21     19\n",
       "13      11     19\n",
       "14      09     18\n",
       "15      06     12\n",
       "16      22     11\n",
       "17      00      9\n",
       "18      23      9\n",
       "19      不明      6\n",
       "20      05      3\n",
       "21      04      2\n",
       "22      02      1\n",
       "23      01      1"
      ]
     },
     "execution_count": 8,
     "metadata": {},
     "output_type": "execute_result"
    }
   ],
   "source": [
    "# create a new variable with hourly counts\n",
    "time = kashiwa['発生時（始期）'].value_counts().reset_index()\n",
    "time"
   ]
  },
  {
   "attachments": {},
   "cell_type": "markdown",
   "metadata": {
    "slideshow": {
     "slide_type": "slide"
    }
   },
   "source": [
    "この結果は良いが、カラム名（ヘッダー）を直す必要がある。"
   ]
  },
  {
   "cell_type": "code",
   "execution_count": 9,
   "metadata": {},
   "outputs": [
    {
     "data": {
      "text/html": [
       "<div>\n",
       "<style scoped>\n",
       "    .dataframe tbody tr th:only-of-type {\n",
       "        vertical-align: middle;\n",
       "    }\n",
       "\n",
       "    .dataframe tbody tr th {\n",
       "        vertical-align: top;\n",
       "    }\n",
       "\n",
       "    .dataframe thead th {\n",
       "        text-align: right;\n",
       "    }\n",
       "</style>\n",
       "<table border=\"1\" class=\"dataframe\">\n",
       "  <thead>\n",
       "    <tr style=\"text-align: right;\">\n",
       "      <th></th>\n",
       "      <th>発生時（始期）</th>\n",
       "      <th>件数</th>\n",
       "    </tr>\n",
       "  </thead>\n",
       "  <tbody>\n",
       "    <tr>\n",
       "      <th>0</th>\n",
       "      <td>18</td>\n",
       "      <td>44</td>\n",
       "    </tr>\n",
       "    <tr>\n",
       "      <th>1</th>\n",
       "      <td>19</td>\n",
       "      <td>39</td>\n",
       "    </tr>\n",
       "    <tr>\n",
       "      <th>2</th>\n",
       "      <td>08</td>\n",
       "      <td>37</td>\n",
       "    </tr>\n",
       "    <tr>\n",
       "      <th>3</th>\n",
       "      <td>16</td>\n",
       "      <td>36</td>\n",
       "    </tr>\n",
       "    <tr>\n",
       "      <th>4</th>\n",
       "      <td>20</td>\n",
       "      <td>33</td>\n",
       "    </tr>\n",
       "    <tr>\n",
       "      <th>5</th>\n",
       "      <td>17</td>\n",
       "      <td>32</td>\n",
       "    </tr>\n",
       "    <tr>\n",
       "      <th>6</th>\n",
       "      <td>12</td>\n",
       "      <td>28</td>\n",
       "    </tr>\n",
       "    <tr>\n",
       "      <th>7</th>\n",
       "      <td>13</td>\n",
       "      <td>25</td>\n",
       "    </tr>\n",
       "    <tr>\n",
       "      <th>8</th>\n",
       "      <td>15</td>\n",
       "      <td>24</td>\n",
       "    </tr>\n",
       "    <tr>\n",
       "      <th>9</th>\n",
       "      <td>07</td>\n",
       "      <td>23</td>\n",
       "    </tr>\n",
       "    <tr>\n",
       "      <th>10</th>\n",
       "      <td>14</td>\n",
       "      <td>20</td>\n",
       "    </tr>\n",
       "    <tr>\n",
       "      <th>11</th>\n",
       "      <td>10</td>\n",
       "      <td>20</td>\n",
       "    </tr>\n",
       "    <tr>\n",
       "      <th>12</th>\n",
       "      <td>21</td>\n",
       "      <td>19</td>\n",
       "    </tr>\n",
       "    <tr>\n",
       "      <th>13</th>\n",
       "      <td>11</td>\n",
       "      <td>19</td>\n",
       "    </tr>\n",
       "    <tr>\n",
       "      <th>14</th>\n",
       "      <td>09</td>\n",
       "      <td>18</td>\n",
       "    </tr>\n",
       "    <tr>\n",
       "      <th>15</th>\n",
       "      <td>06</td>\n",
       "      <td>12</td>\n",
       "    </tr>\n",
       "    <tr>\n",
       "      <th>16</th>\n",
       "      <td>22</td>\n",
       "      <td>11</td>\n",
       "    </tr>\n",
       "    <tr>\n",
       "      <th>17</th>\n",
       "      <td>00</td>\n",
       "      <td>9</td>\n",
       "    </tr>\n",
       "    <tr>\n",
       "      <th>18</th>\n",
       "      <td>23</td>\n",
       "      <td>9</td>\n",
       "    </tr>\n",
       "    <tr>\n",
       "      <th>19</th>\n",
       "      <td>不明</td>\n",
       "      <td>6</td>\n",
       "    </tr>\n",
       "    <tr>\n",
       "      <th>20</th>\n",
       "      <td>05</td>\n",
       "      <td>3</td>\n",
       "    </tr>\n",
       "    <tr>\n",
       "      <th>21</th>\n",
       "      <td>04</td>\n",
       "      <td>2</td>\n",
       "    </tr>\n",
       "    <tr>\n",
       "      <th>22</th>\n",
       "      <td>02</td>\n",
       "      <td>1</td>\n",
       "    </tr>\n",
       "    <tr>\n",
       "      <th>23</th>\n",
       "      <td>01</td>\n",
       "      <td>1</td>\n",
       "    </tr>\n",
       "  </tbody>\n",
       "</table>\n",
       "</div>"
      ],
      "text/plain": [
       "   発生時（始期）  件数\n",
       "0       18  44\n",
       "1       19  39\n",
       "2       08  37\n",
       "3       16  36\n",
       "4       20  33\n",
       "5       17  32\n",
       "6       12  28\n",
       "7       13  25\n",
       "8       15  24\n",
       "9       07  23\n",
       "10      14  20\n",
       "11      10  20\n",
       "12      21  19\n",
       "13      11  19\n",
       "14      09  18\n",
       "15      06  12\n",
       "16      22  11\n",
       "17      00   9\n",
       "18      23   9\n",
       "19      不明   6\n",
       "20      05   3\n",
       "21      04   2\n",
       "22      02   1\n",
       "23      01   1"
      ]
     },
     "execution_count": 9,
     "metadata": {},
     "output_type": "execute_result"
    }
   ],
   "source": [
    "# fix headers\n",
    "time.columns = ['発生時（始期）','件数']\n",
    "time"
   ]
  },
  {
   "attachments": {},
   "cell_type": "markdown",
   "metadata": {
    "slideshow": {
     "slide_type": "slide"
    }
   },
   "source": [
    "いよいよ準備万端。この新しいデータフレームでチャートを作ろう。この場合は plotly express の bar charts を参考。\n",
    "\n",
    "https://plotly.com/python/bar-charts/"
   ]
  },
  {
   "cell_type": "code",
   "execution_count": 10,
   "metadata": {},
   "outputs": [
    {
     "data": {
      "application/vnd.plotly.v1+json": {
       "config": {
        "plotlyServerURL": "https://plot.ly"
       },
       "data": [
        {
         "alignmentgroup": "True",
         "hovertemplate": "発生時（始期）=%{x}<br>件数=%{y}<extra></extra>",
         "legendgroup": "",
         "marker": {
          "color": "#636efa",
          "pattern": {
           "shape": ""
          }
         },
         "name": "",
         "offsetgroup": "",
         "orientation": "v",
         "showlegend": false,
         "textposition": "auto",
         "type": "bar",
         "x": [
          "18",
          "19",
          "08",
          "16",
          "20",
          "17",
          "12",
          "13",
          "15",
          "07",
          "14",
          "10",
          "21",
          "11",
          "09",
          "06",
          "22",
          "00",
          "23",
          "不明",
          "05",
          "04",
          "02",
          "01"
         ],
         "xaxis": "x",
         "y": [
          44,
          39,
          37,
          36,
          33,
          32,
          28,
          25,
          24,
          23,
          20,
          20,
          19,
          19,
          18,
          12,
          11,
          9,
          9,
          6,
          3,
          2,
          1,
          1
         ],
         "yaxis": "y"
        }
       ],
       "layout": {
        "barmode": "relative",
        "legend": {
         "tracegroupgap": 0
        },
        "margin": {
         "t": 60
        },
        "template": {
         "data": {
          "bar": [
           {
            "error_x": {
             "color": "#2a3f5f"
            },
            "error_y": {
             "color": "#2a3f5f"
            },
            "marker": {
             "line": {
              "color": "#E5ECF6",
              "width": 0.5
             },
             "pattern": {
              "fillmode": "overlay",
              "size": 10,
              "solidity": 0.2
             }
            },
            "type": "bar"
           }
          ],
          "barpolar": [
           {
            "marker": {
             "line": {
              "color": "#E5ECF6",
              "width": 0.5
             },
             "pattern": {
              "fillmode": "overlay",
              "size": 10,
              "solidity": 0.2
             }
            },
            "type": "barpolar"
           }
          ],
          "carpet": [
           {
            "aaxis": {
             "endlinecolor": "#2a3f5f",
             "gridcolor": "white",
             "linecolor": "white",
             "minorgridcolor": "white",
             "startlinecolor": "#2a3f5f"
            },
            "baxis": {
             "endlinecolor": "#2a3f5f",
             "gridcolor": "white",
             "linecolor": "white",
             "minorgridcolor": "white",
             "startlinecolor": "#2a3f5f"
            },
            "type": "carpet"
           }
          ],
          "choropleth": [
           {
            "colorbar": {
             "outlinewidth": 0,
             "ticks": ""
            },
            "type": "choropleth"
           }
          ],
          "contour": [
           {
            "colorbar": {
             "outlinewidth": 0,
             "ticks": ""
            },
            "colorscale": [
             [
              0,
              "#0d0887"
             ],
             [
              0.1111111111111111,
              "#46039f"
             ],
             [
              0.2222222222222222,
              "#7201a8"
             ],
             [
              0.3333333333333333,
              "#9c179e"
             ],
             [
              0.4444444444444444,
              "#bd3786"
             ],
             [
              0.5555555555555556,
              "#d8576b"
             ],
             [
              0.6666666666666666,
              "#ed7953"
             ],
             [
              0.7777777777777778,
              "#fb9f3a"
             ],
             [
              0.8888888888888888,
              "#fdca26"
             ],
             [
              1,
              "#f0f921"
             ]
            ],
            "type": "contour"
           }
          ],
          "contourcarpet": [
           {
            "colorbar": {
             "outlinewidth": 0,
             "ticks": ""
            },
            "type": "contourcarpet"
           }
          ],
          "heatmap": [
           {
            "colorbar": {
             "outlinewidth": 0,
             "ticks": ""
            },
            "colorscale": [
             [
              0,
              "#0d0887"
             ],
             [
              0.1111111111111111,
              "#46039f"
             ],
             [
              0.2222222222222222,
              "#7201a8"
             ],
             [
              0.3333333333333333,
              "#9c179e"
             ],
             [
              0.4444444444444444,
              "#bd3786"
             ],
             [
              0.5555555555555556,
              "#d8576b"
             ],
             [
              0.6666666666666666,
              "#ed7953"
             ],
             [
              0.7777777777777778,
              "#fb9f3a"
             ],
             [
              0.8888888888888888,
              "#fdca26"
             ],
             [
              1,
              "#f0f921"
             ]
            ],
            "type": "heatmap"
           }
          ],
          "heatmapgl": [
           {
            "colorbar": {
             "outlinewidth": 0,
             "ticks": ""
            },
            "colorscale": [
             [
              0,
              "#0d0887"
             ],
             [
              0.1111111111111111,
              "#46039f"
             ],
             [
              0.2222222222222222,
              "#7201a8"
             ],
             [
              0.3333333333333333,
              "#9c179e"
             ],
             [
              0.4444444444444444,
              "#bd3786"
             ],
             [
              0.5555555555555556,
              "#d8576b"
             ],
             [
              0.6666666666666666,
              "#ed7953"
             ],
             [
              0.7777777777777778,
              "#fb9f3a"
             ],
             [
              0.8888888888888888,
              "#fdca26"
             ],
             [
              1,
              "#f0f921"
             ]
            ],
            "type": "heatmapgl"
           }
          ],
          "histogram": [
           {
            "marker": {
             "pattern": {
              "fillmode": "overlay",
              "size": 10,
              "solidity": 0.2
             }
            },
            "type": "histogram"
           }
          ],
          "histogram2d": [
           {
            "colorbar": {
             "outlinewidth": 0,
             "ticks": ""
            },
            "colorscale": [
             [
              0,
              "#0d0887"
             ],
             [
              0.1111111111111111,
              "#46039f"
             ],
             [
              0.2222222222222222,
              "#7201a8"
             ],
             [
              0.3333333333333333,
              "#9c179e"
             ],
             [
              0.4444444444444444,
              "#bd3786"
             ],
             [
              0.5555555555555556,
              "#d8576b"
             ],
             [
              0.6666666666666666,
              "#ed7953"
             ],
             [
              0.7777777777777778,
              "#fb9f3a"
             ],
             [
              0.8888888888888888,
              "#fdca26"
             ],
             [
              1,
              "#f0f921"
             ]
            ],
            "type": "histogram2d"
           }
          ],
          "histogram2dcontour": [
           {
            "colorbar": {
             "outlinewidth": 0,
             "ticks": ""
            },
            "colorscale": [
             [
              0,
              "#0d0887"
             ],
             [
              0.1111111111111111,
              "#46039f"
             ],
             [
              0.2222222222222222,
              "#7201a8"
             ],
             [
              0.3333333333333333,
              "#9c179e"
             ],
             [
              0.4444444444444444,
              "#bd3786"
             ],
             [
              0.5555555555555556,
              "#d8576b"
             ],
             [
              0.6666666666666666,
              "#ed7953"
             ],
             [
              0.7777777777777778,
              "#fb9f3a"
             ],
             [
              0.8888888888888888,
              "#fdca26"
             ],
             [
              1,
              "#f0f921"
             ]
            ],
            "type": "histogram2dcontour"
           }
          ],
          "mesh3d": [
           {
            "colorbar": {
             "outlinewidth": 0,
             "ticks": ""
            },
            "type": "mesh3d"
           }
          ],
          "parcoords": [
           {
            "line": {
             "colorbar": {
              "outlinewidth": 0,
              "ticks": ""
             }
            },
            "type": "parcoords"
           }
          ],
          "pie": [
           {
            "automargin": true,
            "type": "pie"
           }
          ],
          "scatter": [
           {
            "fillpattern": {
             "fillmode": "overlay",
             "size": 10,
             "solidity": 0.2
            },
            "type": "scatter"
           }
          ],
          "scatter3d": [
           {
            "line": {
             "colorbar": {
              "outlinewidth": 0,
              "ticks": ""
             }
            },
            "marker": {
             "colorbar": {
              "outlinewidth": 0,
              "ticks": ""
             }
            },
            "type": "scatter3d"
           }
          ],
          "scattercarpet": [
           {
            "marker": {
             "colorbar": {
              "outlinewidth": 0,
              "ticks": ""
             }
            },
            "type": "scattercarpet"
           }
          ],
          "scattergeo": [
           {
            "marker": {
             "colorbar": {
              "outlinewidth": 0,
              "ticks": ""
             }
            },
            "type": "scattergeo"
           }
          ],
          "scattergl": [
           {
            "marker": {
             "colorbar": {
              "outlinewidth": 0,
              "ticks": ""
             }
            },
            "type": "scattergl"
           }
          ],
          "scattermapbox": [
           {
            "marker": {
             "colorbar": {
              "outlinewidth": 0,
              "ticks": ""
             }
            },
            "type": "scattermapbox"
           }
          ],
          "scatterpolar": [
           {
            "marker": {
             "colorbar": {
              "outlinewidth": 0,
              "ticks": ""
             }
            },
            "type": "scatterpolar"
           }
          ],
          "scatterpolargl": [
           {
            "marker": {
             "colorbar": {
              "outlinewidth": 0,
              "ticks": ""
             }
            },
            "type": "scatterpolargl"
           }
          ],
          "scatterternary": [
           {
            "marker": {
             "colorbar": {
              "outlinewidth": 0,
              "ticks": ""
             }
            },
            "type": "scatterternary"
           }
          ],
          "surface": [
           {
            "colorbar": {
             "outlinewidth": 0,
             "ticks": ""
            },
            "colorscale": [
             [
              0,
              "#0d0887"
             ],
             [
              0.1111111111111111,
              "#46039f"
             ],
             [
              0.2222222222222222,
              "#7201a8"
             ],
             [
              0.3333333333333333,
              "#9c179e"
             ],
             [
              0.4444444444444444,
              "#bd3786"
             ],
             [
              0.5555555555555556,
              "#d8576b"
             ],
             [
              0.6666666666666666,
              "#ed7953"
             ],
             [
              0.7777777777777778,
              "#fb9f3a"
             ],
             [
              0.8888888888888888,
              "#fdca26"
             ],
             [
              1,
              "#f0f921"
             ]
            ],
            "type": "surface"
           }
          ],
          "table": [
           {
            "cells": {
             "fill": {
              "color": "#EBF0F8"
             },
             "line": {
              "color": "white"
             }
            },
            "header": {
             "fill": {
              "color": "#C8D4E3"
             },
             "line": {
              "color": "white"
             }
            },
            "type": "table"
           }
          ]
         },
         "layout": {
          "annotationdefaults": {
           "arrowcolor": "#2a3f5f",
           "arrowhead": 0,
           "arrowwidth": 1
          },
          "autotypenumbers": "strict",
          "coloraxis": {
           "colorbar": {
            "outlinewidth": 0,
            "ticks": ""
           }
          },
          "colorscale": {
           "diverging": [
            [
             0,
             "#8e0152"
            ],
            [
             0.1,
             "#c51b7d"
            ],
            [
             0.2,
             "#de77ae"
            ],
            [
             0.3,
             "#f1b6da"
            ],
            [
             0.4,
             "#fde0ef"
            ],
            [
             0.5,
             "#f7f7f7"
            ],
            [
             0.6,
             "#e6f5d0"
            ],
            [
             0.7,
             "#b8e186"
            ],
            [
             0.8,
             "#7fbc41"
            ],
            [
             0.9,
             "#4d9221"
            ],
            [
             1,
             "#276419"
            ]
           ],
           "sequential": [
            [
             0,
             "#0d0887"
            ],
            [
             0.1111111111111111,
             "#46039f"
            ],
            [
             0.2222222222222222,
             "#7201a8"
            ],
            [
             0.3333333333333333,
             "#9c179e"
            ],
            [
             0.4444444444444444,
             "#bd3786"
            ],
            [
             0.5555555555555556,
             "#d8576b"
            ],
            [
             0.6666666666666666,
             "#ed7953"
            ],
            [
             0.7777777777777778,
             "#fb9f3a"
            ],
            [
             0.8888888888888888,
             "#fdca26"
            ],
            [
             1,
             "#f0f921"
            ]
           ],
           "sequentialminus": [
            [
             0,
             "#0d0887"
            ],
            [
             0.1111111111111111,
             "#46039f"
            ],
            [
             0.2222222222222222,
             "#7201a8"
            ],
            [
             0.3333333333333333,
             "#9c179e"
            ],
            [
             0.4444444444444444,
             "#bd3786"
            ],
            [
             0.5555555555555556,
             "#d8576b"
            ],
            [
             0.6666666666666666,
             "#ed7953"
            ],
            [
             0.7777777777777778,
             "#fb9f3a"
            ],
            [
             0.8888888888888888,
             "#fdca26"
            ],
            [
             1,
             "#f0f921"
            ]
           ]
          },
          "colorway": [
           "#636efa",
           "#EF553B",
           "#00cc96",
           "#ab63fa",
           "#FFA15A",
           "#19d3f3",
           "#FF6692",
           "#B6E880",
           "#FF97FF",
           "#FECB52"
          ],
          "font": {
           "color": "#2a3f5f"
          },
          "geo": {
           "bgcolor": "white",
           "lakecolor": "white",
           "landcolor": "#E5ECF6",
           "showlakes": true,
           "showland": true,
           "subunitcolor": "white"
          },
          "hoverlabel": {
           "align": "left"
          },
          "hovermode": "closest",
          "mapbox": {
           "style": "light"
          },
          "paper_bgcolor": "white",
          "plot_bgcolor": "#E5ECF6",
          "polar": {
           "angularaxis": {
            "gridcolor": "white",
            "linecolor": "white",
            "ticks": ""
           },
           "bgcolor": "#E5ECF6",
           "radialaxis": {
            "gridcolor": "white",
            "linecolor": "white",
            "ticks": ""
           }
          },
          "scene": {
           "xaxis": {
            "backgroundcolor": "#E5ECF6",
            "gridcolor": "white",
            "gridwidth": 2,
            "linecolor": "white",
            "showbackground": true,
            "ticks": "",
            "zerolinecolor": "white"
           },
           "yaxis": {
            "backgroundcolor": "#E5ECF6",
            "gridcolor": "white",
            "gridwidth": 2,
            "linecolor": "white",
            "showbackground": true,
            "ticks": "",
            "zerolinecolor": "white"
           },
           "zaxis": {
            "backgroundcolor": "#E5ECF6",
            "gridcolor": "white",
            "gridwidth": 2,
            "linecolor": "white",
            "showbackground": true,
            "ticks": "",
            "zerolinecolor": "white"
           }
          },
          "shapedefaults": {
           "line": {
            "color": "#2a3f5f"
           }
          },
          "ternary": {
           "aaxis": {
            "gridcolor": "white",
            "linecolor": "white",
            "ticks": ""
           },
           "baxis": {
            "gridcolor": "white",
            "linecolor": "white",
            "ticks": ""
           },
           "bgcolor": "#E5ECF6",
           "caxis": {
            "gridcolor": "white",
            "linecolor": "white",
            "ticks": ""
           }
          },
          "title": {
           "x": 0.05
          },
          "xaxis": {
           "automargin": true,
           "gridcolor": "white",
           "linecolor": "white",
           "ticks": "",
           "title": {
            "standoff": 15
           },
           "zerolinecolor": "white",
           "zerolinewidth": 2
          },
          "yaxis": {
           "automargin": true,
           "gridcolor": "white",
           "linecolor": "white",
           "ticks": "",
           "title": {
            "standoff": 15
           },
           "zerolinecolor": "white",
           "zerolinewidth": 2
          }
         }
        },
        "xaxis": {
         "anchor": "y",
         "domain": [
          0,
          1
         ],
         "title": {
          "text": "発生時（始期）"
         }
        },
        "yaxis": {
         "anchor": "x",
         "domain": [
          0,
          1
         ],
         "title": {
          "text": "件数"
         }
        }
       }
      }
     },
     "metadata": {},
     "output_type": "display_data"
    }
   ],
   "source": [
    "fig = px.bar(time,x='発生時（始期）',y='件数')\n",
    "fig.show()"
   ]
  },
  {
   "attachments": {},
   "cell_type": "markdown",
   "metadata": {
    "slideshow": {
     "slide_type": "slide"
    }
   },
   "source": [
    "ありゃ？順番が件数の多い順になってる。実はx軸のオプションっていっぱいあるんだ！その中の一つでカテゴリーの順番を設定できる。\n",
    "\n",
    "https://plotly.com/python/categorical-axes/"
   ]
  },
  {
   "cell_type": "code",
   "execution_count": 11,
   "metadata": {},
   "outputs": [
    {
     "data": {
      "application/vnd.plotly.v1+json": {
       "config": {
        "plotlyServerURL": "https://plot.ly"
       },
       "data": [
        {
         "alignmentgroup": "True",
         "hovertemplate": "発生時（始期）=%{x}<br>件数=%{y}<extra></extra>",
         "legendgroup": "",
         "marker": {
          "color": "#636efa",
          "pattern": {
           "shape": ""
          }
         },
         "name": "",
         "offsetgroup": "",
         "orientation": "v",
         "showlegend": false,
         "textposition": "auto",
         "type": "bar",
         "x": [
          "18",
          "19",
          "08",
          "16",
          "20",
          "17",
          "12",
          "13",
          "15",
          "07",
          "14",
          "10",
          "21",
          "11",
          "09",
          "06",
          "22",
          "00",
          "23",
          "不明",
          "05",
          "04",
          "02",
          "01"
         ],
         "xaxis": "x",
         "y": [
          44,
          39,
          37,
          36,
          33,
          32,
          28,
          25,
          24,
          23,
          20,
          20,
          19,
          19,
          18,
          12,
          11,
          9,
          9,
          6,
          3,
          2,
          1,
          1
         ],
         "yaxis": "y"
        }
       ],
       "layout": {
        "barmode": "relative",
        "legend": {
         "tracegroupgap": 0
        },
        "margin": {
         "t": 60
        },
        "template": {
         "data": {
          "bar": [
           {
            "error_x": {
             "color": "#2a3f5f"
            },
            "error_y": {
             "color": "#2a3f5f"
            },
            "marker": {
             "line": {
              "color": "#E5ECF6",
              "width": 0.5
             },
             "pattern": {
              "fillmode": "overlay",
              "size": 10,
              "solidity": 0.2
             }
            },
            "type": "bar"
           }
          ],
          "barpolar": [
           {
            "marker": {
             "line": {
              "color": "#E5ECF6",
              "width": 0.5
             },
             "pattern": {
              "fillmode": "overlay",
              "size": 10,
              "solidity": 0.2
             }
            },
            "type": "barpolar"
           }
          ],
          "carpet": [
           {
            "aaxis": {
             "endlinecolor": "#2a3f5f",
             "gridcolor": "white",
             "linecolor": "white",
             "minorgridcolor": "white",
             "startlinecolor": "#2a3f5f"
            },
            "baxis": {
             "endlinecolor": "#2a3f5f",
             "gridcolor": "white",
             "linecolor": "white",
             "minorgridcolor": "white",
             "startlinecolor": "#2a3f5f"
            },
            "type": "carpet"
           }
          ],
          "choropleth": [
           {
            "colorbar": {
             "outlinewidth": 0,
             "ticks": ""
            },
            "type": "choropleth"
           }
          ],
          "contour": [
           {
            "colorbar": {
             "outlinewidth": 0,
             "ticks": ""
            },
            "colorscale": [
             [
              0,
              "#0d0887"
             ],
             [
              0.1111111111111111,
              "#46039f"
             ],
             [
              0.2222222222222222,
              "#7201a8"
             ],
             [
              0.3333333333333333,
              "#9c179e"
             ],
             [
              0.4444444444444444,
              "#bd3786"
             ],
             [
              0.5555555555555556,
              "#d8576b"
             ],
             [
              0.6666666666666666,
              "#ed7953"
             ],
             [
              0.7777777777777778,
              "#fb9f3a"
             ],
             [
              0.8888888888888888,
              "#fdca26"
             ],
             [
              1,
              "#f0f921"
             ]
            ],
            "type": "contour"
           }
          ],
          "contourcarpet": [
           {
            "colorbar": {
             "outlinewidth": 0,
             "ticks": ""
            },
            "type": "contourcarpet"
           }
          ],
          "heatmap": [
           {
            "colorbar": {
             "outlinewidth": 0,
             "ticks": ""
            },
            "colorscale": [
             [
              0,
              "#0d0887"
             ],
             [
              0.1111111111111111,
              "#46039f"
             ],
             [
              0.2222222222222222,
              "#7201a8"
             ],
             [
              0.3333333333333333,
              "#9c179e"
             ],
             [
              0.4444444444444444,
              "#bd3786"
             ],
             [
              0.5555555555555556,
              "#d8576b"
             ],
             [
              0.6666666666666666,
              "#ed7953"
             ],
             [
              0.7777777777777778,
              "#fb9f3a"
             ],
             [
              0.8888888888888888,
              "#fdca26"
             ],
             [
              1,
              "#f0f921"
             ]
            ],
            "type": "heatmap"
           }
          ],
          "heatmapgl": [
           {
            "colorbar": {
             "outlinewidth": 0,
             "ticks": ""
            },
            "colorscale": [
             [
              0,
              "#0d0887"
             ],
             [
              0.1111111111111111,
              "#46039f"
             ],
             [
              0.2222222222222222,
              "#7201a8"
             ],
             [
              0.3333333333333333,
              "#9c179e"
             ],
             [
              0.4444444444444444,
              "#bd3786"
             ],
             [
              0.5555555555555556,
              "#d8576b"
             ],
             [
              0.6666666666666666,
              "#ed7953"
             ],
             [
              0.7777777777777778,
              "#fb9f3a"
             ],
             [
              0.8888888888888888,
              "#fdca26"
             ],
             [
              1,
              "#f0f921"
             ]
            ],
            "type": "heatmapgl"
           }
          ],
          "histogram": [
           {
            "marker": {
             "pattern": {
              "fillmode": "overlay",
              "size": 10,
              "solidity": 0.2
             }
            },
            "type": "histogram"
           }
          ],
          "histogram2d": [
           {
            "colorbar": {
             "outlinewidth": 0,
             "ticks": ""
            },
            "colorscale": [
             [
              0,
              "#0d0887"
             ],
             [
              0.1111111111111111,
              "#46039f"
             ],
             [
              0.2222222222222222,
              "#7201a8"
             ],
             [
              0.3333333333333333,
              "#9c179e"
             ],
             [
              0.4444444444444444,
              "#bd3786"
             ],
             [
              0.5555555555555556,
              "#d8576b"
             ],
             [
              0.6666666666666666,
              "#ed7953"
             ],
             [
              0.7777777777777778,
              "#fb9f3a"
             ],
             [
              0.8888888888888888,
              "#fdca26"
             ],
             [
              1,
              "#f0f921"
             ]
            ],
            "type": "histogram2d"
           }
          ],
          "histogram2dcontour": [
           {
            "colorbar": {
             "outlinewidth": 0,
             "ticks": ""
            },
            "colorscale": [
             [
              0,
              "#0d0887"
             ],
             [
              0.1111111111111111,
              "#46039f"
             ],
             [
              0.2222222222222222,
              "#7201a8"
             ],
             [
              0.3333333333333333,
              "#9c179e"
             ],
             [
              0.4444444444444444,
              "#bd3786"
             ],
             [
              0.5555555555555556,
              "#d8576b"
             ],
             [
              0.6666666666666666,
              "#ed7953"
             ],
             [
              0.7777777777777778,
              "#fb9f3a"
             ],
             [
              0.8888888888888888,
              "#fdca26"
             ],
             [
              1,
              "#f0f921"
             ]
            ],
            "type": "histogram2dcontour"
           }
          ],
          "mesh3d": [
           {
            "colorbar": {
             "outlinewidth": 0,
             "ticks": ""
            },
            "type": "mesh3d"
           }
          ],
          "parcoords": [
           {
            "line": {
             "colorbar": {
              "outlinewidth": 0,
              "ticks": ""
             }
            },
            "type": "parcoords"
           }
          ],
          "pie": [
           {
            "automargin": true,
            "type": "pie"
           }
          ],
          "scatter": [
           {
            "fillpattern": {
             "fillmode": "overlay",
             "size": 10,
             "solidity": 0.2
            },
            "type": "scatter"
           }
          ],
          "scatter3d": [
           {
            "line": {
             "colorbar": {
              "outlinewidth": 0,
              "ticks": ""
             }
            },
            "marker": {
             "colorbar": {
              "outlinewidth": 0,
              "ticks": ""
             }
            },
            "type": "scatter3d"
           }
          ],
          "scattercarpet": [
           {
            "marker": {
             "colorbar": {
              "outlinewidth": 0,
              "ticks": ""
             }
            },
            "type": "scattercarpet"
           }
          ],
          "scattergeo": [
           {
            "marker": {
             "colorbar": {
              "outlinewidth": 0,
              "ticks": ""
             }
            },
            "type": "scattergeo"
           }
          ],
          "scattergl": [
           {
            "marker": {
             "colorbar": {
              "outlinewidth": 0,
              "ticks": ""
             }
            },
            "type": "scattergl"
           }
          ],
          "scattermapbox": [
           {
            "marker": {
             "colorbar": {
              "outlinewidth": 0,
              "ticks": ""
             }
            },
            "type": "scattermapbox"
           }
          ],
          "scatterpolar": [
           {
            "marker": {
             "colorbar": {
              "outlinewidth": 0,
              "ticks": ""
             }
            },
            "type": "scatterpolar"
           }
          ],
          "scatterpolargl": [
           {
            "marker": {
             "colorbar": {
              "outlinewidth": 0,
              "ticks": ""
             }
            },
            "type": "scatterpolargl"
           }
          ],
          "scatterternary": [
           {
            "marker": {
             "colorbar": {
              "outlinewidth": 0,
              "ticks": ""
             }
            },
            "type": "scatterternary"
           }
          ],
          "surface": [
           {
            "colorbar": {
             "outlinewidth": 0,
             "ticks": ""
            },
            "colorscale": [
             [
              0,
              "#0d0887"
             ],
             [
              0.1111111111111111,
              "#46039f"
             ],
             [
              0.2222222222222222,
              "#7201a8"
             ],
             [
              0.3333333333333333,
              "#9c179e"
             ],
             [
              0.4444444444444444,
              "#bd3786"
             ],
             [
              0.5555555555555556,
              "#d8576b"
             ],
             [
              0.6666666666666666,
              "#ed7953"
             ],
             [
              0.7777777777777778,
              "#fb9f3a"
             ],
             [
              0.8888888888888888,
              "#fdca26"
             ],
             [
              1,
              "#f0f921"
             ]
            ],
            "type": "surface"
           }
          ],
          "table": [
           {
            "cells": {
             "fill": {
              "color": "#EBF0F8"
             },
             "line": {
              "color": "white"
             }
            },
            "header": {
             "fill": {
              "color": "#C8D4E3"
             },
             "line": {
              "color": "white"
             }
            },
            "type": "table"
           }
          ]
         },
         "layout": {
          "annotationdefaults": {
           "arrowcolor": "#2a3f5f",
           "arrowhead": 0,
           "arrowwidth": 1
          },
          "autotypenumbers": "strict",
          "coloraxis": {
           "colorbar": {
            "outlinewidth": 0,
            "ticks": ""
           }
          },
          "colorscale": {
           "diverging": [
            [
             0,
             "#8e0152"
            ],
            [
             0.1,
             "#c51b7d"
            ],
            [
             0.2,
             "#de77ae"
            ],
            [
             0.3,
             "#f1b6da"
            ],
            [
             0.4,
             "#fde0ef"
            ],
            [
             0.5,
             "#f7f7f7"
            ],
            [
             0.6,
             "#e6f5d0"
            ],
            [
             0.7,
             "#b8e186"
            ],
            [
             0.8,
             "#7fbc41"
            ],
            [
             0.9,
             "#4d9221"
            ],
            [
             1,
             "#276419"
            ]
           ],
           "sequential": [
            [
             0,
             "#0d0887"
            ],
            [
             0.1111111111111111,
             "#46039f"
            ],
            [
             0.2222222222222222,
             "#7201a8"
            ],
            [
             0.3333333333333333,
             "#9c179e"
            ],
            [
             0.4444444444444444,
             "#bd3786"
            ],
            [
             0.5555555555555556,
             "#d8576b"
            ],
            [
             0.6666666666666666,
             "#ed7953"
            ],
            [
             0.7777777777777778,
             "#fb9f3a"
            ],
            [
             0.8888888888888888,
             "#fdca26"
            ],
            [
             1,
             "#f0f921"
            ]
           ],
           "sequentialminus": [
            [
             0,
             "#0d0887"
            ],
            [
             0.1111111111111111,
             "#46039f"
            ],
            [
             0.2222222222222222,
             "#7201a8"
            ],
            [
             0.3333333333333333,
             "#9c179e"
            ],
            [
             0.4444444444444444,
             "#bd3786"
            ],
            [
             0.5555555555555556,
             "#d8576b"
            ],
            [
             0.6666666666666666,
             "#ed7953"
            ],
            [
             0.7777777777777778,
             "#fb9f3a"
            ],
            [
             0.8888888888888888,
             "#fdca26"
            ],
            [
             1,
             "#f0f921"
            ]
           ]
          },
          "colorway": [
           "#636efa",
           "#EF553B",
           "#00cc96",
           "#ab63fa",
           "#FFA15A",
           "#19d3f3",
           "#FF6692",
           "#B6E880",
           "#FF97FF",
           "#FECB52"
          ],
          "font": {
           "color": "#2a3f5f"
          },
          "geo": {
           "bgcolor": "white",
           "lakecolor": "white",
           "landcolor": "#E5ECF6",
           "showlakes": true,
           "showland": true,
           "subunitcolor": "white"
          },
          "hoverlabel": {
           "align": "left"
          },
          "hovermode": "closest",
          "mapbox": {
           "style": "light"
          },
          "paper_bgcolor": "white",
          "plot_bgcolor": "#E5ECF6",
          "polar": {
           "angularaxis": {
            "gridcolor": "white",
            "linecolor": "white",
            "ticks": ""
           },
           "bgcolor": "#E5ECF6",
           "radialaxis": {
            "gridcolor": "white",
            "linecolor": "white",
            "ticks": ""
           }
          },
          "scene": {
           "xaxis": {
            "backgroundcolor": "#E5ECF6",
            "gridcolor": "white",
            "gridwidth": 2,
            "linecolor": "white",
            "showbackground": true,
            "ticks": "",
            "zerolinecolor": "white"
           },
           "yaxis": {
            "backgroundcolor": "#E5ECF6",
            "gridcolor": "white",
            "gridwidth": 2,
            "linecolor": "white",
            "showbackground": true,
            "ticks": "",
            "zerolinecolor": "white"
           },
           "zaxis": {
            "backgroundcolor": "#E5ECF6",
            "gridcolor": "white",
            "gridwidth": 2,
            "linecolor": "white",
            "showbackground": true,
            "ticks": "",
            "zerolinecolor": "white"
           }
          },
          "shapedefaults": {
           "line": {
            "color": "#2a3f5f"
           }
          },
          "ternary": {
           "aaxis": {
            "gridcolor": "white",
            "linecolor": "white",
            "ticks": ""
           },
           "baxis": {
            "gridcolor": "white",
            "linecolor": "white",
            "ticks": ""
           },
           "bgcolor": "#E5ECF6",
           "caxis": {
            "gridcolor": "white",
            "linecolor": "white",
            "ticks": ""
           }
          },
          "title": {
           "x": 0.05
          },
          "xaxis": {
           "automargin": true,
           "gridcolor": "white",
           "linecolor": "white",
           "ticks": "",
           "title": {
            "standoff": 15
           },
           "zerolinecolor": "white",
           "zerolinewidth": 2
          },
          "yaxis": {
           "automargin": true,
           "gridcolor": "white",
           "linecolor": "white",
           "ticks": "",
           "title": {
            "standoff": 15
           },
           "zerolinecolor": "white",
           "zerolinewidth": 2
          }
         }
        },
        "xaxis": {
         "anchor": "y",
         "categoryorder": "category ascending",
         "domain": [
          0,
          1
         ],
         "title": {
          "text": "発生時（始期）"
         }
        },
        "yaxis": {
         "anchor": "x",
         "domain": [
          0,
          1
         ],
         "title": {
          "text": "件数"
         }
        }
       }
      }
     },
     "metadata": {},
     "output_type": "display_data"
    }
   ],
   "source": [
    "fig = px.bar(time,\n",
    "            x='発生時（始期）',\n",
    "            y='件数'\n",
    "            )\n",
    "fig.update_xaxes(categoryorder='category ascending')\n",
    "fig.show()"
   ]
  },
  {
   "attachments": {},
   "cell_type": "markdown",
   "metadata": {
    "slideshow": {
     "slide_type": "slide"
    }
   },
   "source": [
    "チャートのテンプレートを変えることでルックスが変わる。\n",
    "\n",
    "`template`のオプションはこちらから：\n",
    "\n",
    "```[\"plotly\", \"plotly_white\", \"plotly_dark\", \"ggplot2\", \"seaborn\", \"simple_white\"]```\n",
    "\n",
    "一つずつ試してみよう。"
   ]
  },
  {
   "cell_type": "code",
   "execution_count": 12,
   "metadata": {
    "slideshow": {
     "slide_type": "slide"
    }
   },
   "outputs": [
    {
     "data": {
      "application/vnd.plotly.v1+json": {
       "config": {
        "plotlyServerURL": "https://plot.ly"
       },
       "data": [
        {
         "alignmentgroup": "True",
         "hovertemplate": "発生時（始期）=%{x}<br>件数=%{y}<extra></extra>",
         "legendgroup": "",
         "marker": {
          "color": "#F8766D",
          "pattern": {
           "shape": ""
          }
         },
         "name": "",
         "offsetgroup": "",
         "orientation": "v",
         "showlegend": false,
         "textposition": "auto",
         "type": "bar",
         "x": [
          "18",
          "19",
          "08",
          "16",
          "20",
          "17",
          "12",
          "13",
          "15",
          "07",
          "14",
          "10",
          "21",
          "11",
          "09",
          "06",
          "22",
          "00",
          "23",
          "不明",
          "05",
          "04",
          "02",
          "01"
         ],
         "xaxis": "x",
         "y": [
          44,
          39,
          37,
          36,
          33,
          32,
          28,
          25,
          24,
          23,
          20,
          20,
          19,
          19,
          18,
          12,
          11,
          9,
          9,
          6,
          3,
          2,
          1,
          1
         ],
         "yaxis": "y"
        }
       ],
       "layout": {
        "barmode": "relative",
        "legend": {
         "tracegroupgap": 0
        },
        "margin": {
         "t": 60
        },
        "template": {
         "data": {
          "bar": [
           {
            "error_x": {
             "color": "rgb(51,51,51)"
            },
            "error_y": {
             "color": "rgb(51,51,51)"
            },
            "marker": {
             "line": {
              "color": "rgb(237,237,237)",
              "width": 0.5
             },
             "pattern": {
              "fillmode": "overlay",
              "size": 10,
              "solidity": 0.2
             }
            },
            "type": "bar"
           }
          ],
          "barpolar": [
           {
            "marker": {
             "line": {
              "color": "rgb(237,237,237)",
              "width": 0.5
             },
             "pattern": {
              "fillmode": "overlay",
              "size": 10,
              "solidity": 0.2
             }
            },
            "type": "barpolar"
           }
          ],
          "carpet": [
           {
            "aaxis": {
             "endlinecolor": "rgb(51,51,51)",
             "gridcolor": "white",
             "linecolor": "white",
             "minorgridcolor": "white",
             "startlinecolor": "rgb(51,51,51)"
            },
            "baxis": {
             "endlinecolor": "rgb(51,51,51)",
             "gridcolor": "white",
             "linecolor": "white",
             "minorgridcolor": "white",
             "startlinecolor": "rgb(51,51,51)"
            },
            "type": "carpet"
           }
          ],
          "choropleth": [
           {
            "colorbar": {
             "outlinewidth": 0,
             "tickcolor": "rgb(237,237,237)",
             "ticklen": 6,
             "ticks": "inside"
            },
            "type": "choropleth"
           }
          ],
          "contour": [
           {
            "colorbar": {
             "outlinewidth": 0,
             "tickcolor": "rgb(237,237,237)",
             "ticklen": 6,
             "ticks": "inside"
            },
            "colorscale": [
             [
              0,
              "rgb(20,44,66)"
             ],
             [
              1,
              "rgb(90,179,244)"
             ]
            ],
            "type": "contour"
           }
          ],
          "contourcarpet": [
           {
            "colorbar": {
             "outlinewidth": 0,
             "tickcolor": "rgb(237,237,237)",
             "ticklen": 6,
             "ticks": "inside"
            },
            "type": "contourcarpet"
           }
          ],
          "heatmap": [
           {
            "colorbar": {
             "outlinewidth": 0,
             "tickcolor": "rgb(237,237,237)",
             "ticklen": 6,
             "ticks": "inside"
            },
            "colorscale": [
             [
              0,
              "rgb(20,44,66)"
             ],
             [
              1,
              "rgb(90,179,244)"
             ]
            ],
            "type": "heatmap"
           }
          ],
          "heatmapgl": [
           {
            "colorbar": {
             "outlinewidth": 0,
             "tickcolor": "rgb(237,237,237)",
             "ticklen": 6,
             "ticks": "inside"
            },
            "colorscale": [
             [
              0,
              "rgb(20,44,66)"
             ],
             [
              1,
              "rgb(90,179,244)"
             ]
            ],
            "type": "heatmapgl"
           }
          ],
          "histogram": [
           {
            "marker": {
             "pattern": {
              "fillmode": "overlay",
              "size": 10,
              "solidity": 0.2
             }
            },
            "type": "histogram"
           }
          ],
          "histogram2d": [
           {
            "colorbar": {
             "outlinewidth": 0,
             "tickcolor": "rgb(237,237,237)",
             "ticklen": 6,
             "ticks": "inside"
            },
            "colorscale": [
             [
              0,
              "rgb(20,44,66)"
             ],
             [
              1,
              "rgb(90,179,244)"
             ]
            ],
            "type": "histogram2d"
           }
          ],
          "histogram2dcontour": [
           {
            "colorbar": {
             "outlinewidth": 0,
             "tickcolor": "rgb(237,237,237)",
             "ticklen": 6,
             "ticks": "inside"
            },
            "colorscale": [
             [
              0,
              "rgb(20,44,66)"
             ],
             [
              1,
              "rgb(90,179,244)"
             ]
            ],
            "type": "histogram2dcontour"
           }
          ],
          "mesh3d": [
           {
            "colorbar": {
             "outlinewidth": 0,
             "tickcolor": "rgb(237,237,237)",
             "ticklen": 6,
             "ticks": "inside"
            },
            "type": "mesh3d"
           }
          ],
          "parcoords": [
           {
            "line": {
             "colorbar": {
              "outlinewidth": 0,
              "tickcolor": "rgb(237,237,237)",
              "ticklen": 6,
              "ticks": "inside"
             }
            },
            "type": "parcoords"
           }
          ],
          "pie": [
           {
            "automargin": true,
            "type": "pie"
           }
          ],
          "scatter": [
           {
            "fillpattern": {
             "fillmode": "overlay",
             "size": 10,
             "solidity": 0.2
            },
            "type": "scatter"
           }
          ],
          "scatter3d": [
           {
            "line": {
             "colorbar": {
              "outlinewidth": 0,
              "tickcolor": "rgb(237,237,237)",
              "ticklen": 6,
              "ticks": "inside"
             }
            },
            "marker": {
             "colorbar": {
              "outlinewidth": 0,
              "tickcolor": "rgb(237,237,237)",
              "ticklen": 6,
              "ticks": "inside"
             }
            },
            "type": "scatter3d"
           }
          ],
          "scattercarpet": [
           {
            "marker": {
             "colorbar": {
              "outlinewidth": 0,
              "tickcolor": "rgb(237,237,237)",
              "ticklen": 6,
              "ticks": "inside"
             }
            },
            "type": "scattercarpet"
           }
          ],
          "scattergeo": [
           {
            "marker": {
             "colorbar": {
              "outlinewidth": 0,
              "tickcolor": "rgb(237,237,237)",
              "ticklen": 6,
              "ticks": "inside"
             }
            },
            "type": "scattergeo"
           }
          ],
          "scattergl": [
           {
            "marker": {
             "colorbar": {
              "outlinewidth": 0,
              "tickcolor": "rgb(237,237,237)",
              "ticklen": 6,
              "ticks": "inside"
             }
            },
            "type": "scattergl"
           }
          ],
          "scattermapbox": [
           {
            "marker": {
             "colorbar": {
              "outlinewidth": 0,
              "tickcolor": "rgb(237,237,237)",
              "ticklen": 6,
              "ticks": "inside"
             }
            },
            "type": "scattermapbox"
           }
          ],
          "scatterpolar": [
           {
            "marker": {
             "colorbar": {
              "outlinewidth": 0,
              "tickcolor": "rgb(237,237,237)",
              "ticklen": 6,
              "ticks": "inside"
             }
            },
            "type": "scatterpolar"
           }
          ],
          "scatterpolargl": [
           {
            "marker": {
             "colorbar": {
              "outlinewidth": 0,
              "tickcolor": "rgb(237,237,237)",
              "ticklen": 6,
              "ticks": "inside"
             }
            },
            "type": "scatterpolargl"
           }
          ],
          "scatterternary": [
           {
            "marker": {
             "colorbar": {
              "outlinewidth": 0,
              "tickcolor": "rgb(237,237,237)",
              "ticklen": 6,
              "ticks": "inside"
             }
            },
            "type": "scatterternary"
           }
          ],
          "surface": [
           {
            "colorbar": {
             "outlinewidth": 0,
             "tickcolor": "rgb(237,237,237)",
             "ticklen": 6,
             "ticks": "inside"
            },
            "colorscale": [
             [
              0,
              "rgb(20,44,66)"
             ],
             [
              1,
              "rgb(90,179,244)"
             ]
            ],
            "type": "surface"
           }
          ],
          "table": [
           {
            "cells": {
             "fill": {
              "color": "rgb(237,237,237)"
             },
             "line": {
              "color": "white"
             }
            },
            "header": {
             "fill": {
              "color": "rgb(217,217,217)"
             },
             "line": {
              "color": "white"
             }
            },
            "type": "table"
           }
          ]
         },
         "layout": {
          "annotationdefaults": {
           "arrowhead": 0,
           "arrowwidth": 1
          },
          "autotypenumbers": "strict",
          "coloraxis": {
           "colorbar": {
            "outlinewidth": 0,
            "tickcolor": "rgb(237,237,237)",
            "ticklen": 6,
            "ticks": "inside"
           }
          },
          "colorscale": {
           "sequential": [
            [
             0,
             "rgb(20,44,66)"
            ],
            [
             1,
             "rgb(90,179,244)"
            ]
           ],
           "sequentialminus": [
            [
             0,
             "rgb(20,44,66)"
            ],
            [
             1,
             "rgb(90,179,244)"
            ]
           ]
          },
          "colorway": [
           "#F8766D",
           "#A3A500",
           "#00BF7D",
           "#00B0F6",
           "#E76BF3"
          ],
          "font": {
           "color": "rgb(51,51,51)"
          },
          "geo": {
           "bgcolor": "white",
           "lakecolor": "white",
           "landcolor": "rgb(237,237,237)",
           "showlakes": true,
           "showland": true,
           "subunitcolor": "white"
          },
          "hoverlabel": {
           "align": "left"
          },
          "hovermode": "closest",
          "paper_bgcolor": "white",
          "plot_bgcolor": "rgb(237,237,237)",
          "polar": {
           "angularaxis": {
            "gridcolor": "white",
            "linecolor": "white",
            "showgrid": true,
            "tickcolor": "rgb(51,51,51)",
            "ticks": "outside"
           },
           "bgcolor": "rgb(237,237,237)",
           "radialaxis": {
            "gridcolor": "white",
            "linecolor": "white",
            "showgrid": true,
            "tickcolor": "rgb(51,51,51)",
            "ticks": "outside"
           }
          },
          "scene": {
           "xaxis": {
            "backgroundcolor": "rgb(237,237,237)",
            "gridcolor": "white",
            "gridwidth": 2,
            "linecolor": "white",
            "showbackground": true,
            "showgrid": true,
            "tickcolor": "rgb(51,51,51)",
            "ticks": "outside",
            "zerolinecolor": "white"
           },
           "yaxis": {
            "backgroundcolor": "rgb(237,237,237)",
            "gridcolor": "white",
            "gridwidth": 2,
            "linecolor": "white",
            "showbackground": true,
            "showgrid": true,
            "tickcolor": "rgb(51,51,51)",
            "ticks": "outside",
            "zerolinecolor": "white"
           },
           "zaxis": {
            "backgroundcolor": "rgb(237,237,237)",
            "gridcolor": "white",
            "gridwidth": 2,
            "linecolor": "white",
            "showbackground": true,
            "showgrid": true,
            "tickcolor": "rgb(51,51,51)",
            "ticks": "outside",
            "zerolinecolor": "white"
           }
          },
          "shapedefaults": {
           "fillcolor": "black",
           "line": {
            "width": 0
           },
           "opacity": 0.3
          },
          "ternary": {
           "aaxis": {
            "gridcolor": "white",
            "linecolor": "white",
            "showgrid": true,
            "tickcolor": "rgb(51,51,51)",
            "ticks": "outside"
           },
           "baxis": {
            "gridcolor": "white",
            "linecolor": "white",
            "showgrid": true,
            "tickcolor": "rgb(51,51,51)",
            "ticks": "outside"
           },
           "bgcolor": "rgb(237,237,237)",
           "caxis": {
            "gridcolor": "white",
            "linecolor": "white",
            "showgrid": true,
            "tickcolor": "rgb(51,51,51)",
            "ticks": "outside"
           }
          },
          "xaxis": {
           "automargin": true,
           "gridcolor": "white",
           "linecolor": "white",
           "showgrid": true,
           "tickcolor": "rgb(51,51,51)",
           "ticks": "outside",
           "title": {
            "standoff": 15
           },
           "zerolinecolor": "white"
          },
          "yaxis": {
           "automargin": true,
           "gridcolor": "white",
           "linecolor": "white",
           "showgrid": true,
           "tickcolor": "rgb(51,51,51)",
           "ticks": "outside",
           "title": {
            "standoff": 15
           },
           "zerolinecolor": "white"
          }
         }
        },
        "xaxis": {
         "anchor": "y",
         "categoryorder": "category ascending",
         "domain": [
          0,
          1
         ],
         "title": {
          "text": "発生時（始期）"
         }
        },
        "yaxis": {
         "anchor": "x",
         "domain": [
          0,
          1
         ],
         "title": {
          "text": "件数"
         }
        }
       }
      }
     },
     "metadata": {},
     "output_type": "display_data"
    }
   ],
   "source": [
    "fig = px.bar(time,\n",
    "            x='発生時（始期）',\n",
    "            y='件数',\n",
    "            template='ggplot2' # change this to see other styles\n",
    "            )\n",
    "fig.update_xaxes(categoryorder='category ascending')\n",
    "fig.show()"
   ]
  },
  {
   "attachments": {},
   "cell_type": "markdown",
   "metadata": {
    "slideshow": {
     "slide_type": "slide"
    }
   },
   "source": [
    "### Make your own charts\n",
    "\n",
    "では、ここで他のチャートを作ってみよう。\n",
    "\n",
    "例：被害者の年齢、被害者の職業"
   ]
  },
  {
   "cell_type": "code",
   "execution_count": 16,
   "metadata": {},
   "outputs": [
    {
     "data": {
      "application/vnd.plotly.v1+json": {
       "config": {
        "plotlyServerURL": "https://plot.ly"
       },
       "data": [
        {
         "alignmentgroup": "True",
         "hovertemplate": "発生時（始期）=%{x}<br>件数=%{y}<extra></extra>",
         "legendgroup": "",
         "marker": {
          "color": "#636efa",
          "pattern": {
           "shape": ""
          }
         },
         "name": "",
         "offsetgroup": "",
         "orientation": "v",
         "showlegend": false,
         "textposition": "auto",
         "type": "bar",
         "x": [
          "18",
          "19",
          "08",
          "16",
          "20",
          "17",
          "12",
          "13",
          "15",
          "07",
          "14",
          "10",
          "21",
          "11",
          "09",
          "06",
          "22",
          "00",
          "23",
          "不明",
          "05",
          "04",
          "02",
          "01"
         ],
         "xaxis": "x",
         "y": [
          44,
          39,
          37,
          36,
          33,
          32,
          28,
          25,
          24,
          23,
          20,
          20,
          19,
          19,
          18,
          12,
          11,
          9,
          9,
          6,
          3,
          2,
          1,
          1
         ],
         "yaxis": "y"
        }
       ],
       "layout": {
        "barmode": "relative",
        "legend": {
         "tracegroupgap": 0
        },
        "margin": {
         "t": 60
        },
        "template": {
         "data": {
          "bar": [
           {
            "error_x": {
             "color": "#2a3f5f"
            },
            "error_y": {
             "color": "#2a3f5f"
            },
            "marker": {
             "line": {
              "color": "white",
              "width": 0.5
             },
             "pattern": {
              "fillmode": "overlay",
              "size": 10,
              "solidity": 0.2
             }
            },
            "type": "bar"
           }
          ],
          "barpolar": [
           {
            "marker": {
             "line": {
              "color": "white",
              "width": 0.5
             },
             "pattern": {
              "fillmode": "overlay",
              "size": 10,
              "solidity": 0.2
             }
            },
            "type": "barpolar"
           }
          ],
          "carpet": [
           {
            "aaxis": {
             "endlinecolor": "#2a3f5f",
             "gridcolor": "#C8D4E3",
             "linecolor": "#C8D4E3",
             "minorgridcolor": "#C8D4E3",
             "startlinecolor": "#2a3f5f"
            },
            "baxis": {
             "endlinecolor": "#2a3f5f",
             "gridcolor": "#C8D4E3",
             "linecolor": "#C8D4E3",
             "minorgridcolor": "#C8D4E3",
             "startlinecolor": "#2a3f5f"
            },
            "type": "carpet"
           }
          ],
          "choropleth": [
           {
            "colorbar": {
             "outlinewidth": 0,
             "ticks": ""
            },
            "type": "choropleth"
           }
          ],
          "contour": [
           {
            "colorbar": {
             "outlinewidth": 0,
             "ticks": ""
            },
            "colorscale": [
             [
              0,
              "#0d0887"
             ],
             [
              0.1111111111111111,
              "#46039f"
             ],
             [
              0.2222222222222222,
              "#7201a8"
             ],
             [
              0.3333333333333333,
              "#9c179e"
             ],
             [
              0.4444444444444444,
              "#bd3786"
             ],
             [
              0.5555555555555556,
              "#d8576b"
             ],
             [
              0.6666666666666666,
              "#ed7953"
             ],
             [
              0.7777777777777778,
              "#fb9f3a"
             ],
             [
              0.8888888888888888,
              "#fdca26"
             ],
             [
              1,
              "#f0f921"
             ]
            ],
            "type": "contour"
           }
          ],
          "contourcarpet": [
           {
            "colorbar": {
             "outlinewidth": 0,
             "ticks": ""
            },
            "type": "contourcarpet"
           }
          ],
          "heatmap": [
           {
            "colorbar": {
             "outlinewidth": 0,
             "ticks": ""
            },
            "colorscale": [
             [
              0,
              "#0d0887"
             ],
             [
              0.1111111111111111,
              "#46039f"
             ],
             [
              0.2222222222222222,
              "#7201a8"
             ],
             [
              0.3333333333333333,
              "#9c179e"
             ],
             [
              0.4444444444444444,
              "#bd3786"
             ],
             [
              0.5555555555555556,
              "#d8576b"
             ],
             [
              0.6666666666666666,
              "#ed7953"
             ],
             [
              0.7777777777777778,
              "#fb9f3a"
             ],
             [
              0.8888888888888888,
              "#fdca26"
             ],
             [
              1,
              "#f0f921"
             ]
            ],
            "type": "heatmap"
           }
          ],
          "heatmapgl": [
           {
            "colorbar": {
             "outlinewidth": 0,
             "ticks": ""
            },
            "colorscale": [
             [
              0,
              "#0d0887"
             ],
             [
              0.1111111111111111,
              "#46039f"
             ],
             [
              0.2222222222222222,
              "#7201a8"
             ],
             [
              0.3333333333333333,
              "#9c179e"
             ],
             [
              0.4444444444444444,
              "#bd3786"
             ],
             [
              0.5555555555555556,
              "#d8576b"
             ],
             [
              0.6666666666666666,
              "#ed7953"
             ],
             [
              0.7777777777777778,
              "#fb9f3a"
             ],
             [
              0.8888888888888888,
              "#fdca26"
             ],
             [
              1,
              "#f0f921"
             ]
            ],
            "type": "heatmapgl"
           }
          ],
          "histogram": [
           {
            "marker": {
             "pattern": {
              "fillmode": "overlay",
              "size": 10,
              "solidity": 0.2
             }
            },
            "type": "histogram"
           }
          ],
          "histogram2d": [
           {
            "colorbar": {
             "outlinewidth": 0,
             "ticks": ""
            },
            "colorscale": [
             [
              0,
              "#0d0887"
             ],
             [
              0.1111111111111111,
              "#46039f"
             ],
             [
              0.2222222222222222,
              "#7201a8"
             ],
             [
              0.3333333333333333,
              "#9c179e"
             ],
             [
              0.4444444444444444,
              "#bd3786"
             ],
             [
              0.5555555555555556,
              "#d8576b"
             ],
             [
              0.6666666666666666,
              "#ed7953"
             ],
             [
              0.7777777777777778,
              "#fb9f3a"
             ],
             [
              0.8888888888888888,
              "#fdca26"
             ],
             [
              1,
              "#f0f921"
             ]
            ],
            "type": "histogram2d"
           }
          ],
          "histogram2dcontour": [
           {
            "colorbar": {
             "outlinewidth": 0,
             "ticks": ""
            },
            "colorscale": [
             [
              0,
              "#0d0887"
             ],
             [
              0.1111111111111111,
              "#46039f"
             ],
             [
              0.2222222222222222,
              "#7201a8"
             ],
             [
              0.3333333333333333,
              "#9c179e"
             ],
             [
              0.4444444444444444,
              "#bd3786"
             ],
             [
              0.5555555555555556,
              "#d8576b"
             ],
             [
              0.6666666666666666,
              "#ed7953"
             ],
             [
              0.7777777777777778,
              "#fb9f3a"
             ],
             [
              0.8888888888888888,
              "#fdca26"
             ],
             [
              1,
              "#f0f921"
             ]
            ],
            "type": "histogram2dcontour"
           }
          ],
          "mesh3d": [
           {
            "colorbar": {
             "outlinewidth": 0,
             "ticks": ""
            },
            "type": "mesh3d"
           }
          ],
          "parcoords": [
           {
            "line": {
             "colorbar": {
              "outlinewidth": 0,
              "ticks": ""
             }
            },
            "type": "parcoords"
           }
          ],
          "pie": [
           {
            "automargin": true,
            "type": "pie"
           }
          ],
          "scatter": [
           {
            "fillpattern": {
             "fillmode": "overlay",
             "size": 10,
             "solidity": 0.2
            },
            "type": "scatter"
           }
          ],
          "scatter3d": [
           {
            "line": {
             "colorbar": {
              "outlinewidth": 0,
              "ticks": ""
             }
            },
            "marker": {
             "colorbar": {
              "outlinewidth": 0,
              "ticks": ""
             }
            },
            "type": "scatter3d"
           }
          ],
          "scattercarpet": [
           {
            "marker": {
             "colorbar": {
              "outlinewidth": 0,
              "ticks": ""
             }
            },
            "type": "scattercarpet"
           }
          ],
          "scattergeo": [
           {
            "marker": {
             "colorbar": {
              "outlinewidth": 0,
              "ticks": ""
             }
            },
            "type": "scattergeo"
           }
          ],
          "scattergl": [
           {
            "marker": {
             "colorbar": {
              "outlinewidth": 0,
              "ticks": ""
             }
            },
            "type": "scattergl"
           }
          ],
          "scattermapbox": [
           {
            "marker": {
             "colorbar": {
              "outlinewidth": 0,
              "ticks": ""
             }
            },
            "type": "scattermapbox"
           }
          ],
          "scatterpolar": [
           {
            "marker": {
             "colorbar": {
              "outlinewidth": 0,
              "ticks": ""
             }
            },
            "type": "scatterpolar"
           }
          ],
          "scatterpolargl": [
           {
            "marker": {
             "colorbar": {
              "outlinewidth": 0,
              "ticks": ""
             }
            },
            "type": "scatterpolargl"
           }
          ],
          "scatterternary": [
           {
            "marker": {
             "colorbar": {
              "outlinewidth": 0,
              "ticks": ""
             }
            },
            "type": "scatterternary"
           }
          ],
          "surface": [
           {
            "colorbar": {
             "outlinewidth": 0,
             "ticks": ""
            },
            "colorscale": [
             [
              0,
              "#0d0887"
             ],
             [
              0.1111111111111111,
              "#46039f"
             ],
             [
              0.2222222222222222,
              "#7201a8"
             ],
             [
              0.3333333333333333,
              "#9c179e"
             ],
             [
              0.4444444444444444,
              "#bd3786"
             ],
             [
              0.5555555555555556,
              "#d8576b"
             ],
             [
              0.6666666666666666,
              "#ed7953"
             ],
             [
              0.7777777777777778,
              "#fb9f3a"
             ],
             [
              0.8888888888888888,
              "#fdca26"
             ],
             [
              1,
              "#f0f921"
             ]
            ],
            "type": "surface"
           }
          ],
          "table": [
           {
            "cells": {
             "fill": {
              "color": "#EBF0F8"
             },
             "line": {
              "color": "white"
             }
            },
            "header": {
             "fill": {
              "color": "#C8D4E3"
             },
             "line": {
              "color": "white"
             }
            },
            "type": "table"
           }
          ]
         },
         "layout": {
          "annotationdefaults": {
           "arrowcolor": "#2a3f5f",
           "arrowhead": 0,
           "arrowwidth": 1
          },
          "autotypenumbers": "strict",
          "coloraxis": {
           "colorbar": {
            "outlinewidth": 0,
            "ticks": ""
           }
          },
          "colorscale": {
           "diverging": [
            [
             0,
             "#8e0152"
            ],
            [
             0.1,
             "#c51b7d"
            ],
            [
             0.2,
             "#de77ae"
            ],
            [
             0.3,
             "#f1b6da"
            ],
            [
             0.4,
             "#fde0ef"
            ],
            [
             0.5,
             "#f7f7f7"
            ],
            [
             0.6,
             "#e6f5d0"
            ],
            [
             0.7,
             "#b8e186"
            ],
            [
             0.8,
             "#7fbc41"
            ],
            [
             0.9,
             "#4d9221"
            ],
            [
             1,
             "#276419"
            ]
           ],
           "sequential": [
            [
             0,
             "#0d0887"
            ],
            [
             0.1111111111111111,
             "#46039f"
            ],
            [
             0.2222222222222222,
             "#7201a8"
            ],
            [
             0.3333333333333333,
             "#9c179e"
            ],
            [
             0.4444444444444444,
             "#bd3786"
            ],
            [
             0.5555555555555556,
             "#d8576b"
            ],
            [
             0.6666666666666666,
             "#ed7953"
            ],
            [
             0.7777777777777778,
             "#fb9f3a"
            ],
            [
             0.8888888888888888,
             "#fdca26"
            ],
            [
             1,
             "#f0f921"
            ]
           ],
           "sequentialminus": [
            [
             0,
             "#0d0887"
            ],
            [
             0.1111111111111111,
             "#46039f"
            ],
            [
             0.2222222222222222,
             "#7201a8"
            ],
            [
             0.3333333333333333,
             "#9c179e"
            ],
            [
             0.4444444444444444,
             "#bd3786"
            ],
            [
             0.5555555555555556,
             "#d8576b"
            ],
            [
             0.6666666666666666,
             "#ed7953"
            ],
            [
             0.7777777777777778,
             "#fb9f3a"
            ],
            [
             0.8888888888888888,
             "#fdca26"
            ],
            [
             1,
             "#f0f921"
            ]
           ]
          },
          "colorway": [
           "#636efa",
           "#EF553B",
           "#00cc96",
           "#ab63fa",
           "#FFA15A",
           "#19d3f3",
           "#FF6692",
           "#B6E880",
           "#FF97FF",
           "#FECB52"
          ],
          "font": {
           "color": "#2a3f5f"
          },
          "geo": {
           "bgcolor": "white",
           "lakecolor": "white",
           "landcolor": "white",
           "showlakes": true,
           "showland": true,
           "subunitcolor": "#C8D4E3"
          },
          "hoverlabel": {
           "align": "left"
          },
          "hovermode": "closest",
          "mapbox": {
           "style": "light"
          },
          "paper_bgcolor": "white",
          "plot_bgcolor": "white",
          "polar": {
           "angularaxis": {
            "gridcolor": "#EBF0F8",
            "linecolor": "#EBF0F8",
            "ticks": ""
           },
           "bgcolor": "white",
           "radialaxis": {
            "gridcolor": "#EBF0F8",
            "linecolor": "#EBF0F8",
            "ticks": ""
           }
          },
          "scene": {
           "xaxis": {
            "backgroundcolor": "white",
            "gridcolor": "#DFE8F3",
            "gridwidth": 2,
            "linecolor": "#EBF0F8",
            "showbackground": true,
            "ticks": "",
            "zerolinecolor": "#EBF0F8"
           },
           "yaxis": {
            "backgroundcolor": "white",
            "gridcolor": "#DFE8F3",
            "gridwidth": 2,
            "linecolor": "#EBF0F8",
            "showbackground": true,
            "ticks": "",
            "zerolinecolor": "#EBF0F8"
           },
           "zaxis": {
            "backgroundcolor": "white",
            "gridcolor": "#DFE8F3",
            "gridwidth": 2,
            "linecolor": "#EBF0F8",
            "showbackground": true,
            "ticks": "",
            "zerolinecolor": "#EBF0F8"
           }
          },
          "shapedefaults": {
           "line": {
            "color": "#2a3f5f"
           }
          },
          "ternary": {
           "aaxis": {
            "gridcolor": "#DFE8F3",
            "linecolor": "#A2B1C6",
            "ticks": ""
           },
           "baxis": {
            "gridcolor": "#DFE8F3",
            "linecolor": "#A2B1C6",
            "ticks": ""
           },
           "bgcolor": "white",
           "caxis": {
            "gridcolor": "#DFE8F3",
            "linecolor": "#A2B1C6",
            "ticks": ""
           }
          },
          "title": {
           "x": 0.05
          },
          "xaxis": {
           "automargin": true,
           "gridcolor": "#EBF0F8",
           "linecolor": "#EBF0F8",
           "ticks": "",
           "title": {
            "standoff": 15
           },
           "zerolinecolor": "#EBF0F8",
           "zerolinewidth": 2
          },
          "yaxis": {
           "automargin": true,
           "gridcolor": "#EBF0F8",
           "linecolor": "#EBF0F8",
           "ticks": "",
           "title": {
            "standoff": 15
           },
           "zerolinecolor": "#EBF0F8",
           "zerolinewidth": 2
          }
         }
        },
        "xaxis": {
         "anchor": "y",
         "categoryorder": "category ascending",
         "domain": [
          0,
          1
         ],
         "title": {
          "text": "発生時（始期）"
         }
        },
        "yaxis": {
         "anchor": "x",
         "domain": [
          0,
          1
         ],
         "title": {
          "text": "件数"
         }
        }
       }
      }
     },
     "metadata": {},
     "output_type": "display_data"
    }
   ],
   "source": [
    "fig = px.bar(time,\n",
    "            x='発生時（始期）',\n",
    "            y='件数',\n",
    "            template='plotly_white' # change this to see other styles\n",
    "            )\n",
    "fig.update_xaxes(categoryorder='category ascending')\n",
    "fig.show()"
   ]
  },
  {
   "cell_type": "code",
   "execution_count": 17,
   "metadata": {},
   "outputs": [
    {
     "data": {
      "application/vnd.plotly.v1+json": {
       "config": {
        "plotlyServerURL": "https://plot.ly"
       },
       "data": [
        {
         "alignmentgroup": "True",
         "hovertemplate": "発生時（始期）=%{x}<br>件数=%{y}<extra></extra>",
         "legendgroup": "",
         "marker": {
          "color": "#1F77B4",
          "pattern": {
           "shape": ""
          }
         },
         "name": "",
         "offsetgroup": "",
         "orientation": "v",
         "showlegend": false,
         "textposition": "auto",
         "type": "bar",
         "x": [
          "18",
          "19",
          "08",
          "16",
          "20",
          "17",
          "12",
          "13",
          "15",
          "07",
          "14",
          "10",
          "21",
          "11",
          "09",
          "06",
          "22",
          "00",
          "23",
          "不明",
          "05",
          "04",
          "02",
          "01"
         ],
         "xaxis": "x",
         "y": [
          44,
          39,
          37,
          36,
          33,
          32,
          28,
          25,
          24,
          23,
          20,
          20,
          19,
          19,
          18,
          12,
          11,
          9,
          9,
          6,
          3,
          2,
          1,
          1
         ],
         "yaxis": "y"
        }
       ],
       "layout": {
        "barmode": "relative",
        "legend": {
         "tracegroupgap": 0
        },
        "margin": {
         "t": 60
        },
        "template": {
         "data": {
          "bar": [
           {
            "error_x": {
             "color": "rgb(36,36,36)"
            },
            "error_y": {
             "color": "rgb(36,36,36)"
            },
            "marker": {
             "line": {
              "color": "white",
              "width": 0.5
             },
             "pattern": {
              "fillmode": "overlay",
              "size": 10,
              "solidity": 0.2
             }
            },
            "type": "bar"
           }
          ],
          "barpolar": [
           {
            "marker": {
             "line": {
              "color": "white",
              "width": 0.5
             },
             "pattern": {
              "fillmode": "overlay",
              "size": 10,
              "solidity": 0.2
             }
            },
            "type": "barpolar"
           }
          ],
          "carpet": [
           {
            "aaxis": {
             "endlinecolor": "rgb(36,36,36)",
             "gridcolor": "white",
             "linecolor": "white",
             "minorgridcolor": "white",
             "startlinecolor": "rgb(36,36,36)"
            },
            "baxis": {
             "endlinecolor": "rgb(36,36,36)",
             "gridcolor": "white",
             "linecolor": "white",
             "minorgridcolor": "white",
             "startlinecolor": "rgb(36,36,36)"
            },
            "type": "carpet"
           }
          ],
          "choropleth": [
           {
            "colorbar": {
             "outlinewidth": 1,
             "tickcolor": "rgb(36,36,36)",
             "ticks": "outside"
            },
            "type": "choropleth"
           }
          ],
          "contour": [
           {
            "colorbar": {
             "outlinewidth": 1,
             "tickcolor": "rgb(36,36,36)",
             "ticks": "outside"
            },
            "colorscale": [
             [
              0,
              "#440154"
             ],
             [
              0.1111111111111111,
              "#482878"
             ],
             [
              0.2222222222222222,
              "#3e4989"
             ],
             [
              0.3333333333333333,
              "#31688e"
             ],
             [
              0.4444444444444444,
              "#26828e"
             ],
             [
              0.5555555555555556,
              "#1f9e89"
             ],
             [
              0.6666666666666666,
              "#35b779"
             ],
             [
              0.7777777777777778,
              "#6ece58"
             ],
             [
              0.8888888888888888,
              "#b5de2b"
             ],
             [
              1,
              "#fde725"
             ]
            ],
            "type": "contour"
           }
          ],
          "contourcarpet": [
           {
            "colorbar": {
             "outlinewidth": 1,
             "tickcolor": "rgb(36,36,36)",
             "ticks": "outside"
            },
            "type": "contourcarpet"
           }
          ],
          "heatmap": [
           {
            "colorbar": {
             "outlinewidth": 1,
             "tickcolor": "rgb(36,36,36)",
             "ticks": "outside"
            },
            "colorscale": [
             [
              0,
              "#440154"
             ],
             [
              0.1111111111111111,
              "#482878"
             ],
             [
              0.2222222222222222,
              "#3e4989"
             ],
             [
              0.3333333333333333,
              "#31688e"
             ],
             [
              0.4444444444444444,
              "#26828e"
             ],
             [
              0.5555555555555556,
              "#1f9e89"
             ],
             [
              0.6666666666666666,
              "#35b779"
             ],
             [
              0.7777777777777778,
              "#6ece58"
             ],
             [
              0.8888888888888888,
              "#b5de2b"
             ],
             [
              1,
              "#fde725"
             ]
            ],
            "type": "heatmap"
           }
          ],
          "heatmapgl": [
           {
            "colorbar": {
             "outlinewidth": 1,
             "tickcolor": "rgb(36,36,36)",
             "ticks": "outside"
            },
            "colorscale": [
             [
              0,
              "#440154"
             ],
             [
              0.1111111111111111,
              "#482878"
             ],
             [
              0.2222222222222222,
              "#3e4989"
             ],
             [
              0.3333333333333333,
              "#31688e"
             ],
             [
              0.4444444444444444,
              "#26828e"
             ],
             [
              0.5555555555555556,
              "#1f9e89"
             ],
             [
              0.6666666666666666,
              "#35b779"
             ],
             [
              0.7777777777777778,
              "#6ece58"
             ],
             [
              0.8888888888888888,
              "#b5de2b"
             ],
             [
              1,
              "#fde725"
             ]
            ],
            "type": "heatmapgl"
           }
          ],
          "histogram": [
           {
            "marker": {
             "line": {
              "color": "white",
              "width": 0.6
             }
            },
            "type": "histogram"
           }
          ],
          "histogram2d": [
           {
            "colorbar": {
             "outlinewidth": 1,
             "tickcolor": "rgb(36,36,36)",
             "ticks": "outside"
            },
            "colorscale": [
             [
              0,
              "#440154"
             ],
             [
              0.1111111111111111,
              "#482878"
             ],
             [
              0.2222222222222222,
              "#3e4989"
             ],
             [
              0.3333333333333333,
              "#31688e"
             ],
             [
              0.4444444444444444,
              "#26828e"
             ],
             [
              0.5555555555555556,
              "#1f9e89"
             ],
             [
              0.6666666666666666,
              "#35b779"
             ],
             [
              0.7777777777777778,
              "#6ece58"
             ],
             [
              0.8888888888888888,
              "#b5de2b"
             ],
             [
              1,
              "#fde725"
             ]
            ],
            "type": "histogram2d"
           }
          ],
          "histogram2dcontour": [
           {
            "colorbar": {
             "outlinewidth": 1,
             "tickcolor": "rgb(36,36,36)",
             "ticks": "outside"
            },
            "colorscale": [
             [
              0,
              "#440154"
             ],
             [
              0.1111111111111111,
              "#482878"
             ],
             [
              0.2222222222222222,
              "#3e4989"
             ],
             [
              0.3333333333333333,
              "#31688e"
             ],
             [
              0.4444444444444444,
              "#26828e"
             ],
             [
              0.5555555555555556,
              "#1f9e89"
             ],
             [
              0.6666666666666666,
              "#35b779"
             ],
             [
              0.7777777777777778,
              "#6ece58"
             ],
             [
              0.8888888888888888,
              "#b5de2b"
             ],
             [
              1,
              "#fde725"
             ]
            ],
            "type": "histogram2dcontour"
           }
          ],
          "mesh3d": [
           {
            "colorbar": {
             "outlinewidth": 1,
             "tickcolor": "rgb(36,36,36)",
             "ticks": "outside"
            },
            "type": "mesh3d"
           }
          ],
          "parcoords": [
           {
            "line": {
             "colorbar": {
              "outlinewidth": 1,
              "tickcolor": "rgb(36,36,36)",
              "ticks": "outside"
             }
            },
            "type": "parcoords"
           }
          ],
          "pie": [
           {
            "automargin": true,
            "type": "pie"
           }
          ],
          "scatter": [
           {
            "fillpattern": {
             "fillmode": "overlay",
             "size": 10,
             "solidity": 0.2
            },
            "type": "scatter"
           }
          ],
          "scatter3d": [
           {
            "line": {
             "colorbar": {
              "outlinewidth": 1,
              "tickcolor": "rgb(36,36,36)",
              "ticks": "outside"
             }
            },
            "marker": {
             "colorbar": {
              "outlinewidth": 1,
              "tickcolor": "rgb(36,36,36)",
              "ticks": "outside"
             }
            },
            "type": "scatter3d"
           }
          ],
          "scattercarpet": [
           {
            "marker": {
             "colorbar": {
              "outlinewidth": 1,
              "tickcolor": "rgb(36,36,36)",
              "ticks": "outside"
             }
            },
            "type": "scattercarpet"
           }
          ],
          "scattergeo": [
           {
            "marker": {
             "colorbar": {
              "outlinewidth": 1,
              "tickcolor": "rgb(36,36,36)",
              "ticks": "outside"
             }
            },
            "type": "scattergeo"
           }
          ],
          "scattergl": [
           {
            "marker": {
             "colorbar": {
              "outlinewidth": 1,
              "tickcolor": "rgb(36,36,36)",
              "ticks": "outside"
             }
            },
            "type": "scattergl"
           }
          ],
          "scattermapbox": [
           {
            "marker": {
             "colorbar": {
              "outlinewidth": 1,
              "tickcolor": "rgb(36,36,36)",
              "ticks": "outside"
             }
            },
            "type": "scattermapbox"
           }
          ],
          "scatterpolar": [
           {
            "marker": {
             "colorbar": {
              "outlinewidth": 1,
              "tickcolor": "rgb(36,36,36)",
              "ticks": "outside"
             }
            },
            "type": "scatterpolar"
           }
          ],
          "scatterpolargl": [
           {
            "marker": {
             "colorbar": {
              "outlinewidth": 1,
              "tickcolor": "rgb(36,36,36)",
              "ticks": "outside"
             }
            },
            "type": "scatterpolargl"
           }
          ],
          "scatterternary": [
           {
            "marker": {
             "colorbar": {
              "outlinewidth": 1,
              "tickcolor": "rgb(36,36,36)",
              "ticks": "outside"
             }
            },
            "type": "scatterternary"
           }
          ],
          "surface": [
           {
            "colorbar": {
             "outlinewidth": 1,
             "tickcolor": "rgb(36,36,36)",
             "ticks": "outside"
            },
            "colorscale": [
             [
              0,
              "#440154"
             ],
             [
              0.1111111111111111,
              "#482878"
             ],
             [
              0.2222222222222222,
              "#3e4989"
             ],
             [
              0.3333333333333333,
              "#31688e"
             ],
             [
              0.4444444444444444,
              "#26828e"
             ],
             [
              0.5555555555555556,
              "#1f9e89"
             ],
             [
              0.6666666666666666,
              "#35b779"
             ],
             [
              0.7777777777777778,
              "#6ece58"
             ],
             [
              0.8888888888888888,
              "#b5de2b"
             ],
             [
              1,
              "#fde725"
             ]
            ],
            "type": "surface"
           }
          ],
          "table": [
           {
            "cells": {
             "fill": {
              "color": "rgb(237,237,237)"
             },
             "line": {
              "color": "white"
             }
            },
            "header": {
             "fill": {
              "color": "rgb(217,217,217)"
             },
             "line": {
              "color": "white"
             }
            },
            "type": "table"
           }
          ]
         },
         "layout": {
          "annotationdefaults": {
           "arrowhead": 0,
           "arrowwidth": 1
          },
          "autotypenumbers": "strict",
          "coloraxis": {
           "colorbar": {
            "outlinewidth": 1,
            "tickcolor": "rgb(36,36,36)",
            "ticks": "outside"
           }
          },
          "colorscale": {
           "diverging": [
            [
             0,
             "rgb(103,0,31)"
            ],
            [
             0.1,
             "rgb(178,24,43)"
            ],
            [
             0.2,
             "rgb(214,96,77)"
            ],
            [
             0.3,
             "rgb(244,165,130)"
            ],
            [
             0.4,
             "rgb(253,219,199)"
            ],
            [
             0.5,
             "rgb(247,247,247)"
            ],
            [
             0.6,
             "rgb(209,229,240)"
            ],
            [
             0.7,
             "rgb(146,197,222)"
            ],
            [
             0.8,
             "rgb(67,147,195)"
            ],
            [
             0.9,
             "rgb(33,102,172)"
            ],
            [
             1,
             "rgb(5,48,97)"
            ]
           ],
           "sequential": [
            [
             0,
             "#440154"
            ],
            [
             0.1111111111111111,
             "#482878"
            ],
            [
             0.2222222222222222,
             "#3e4989"
            ],
            [
             0.3333333333333333,
             "#31688e"
            ],
            [
             0.4444444444444444,
             "#26828e"
            ],
            [
             0.5555555555555556,
             "#1f9e89"
            ],
            [
             0.6666666666666666,
             "#35b779"
            ],
            [
             0.7777777777777778,
             "#6ece58"
            ],
            [
             0.8888888888888888,
             "#b5de2b"
            ],
            [
             1,
             "#fde725"
            ]
           ],
           "sequentialminus": [
            [
             0,
             "#440154"
            ],
            [
             0.1111111111111111,
             "#482878"
            ],
            [
             0.2222222222222222,
             "#3e4989"
            ],
            [
             0.3333333333333333,
             "#31688e"
            ],
            [
             0.4444444444444444,
             "#26828e"
            ],
            [
             0.5555555555555556,
             "#1f9e89"
            ],
            [
             0.6666666666666666,
             "#35b779"
            ],
            [
             0.7777777777777778,
             "#6ece58"
            ],
            [
             0.8888888888888888,
             "#b5de2b"
            ],
            [
             1,
             "#fde725"
            ]
           ]
          },
          "colorway": [
           "#1F77B4",
           "#FF7F0E",
           "#2CA02C",
           "#D62728",
           "#9467BD",
           "#8C564B",
           "#E377C2",
           "#7F7F7F",
           "#BCBD22",
           "#17BECF"
          ],
          "font": {
           "color": "rgb(36,36,36)"
          },
          "geo": {
           "bgcolor": "white",
           "lakecolor": "white",
           "landcolor": "white",
           "showlakes": true,
           "showland": true,
           "subunitcolor": "white"
          },
          "hoverlabel": {
           "align": "left"
          },
          "hovermode": "closest",
          "mapbox": {
           "style": "light"
          },
          "paper_bgcolor": "white",
          "plot_bgcolor": "white",
          "polar": {
           "angularaxis": {
            "gridcolor": "rgb(232,232,232)",
            "linecolor": "rgb(36,36,36)",
            "showgrid": false,
            "showline": true,
            "ticks": "outside"
           },
           "bgcolor": "white",
           "radialaxis": {
            "gridcolor": "rgb(232,232,232)",
            "linecolor": "rgb(36,36,36)",
            "showgrid": false,
            "showline": true,
            "ticks": "outside"
           }
          },
          "scene": {
           "xaxis": {
            "backgroundcolor": "white",
            "gridcolor": "rgb(232,232,232)",
            "gridwidth": 2,
            "linecolor": "rgb(36,36,36)",
            "showbackground": true,
            "showgrid": false,
            "showline": true,
            "ticks": "outside",
            "zeroline": false,
            "zerolinecolor": "rgb(36,36,36)"
           },
           "yaxis": {
            "backgroundcolor": "white",
            "gridcolor": "rgb(232,232,232)",
            "gridwidth": 2,
            "linecolor": "rgb(36,36,36)",
            "showbackground": true,
            "showgrid": false,
            "showline": true,
            "ticks": "outside",
            "zeroline": false,
            "zerolinecolor": "rgb(36,36,36)"
           },
           "zaxis": {
            "backgroundcolor": "white",
            "gridcolor": "rgb(232,232,232)",
            "gridwidth": 2,
            "linecolor": "rgb(36,36,36)",
            "showbackground": true,
            "showgrid": false,
            "showline": true,
            "ticks": "outside",
            "zeroline": false,
            "zerolinecolor": "rgb(36,36,36)"
           }
          },
          "shapedefaults": {
           "fillcolor": "black",
           "line": {
            "width": 0
           },
           "opacity": 0.3
          },
          "ternary": {
           "aaxis": {
            "gridcolor": "rgb(232,232,232)",
            "linecolor": "rgb(36,36,36)",
            "showgrid": false,
            "showline": true,
            "ticks": "outside"
           },
           "baxis": {
            "gridcolor": "rgb(232,232,232)",
            "linecolor": "rgb(36,36,36)",
            "showgrid": false,
            "showline": true,
            "ticks": "outside"
           },
           "bgcolor": "white",
           "caxis": {
            "gridcolor": "rgb(232,232,232)",
            "linecolor": "rgb(36,36,36)",
            "showgrid": false,
            "showline": true,
            "ticks": "outside"
           }
          },
          "title": {
           "x": 0.05
          },
          "xaxis": {
           "automargin": true,
           "gridcolor": "rgb(232,232,232)",
           "linecolor": "rgb(36,36,36)",
           "showgrid": false,
           "showline": true,
           "ticks": "outside",
           "title": {
            "standoff": 15
           },
           "zeroline": false,
           "zerolinecolor": "rgb(36,36,36)"
          },
          "yaxis": {
           "automargin": true,
           "gridcolor": "rgb(232,232,232)",
           "linecolor": "rgb(36,36,36)",
           "showgrid": false,
           "showline": true,
           "ticks": "outside",
           "title": {
            "standoff": 15
           },
           "zeroline": false,
           "zerolinecolor": "rgb(36,36,36)"
          }
         }
        },
        "xaxis": {
         "anchor": "y",
         "categoryorder": "category ascending",
         "domain": [
          0,
          1
         ],
         "title": {
          "text": "発生時（始期）"
         }
        },
        "yaxis": {
         "anchor": "x",
         "domain": [
          0,
          1
         ],
         "title": {
          "text": "件数"
         }
        }
       }
      }
     },
     "metadata": {},
     "output_type": "display_data"
    }
   ],
   "source": [
    "fig = px.bar(time,\n",
    "            x='発生時（始期）',\n",
    "            y='件数',\n",
    "            template='simple_white' # change this to see other styles\n",
    "            )\n",
    "fig.update_xaxes(categoryorder='category ascending')\n",
    "fig.show()"
   ]
  },
  {
   "cell_type": "code",
   "execution_count": 19,
   "metadata": {},
   "outputs": [
    {
     "data": {
      "application/vnd.plotly.v1+json": {
       "config": {
        "plotlyServerURL": "https://plot.ly"
       },
       "data": [
        {
         "alignmentgroup": "True",
         "hovertemplate": "発生時（始期）=%{x}<br>件数=%{y}<extra></extra>",
         "legendgroup": "",
         "marker": {
          "color": "#636efa",
          "pattern": {
           "shape": ""
          }
         },
         "name": "",
         "offsetgroup": "",
         "orientation": "v",
         "showlegend": false,
         "textposition": "auto",
         "type": "bar",
         "x": [
          "18",
          "19",
          "08",
          "16",
          "20",
          "17",
          "12",
          "13",
          "15",
          "07",
          "14",
          "10",
          "21",
          "11",
          "09",
          "06",
          "22",
          "00",
          "23",
          "不明",
          "05",
          "04",
          "02",
          "01"
         ],
         "xaxis": "x",
         "y": [
          44,
          39,
          37,
          36,
          33,
          32,
          28,
          25,
          24,
          23,
          20,
          20,
          19,
          19,
          18,
          12,
          11,
          9,
          9,
          6,
          3,
          2,
          1,
          1
         ],
         "yaxis": "y"
        }
       ],
       "layout": {
        "barmode": "relative",
        "legend": {
         "tracegroupgap": 0
        },
        "margin": {
         "t": 60
        },
        "template": {
         "data": {
          "bar": [
           {
            "error_x": {
             "color": "#2a3f5f"
            },
            "error_y": {
             "color": "#2a3f5f"
            },
            "marker": {
             "line": {
              "color": "#E5ECF6",
              "width": 0.5
             },
             "pattern": {
              "fillmode": "overlay",
              "size": 10,
              "solidity": 0.2
             }
            },
            "type": "bar"
           }
          ],
          "barpolar": [
           {
            "marker": {
             "line": {
              "color": "#E5ECF6",
              "width": 0.5
             },
             "pattern": {
              "fillmode": "overlay",
              "size": 10,
              "solidity": 0.2
             }
            },
            "type": "barpolar"
           }
          ],
          "carpet": [
           {
            "aaxis": {
             "endlinecolor": "#2a3f5f",
             "gridcolor": "white",
             "linecolor": "white",
             "minorgridcolor": "white",
             "startlinecolor": "#2a3f5f"
            },
            "baxis": {
             "endlinecolor": "#2a3f5f",
             "gridcolor": "white",
             "linecolor": "white",
             "minorgridcolor": "white",
             "startlinecolor": "#2a3f5f"
            },
            "type": "carpet"
           }
          ],
          "choropleth": [
           {
            "colorbar": {
             "outlinewidth": 0,
             "ticks": ""
            },
            "type": "choropleth"
           }
          ],
          "contour": [
           {
            "colorbar": {
             "outlinewidth": 0,
             "ticks": ""
            },
            "colorscale": [
             [
              0,
              "#0d0887"
             ],
             [
              0.1111111111111111,
              "#46039f"
             ],
             [
              0.2222222222222222,
              "#7201a8"
             ],
             [
              0.3333333333333333,
              "#9c179e"
             ],
             [
              0.4444444444444444,
              "#bd3786"
             ],
             [
              0.5555555555555556,
              "#d8576b"
             ],
             [
              0.6666666666666666,
              "#ed7953"
             ],
             [
              0.7777777777777778,
              "#fb9f3a"
             ],
             [
              0.8888888888888888,
              "#fdca26"
             ],
             [
              1,
              "#f0f921"
             ]
            ],
            "type": "contour"
           }
          ],
          "contourcarpet": [
           {
            "colorbar": {
             "outlinewidth": 0,
             "ticks": ""
            },
            "type": "contourcarpet"
           }
          ],
          "heatmap": [
           {
            "colorbar": {
             "outlinewidth": 0,
             "ticks": ""
            },
            "colorscale": [
             [
              0,
              "#0d0887"
             ],
             [
              0.1111111111111111,
              "#46039f"
             ],
             [
              0.2222222222222222,
              "#7201a8"
             ],
             [
              0.3333333333333333,
              "#9c179e"
             ],
             [
              0.4444444444444444,
              "#bd3786"
             ],
             [
              0.5555555555555556,
              "#d8576b"
             ],
             [
              0.6666666666666666,
              "#ed7953"
             ],
             [
              0.7777777777777778,
              "#fb9f3a"
             ],
             [
              0.8888888888888888,
              "#fdca26"
             ],
             [
              1,
              "#f0f921"
             ]
            ],
            "type": "heatmap"
           }
          ],
          "heatmapgl": [
           {
            "colorbar": {
             "outlinewidth": 0,
             "ticks": ""
            },
            "colorscale": [
             [
              0,
              "#0d0887"
             ],
             [
              0.1111111111111111,
              "#46039f"
             ],
             [
              0.2222222222222222,
              "#7201a8"
             ],
             [
              0.3333333333333333,
              "#9c179e"
             ],
             [
              0.4444444444444444,
              "#bd3786"
             ],
             [
              0.5555555555555556,
              "#d8576b"
             ],
             [
              0.6666666666666666,
              "#ed7953"
             ],
             [
              0.7777777777777778,
              "#fb9f3a"
             ],
             [
              0.8888888888888888,
              "#fdca26"
             ],
             [
              1,
              "#f0f921"
             ]
            ],
            "type": "heatmapgl"
           }
          ],
          "histogram": [
           {
            "marker": {
             "pattern": {
              "fillmode": "overlay",
              "size": 10,
              "solidity": 0.2
             }
            },
            "type": "histogram"
           }
          ],
          "histogram2d": [
           {
            "colorbar": {
             "outlinewidth": 0,
             "ticks": ""
            },
            "colorscale": [
             [
              0,
              "#0d0887"
             ],
             [
              0.1111111111111111,
              "#46039f"
             ],
             [
              0.2222222222222222,
              "#7201a8"
             ],
             [
              0.3333333333333333,
              "#9c179e"
             ],
             [
              0.4444444444444444,
              "#bd3786"
             ],
             [
              0.5555555555555556,
              "#d8576b"
             ],
             [
              0.6666666666666666,
              "#ed7953"
             ],
             [
              0.7777777777777778,
              "#fb9f3a"
             ],
             [
              0.8888888888888888,
              "#fdca26"
             ],
             [
              1,
              "#f0f921"
             ]
            ],
            "type": "histogram2d"
           }
          ],
          "histogram2dcontour": [
           {
            "colorbar": {
             "outlinewidth": 0,
             "ticks": ""
            },
            "colorscale": [
             [
              0,
              "#0d0887"
             ],
             [
              0.1111111111111111,
              "#46039f"
             ],
             [
              0.2222222222222222,
              "#7201a8"
             ],
             [
              0.3333333333333333,
              "#9c179e"
             ],
             [
              0.4444444444444444,
              "#bd3786"
             ],
             [
              0.5555555555555556,
              "#d8576b"
             ],
             [
              0.6666666666666666,
              "#ed7953"
             ],
             [
              0.7777777777777778,
              "#fb9f3a"
             ],
             [
              0.8888888888888888,
              "#fdca26"
             ],
             [
              1,
              "#f0f921"
             ]
            ],
            "type": "histogram2dcontour"
           }
          ],
          "mesh3d": [
           {
            "colorbar": {
             "outlinewidth": 0,
             "ticks": ""
            },
            "type": "mesh3d"
           }
          ],
          "parcoords": [
           {
            "line": {
             "colorbar": {
              "outlinewidth": 0,
              "ticks": ""
             }
            },
            "type": "parcoords"
           }
          ],
          "pie": [
           {
            "automargin": true,
            "type": "pie"
           }
          ],
          "scatter": [
           {
            "fillpattern": {
             "fillmode": "overlay",
             "size": 10,
             "solidity": 0.2
            },
            "type": "scatter"
           }
          ],
          "scatter3d": [
           {
            "line": {
             "colorbar": {
              "outlinewidth": 0,
              "ticks": ""
             }
            },
            "marker": {
             "colorbar": {
              "outlinewidth": 0,
              "ticks": ""
             }
            },
            "type": "scatter3d"
           }
          ],
          "scattercarpet": [
           {
            "marker": {
             "colorbar": {
              "outlinewidth": 0,
              "ticks": ""
             }
            },
            "type": "scattercarpet"
           }
          ],
          "scattergeo": [
           {
            "marker": {
             "colorbar": {
              "outlinewidth": 0,
              "ticks": ""
             }
            },
            "type": "scattergeo"
           }
          ],
          "scattergl": [
           {
            "marker": {
             "colorbar": {
              "outlinewidth": 0,
              "ticks": ""
             }
            },
            "type": "scattergl"
           }
          ],
          "scattermapbox": [
           {
            "marker": {
             "colorbar": {
              "outlinewidth": 0,
              "ticks": ""
             }
            },
            "type": "scattermapbox"
           }
          ],
          "scatterpolar": [
           {
            "marker": {
             "colorbar": {
              "outlinewidth": 0,
              "ticks": ""
             }
            },
            "type": "scatterpolar"
           }
          ],
          "scatterpolargl": [
           {
            "marker": {
             "colorbar": {
              "outlinewidth": 0,
              "ticks": ""
             }
            },
            "type": "scatterpolargl"
           }
          ],
          "scatterternary": [
           {
            "marker": {
             "colorbar": {
              "outlinewidth": 0,
              "ticks": ""
             }
            },
            "type": "scatterternary"
           }
          ],
          "surface": [
           {
            "colorbar": {
             "outlinewidth": 0,
             "ticks": ""
            },
            "colorscale": [
             [
              0,
              "#0d0887"
             ],
             [
              0.1111111111111111,
              "#46039f"
             ],
             [
              0.2222222222222222,
              "#7201a8"
             ],
             [
              0.3333333333333333,
              "#9c179e"
             ],
             [
              0.4444444444444444,
              "#bd3786"
             ],
             [
              0.5555555555555556,
              "#d8576b"
             ],
             [
              0.6666666666666666,
              "#ed7953"
             ],
             [
              0.7777777777777778,
              "#fb9f3a"
             ],
             [
              0.8888888888888888,
              "#fdca26"
             ],
             [
              1,
              "#f0f921"
             ]
            ],
            "type": "surface"
           }
          ],
          "table": [
           {
            "cells": {
             "fill": {
              "color": "#EBF0F8"
             },
             "line": {
              "color": "white"
             }
            },
            "header": {
             "fill": {
              "color": "#C8D4E3"
             },
             "line": {
              "color": "white"
             }
            },
            "type": "table"
           }
          ]
         },
         "layout": {
          "annotationdefaults": {
           "arrowcolor": "#2a3f5f",
           "arrowhead": 0,
           "arrowwidth": 1
          },
          "autotypenumbers": "strict",
          "coloraxis": {
           "colorbar": {
            "outlinewidth": 0,
            "ticks": ""
           }
          },
          "colorscale": {
           "diverging": [
            [
             0,
             "#8e0152"
            ],
            [
             0.1,
             "#c51b7d"
            ],
            [
             0.2,
             "#de77ae"
            ],
            [
             0.3,
             "#f1b6da"
            ],
            [
             0.4,
             "#fde0ef"
            ],
            [
             0.5,
             "#f7f7f7"
            ],
            [
             0.6,
             "#e6f5d0"
            ],
            [
             0.7,
             "#b8e186"
            ],
            [
             0.8,
             "#7fbc41"
            ],
            [
             0.9,
             "#4d9221"
            ],
            [
             1,
             "#276419"
            ]
           ],
           "sequential": [
            [
             0,
             "#0d0887"
            ],
            [
             0.1111111111111111,
             "#46039f"
            ],
            [
             0.2222222222222222,
             "#7201a8"
            ],
            [
             0.3333333333333333,
             "#9c179e"
            ],
            [
             0.4444444444444444,
             "#bd3786"
            ],
            [
             0.5555555555555556,
             "#d8576b"
            ],
            [
             0.6666666666666666,
             "#ed7953"
            ],
            [
             0.7777777777777778,
             "#fb9f3a"
            ],
            [
             0.8888888888888888,
             "#fdca26"
            ],
            [
             1,
             "#f0f921"
            ]
           ],
           "sequentialminus": [
            [
             0,
             "#0d0887"
            ],
            [
             0.1111111111111111,
             "#46039f"
            ],
            [
             0.2222222222222222,
             "#7201a8"
            ],
            [
             0.3333333333333333,
             "#9c179e"
            ],
            [
             0.4444444444444444,
             "#bd3786"
            ],
            [
             0.5555555555555556,
             "#d8576b"
            ],
            [
             0.6666666666666666,
             "#ed7953"
            ],
            [
             0.7777777777777778,
             "#fb9f3a"
            ],
            [
             0.8888888888888888,
             "#fdca26"
            ],
            [
             1,
             "#f0f921"
            ]
           ]
          },
          "colorway": [
           "#636efa",
           "#EF553B",
           "#00cc96",
           "#ab63fa",
           "#FFA15A",
           "#19d3f3",
           "#FF6692",
           "#B6E880",
           "#FF97FF",
           "#FECB52"
          ],
          "font": {
           "color": "#2a3f5f"
          },
          "geo": {
           "bgcolor": "white",
           "lakecolor": "white",
           "landcolor": "#E5ECF6",
           "showlakes": true,
           "showland": true,
           "subunitcolor": "white"
          },
          "hoverlabel": {
           "align": "left"
          },
          "hovermode": "closest",
          "mapbox": {
           "style": "light"
          },
          "paper_bgcolor": "white",
          "plot_bgcolor": "#E5ECF6",
          "polar": {
           "angularaxis": {
            "gridcolor": "white",
            "linecolor": "white",
            "ticks": ""
           },
           "bgcolor": "#E5ECF6",
           "radialaxis": {
            "gridcolor": "white",
            "linecolor": "white",
            "ticks": ""
           }
          },
          "scene": {
           "xaxis": {
            "backgroundcolor": "#E5ECF6",
            "gridcolor": "white",
            "gridwidth": 2,
            "linecolor": "white",
            "showbackground": true,
            "ticks": "",
            "zerolinecolor": "white"
           },
           "yaxis": {
            "backgroundcolor": "#E5ECF6",
            "gridcolor": "white",
            "gridwidth": 2,
            "linecolor": "white",
            "showbackground": true,
            "ticks": "",
            "zerolinecolor": "white"
           },
           "zaxis": {
            "backgroundcolor": "#E5ECF6",
            "gridcolor": "white",
            "gridwidth": 2,
            "linecolor": "white",
            "showbackground": true,
            "ticks": "",
            "zerolinecolor": "white"
           }
          },
          "shapedefaults": {
           "line": {
            "color": "#2a3f5f"
           }
          },
          "ternary": {
           "aaxis": {
            "gridcolor": "white",
            "linecolor": "white",
            "ticks": ""
           },
           "baxis": {
            "gridcolor": "white",
            "linecolor": "white",
            "ticks": ""
           },
           "bgcolor": "#E5ECF6",
           "caxis": {
            "gridcolor": "white",
            "linecolor": "white",
            "ticks": ""
           }
          },
          "title": {
           "x": 0.05
          },
          "xaxis": {
           "automargin": true,
           "gridcolor": "white",
           "linecolor": "white",
           "ticks": "",
           "title": {
            "standoff": 15
           },
           "zerolinecolor": "white",
           "zerolinewidth": 2
          },
          "yaxis": {
           "automargin": true,
           "gridcolor": "white",
           "linecolor": "white",
           "ticks": "",
           "title": {
            "standoff": 15
           },
           "zerolinecolor": "white",
           "zerolinewidth": 2
          }
         }
        },
        "xaxis": {
         "anchor": "y",
         "categoryorder": "category ascending",
         "domain": [
          0,
          1
         ],
         "title": {
          "text": "発生時（始期）"
         }
        },
        "yaxis": {
         "anchor": "x",
         "domain": [
          0,
          1
         ],
         "title": {
          "text": "件数"
         }
        }
       }
      }
     },
     "metadata": {},
     "output_type": "display_data"
    }
   ],
   "source": [
    "fig = px.bar(time,\n",
    "            x='発生時（始期）',\n",
    "            y='件数',\n",
    "            template='plotly' # change this to see other styles\n",
    "            )\n",
    "fig.update_xaxes(categoryorder='category ascending')\n",
    "fig.show()"
   ]
  },
  {
   "attachments": {},
   "cell_type": "markdown",
   "metadata": {
    "slideshow": {
     "slide_type": "slide"
    }
   },
   "source": [
    "## その他のチャート（上級編）\n",
    "\n",
    "複数の変数でチャートを作ると、より深い分析ができる。"
   ]
  },
  {
   "cell_type": "code",
   "execution_count": 21,
   "metadata": {
    "slideshow": {
     "slide_type": "slide"
    }
   },
   "outputs": [
    {
     "data": {
      "application/vnd.plotly.v1+json": {
       "config": {
        "plotlyServerURL": "https://plot.ly"
       },
       "data": [
        {
         "alignmentgroup": "True",
         "hovertemplate": "被害者の職業=その他<br>発生時（始期）=%{x}<br>count=%{y}<extra></extra>",
         "legendgroup": "その他",
         "marker": {
          "color": "rgb(76,114,176)",
          "line": {
           "width": 0
          },
          "pattern": {
           "shape": ""
          }
         },
         "name": "その他",
         "offsetgroup": "その他",
         "orientation": "v",
         "showlegend": true,
         "textposition": "auto",
         "type": "bar",
         "x": [
          "00",
          "13",
          "22",
          "08",
          "16",
          "08",
          "17",
          "23",
          "04",
          "不明",
          "不明",
          "09",
          "17",
          "11",
          "19",
          "10",
          "21",
          "21",
          "20",
          "08",
          "16",
          "07",
          "20",
          "13",
          "13",
          "13",
          "06",
          "20",
          "23",
          "17",
          "16",
          "00",
          "不明",
          "22",
          "05",
          "12",
          "22",
          "15",
          "16",
          "12",
          "19",
          "15",
          "17",
          "21",
          "21",
          "12",
          "20",
          "14",
          "20",
          "12",
          "15",
          "00",
          "19",
          "20",
          "04",
          "14",
          "06",
          "18",
          "19",
          "06",
          "07",
          "19",
          "09",
          "11",
          "08",
          "12",
          "18",
          "17",
          "07",
          "19",
          "12",
          "13",
          "21",
          "21",
          "16",
          "18",
          "12",
          "17",
          "15",
          "20",
          "07",
          "12",
          "01",
          "06",
          "19",
          "18",
          "16",
          "19",
          "18",
          "06",
          "08",
          "19",
          "23",
          "23",
          "10",
          "18",
          "14",
          "18",
          "09",
          "23",
          "08",
          "12",
          "18",
          "11",
          "17",
          "12",
          "16",
          "14",
          "11",
          "08",
          "08",
          "18",
          "19",
          "20",
          "12",
          "15",
          "14",
          "11",
          "11",
          "22",
          "11",
          "19",
          "18",
          "16",
          "13",
          "10",
          "12",
          "17",
          "20",
          "15",
          "12",
          "20",
          "08",
          "18",
          "12",
          "09",
          "19",
          "14",
          "20",
          "15",
          "12",
          "18",
          "16",
          "10",
          "11",
          "10",
          "16",
          "23",
          "16",
          "14",
          "16",
          "09",
          "19",
          "22",
          "12",
          "08",
          "09",
          "09",
          "13",
          "05",
          "06",
          "21",
          "00",
          "06",
          "12",
          "10",
          "19",
          "20",
          "07",
          "20",
          "10",
          "10",
          "09",
          "09",
          "09",
          "12",
          "20",
          "19",
          "18",
          "00",
          "14",
          "18",
          "10",
          "07",
          "18",
          "18",
          "09",
          "08",
          "08",
          "20",
          "15",
          "20",
          "19",
          "17",
          "19",
          "15",
          "10",
          "10",
          "17",
          "18",
          "18",
          "05",
          "06",
          "18",
          "17",
          "18",
          "17",
          "00",
          "12",
          "18",
          "06",
          "15",
          "20",
          "12",
          "16",
          "17",
          "22",
          "11",
          "17",
          "18",
          "08",
          "20",
          "13",
          "12",
          "13",
          "19",
          "17",
          "15",
          "16",
          "22",
          "00",
          "17",
          "12",
          "20",
          "07",
          "不明",
          "16",
          "20",
          "13",
          "18",
          "21",
          "08",
          "19",
          "14",
          "18",
          "20",
          "20",
          "19",
          "11",
          "18",
          "08",
          "16",
          "08",
          "19",
          "18",
          "18",
          "08"
         ],
         "xaxis": "x",
         "y": [
          1,
          1,
          1,
          1,
          1,
          1,
          1,
          1,
          1,
          1,
          1,
          1,
          1,
          1,
          1,
          1,
          1,
          1,
          1,
          1,
          1,
          1,
          1,
          1,
          1,
          1,
          1,
          1,
          1,
          1,
          1,
          1,
          1,
          1,
          1,
          1,
          1,
          1,
          1,
          1,
          1,
          1,
          1,
          1,
          1,
          1,
          1,
          1,
          1,
          1,
          1,
          1,
          1,
          1,
          1,
          1,
          1,
          1,
          1,
          1,
          1,
          1,
          1,
          1,
          1,
          1,
          1,
          1,
          1,
          1,
          1,
          1,
          1,
          1,
          1,
          1,
          1,
          1,
          1,
          1,
          1,
          1,
          1,
          1,
          1,
          1,
          1,
          1,
          1,
          1,
          1,
          1,
          1,
          1,
          1,
          1,
          1,
          1,
          1,
          1,
          1,
          1,
          1,
          1,
          1,
          1,
          1,
          1,
          1,
          1,
          1,
          1,
          1,
          1,
          1,
          1,
          1,
          1,
          1,
          1,
          1,
          1,
          1,
          1,
          1,
          1,
          1,
          1,
          1,
          1,
          1,
          1,
          1,
          1,
          1,
          1,
          1,
          1,
          1,
          1,
          1,
          1,
          1,
          1,
          1,
          1,
          1,
          1,
          1,
          1,
          1,
          1,
          1,
          1,
          1,
          1,
          1,
          1,
          1,
          1,
          1,
          1,
          1,
          1,
          1,
          1,
          1,
          1,
          1,
          1,
          1,
          1,
          1,
          1,
          1,
          1,
          1,
          1,
          1,
          1,
          1,
          1,
          1,
          1,
          1,
          1,
          1,
          1,
          1,
          1,
          1,
          1,
          1,
          1,
          1,
          1,
          1,
          1,
          1,
          1,
          1,
          1,
          1,
          1,
          1,
          1,
          1,
          1,
          1,
          1,
          1,
          1,
          1,
          1,
          1,
          1,
          1,
          1,
          1,
          1,
          1,
          1,
          1,
          1,
          1,
          1,
          1,
          1,
          1,
          1,
          1,
          1,
          1,
          1,
          1,
          1,
          1,
          1,
          1,
          1,
          1,
          1,
          1,
          1,
          1,
          1,
          1,
          1,
          1,
          1,
          1,
          1,
          1,
          1,
          1,
          1,
          1
         ],
         "yaxis": "y"
        },
        {
         "alignmentgroup": "True",
         "hovertemplate": "被害者の職業=中学生<br>発生時（始期）=%{x}<br>count=%{y}<extra></extra>",
         "legendgroup": "中学生",
         "marker": {
          "color": "rgb(221,132,82)",
          "line": {
           "width": 0
          },
          "pattern": {
           "shape": ""
          }
         },
         "name": "中学生",
         "offsetgroup": "中学生",
         "orientation": "v",
         "showlegend": true,
         "textposition": "auto",
         "type": "bar",
         "x": [
          "22",
          "18",
          "21",
          "19",
          "15",
          "13",
          "21",
          "15",
          "18",
          "14",
          "19",
          "02",
          "08",
          "13",
          "19",
          "11",
          "16",
          "13",
          "18",
          "10",
          "18",
          "06",
          "09",
          "20",
          "08",
          "11",
          "18",
          "21",
          "10",
          "18",
          "18",
          "21",
          "19",
          "13",
          "07",
          "16",
          "10",
          "17",
          "13",
          "06",
          "21",
          "14",
          "18",
          "08",
          "15",
          "20",
          "23",
          "19",
          "18",
          "18",
          "12"
         ],
         "xaxis": "x",
         "y": [
          1,
          1,
          1,
          1,
          1,
          1,
          1,
          1,
          1,
          1,
          1,
          1,
          1,
          1,
          1,
          1,
          1,
          1,
          1,
          1,
          1,
          1,
          1,
          1,
          1,
          1,
          1,
          1,
          1,
          1,
          1,
          1,
          1,
          1,
          1,
          1,
          1,
          1,
          1,
          1,
          1,
          1,
          1,
          1,
          1,
          1,
          1,
          1,
          1,
          1,
          1
         ],
         "yaxis": "y"
        },
        {
         "alignmentgroup": "True",
         "hovertemplate": "被害者の職業=小学生<br>発生時（始期）=%{x}<br>count=%{y}<extra></extra>",
         "legendgroup": "小学生",
         "marker": {
          "color": "rgb(85,168,104)",
          "line": {
           "width": 0
          },
          "pattern": {
           "shape": ""
          }
         },
         "name": "小学生",
         "offsetgroup": "小学生",
         "orientation": "v",
         "showlegend": true,
         "textposition": "auto",
         "type": "bar",
         "x": [
          "15",
          "17",
          "08",
          "19",
          "08",
          "19",
          "11",
          "14",
          "15",
          "16",
          "17",
          "13",
          "15",
          "14",
          "17",
          "08",
          "15",
          "17",
          "15",
          "21",
          "19",
          "11",
          "19",
          "16"
         ],
         "xaxis": "x",
         "y": [
          1,
          1,
          1,
          1,
          1,
          1,
          1,
          1,
          1,
          1,
          1,
          1,
          1,
          1,
          1,
          1,
          1,
          1,
          1,
          1,
          1,
          1,
          1,
          1
         ],
         "yaxis": "y"
        },
        {
         "alignmentgroup": "True",
         "hovertemplate": "被害者の職業=高校生<br>発生時（始期）=%{x}<br>count=%{y}<extra></extra>",
         "legendgroup": "高校生",
         "marker": {
          "color": "rgb(196,78,82)",
          "line": {
           "width": 0
          },
          "pattern": {
           "shape": ""
          }
         },
         "name": "高校生",
         "offsetgroup": "高校生",
         "orientation": "v",
         "showlegend": true,
         "textposition": "auto",
         "type": "bar",
         "x": [
          "21",
          "07",
          "20",
          "07",
          "07",
          "23",
          "08",
          "08",
          "06",
          "07",
          "17",
          "17",
          "15",
          "18",
          "18",
          "08",
          "07",
          "09",
          "16",
          "14",
          "15",
          "08",
          "07",
          "17",
          "07",
          "21",
          "19",
          "14",
          "14",
          "13",
          "18",
          "16",
          "11",
          "18",
          "13",
          "21",
          "11",
          "17",
          "16",
          "20",
          "13",
          "08",
          "13",
          "16",
          "11",
          "14",
          "00",
          "13",
          "13",
          "11",
          "16",
          "17",
          "17",
          "20",
          "17",
          "08",
          "13",
          "20",
          "12",
          "16",
          "19",
          "08",
          "19",
          "07",
          "12",
          "16",
          "08",
          "20",
          "16",
          "20",
          "07",
          "08",
          "17",
          "19",
          "08",
          "18",
          "16",
          "19",
          "19",
          "16",
          "20",
          "16",
          "21",
          "12",
          "21",
          "07",
          "17",
          "09",
          "10"
         ],
         "xaxis": "x",
         "y": [
          1,
          1,
          1,
          1,
          1,
          1,
          1,
          1,
          1,
          1,
          1,
          1,
          1,
          1,
          1,
          1,
          1,
          1,
          1,
          1,
          1,
          1,
          1,
          1,
          1,
          1,
          1,
          1,
          1,
          1,
          1,
          1,
          1,
          1,
          1,
          1,
          1,
          1,
          1,
          1,
          1,
          1,
          1,
          1,
          1,
          1,
          1,
          1,
          1,
          1,
          1,
          1,
          1,
          1,
          1,
          1,
          1,
          1,
          1,
          1,
          1,
          1,
          1,
          1,
          1,
          1,
          1,
          1,
          1,
          1,
          1,
          1,
          1,
          1,
          1,
          1,
          1,
          1,
          1,
          1,
          1,
          1,
          1,
          1,
          1,
          1,
          1,
          1,
          1
         ],
         "yaxis": "y"
        },
        {
         "alignmentgroup": "True",
         "hovertemplate": "被害者の職業=大学生<br>発生時（始期）=%{x}<br>count=%{y}<extra></extra>",
         "legendgroup": "大学生",
         "marker": {
          "color": "rgb(129,114,179)",
          "line": {
           "width": 0
          },
          "pattern": {
           "shape": ""
          }
         },
         "name": "大学生",
         "offsetgroup": "大学生",
         "orientation": "v",
         "showlegend": true,
         "textposition": "auto",
         "type": "bar",
         "x": [
          "14",
          "17",
          "10",
          "18",
          "16",
          "07",
          "22",
          "14",
          "19",
          "16",
          "09",
          "19",
          "07",
          "15",
          "10",
          "08",
          "16",
          "22",
          "08",
          "13",
          "07",
          "10",
          "09",
          "12",
          "00",
          "12",
          "15",
          "不明",
          "09",
          "19",
          "17",
          "11",
          "16",
          "10",
          "08",
          "22",
          "15",
          "10",
          "16",
          "23",
          "07",
          "13",
          "09",
          "14",
          "18",
          "08"
         ],
         "xaxis": "x",
         "y": [
          1,
          1,
          1,
          1,
          1,
          1,
          1,
          1,
          1,
          1,
          1,
          1,
          1,
          1,
          1,
          1,
          1,
          1,
          1,
          1,
          1,
          1,
          1,
          1,
          1,
          1,
          1,
          1,
          1,
          1,
          1,
          1,
          1,
          1,
          1,
          1,
          1,
          1,
          1,
          1,
          1,
          1,
          1,
          1,
          1,
          1
         ],
         "yaxis": "y"
        },
        {
         "alignmentgroup": "True",
         "hovertemplate": "被害者の職業=法人・団体、被害者なし<br>発生時（始期）=%{x}<br>count=%{y}<extra></extra>",
         "legendgroup": "法人・団体、被害者なし",
         "marker": {
          "color": "rgb(147,120,96)",
          "line": {
           "width": 0
          },
          "pattern": {
           "shape": ""
          }
         },
         "name": "法人・団体、被害者なし",
         "offsetgroup": "法人・団体、被害者なし",
         "orientation": "v",
         "showlegend": true,
         "textposition": "auto",
         "type": "bar",
         "x": [
          "20",
          "不明",
          "07",
          "20"
         ],
         "xaxis": "x",
         "y": [
          1,
          1,
          1,
          1
         ],
         "yaxis": "y"
        }
       ],
       "layout": {
        "barmode": "relative",
        "legend": {
         "title": {
          "text": "被害者の職業"
         },
         "tracegroupgap": 0
        },
        "margin": {
         "t": 60
        },
        "template": {
         "data": {
          "bar": [
           {
            "error_x": {
             "color": "rgb(36,36,36)"
            },
            "error_y": {
             "color": "rgb(36,36,36)"
            },
            "marker": {
             "line": {
              "color": "rgb(234,234,242)",
              "width": 0.5
             },
             "pattern": {
              "fillmode": "overlay",
              "size": 10,
              "solidity": 0.2
             }
            },
            "type": "bar"
           }
          ],
          "barpolar": [
           {
            "marker": {
             "line": {
              "color": "rgb(234,234,242)",
              "width": 0.5
             },
             "pattern": {
              "fillmode": "overlay",
              "size": 10,
              "solidity": 0.2
             }
            },
            "type": "barpolar"
           }
          ],
          "carpet": [
           {
            "aaxis": {
             "endlinecolor": "rgb(36,36,36)",
             "gridcolor": "white",
             "linecolor": "white",
             "minorgridcolor": "white",
             "startlinecolor": "rgb(36,36,36)"
            },
            "baxis": {
             "endlinecolor": "rgb(36,36,36)",
             "gridcolor": "white",
             "linecolor": "white",
             "minorgridcolor": "white",
             "startlinecolor": "rgb(36,36,36)"
            },
            "type": "carpet"
           }
          ],
          "choropleth": [
           {
            "colorbar": {
             "outlinewidth": 0,
             "tickcolor": "rgb(36,36,36)",
             "ticklen": 8,
             "ticks": "outside",
             "tickwidth": 2
            },
            "type": "choropleth"
           }
          ],
          "contour": [
           {
            "colorbar": {
             "outlinewidth": 0,
             "tickcolor": "rgb(36,36,36)",
             "ticklen": 8,
             "ticks": "outside",
             "tickwidth": 2
            },
            "colorscale": [
             [
              0,
              "rgb(2,4,25)"
             ],
             [
              0.06274509803921569,
              "rgb(24,15,41)"
             ],
             [
              0.12549019607843137,
              "rgb(47,23,57)"
             ],
             [
              0.18823529411764706,
              "rgb(71,28,72)"
             ],
             [
              0.25098039215686274,
              "rgb(97,30,82)"
             ],
             [
              0.3137254901960784,
              "rgb(123,30,89)"
             ],
             [
              0.3764705882352941,
              "rgb(150,27,91)"
             ],
             [
              0.4392156862745098,
              "rgb(177,22,88)"
             ],
             [
              0.5019607843137255,
              "rgb(203,26,79)"
             ],
             [
              0.5647058823529412,
              "rgb(223,47,67)"
             ],
             [
              0.6274509803921569,
              "rgb(236,76,61)"
             ],
             [
              0.6901960784313725,
              "rgb(242,107,73)"
             ],
             [
              0.7529411764705882,
              "rgb(244,135,95)"
             ],
             [
              0.8156862745098039,
              "rgb(245,162,122)"
             ],
             [
              0.8784313725490196,
              "rgb(246,188,153)"
             ],
             [
              0.9411764705882353,
              "rgb(247,212,187)"
             ],
             [
              1,
              "rgb(250,234,220)"
             ]
            ],
            "type": "contour"
           }
          ],
          "contourcarpet": [
           {
            "colorbar": {
             "outlinewidth": 0,
             "tickcolor": "rgb(36,36,36)",
             "ticklen": 8,
             "ticks": "outside",
             "tickwidth": 2
            },
            "type": "contourcarpet"
           }
          ],
          "heatmap": [
           {
            "colorbar": {
             "outlinewidth": 0,
             "tickcolor": "rgb(36,36,36)",
             "ticklen": 8,
             "ticks": "outside",
             "tickwidth": 2
            },
            "colorscale": [
             [
              0,
              "rgb(2,4,25)"
             ],
             [
              0.06274509803921569,
              "rgb(24,15,41)"
             ],
             [
              0.12549019607843137,
              "rgb(47,23,57)"
             ],
             [
              0.18823529411764706,
              "rgb(71,28,72)"
             ],
             [
              0.25098039215686274,
              "rgb(97,30,82)"
             ],
             [
              0.3137254901960784,
              "rgb(123,30,89)"
             ],
             [
              0.3764705882352941,
              "rgb(150,27,91)"
             ],
             [
              0.4392156862745098,
              "rgb(177,22,88)"
             ],
             [
              0.5019607843137255,
              "rgb(203,26,79)"
             ],
             [
              0.5647058823529412,
              "rgb(223,47,67)"
             ],
             [
              0.6274509803921569,
              "rgb(236,76,61)"
             ],
             [
              0.6901960784313725,
              "rgb(242,107,73)"
             ],
             [
              0.7529411764705882,
              "rgb(244,135,95)"
             ],
             [
              0.8156862745098039,
              "rgb(245,162,122)"
             ],
             [
              0.8784313725490196,
              "rgb(246,188,153)"
             ],
             [
              0.9411764705882353,
              "rgb(247,212,187)"
             ],
             [
              1,
              "rgb(250,234,220)"
             ]
            ],
            "type": "heatmap"
           }
          ],
          "heatmapgl": [
           {
            "colorbar": {
             "outlinewidth": 0,
             "tickcolor": "rgb(36,36,36)",
             "ticklen": 8,
             "ticks": "outside",
             "tickwidth": 2
            },
            "colorscale": [
             [
              0,
              "rgb(2,4,25)"
             ],
             [
              0.06274509803921569,
              "rgb(24,15,41)"
             ],
             [
              0.12549019607843137,
              "rgb(47,23,57)"
             ],
             [
              0.18823529411764706,
              "rgb(71,28,72)"
             ],
             [
              0.25098039215686274,
              "rgb(97,30,82)"
             ],
             [
              0.3137254901960784,
              "rgb(123,30,89)"
             ],
             [
              0.3764705882352941,
              "rgb(150,27,91)"
             ],
             [
              0.4392156862745098,
              "rgb(177,22,88)"
             ],
             [
              0.5019607843137255,
              "rgb(203,26,79)"
             ],
             [
              0.5647058823529412,
              "rgb(223,47,67)"
             ],
             [
              0.6274509803921569,
              "rgb(236,76,61)"
             ],
             [
              0.6901960784313725,
              "rgb(242,107,73)"
             ],
             [
              0.7529411764705882,
              "rgb(244,135,95)"
             ],
             [
              0.8156862745098039,
              "rgb(245,162,122)"
             ],
             [
              0.8784313725490196,
              "rgb(246,188,153)"
             ],
             [
              0.9411764705882353,
              "rgb(247,212,187)"
             ],
             [
              1,
              "rgb(250,234,220)"
             ]
            ],
            "type": "heatmapgl"
           }
          ],
          "histogram": [
           {
            "marker": {
             "pattern": {
              "fillmode": "overlay",
              "size": 10,
              "solidity": 0.2
             }
            },
            "type": "histogram"
           }
          ],
          "histogram2d": [
           {
            "colorbar": {
             "outlinewidth": 0,
             "tickcolor": "rgb(36,36,36)",
             "ticklen": 8,
             "ticks": "outside",
             "tickwidth": 2
            },
            "colorscale": [
             [
              0,
              "rgb(2,4,25)"
             ],
             [
              0.06274509803921569,
              "rgb(24,15,41)"
             ],
             [
              0.12549019607843137,
              "rgb(47,23,57)"
             ],
             [
              0.18823529411764706,
              "rgb(71,28,72)"
             ],
             [
              0.25098039215686274,
              "rgb(97,30,82)"
             ],
             [
              0.3137254901960784,
              "rgb(123,30,89)"
             ],
             [
              0.3764705882352941,
              "rgb(150,27,91)"
             ],
             [
              0.4392156862745098,
              "rgb(177,22,88)"
             ],
             [
              0.5019607843137255,
              "rgb(203,26,79)"
             ],
             [
              0.5647058823529412,
              "rgb(223,47,67)"
             ],
             [
              0.6274509803921569,
              "rgb(236,76,61)"
             ],
             [
              0.6901960784313725,
              "rgb(242,107,73)"
             ],
             [
              0.7529411764705882,
              "rgb(244,135,95)"
             ],
             [
              0.8156862745098039,
              "rgb(245,162,122)"
             ],
             [
              0.8784313725490196,
              "rgb(246,188,153)"
             ],
             [
              0.9411764705882353,
              "rgb(247,212,187)"
             ],
             [
              1,
              "rgb(250,234,220)"
             ]
            ],
            "type": "histogram2d"
           }
          ],
          "histogram2dcontour": [
           {
            "colorbar": {
             "outlinewidth": 0,
             "tickcolor": "rgb(36,36,36)",
             "ticklen": 8,
             "ticks": "outside",
             "tickwidth": 2
            },
            "colorscale": [
             [
              0,
              "rgb(2,4,25)"
             ],
             [
              0.06274509803921569,
              "rgb(24,15,41)"
             ],
             [
              0.12549019607843137,
              "rgb(47,23,57)"
             ],
             [
              0.18823529411764706,
              "rgb(71,28,72)"
             ],
             [
              0.25098039215686274,
              "rgb(97,30,82)"
             ],
             [
              0.3137254901960784,
              "rgb(123,30,89)"
             ],
             [
              0.3764705882352941,
              "rgb(150,27,91)"
             ],
             [
              0.4392156862745098,
              "rgb(177,22,88)"
             ],
             [
              0.5019607843137255,
              "rgb(203,26,79)"
             ],
             [
              0.5647058823529412,
              "rgb(223,47,67)"
             ],
             [
              0.6274509803921569,
              "rgb(236,76,61)"
             ],
             [
              0.6901960784313725,
              "rgb(242,107,73)"
             ],
             [
              0.7529411764705882,
              "rgb(244,135,95)"
             ],
             [
              0.8156862745098039,
              "rgb(245,162,122)"
             ],
             [
              0.8784313725490196,
              "rgb(246,188,153)"
             ],
             [
              0.9411764705882353,
              "rgb(247,212,187)"
             ],
             [
              1,
              "rgb(250,234,220)"
             ]
            ],
            "type": "histogram2dcontour"
           }
          ],
          "mesh3d": [
           {
            "colorbar": {
             "outlinewidth": 0,
             "tickcolor": "rgb(36,36,36)",
             "ticklen": 8,
             "ticks": "outside",
             "tickwidth": 2
            },
            "type": "mesh3d"
           }
          ],
          "parcoords": [
           {
            "line": {
             "colorbar": {
              "outlinewidth": 0,
              "tickcolor": "rgb(36,36,36)",
              "ticklen": 8,
              "ticks": "outside",
              "tickwidth": 2
             }
            },
            "type": "parcoords"
           }
          ],
          "pie": [
           {
            "automargin": true,
            "type": "pie"
           }
          ],
          "scatter": [
           {
            "fillpattern": {
             "fillmode": "overlay",
             "size": 10,
             "solidity": 0.2
            },
            "type": "scatter"
           }
          ],
          "scatter3d": [
           {
            "line": {
             "colorbar": {
              "outlinewidth": 0,
              "tickcolor": "rgb(36,36,36)",
              "ticklen": 8,
              "ticks": "outside",
              "tickwidth": 2
             }
            },
            "marker": {
             "colorbar": {
              "outlinewidth": 0,
              "tickcolor": "rgb(36,36,36)",
              "ticklen": 8,
              "ticks": "outside",
              "tickwidth": 2
             }
            },
            "type": "scatter3d"
           }
          ],
          "scattercarpet": [
           {
            "marker": {
             "colorbar": {
              "outlinewidth": 0,
              "tickcolor": "rgb(36,36,36)",
              "ticklen": 8,
              "ticks": "outside",
              "tickwidth": 2
             }
            },
            "type": "scattercarpet"
           }
          ],
          "scattergeo": [
           {
            "marker": {
             "colorbar": {
              "outlinewidth": 0,
              "tickcolor": "rgb(36,36,36)",
              "ticklen": 8,
              "ticks": "outside",
              "tickwidth": 2
             }
            },
            "type": "scattergeo"
           }
          ],
          "scattergl": [
           {
            "marker": {
             "colorbar": {
              "outlinewidth": 0,
              "tickcolor": "rgb(36,36,36)",
              "ticklen": 8,
              "ticks": "outside",
              "tickwidth": 2
             }
            },
            "type": "scattergl"
           }
          ],
          "scattermapbox": [
           {
            "marker": {
             "colorbar": {
              "outlinewidth": 0,
              "tickcolor": "rgb(36,36,36)",
              "ticklen": 8,
              "ticks": "outside",
              "tickwidth": 2
             }
            },
            "type": "scattermapbox"
           }
          ],
          "scatterpolar": [
           {
            "marker": {
             "colorbar": {
              "outlinewidth": 0,
              "tickcolor": "rgb(36,36,36)",
              "ticklen": 8,
              "ticks": "outside",
              "tickwidth": 2
             }
            },
            "type": "scatterpolar"
           }
          ],
          "scatterpolargl": [
           {
            "marker": {
             "colorbar": {
              "outlinewidth": 0,
              "tickcolor": "rgb(36,36,36)",
              "ticklen": 8,
              "ticks": "outside",
              "tickwidth": 2
             }
            },
            "type": "scatterpolargl"
           }
          ],
          "scatterternary": [
           {
            "marker": {
             "colorbar": {
              "outlinewidth": 0,
              "tickcolor": "rgb(36,36,36)",
              "ticklen": 8,
              "ticks": "outside",
              "tickwidth": 2
             }
            },
            "type": "scatterternary"
           }
          ],
          "surface": [
           {
            "colorbar": {
             "outlinewidth": 0,
             "tickcolor": "rgb(36,36,36)",
             "ticklen": 8,
             "ticks": "outside",
             "tickwidth": 2
            },
            "colorscale": [
             [
              0,
              "rgb(2,4,25)"
             ],
             [
              0.06274509803921569,
              "rgb(24,15,41)"
             ],
             [
              0.12549019607843137,
              "rgb(47,23,57)"
             ],
             [
              0.18823529411764706,
              "rgb(71,28,72)"
             ],
             [
              0.25098039215686274,
              "rgb(97,30,82)"
             ],
             [
              0.3137254901960784,
              "rgb(123,30,89)"
             ],
             [
              0.3764705882352941,
              "rgb(150,27,91)"
             ],
             [
              0.4392156862745098,
              "rgb(177,22,88)"
             ],
             [
              0.5019607843137255,
              "rgb(203,26,79)"
             ],
             [
              0.5647058823529412,
              "rgb(223,47,67)"
             ],
             [
              0.6274509803921569,
              "rgb(236,76,61)"
             ],
             [
              0.6901960784313725,
              "rgb(242,107,73)"
             ],
             [
              0.7529411764705882,
              "rgb(244,135,95)"
             ],
             [
              0.8156862745098039,
              "rgb(245,162,122)"
             ],
             [
              0.8784313725490196,
              "rgb(246,188,153)"
             ],
             [
              0.9411764705882353,
              "rgb(247,212,187)"
             ],
             [
              1,
              "rgb(250,234,220)"
             ]
            ],
            "type": "surface"
           }
          ],
          "table": [
           {
            "cells": {
             "fill": {
              "color": "rgb(231,231,240)"
             },
             "line": {
              "color": "white"
             }
            },
            "header": {
             "fill": {
              "color": "rgb(183,183,191)"
             },
             "line": {
              "color": "white"
             }
            },
            "type": "table"
           }
          ]
         },
         "layout": {
          "annotationdefaults": {
           "arrowcolor": "rgb(67,103,167)"
          },
          "autotypenumbers": "strict",
          "coloraxis": {
           "colorbar": {
            "outlinewidth": 0,
            "tickcolor": "rgb(36,36,36)",
            "ticklen": 8,
            "ticks": "outside",
            "tickwidth": 2
           }
          },
          "colorscale": {
           "sequential": [
            [
             0,
             "rgb(2,4,25)"
            ],
            [
             0.06274509803921569,
             "rgb(24,15,41)"
            ],
            [
             0.12549019607843137,
             "rgb(47,23,57)"
            ],
            [
             0.18823529411764706,
             "rgb(71,28,72)"
            ],
            [
             0.25098039215686274,
             "rgb(97,30,82)"
            ],
            [
             0.3137254901960784,
             "rgb(123,30,89)"
            ],
            [
             0.3764705882352941,
             "rgb(150,27,91)"
            ],
            [
             0.4392156862745098,
             "rgb(177,22,88)"
            ],
            [
             0.5019607843137255,
             "rgb(203,26,79)"
            ],
            [
             0.5647058823529412,
             "rgb(223,47,67)"
            ],
            [
             0.6274509803921569,
             "rgb(236,76,61)"
            ],
            [
             0.6901960784313725,
             "rgb(242,107,73)"
            ],
            [
             0.7529411764705882,
             "rgb(244,135,95)"
            ],
            [
             0.8156862745098039,
             "rgb(245,162,122)"
            ],
            [
             0.8784313725490196,
             "rgb(246,188,153)"
            ],
            [
             0.9411764705882353,
             "rgb(247,212,187)"
            ],
            [
             1,
             "rgb(250,234,220)"
            ]
           ],
           "sequentialminus": [
            [
             0,
             "rgb(2,4,25)"
            ],
            [
             0.06274509803921569,
             "rgb(24,15,41)"
            ],
            [
             0.12549019607843137,
             "rgb(47,23,57)"
            ],
            [
             0.18823529411764706,
             "rgb(71,28,72)"
            ],
            [
             0.25098039215686274,
             "rgb(97,30,82)"
            ],
            [
             0.3137254901960784,
             "rgb(123,30,89)"
            ],
            [
             0.3764705882352941,
             "rgb(150,27,91)"
            ],
            [
             0.4392156862745098,
             "rgb(177,22,88)"
            ],
            [
             0.5019607843137255,
             "rgb(203,26,79)"
            ],
            [
             0.5647058823529412,
             "rgb(223,47,67)"
            ],
            [
             0.6274509803921569,
             "rgb(236,76,61)"
            ],
            [
             0.6901960784313725,
             "rgb(242,107,73)"
            ],
            [
             0.7529411764705882,
             "rgb(244,135,95)"
            ],
            [
             0.8156862745098039,
             "rgb(245,162,122)"
            ],
            [
             0.8784313725490196,
             "rgb(246,188,153)"
            ],
            [
             0.9411764705882353,
             "rgb(247,212,187)"
            ],
            [
             1,
             "rgb(250,234,220)"
            ]
           ]
          },
          "colorway": [
           "rgb(76,114,176)",
           "rgb(221,132,82)",
           "rgb(85,168,104)",
           "rgb(196,78,82)",
           "rgb(129,114,179)",
           "rgb(147,120,96)",
           "rgb(218,139,195)",
           "rgb(140,140,140)",
           "rgb(204,185,116)",
           "rgb(100,181,205)"
          ],
          "font": {
           "color": "rgb(36,36,36)"
          },
          "geo": {
           "bgcolor": "white",
           "lakecolor": "white",
           "landcolor": "rgb(234,234,242)",
           "showlakes": true,
           "showland": true,
           "subunitcolor": "white"
          },
          "hoverlabel": {
           "align": "left"
          },
          "hovermode": "closest",
          "paper_bgcolor": "white",
          "plot_bgcolor": "rgb(234,234,242)",
          "polar": {
           "angularaxis": {
            "gridcolor": "white",
            "linecolor": "white",
            "showgrid": true,
            "ticks": ""
           },
           "bgcolor": "rgb(234,234,242)",
           "radialaxis": {
            "gridcolor": "white",
            "linecolor": "white",
            "showgrid": true,
            "ticks": ""
           }
          },
          "scene": {
           "xaxis": {
            "backgroundcolor": "rgb(234,234,242)",
            "gridcolor": "white",
            "gridwidth": 2,
            "linecolor": "white",
            "showbackground": true,
            "showgrid": true,
            "ticks": "",
            "zerolinecolor": "white"
           },
           "yaxis": {
            "backgroundcolor": "rgb(234,234,242)",
            "gridcolor": "white",
            "gridwidth": 2,
            "linecolor": "white",
            "showbackground": true,
            "showgrid": true,
            "ticks": "",
            "zerolinecolor": "white"
           },
           "zaxis": {
            "backgroundcolor": "rgb(234,234,242)",
            "gridcolor": "white",
            "gridwidth": 2,
            "linecolor": "white",
            "showbackground": true,
            "showgrid": true,
            "ticks": "",
            "zerolinecolor": "white"
           }
          },
          "shapedefaults": {
           "fillcolor": "rgb(67,103,167)",
           "line": {
            "width": 0
           },
           "opacity": 0.5
          },
          "ternary": {
           "aaxis": {
            "gridcolor": "white",
            "linecolor": "white",
            "showgrid": true,
            "ticks": ""
           },
           "baxis": {
            "gridcolor": "white",
            "linecolor": "white",
            "showgrid": true,
            "ticks": ""
           },
           "bgcolor": "rgb(234,234,242)",
           "caxis": {
            "gridcolor": "white",
            "linecolor": "white",
            "showgrid": true,
            "ticks": ""
           }
          },
          "xaxis": {
           "automargin": true,
           "gridcolor": "white",
           "linecolor": "white",
           "showgrid": true,
           "ticks": "",
           "title": {
            "standoff": 15
           },
           "zerolinecolor": "white"
          },
          "yaxis": {
           "automargin": true,
           "gridcolor": "white",
           "linecolor": "white",
           "showgrid": true,
           "ticks": "",
           "title": {
            "standoff": 15
           },
           "zerolinecolor": "white"
          }
         }
        },
        "xaxis": {
         "anchor": "y",
         "categoryorder": "category ascending",
         "domain": [
          0,
          1
         ],
         "title": {
          "text": "発生時（始期）"
         }
        },
        "yaxis": {
         "anchor": "x",
         "domain": [
          0,
          1
         ],
         "title": {
          "text": "count"
         }
        }
       }
      }
     },
     "metadata": {},
     "output_type": "display_data"
    }
   ],
   "source": [
    "fig = px.bar(kashiwa,\n",
    "            x='発生時（始期）',\n",
    "            color='被害者の職業',\n",
    "            template='seaborn')\n",
    "fig.update_traces(\n",
    "    marker_line_width=0\n",
    ")\n",
    "fig.update_xaxes(categoryorder='category ascending')\n",
    "fig.show()"
   ]
  },
  {
   "attachments": {},
   "cell_type": "markdown",
   "metadata": {
    "slideshow": {
     "slide_type": "slide"
    }
   },
   "source": [
    "↑上のチャートの凡例ののカテゴリーをダブルクリックするとどうなる？\n",
    "\n",
    "`barmode='group'`を足すと何がどのように変わる？"
   ]
  },
  {
   "cell_type": "code",
   "execution_count": 22,
   "metadata": {
    "slideshow": {
     "slide_type": "slide"
    }
   },
   "outputs": [
    {
     "data": {
      "application/vnd.plotly.v1+json": {
       "config": {
        "plotlyServerURL": "https://plot.ly"
       },
       "data": [
        {
         "alignmentgroup": "True",
         "hovertemplate": "被害者の職業=その他<br>発生時（始期）=%{x}<br>count=%{y}<extra></extra>",
         "legendgroup": "その他",
         "marker": {
          "color": "rgb(76,114,176)",
          "line": {
           "width": 0
          },
          "pattern": {
           "shape": ""
          }
         },
         "name": "その他",
         "offsetgroup": "その他",
         "orientation": "v",
         "showlegend": true,
         "textposition": "auto",
         "type": "bar",
         "x": [
          "00",
          "13",
          "22",
          "08",
          "16",
          "08",
          "17",
          "23",
          "04",
          "不明",
          "不明",
          "09",
          "17",
          "11",
          "19",
          "10",
          "21",
          "21",
          "20",
          "08",
          "16",
          "07",
          "20",
          "13",
          "13",
          "13",
          "06",
          "20",
          "23",
          "17",
          "16",
          "00",
          "不明",
          "22",
          "05",
          "12",
          "22",
          "15",
          "16",
          "12",
          "19",
          "15",
          "17",
          "21",
          "21",
          "12",
          "20",
          "14",
          "20",
          "12",
          "15",
          "00",
          "19",
          "20",
          "04",
          "14",
          "06",
          "18",
          "19",
          "06",
          "07",
          "19",
          "09",
          "11",
          "08",
          "12",
          "18",
          "17",
          "07",
          "19",
          "12",
          "13",
          "21",
          "21",
          "16",
          "18",
          "12",
          "17",
          "15",
          "20",
          "07",
          "12",
          "01",
          "06",
          "19",
          "18",
          "16",
          "19",
          "18",
          "06",
          "08",
          "19",
          "23",
          "23",
          "10",
          "18",
          "14",
          "18",
          "09",
          "23",
          "08",
          "12",
          "18",
          "11",
          "17",
          "12",
          "16",
          "14",
          "11",
          "08",
          "08",
          "18",
          "19",
          "20",
          "12",
          "15",
          "14",
          "11",
          "11",
          "22",
          "11",
          "19",
          "18",
          "16",
          "13",
          "10",
          "12",
          "17",
          "20",
          "15",
          "12",
          "20",
          "08",
          "18",
          "12",
          "09",
          "19",
          "14",
          "20",
          "15",
          "12",
          "18",
          "16",
          "10",
          "11",
          "10",
          "16",
          "23",
          "16",
          "14",
          "16",
          "09",
          "19",
          "22",
          "12",
          "08",
          "09",
          "09",
          "13",
          "05",
          "06",
          "21",
          "00",
          "06",
          "12",
          "10",
          "19",
          "20",
          "07",
          "20",
          "10",
          "10",
          "09",
          "09",
          "09",
          "12",
          "20",
          "19",
          "18",
          "00",
          "14",
          "18",
          "10",
          "07",
          "18",
          "18",
          "09",
          "08",
          "08",
          "20",
          "15",
          "20",
          "19",
          "17",
          "19",
          "15",
          "10",
          "10",
          "17",
          "18",
          "18",
          "05",
          "06",
          "18",
          "17",
          "18",
          "17",
          "00",
          "12",
          "18",
          "06",
          "15",
          "20",
          "12",
          "16",
          "17",
          "22",
          "11",
          "17",
          "18",
          "08",
          "20",
          "13",
          "12",
          "13",
          "19",
          "17",
          "15",
          "16",
          "22",
          "00",
          "17",
          "12",
          "20",
          "07",
          "不明",
          "16",
          "20",
          "13",
          "18",
          "21",
          "08",
          "19",
          "14",
          "18",
          "20",
          "20",
          "19",
          "11",
          "18",
          "08",
          "16",
          "08",
          "19",
          "18",
          "18",
          "08"
         ],
         "xaxis": "x",
         "y": [
          1,
          1,
          1,
          1,
          1,
          1,
          1,
          1,
          1,
          1,
          1,
          1,
          1,
          1,
          1,
          1,
          1,
          1,
          1,
          1,
          1,
          1,
          1,
          1,
          1,
          1,
          1,
          1,
          1,
          1,
          1,
          1,
          1,
          1,
          1,
          1,
          1,
          1,
          1,
          1,
          1,
          1,
          1,
          1,
          1,
          1,
          1,
          1,
          1,
          1,
          1,
          1,
          1,
          1,
          1,
          1,
          1,
          1,
          1,
          1,
          1,
          1,
          1,
          1,
          1,
          1,
          1,
          1,
          1,
          1,
          1,
          1,
          1,
          1,
          1,
          1,
          1,
          1,
          1,
          1,
          1,
          1,
          1,
          1,
          1,
          1,
          1,
          1,
          1,
          1,
          1,
          1,
          1,
          1,
          1,
          1,
          1,
          1,
          1,
          1,
          1,
          1,
          1,
          1,
          1,
          1,
          1,
          1,
          1,
          1,
          1,
          1,
          1,
          1,
          1,
          1,
          1,
          1,
          1,
          1,
          1,
          1,
          1,
          1,
          1,
          1,
          1,
          1,
          1,
          1,
          1,
          1,
          1,
          1,
          1,
          1,
          1,
          1,
          1,
          1,
          1,
          1,
          1,
          1,
          1,
          1,
          1,
          1,
          1,
          1,
          1,
          1,
          1,
          1,
          1,
          1,
          1,
          1,
          1,
          1,
          1,
          1,
          1,
          1,
          1,
          1,
          1,
          1,
          1,
          1,
          1,
          1,
          1,
          1,
          1,
          1,
          1,
          1,
          1,
          1,
          1,
          1,
          1,
          1,
          1,
          1,
          1,
          1,
          1,
          1,
          1,
          1,
          1,
          1,
          1,
          1,
          1,
          1,
          1,
          1,
          1,
          1,
          1,
          1,
          1,
          1,
          1,
          1,
          1,
          1,
          1,
          1,
          1,
          1,
          1,
          1,
          1,
          1,
          1,
          1,
          1,
          1,
          1,
          1,
          1,
          1,
          1,
          1,
          1,
          1,
          1,
          1,
          1,
          1,
          1,
          1,
          1,
          1,
          1,
          1,
          1,
          1,
          1,
          1,
          1,
          1,
          1,
          1,
          1,
          1,
          1,
          1,
          1,
          1,
          1,
          1,
          1
         ],
         "yaxis": "y"
        },
        {
         "alignmentgroup": "True",
         "hovertemplate": "被害者の職業=中学生<br>発生時（始期）=%{x}<br>count=%{y}<extra></extra>",
         "legendgroup": "中学生",
         "marker": {
          "color": "rgb(221,132,82)",
          "line": {
           "width": 0
          },
          "pattern": {
           "shape": ""
          }
         },
         "name": "中学生",
         "offsetgroup": "中学生",
         "orientation": "v",
         "showlegend": true,
         "textposition": "auto",
         "type": "bar",
         "x": [
          "22",
          "18",
          "21",
          "19",
          "15",
          "13",
          "21",
          "15",
          "18",
          "14",
          "19",
          "02",
          "08",
          "13",
          "19",
          "11",
          "16",
          "13",
          "18",
          "10",
          "18",
          "06",
          "09",
          "20",
          "08",
          "11",
          "18",
          "21",
          "10",
          "18",
          "18",
          "21",
          "19",
          "13",
          "07",
          "16",
          "10",
          "17",
          "13",
          "06",
          "21",
          "14",
          "18",
          "08",
          "15",
          "20",
          "23",
          "19",
          "18",
          "18",
          "12"
         ],
         "xaxis": "x",
         "y": [
          1,
          1,
          1,
          1,
          1,
          1,
          1,
          1,
          1,
          1,
          1,
          1,
          1,
          1,
          1,
          1,
          1,
          1,
          1,
          1,
          1,
          1,
          1,
          1,
          1,
          1,
          1,
          1,
          1,
          1,
          1,
          1,
          1,
          1,
          1,
          1,
          1,
          1,
          1,
          1,
          1,
          1,
          1,
          1,
          1,
          1,
          1,
          1,
          1,
          1,
          1
         ],
         "yaxis": "y"
        },
        {
         "alignmentgroup": "True",
         "hovertemplate": "被害者の職業=小学生<br>発生時（始期）=%{x}<br>count=%{y}<extra></extra>",
         "legendgroup": "小学生",
         "marker": {
          "color": "rgb(85,168,104)",
          "line": {
           "width": 0
          },
          "pattern": {
           "shape": ""
          }
         },
         "name": "小学生",
         "offsetgroup": "小学生",
         "orientation": "v",
         "showlegend": true,
         "textposition": "auto",
         "type": "bar",
         "x": [
          "15",
          "17",
          "08",
          "19",
          "08",
          "19",
          "11",
          "14",
          "15",
          "16",
          "17",
          "13",
          "15",
          "14",
          "17",
          "08",
          "15",
          "17",
          "15",
          "21",
          "19",
          "11",
          "19",
          "16"
         ],
         "xaxis": "x",
         "y": [
          1,
          1,
          1,
          1,
          1,
          1,
          1,
          1,
          1,
          1,
          1,
          1,
          1,
          1,
          1,
          1,
          1,
          1,
          1,
          1,
          1,
          1,
          1,
          1
         ],
         "yaxis": "y"
        },
        {
         "alignmentgroup": "True",
         "hovertemplate": "被害者の職業=高校生<br>発生時（始期）=%{x}<br>count=%{y}<extra></extra>",
         "legendgroup": "高校生",
         "marker": {
          "color": "rgb(196,78,82)",
          "line": {
           "width": 0
          },
          "pattern": {
           "shape": ""
          }
         },
         "name": "高校生",
         "offsetgroup": "高校生",
         "orientation": "v",
         "showlegend": true,
         "textposition": "auto",
         "type": "bar",
         "x": [
          "21",
          "07",
          "20",
          "07",
          "07",
          "23",
          "08",
          "08",
          "06",
          "07",
          "17",
          "17",
          "15",
          "18",
          "18",
          "08",
          "07",
          "09",
          "16",
          "14",
          "15",
          "08",
          "07",
          "17",
          "07",
          "21",
          "19",
          "14",
          "14",
          "13",
          "18",
          "16",
          "11",
          "18",
          "13",
          "21",
          "11",
          "17",
          "16",
          "20",
          "13",
          "08",
          "13",
          "16",
          "11",
          "14",
          "00",
          "13",
          "13",
          "11",
          "16",
          "17",
          "17",
          "20",
          "17",
          "08",
          "13",
          "20",
          "12",
          "16",
          "19",
          "08",
          "19",
          "07",
          "12",
          "16",
          "08",
          "20",
          "16",
          "20",
          "07",
          "08",
          "17",
          "19",
          "08",
          "18",
          "16",
          "19",
          "19",
          "16",
          "20",
          "16",
          "21",
          "12",
          "21",
          "07",
          "17",
          "09",
          "10"
         ],
         "xaxis": "x",
         "y": [
          1,
          1,
          1,
          1,
          1,
          1,
          1,
          1,
          1,
          1,
          1,
          1,
          1,
          1,
          1,
          1,
          1,
          1,
          1,
          1,
          1,
          1,
          1,
          1,
          1,
          1,
          1,
          1,
          1,
          1,
          1,
          1,
          1,
          1,
          1,
          1,
          1,
          1,
          1,
          1,
          1,
          1,
          1,
          1,
          1,
          1,
          1,
          1,
          1,
          1,
          1,
          1,
          1,
          1,
          1,
          1,
          1,
          1,
          1,
          1,
          1,
          1,
          1,
          1,
          1,
          1,
          1,
          1,
          1,
          1,
          1,
          1,
          1,
          1,
          1,
          1,
          1,
          1,
          1,
          1,
          1,
          1,
          1,
          1,
          1,
          1,
          1,
          1,
          1
         ],
         "yaxis": "y"
        },
        {
         "alignmentgroup": "True",
         "hovertemplate": "被害者の職業=大学生<br>発生時（始期）=%{x}<br>count=%{y}<extra></extra>",
         "legendgroup": "大学生",
         "marker": {
          "color": "rgb(129,114,179)",
          "line": {
           "width": 0
          },
          "pattern": {
           "shape": ""
          }
         },
         "name": "大学生",
         "offsetgroup": "大学生",
         "orientation": "v",
         "showlegend": true,
         "textposition": "auto",
         "type": "bar",
         "x": [
          "14",
          "17",
          "10",
          "18",
          "16",
          "07",
          "22",
          "14",
          "19",
          "16",
          "09",
          "19",
          "07",
          "15",
          "10",
          "08",
          "16",
          "22",
          "08",
          "13",
          "07",
          "10",
          "09",
          "12",
          "00",
          "12",
          "15",
          "不明",
          "09",
          "19",
          "17",
          "11",
          "16",
          "10",
          "08",
          "22",
          "15",
          "10",
          "16",
          "23",
          "07",
          "13",
          "09",
          "14",
          "18",
          "08"
         ],
         "xaxis": "x",
         "y": [
          1,
          1,
          1,
          1,
          1,
          1,
          1,
          1,
          1,
          1,
          1,
          1,
          1,
          1,
          1,
          1,
          1,
          1,
          1,
          1,
          1,
          1,
          1,
          1,
          1,
          1,
          1,
          1,
          1,
          1,
          1,
          1,
          1,
          1,
          1,
          1,
          1,
          1,
          1,
          1,
          1,
          1,
          1,
          1,
          1,
          1
         ],
         "yaxis": "y"
        },
        {
         "alignmentgroup": "True",
         "hovertemplate": "被害者の職業=法人・団体、被害者なし<br>発生時（始期）=%{x}<br>count=%{y}<extra></extra>",
         "legendgroup": "法人・団体、被害者なし",
         "marker": {
          "color": "rgb(147,120,96)",
          "line": {
           "width": 0
          },
          "pattern": {
           "shape": ""
          }
         },
         "name": "法人・団体、被害者なし",
         "offsetgroup": "法人・団体、被害者なし",
         "orientation": "v",
         "showlegend": true,
         "textposition": "auto",
         "type": "bar",
         "x": [
          "20",
          "不明",
          "07",
          "20"
         ],
         "xaxis": "x",
         "y": [
          1,
          1,
          1,
          1
         ],
         "yaxis": "y"
        }
       ],
       "layout": {
        "barmode": "group",
        "legend": {
         "title": {
          "text": "被害者の職業"
         },
         "tracegroupgap": 0
        },
        "margin": {
         "t": 60
        },
        "template": {
         "data": {
          "bar": [
           {
            "error_x": {
             "color": "rgb(36,36,36)"
            },
            "error_y": {
             "color": "rgb(36,36,36)"
            },
            "marker": {
             "line": {
              "color": "rgb(234,234,242)",
              "width": 0.5
             },
             "pattern": {
              "fillmode": "overlay",
              "size": 10,
              "solidity": 0.2
             }
            },
            "type": "bar"
           }
          ],
          "barpolar": [
           {
            "marker": {
             "line": {
              "color": "rgb(234,234,242)",
              "width": 0.5
             },
             "pattern": {
              "fillmode": "overlay",
              "size": 10,
              "solidity": 0.2
             }
            },
            "type": "barpolar"
           }
          ],
          "carpet": [
           {
            "aaxis": {
             "endlinecolor": "rgb(36,36,36)",
             "gridcolor": "white",
             "linecolor": "white",
             "minorgridcolor": "white",
             "startlinecolor": "rgb(36,36,36)"
            },
            "baxis": {
             "endlinecolor": "rgb(36,36,36)",
             "gridcolor": "white",
             "linecolor": "white",
             "minorgridcolor": "white",
             "startlinecolor": "rgb(36,36,36)"
            },
            "type": "carpet"
           }
          ],
          "choropleth": [
           {
            "colorbar": {
             "outlinewidth": 0,
             "tickcolor": "rgb(36,36,36)",
             "ticklen": 8,
             "ticks": "outside",
             "tickwidth": 2
            },
            "type": "choropleth"
           }
          ],
          "contour": [
           {
            "colorbar": {
             "outlinewidth": 0,
             "tickcolor": "rgb(36,36,36)",
             "ticklen": 8,
             "ticks": "outside",
             "tickwidth": 2
            },
            "colorscale": [
             [
              0,
              "rgb(2,4,25)"
             ],
             [
              0.06274509803921569,
              "rgb(24,15,41)"
             ],
             [
              0.12549019607843137,
              "rgb(47,23,57)"
             ],
             [
              0.18823529411764706,
              "rgb(71,28,72)"
             ],
             [
              0.25098039215686274,
              "rgb(97,30,82)"
             ],
             [
              0.3137254901960784,
              "rgb(123,30,89)"
             ],
             [
              0.3764705882352941,
              "rgb(150,27,91)"
             ],
             [
              0.4392156862745098,
              "rgb(177,22,88)"
             ],
             [
              0.5019607843137255,
              "rgb(203,26,79)"
             ],
             [
              0.5647058823529412,
              "rgb(223,47,67)"
             ],
             [
              0.6274509803921569,
              "rgb(236,76,61)"
             ],
             [
              0.6901960784313725,
              "rgb(242,107,73)"
             ],
             [
              0.7529411764705882,
              "rgb(244,135,95)"
             ],
             [
              0.8156862745098039,
              "rgb(245,162,122)"
             ],
             [
              0.8784313725490196,
              "rgb(246,188,153)"
             ],
             [
              0.9411764705882353,
              "rgb(247,212,187)"
             ],
             [
              1,
              "rgb(250,234,220)"
             ]
            ],
            "type": "contour"
           }
          ],
          "contourcarpet": [
           {
            "colorbar": {
             "outlinewidth": 0,
             "tickcolor": "rgb(36,36,36)",
             "ticklen": 8,
             "ticks": "outside",
             "tickwidth": 2
            },
            "type": "contourcarpet"
           }
          ],
          "heatmap": [
           {
            "colorbar": {
             "outlinewidth": 0,
             "tickcolor": "rgb(36,36,36)",
             "ticklen": 8,
             "ticks": "outside",
             "tickwidth": 2
            },
            "colorscale": [
             [
              0,
              "rgb(2,4,25)"
             ],
             [
              0.06274509803921569,
              "rgb(24,15,41)"
             ],
             [
              0.12549019607843137,
              "rgb(47,23,57)"
             ],
             [
              0.18823529411764706,
              "rgb(71,28,72)"
             ],
             [
              0.25098039215686274,
              "rgb(97,30,82)"
             ],
             [
              0.3137254901960784,
              "rgb(123,30,89)"
             ],
             [
              0.3764705882352941,
              "rgb(150,27,91)"
             ],
             [
              0.4392156862745098,
              "rgb(177,22,88)"
             ],
             [
              0.5019607843137255,
              "rgb(203,26,79)"
             ],
             [
              0.5647058823529412,
              "rgb(223,47,67)"
             ],
             [
              0.6274509803921569,
              "rgb(236,76,61)"
             ],
             [
              0.6901960784313725,
              "rgb(242,107,73)"
             ],
             [
              0.7529411764705882,
              "rgb(244,135,95)"
             ],
             [
              0.8156862745098039,
              "rgb(245,162,122)"
             ],
             [
              0.8784313725490196,
              "rgb(246,188,153)"
             ],
             [
              0.9411764705882353,
              "rgb(247,212,187)"
             ],
             [
              1,
              "rgb(250,234,220)"
             ]
            ],
            "type": "heatmap"
           }
          ],
          "heatmapgl": [
           {
            "colorbar": {
             "outlinewidth": 0,
             "tickcolor": "rgb(36,36,36)",
             "ticklen": 8,
             "ticks": "outside",
             "tickwidth": 2
            },
            "colorscale": [
             [
              0,
              "rgb(2,4,25)"
             ],
             [
              0.06274509803921569,
              "rgb(24,15,41)"
             ],
             [
              0.12549019607843137,
              "rgb(47,23,57)"
             ],
             [
              0.18823529411764706,
              "rgb(71,28,72)"
             ],
             [
              0.25098039215686274,
              "rgb(97,30,82)"
             ],
             [
              0.3137254901960784,
              "rgb(123,30,89)"
             ],
             [
              0.3764705882352941,
              "rgb(150,27,91)"
             ],
             [
              0.4392156862745098,
              "rgb(177,22,88)"
             ],
             [
              0.5019607843137255,
              "rgb(203,26,79)"
             ],
             [
              0.5647058823529412,
              "rgb(223,47,67)"
             ],
             [
              0.6274509803921569,
              "rgb(236,76,61)"
             ],
             [
              0.6901960784313725,
              "rgb(242,107,73)"
             ],
             [
              0.7529411764705882,
              "rgb(244,135,95)"
             ],
             [
              0.8156862745098039,
              "rgb(245,162,122)"
             ],
             [
              0.8784313725490196,
              "rgb(246,188,153)"
             ],
             [
              0.9411764705882353,
              "rgb(247,212,187)"
             ],
             [
              1,
              "rgb(250,234,220)"
             ]
            ],
            "type": "heatmapgl"
           }
          ],
          "histogram": [
           {
            "marker": {
             "pattern": {
              "fillmode": "overlay",
              "size": 10,
              "solidity": 0.2
             }
            },
            "type": "histogram"
           }
          ],
          "histogram2d": [
           {
            "colorbar": {
             "outlinewidth": 0,
             "tickcolor": "rgb(36,36,36)",
             "ticklen": 8,
             "ticks": "outside",
             "tickwidth": 2
            },
            "colorscale": [
             [
              0,
              "rgb(2,4,25)"
             ],
             [
              0.06274509803921569,
              "rgb(24,15,41)"
             ],
             [
              0.12549019607843137,
              "rgb(47,23,57)"
             ],
             [
              0.18823529411764706,
              "rgb(71,28,72)"
             ],
             [
              0.25098039215686274,
              "rgb(97,30,82)"
             ],
             [
              0.3137254901960784,
              "rgb(123,30,89)"
             ],
             [
              0.3764705882352941,
              "rgb(150,27,91)"
             ],
             [
              0.4392156862745098,
              "rgb(177,22,88)"
             ],
             [
              0.5019607843137255,
              "rgb(203,26,79)"
             ],
             [
              0.5647058823529412,
              "rgb(223,47,67)"
             ],
             [
              0.6274509803921569,
              "rgb(236,76,61)"
             ],
             [
              0.6901960784313725,
              "rgb(242,107,73)"
             ],
             [
              0.7529411764705882,
              "rgb(244,135,95)"
             ],
             [
              0.8156862745098039,
              "rgb(245,162,122)"
             ],
             [
              0.8784313725490196,
              "rgb(246,188,153)"
             ],
             [
              0.9411764705882353,
              "rgb(247,212,187)"
             ],
             [
              1,
              "rgb(250,234,220)"
             ]
            ],
            "type": "histogram2d"
           }
          ],
          "histogram2dcontour": [
           {
            "colorbar": {
             "outlinewidth": 0,
             "tickcolor": "rgb(36,36,36)",
             "ticklen": 8,
             "ticks": "outside",
             "tickwidth": 2
            },
            "colorscale": [
             [
              0,
              "rgb(2,4,25)"
             ],
             [
              0.06274509803921569,
              "rgb(24,15,41)"
             ],
             [
              0.12549019607843137,
              "rgb(47,23,57)"
             ],
             [
              0.18823529411764706,
              "rgb(71,28,72)"
             ],
             [
              0.25098039215686274,
              "rgb(97,30,82)"
             ],
             [
              0.3137254901960784,
              "rgb(123,30,89)"
             ],
             [
              0.3764705882352941,
              "rgb(150,27,91)"
             ],
             [
              0.4392156862745098,
              "rgb(177,22,88)"
             ],
             [
              0.5019607843137255,
              "rgb(203,26,79)"
             ],
             [
              0.5647058823529412,
              "rgb(223,47,67)"
             ],
             [
              0.6274509803921569,
              "rgb(236,76,61)"
             ],
             [
              0.6901960784313725,
              "rgb(242,107,73)"
             ],
             [
              0.7529411764705882,
              "rgb(244,135,95)"
             ],
             [
              0.8156862745098039,
              "rgb(245,162,122)"
             ],
             [
              0.8784313725490196,
              "rgb(246,188,153)"
             ],
             [
              0.9411764705882353,
              "rgb(247,212,187)"
             ],
             [
              1,
              "rgb(250,234,220)"
             ]
            ],
            "type": "histogram2dcontour"
           }
          ],
          "mesh3d": [
           {
            "colorbar": {
             "outlinewidth": 0,
             "tickcolor": "rgb(36,36,36)",
             "ticklen": 8,
             "ticks": "outside",
             "tickwidth": 2
            },
            "type": "mesh3d"
           }
          ],
          "parcoords": [
           {
            "line": {
             "colorbar": {
              "outlinewidth": 0,
              "tickcolor": "rgb(36,36,36)",
              "ticklen": 8,
              "ticks": "outside",
              "tickwidth": 2
             }
            },
            "type": "parcoords"
           }
          ],
          "pie": [
           {
            "automargin": true,
            "type": "pie"
           }
          ],
          "scatter": [
           {
            "fillpattern": {
             "fillmode": "overlay",
             "size": 10,
             "solidity": 0.2
            },
            "type": "scatter"
           }
          ],
          "scatter3d": [
           {
            "line": {
             "colorbar": {
              "outlinewidth": 0,
              "tickcolor": "rgb(36,36,36)",
              "ticklen": 8,
              "ticks": "outside",
              "tickwidth": 2
             }
            },
            "marker": {
             "colorbar": {
              "outlinewidth": 0,
              "tickcolor": "rgb(36,36,36)",
              "ticklen": 8,
              "ticks": "outside",
              "tickwidth": 2
             }
            },
            "type": "scatter3d"
           }
          ],
          "scattercarpet": [
           {
            "marker": {
             "colorbar": {
              "outlinewidth": 0,
              "tickcolor": "rgb(36,36,36)",
              "ticklen": 8,
              "ticks": "outside",
              "tickwidth": 2
             }
            },
            "type": "scattercarpet"
           }
          ],
          "scattergeo": [
           {
            "marker": {
             "colorbar": {
              "outlinewidth": 0,
              "tickcolor": "rgb(36,36,36)",
              "ticklen": 8,
              "ticks": "outside",
              "tickwidth": 2
             }
            },
            "type": "scattergeo"
           }
          ],
          "scattergl": [
           {
            "marker": {
             "colorbar": {
              "outlinewidth": 0,
              "tickcolor": "rgb(36,36,36)",
              "ticklen": 8,
              "ticks": "outside",
              "tickwidth": 2
             }
            },
            "type": "scattergl"
           }
          ],
          "scattermapbox": [
           {
            "marker": {
             "colorbar": {
              "outlinewidth": 0,
              "tickcolor": "rgb(36,36,36)",
              "ticklen": 8,
              "ticks": "outside",
              "tickwidth": 2
             }
            },
            "type": "scattermapbox"
           }
          ],
          "scatterpolar": [
           {
            "marker": {
             "colorbar": {
              "outlinewidth": 0,
              "tickcolor": "rgb(36,36,36)",
              "ticklen": 8,
              "ticks": "outside",
              "tickwidth": 2
             }
            },
            "type": "scatterpolar"
           }
          ],
          "scatterpolargl": [
           {
            "marker": {
             "colorbar": {
              "outlinewidth": 0,
              "tickcolor": "rgb(36,36,36)",
              "ticklen": 8,
              "ticks": "outside",
              "tickwidth": 2
             }
            },
            "type": "scatterpolargl"
           }
          ],
          "scatterternary": [
           {
            "marker": {
             "colorbar": {
              "outlinewidth": 0,
              "tickcolor": "rgb(36,36,36)",
              "ticklen": 8,
              "ticks": "outside",
              "tickwidth": 2
             }
            },
            "type": "scatterternary"
           }
          ],
          "surface": [
           {
            "colorbar": {
             "outlinewidth": 0,
             "tickcolor": "rgb(36,36,36)",
             "ticklen": 8,
             "ticks": "outside",
             "tickwidth": 2
            },
            "colorscale": [
             [
              0,
              "rgb(2,4,25)"
             ],
             [
              0.06274509803921569,
              "rgb(24,15,41)"
             ],
             [
              0.12549019607843137,
              "rgb(47,23,57)"
             ],
             [
              0.18823529411764706,
              "rgb(71,28,72)"
             ],
             [
              0.25098039215686274,
              "rgb(97,30,82)"
             ],
             [
              0.3137254901960784,
              "rgb(123,30,89)"
             ],
             [
              0.3764705882352941,
              "rgb(150,27,91)"
             ],
             [
              0.4392156862745098,
              "rgb(177,22,88)"
             ],
             [
              0.5019607843137255,
              "rgb(203,26,79)"
             ],
             [
              0.5647058823529412,
              "rgb(223,47,67)"
             ],
             [
              0.6274509803921569,
              "rgb(236,76,61)"
             ],
             [
              0.6901960784313725,
              "rgb(242,107,73)"
             ],
             [
              0.7529411764705882,
              "rgb(244,135,95)"
             ],
             [
              0.8156862745098039,
              "rgb(245,162,122)"
             ],
             [
              0.8784313725490196,
              "rgb(246,188,153)"
             ],
             [
              0.9411764705882353,
              "rgb(247,212,187)"
             ],
             [
              1,
              "rgb(250,234,220)"
             ]
            ],
            "type": "surface"
           }
          ],
          "table": [
           {
            "cells": {
             "fill": {
              "color": "rgb(231,231,240)"
             },
             "line": {
              "color": "white"
             }
            },
            "header": {
             "fill": {
              "color": "rgb(183,183,191)"
             },
             "line": {
              "color": "white"
             }
            },
            "type": "table"
           }
          ]
         },
         "layout": {
          "annotationdefaults": {
           "arrowcolor": "rgb(67,103,167)"
          },
          "autotypenumbers": "strict",
          "coloraxis": {
           "colorbar": {
            "outlinewidth": 0,
            "tickcolor": "rgb(36,36,36)",
            "ticklen": 8,
            "ticks": "outside",
            "tickwidth": 2
           }
          },
          "colorscale": {
           "sequential": [
            [
             0,
             "rgb(2,4,25)"
            ],
            [
             0.06274509803921569,
             "rgb(24,15,41)"
            ],
            [
             0.12549019607843137,
             "rgb(47,23,57)"
            ],
            [
             0.18823529411764706,
             "rgb(71,28,72)"
            ],
            [
             0.25098039215686274,
             "rgb(97,30,82)"
            ],
            [
             0.3137254901960784,
             "rgb(123,30,89)"
            ],
            [
             0.3764705882352941,
             "rgb(150,27,91)"
            ],
            [
             0.4392156862745098,
             "rgb(177,22,88)"
            ],
            [
             0.5019607843137255,
             "rgb(203,26,79)"
            ],
            [
             0.5647058823529412,
             "rgb(223,47,67)"
            ],
            [
             0.6274509803921569,
             "rgb(236,76,61)"
            ],
            [
             0.6901960784313725,
             "rgb(242,107,73)"
            ],
            [
             0.7529411764705882,
             "rgb(244,135,95)"
            ],
            [
             0.8156862745098039,
             "rgb(245,162,122)"
            ],
            [
             0.8784313725490196,
             "rgb(246,188,153)"
            ],
            [
             0.9411764705882353,
             "rgb(247,212,187)"
            ],
            [
             1,
             "rgb(250,234,220)"
            ]
           ],
           "sequentialminus": [
            [
             0,
             "rgb(2,4,25)"
            ],
            [
             0.06274509803921569,
             "rgb(24,15,41)"
            ],
            [
             0.12549019607843137,
             "rgb(47,23,57)"
            ],
            [
             0.18823529411764706,
             "rgb(71,28,72)"
            ],
            [
             0.25098039215686274,
             "rgb(97,30,82)"
            ],
            [
             0.3137254901960784,
             "rgb(123,30,89)"
            ],
            [
             0.3764705882352941,
             "rgb(150,27,91)"
            ],
            [
             0.4392156862745098,
             "rgb(177,22,88)"
            ],
            [
             0.5019607843137255,
             "rgb(203,26,79)"
            ],
            [
             0.5647058823529412,
             "rgb(223,47,67)"
            ],
            [
             0.6274509803921569,
             "rgb(236,76,61)"
            ],
            [
             0.6901960784313725,
             "rgb(242,107,73)"
            ],
            [
             0.7529411764705882,
             "rgb(244,135,95)"
            ],
            [
             0.8156862745098039,
             "rgb(245,162,122)"
            ],
            [
             0.8784313725490196,
             "rgb(246,188,153)"
            ],
            [
             0.9411764705882353,
             "rgb(247,212,187)"
            ],
            [
             1,
             "rgb(250,234,220)"
            ]
           ]
          },
          "colorway": [
           "rgb(76,114,176)",
           "rgb(221,132,82)",
           "rgb(85,168,104)",
           "rgb(196,78,82)",
           "rgb(129,114,179)",
           "rgb(147,120,96)",
           "rgb(218,139,195)",
           "rgb(140,140,140)",
           "rgb(204,185,116)",
           "rgb(100,181,205)"
          ],
          "font": {
           "color": "rgb(36,36,36)"
          },
          "geo": {
           "bgcolor": "white",
           "lakecolor": "white",
           "landcolor": "rgb(234,234,242)",
           "showlakes": true,
           "showland": true,
           "subunitcolor": "white"
          },
          "hoverlabel": {
           "align": "left"
          },
          "hovermode": "closest",
          "paper_bgcolor": "white",
          "plot_bgcolor": "rgb(234,234,242)",
          "polar": {
           "angularaxis": {
            "gridcolor": "white",
            "linecolor": "white",
            "showgrid": true,
            "ticks": ""
           },
           "bgcolor": "rgb(234,234,242)",
           "radialaxis": {
            "gridcolor": "white",
            "linecolor": "white",
            "showgrid": true,
            "ticks": ""
           }
          },
          "scene": {
           "xaxis": {
            "backgroundcolor": "rgb(234,234,242)",
            "gridcolor": "white",
            "gridwidth": 2,
            "linecolor": "white",
            "showbackground": true,
            "showgrid": true,
            "ticks": "",
            "zerolinecolor": "white"
           },
           "yaxis": {
            "backgroundcolor": "rgb(234,234,242)",
            "gridcolor": "white",
            "gridwidth": 2,
            "linecolor": "white",
            "showbackground": true,
            "showgrid": true,
            "ticks": "",
            "zerolinecolor": "white"
           },
           "zaxis": {
            "backgroundcolor": "rgb(234,234,242)",
            "gridcolor": "white",
            "gridwidth": 2,
            "linecolor": "white",
            "showbackground": true,
            "showgrid": true,
            "ticks": "",
            "zerolinecolor": "white"
           }
          },
          "shapedefaults": {
           "fillcolor": "rgb(67,103,167)",
           "line": {
            "width": 0
           },
           "opacity": 0.5
          },
          "ternary": {
           "aaxis": {
            "gridcolor": "white",
            "linecolor": "white",
            "showgrid": true,
            "ticks": ""
           },
           "baxis": {
            "gridcolor": "white",
            "linecolor": "white",
            "showgrid": true,
            "ticks": ""
           },
           "bgcolor": "rgb(234,234,242)",
           "caxis": {
            "gridcolor": "white",
            "linecolor": "white",
            "showgrid": true,
            "ticks": ""
           }
          },
          "xaxis": {
           "automargin": true,
           "gridcolor": "white",
           "linecolor": "white",
           "showgrid": true,
           "ticks": "",
           "title": {
            "standoff": 15
           },
           "zerolinecolor": "white"
          },
          "yaxis": {
           "automargin": true,
           "gridcolor": "white",
           "linecolor": "white",
           "showgrid": true,
           "ticks": "",
           "title": {
            "standoff": 15
           },
           "zerolinecolor": "white"
          }
         }
        },
        "xaxis": {
         "anchor": "y",
         "categoryorder": "category ascending",
         "domain": [
          0,
          1
         ],
         "title": {
          "text": "発生時（始期）"
         }
        },
        "yaxis": {
         "anchor": "x",
         "domain": [
          0,
          1
         ],
         "title": {
          "text": "count"
         }
        }
       }
      }
     },
     "metadata": {},
     "output_type": "display_data"
    }
   ],
   "source": [
    "fig = px.bar(kashiwa,\n",
    "            x='発生時（始期）',\n",
    "            color='被害者の職業',\n",
    "            barmode='group', # group the categories,\n",
    "            template='seaborn'\n",
    "            )\n",
    "fig.update_traces(\n",
    "    marker_line_width=0\n",
    ")\n",
    "fig.update_xaxes(categoryorder='category ascending')\n",
    "fig.show()"
   ]
  },
  {
   "attachments": {},
   "cell_type": "markdown",
   "metadata": {
    "slideshow": {
     "slide_type": "slide"
    }
   },
   "source": [
    "`facet_col=`を足すと複数のチャートを一気に表示できる。"
   ]
  },
  {
   "cell_type": "code",
   "execution_count": 23,
   "metadata": {},
   "outputs": [
    {
     "data": {
      "application/vnd.plotly.v1+json": {
       "config": {
        "plotlyServerURL": "https://plot.ly"
       },
       "data": [
        {
         "alignmentgroup": "True",
         "hovertemplate": "被害者の職業=その他<br>発生時（始期）=%{x}<br>count=%{y}<extra></extra>",
         "legendgroup": "",
         "marker": {
          "color": "rgb(76,114,176)",
          "line": {
           "width": 0
          },
          "pattern": {
           "shape": ""
          }
         },
         "name": "",
         "offsetgroup": "",
         "orientation": "v",
         "showlegend": false,
         "textposition": "auto",
         "type": "bar",
         "x": [
          "00",
          "13",
          "22",
          "08",
          "16",
          "08",
          "17",
          "23",
          "04",
          "不明",
          "不明",
          "09",
          "17",
          "11",
          "19",
          "10",
          "21",
          "21",
          "20",
          "08",
          "16",
          "07",
          "20",
          "13",
          "13",
          "13",
          "06",
          "20",
          "23",
          "17",
          "16",
          "00",
          "不明",
          "22",
          "05",
          "12",
          "22",
          "15",
          "16",
          "12",
          "19",
          "15",
          "17",
          "21",
          "21",
          "12",
          "20",
          "14",
          "20",
          "12",
          "15",
          "00",
          "19",
          "20",
          "04",
          "14",
          "06",
          "18",
          "19",
          "06",
          "07",
          "19",
          "09",
          "11",
          "08",
          "12",
          "18",
          "17",
          "07",
          "19",
          "12",
          "13",
          "21",
          "21",
          "16",
          "18",
          "12",
          "17",
          "15",
          "20",
          "07",
          "12",
          "01",
          "06",
          "19",
          "18",
          "16",
          "19",
          "18",
          "06",
          "08",
          "19",
          "23",
          "23",
          "10",
          "18",
          "14",
          "18",
          "09",
          "23",
          "08",
          "12",
          "18",
          "11",
          "17",
          "12",
          "16",
          "14",
          "11",
          "08",
          "08",
          "18",
          "19",
          "20",
          "12",
          "15",
          "14",
          "11",
          "11",
          "22",
          "11",
          "19",
          "18",
          "16",
          "13",
          "10",
          "12",
          "17",
          "20",
          "15",
          "12",
          "20",
          "08",
          "18",
          "12",
          "09",
          "19",
          "14",
          "20",
          "15",
          "12",
          "18",
          "16",
          "10",
          "11",
          "10",
          "16",
          "23",
          "16",
          "14",
          "16",
          "09",
          "19",
          "22",
          "12",
          "08",
          "09",
          "09",
          "13",
          "05",
          "06",
          "21",
          "00",
          "06",
          "12",
          "10",
          "19",
          "20",
          "07",
          "20",
          "10",
          "10",
          "09",
          "09",
          "09",
          "12",
          "20",
          "19",
          "18",
          "00",
          "14",
          "18",
          "10",
          "07",
          "18",
          "18",
          "09",
          "08",
          "08",
          "20",
          "15",
          "20",
          "19",
          "17",
          "19",
          "15",
          "10",
          "10",
          "17",
          "18",
          "18",
          "05",
          "06",
          "18",
          "17",
          "18",
          "17",
          "00",
          "12",
          "18",
          "06",
          "15",
          "20",
          "12",
          "16",
          "17",
          "22",
          "11",
          "17",
          "18",
          "08",
          "20",
          "13",
          "12",
          "13",
          "19",
          "17",
          "15",
          "16",
          "22",
          "00",
          "17",
          "12",
          "20",
          "07",
          "不明",
          "16",
          "20",
          "13",
          "18",
          "21",
          "08",
          "19",
          "14",
          "18",
          "20",
          "20",
          "19",
          "11",
          "18",
          "08",
          "16",
          "08",
          "19",
          "18",
          "18",
          "08"
         ],
         "xaxis": "x",
         "y": [
          1,
          1,
          1,
          1,
          1,
          1,
          1,
          1,
          1,
          1,
          1,
          1,
          1,
          1,
          1,
          1,
          1,
          1,
          1,
          1,
          1,
          1,
          1,
          1,
          1,
          1,
          1,
          1,
          1,
          1,
          1,
          1,
          1,
          1,
          1,
          1,
          1,
          1,
          1,
          1,
          1,
          1,
          1,
          1,
          1,
          1,
          1,
          1,
          1,
          1,
          1,
          1,
          1,
          1,
          1,
          1,
          1,
          1,
          1,
          1,
          1,
          1,
          1,
          1,
          1,
          1,
          1,
          1,
          1,
          1,
          1,
          1,
          1,
          1,
          1,
          1,
          1,
          1,
          1,
          1,
          1,
          1,
          1,
          1,
          1,
          1,
          1,
          1,
          1,
          1,
          1,
          1,
          1,
          1,
          1,
          1,
          1,
          1,
          1,
          1,
          1,
          1,
          1,
          1,
          1,
          1,
          1,
          1,
          1,
          1,
          1,
          1,
          1,
          1,
          1,
          1,
          1,
          1,
          1,
          1,
          1,
          1,
          1,
          1,
          1,
          1,
          1,
          1,
          1,
          1,
          1,
          1,
          1,
          1,
          1,
          1,
          1,
          1,
          1,
          1,
          1,
          1,
          1,
          1,
          1,
          1,
          1,
          1,
          1,
          1,
          1,
          1,
          1,
          1,
          1,
          1,
          1,
          1,
          1,
          1,
          1,
          1,
          1,
          1,
          1,
          1,
          1,
          1,
          1,
          1,
          1,
          1,
          1,
          1,
          1,
          1,
          1,
          1,
          1,
          1,
          1,
          1,
          1,
          1,
          1,
          1,
          1,
          1,
          1,
          1,
          1,
          1,
          1,
          1,
          1,
          1,
          1,
          1,
          1,
          1,
          1,
          1,
          1,
          1,
          1,
          1,
          1,
          1,
          1,
          1,
          1,
          1,
          1,
          1,
          1,
          1,
          1,
          1,
          1,
          1,
          1,
          1,
          1,
          1,
          1,
          1,
          1,
          1,
          1,
          1,
          1,
          1,
          1,
          1,
          1,
          1,
          1,
          1,
          1,
          1,
          1,
          1,
          1,
          1,
          1,
          1,
          1,
          1,
          1,
          1,
          1,
          1,
          1,
          1,
          1,
          1,
          1
         ],
         "yaxis": "y"
        },
        {
         "alignmentgroup": "True",
         "hovertemplate": "被害者の職業=中学生<br>発生時（始期）=%{x}<br>count=%{y}<extra></extra>",
         "legendgroup": "",
         "marker": {
          "color": "rgb(76,114,176)",
          "line": {
           "width": 0
          },
          "pattern": {
           "shape": ""
          }
         },
         "name": "",
         "offsetgroup": "",
         "orientation": "v",
         "showlegend": false,
         "textposition": "auto",
         "type": "bar",
         "x": [
          "22",
          "18",
          "21",
          "19",
          "15",
          "13",
          "21",
          "15",
          "18",
          "14",
          "19",
          "02",
          "08",
          "13",
          "19",
          "11",
          "16",
          "13",
          "18",
          "10",
          "18",
          "06",
          "09",
          "20",
          "08",
          "11",
          "18",
          "21",
          "10",
          "18",
          "18",
          "21",
          "19",
          "13",
          "07",
          "16",
          "10",
          "17",
          "13",
          "06",
          "21",
          "14",
          "18",
          "08",
          "15",
          "20",
          "23",
          "19",
          "18",
          "18",
          "12"
         ],
         "xaxis": "x2",
         "y": [
          1,
          1,
          1,
          1,
          1,
          1,
          1,
          1,
          1,
          1,
          1,
          1,
          1,
          1,
          1,
          1,
          1,
          1,
          1,
          1,
          1,
          1,
          1,
          1,
          1,
          1,
          1,
          1,
          1,
          1,
          1,
          1,
          1,
          1,
          1,
          1,
          1,
          1,
          1,
          1,
          1,
          1,
          1,
          1,
          1,
          1,
          1,
          1,
          1,
          1,
          1
         ],
         "yaxis": "y2"
        },
        {
         "alignmentgroup": "True",
         "hovertemplate": "被害者の職業=小学生<br>発生時（始期）=%{x}<br>count=%{y}<extra></extra>",
         "legendgroup": "",
         "marker": {
          "color": "rgb(76,114,176)",
          "line": {
           "width": 0
          },
          "pattern": {
           "shape": ""
          }
         },
         "name": "",
         "offsetgroup": "",
         "orientation": "v",
         "showlegend": false,
         "textposition": "auto",
         "type": "bar",
         "x": [
          "15",
          "17",
          "08",
          "19",
          "08",
          "19",
          "11",
          "14",
          "15",
          "16",
          "17",
          "13",
          "15",
          "14",
          "17",
          "08",
          "15",
          "17",
          "15",
          "21",
          "19",
          "11",
          "19",
          "16"
         ],
         "xaxis": "x3",
         "y": [
          1,
          1,
          1,
          1,
          1,
          1,
          1,
          1,
          1,
          1,
          1,
          1,
          1,
          1,
          1,
          1,
          1,
          1,
          1,
          1,
          1,
          1,
          1,
          1
         ],
         "yaxis": "y3"
        },
        {
         "alignmentgroup": "True",
         "hovertemplate": "被害者の職業=高校生<br>発生時（始期）=%{x}<br>count=%{y}<extra></extra>",
         "legendgroup": "",
         "marker": {
          "color": "rgb(76,114,176)",
          "line": {
           "width": 0
          },
          "pattern": {
           "shape": ""
          }
         },
         "name": "",
         "offsetgroup": "",
         "orientation": "v",
         "showlegend": false,
         "textposition": "auto",
         "type": "bar",
         "x": [
          "21",
          "07",
          "20",
          "07",
          "07",
          "23",
          "08",
          "08",
          "06",
          "07",
          "17",
          "17",
          "15",
          "18",
          "18",
          "08",
          "07",
          "09",
          "16",
          "14",
          "15",
          "08",
          "07",
          "17",
          "07",
          "21",
          "19",
          "14",
          "14",
          "13",
          "18",
          "16",
          "11",
          "18",
          "13",
          "21",
          "11",
          "17",
          "16",
          "20",
          "13",
          "08",
          "13",
          "16",
          "11",
          "14",
          "00",
          "13",
          "13",
          "11",
          "16",
          "17",
          "17",
          "20",
          "17",
          "08",
          "13",
          "20",
          "12",
          "16",
          "19",
          "08",
          "19",
          "07",
          "12",
          "16",
          "08",
          "20",
          "16",
          "20",
          "07",
          "08",
          "17",
          "19",
          "08",
          "18",
          "16",
          "19",
          "19",
          "16",
          "20",
          "16",
          "21",
          "12",
          "21",
          "07",
          "17",
          "09",
          "10"
         ],
         "xaxis": "x4",
         "y": [
          1,
          1,
          1,
          1,
          1,
          1,
          1,
          1,
          1,
          1,
          1,
          1,
          1,
          1,
          1,
          1,
          1,
          1,
          1,
          1,
          1,
          1,
          1,
          1,
          1,
          1,
          1,
          1,
          1,
          1,
          1,
          1,
          1,
          1,
          1,
          1,
          1,
          1,
          1,
          1,
          1,
          1,
          1,
          1,
          1,
          1,
          1,
          1,
          1,
          1,
          1,
          1,
          1,
          1,
          1,
          1,
          1,
          1,
          1,
          1,
          1,
          1,
          1,
          1,
          1,
          1,
          1,
          1,
          1,
          1,
          1,
          1,
          1,
          1,
          1,
          1,
          1,
          1,
          1,
          1,
          1,
          1,
          1,
          1,
          1,
          1,
          1,
          1,
          1
         ],
         "yaxis": "y4"
        },
        {
         "alignmentgroup": "True",
         "hovertemplate": "被害者の職業=大学生<br>発生時（始期）=%{x}<br>count=%{y}<extra></extra>",
         "legendgroup": "",
         "marker": {
          "color": "rgb(76,114,176)",
          "line": {
           "width": 0
          },
          "pattern": {
           "shape": ""
          }
         },
         "name": "",
         "offsetgroup": "",
         "orientation": "v",
         "showlegend": false,
         "textposition": "auto",
         "type": "bar",
         "x": [
          "14",
          "17",
          "10",
          "18",
          "16",
          "07",
          "22",
          "14",
          "19",
          "16",
          "09",
          "19",
          "07",
          "15",
          "10",
          "08",
          "16",
          "22",
          "08",
          "13",
          "07",
          "10",
          "09",
          "12",
          "00",
          "12",
          "15",
          "不明",
          "09",
          "19",
          "17",
          "11",
          "16",
          "10",
          "08",
          "22",
          "15",
          "10",
          "16",
          "23",
          "07",
          "13",
          "09",
          "14",
          "18",
          "08"
         ],
         "xaxis": "x5",
         "y": [
          1,
          1,
          1,
          1,
          1,
          1,
          1,
          1,
          1,
          1,
          1,
          1,
          1,
          1,
          1,
          1,
          1,
          1,
          1,
          1,
          1,
          1,
          1,
          1,
          1,
          1,
          1,
          1,
          1,
          1,
          1,
          1,
          1,
          1,
          1,
          1,
          1,
          1,
          1,
          1,
          1,
          1,
          1,
          1,
          1,
          1
         ],
         "yaxis": "y5"
        },
        {
         "alignmentgroup": "True",
         "hovertemplate": "被害者の職業=法人・団体、被害者なし<br>発生時（始期）=%{x}<br>count=%{y}<extra></extra>",
         "legendgroup": "",
         "marker": {
          "color": "rgb(76,114,176)",
          "line": {
           "width": 0
          },
          "pattern": {
           "shape": ""
          }
         },
         "name": "",
         "offsetgroup": "",
         "orientation": "v",
         "showlegend": false,
         "textposition": "auto",
         "type": "bar",
         "x": [
          "20",
          "不明",
          "07",
          "20"
         ],
         "xaxis": "x6",
         "y": [
          1,
          1,
          1,
          1
         ],
         "yaxis": "y6"
        }
       ],
       "layout": {
        "annotations": [
         {
          "font": {},
          "showarrow": false,
          "text": "被害者の職業=その他",
          "x": 0.075,
          "xanchor": "center",
          "xref": "paper",
          "y": 1,
          "yanchor": "bottom",
          "yref": "paper"
         },
         {
          "font": {},
          "showarrow": false,
          "text": "被害者の職業=中学生",
          "x": 0.24499999999999997,
          "xanchor": "center",
          "xref": "paper",
          "y": 1,
          "yanchor": "bottom",
          "yref": "paper"
         },
         {
          "font": {},
          "showarrow": false,
          "text": "被害者の職業=小学生",
          "x": 0.415,
          "xanchor": "center",
          "xref": "paper",
          "y": 1,
          "yanchor": "bottom",
          "yref": "paper"
         },
         {
          "font": {},
          "showarrow": false,
          "text": "被害者の職業=高校生",
          "x": 0.585,
          "xanchor": "center",
          "xref": "paper",
          "y": 1,
          "yanchor": "bottom",
          "yref": "paper"
         },
         {
          "font": {},
          "showarrow": false,
          "text": "被害者の職業=大学生",
          "x": 0.7549999999999999,
          "xanchor": "center",
          "xref": "paper",
          "y": 1,
          "yanchor": "bottom",
          "yref": "paper"
         },
         {
          "font": {},
          "showarrow": false,
          "text": "被害者の職業=法人・団体、被害者なし",
          "x": 0.925,
          "xanchor": "center",
          "xref": "paper",
          "y": 1,
          "yanchor": "bottom",
          "yref": "paper"
         }
        ],
        "barmode": "relative",
        "legend": {
         "tracegroupgap": 0
        },
        "margin": {
         "t": 60
        },
        "template": {
         "data": {
          "bar": [
           {
            "error_x": {
             "color": "rgb(36,36,36)"
            },
            "error_y": {
             "color": "rgb(36,36,36)"
            },
            "marker": {
             "line": {
              "color": "rgb(234,234,242)",
              "width": 0.5
             },
             "pattern": {
              "fillmode": "overlay",
              "size": 10,
              "solidity": 0.2
             }
            },
            "type": "bar"
           }
          ],
          "barpolar": [
           {
            "marker": {
             "line": {
              "color": "rgb(234,234,242)",
              "width": 0.5
             },
             "pattern": {
              "fillmode": "overlay",
              "size": 10,
              "solidity": 0.2
             }
            },
            "type": "barpolar"
           }
          ],
          "carpet": [
           {
            "aaxis": {
             "endlinecolor": "rgb(36,36,36)",
             "gridcolor": "white",
             "linecolor": "white",
             "minorgridcolor": "white",
             "startlinecolor": "rgb(36,36,36)"
            },
            "baxis": {
             "endlinecolor": "rgb(36,36,36)",
             "gridcolor": "white",
             "linecolor": "white",
             "minorgridcolor": "white",
             "startlinecolor": "rgb(36,36,36)"
            },
            "type": "carpet"
           }
          ],
          "choropleth": [
           {
            "colorbar": {
             "outlinewidth": 0,
             "tickcolor": "rgb(36,36,36)",
             "ticklen": 8,
             "ticks": "outside",
             "tickwidth": 2
            },
            "type": "choropleth"
           }
          ],
          "contour": [
           {
            "colorbar": {
             "outlinewidth": 0,
             "tickcolor": "rgb(36,36,36)",
             "ticklen": 8,
             "ticks": "outside",
             "tickwidth": 2
            },
            "colorscale": [
             [
              0,
              "rgb(2,4,25)"
             ],
             [
              0.06274509803921569,
              "rgb(24,15,41)"
             ],
             [
              0.12549019607843137,
              "rgb(47,23,57)"
             ],
             [
              0.18823529411764706,
              "rgb(71,28,72)"
             ],
             [
              0.25098039215686274,
              "rgb(97,30,82)"
             ],
             [
              0.3137254901960784,
              "rgb(123,30,89)"
             ],
             [
              0.3764705882352941,
              "rgb(150,27,91)"
             ],
             [
              0.4392156862745098,
              "rgb(177,22,88)"
             ],
             [
              0.5019607843137255,
              "rgb(203,26,79)"
             ],
             [
              0.5647058823529412,
              "rgb(223,47,67)"
             ],
             [
              0.6274509803921569,
              "rgb(236,76,61)"
             ],
             [
              0.6901960784313725,
              "rgb(242,107,73)"
             ],
             [
              0.7529411764705882,
              "rgb(244,135,95)"
             ],
             [
              0.8156862745098039,
              "rgb(245,162,122)"
             ],
             [
              0.8784313725490196,
              "rgb(246,188,153)"
             ],
             [
              0.9411764705882353,
              "rgb(247,212,187)"
             ],
             [
              1,
              "rgb(250,234,220)"
             ]
            ],
            "type": "contour"
           }
          ],
          "contourcarpet": [
           {
            "colorbar": {
             "outlinewidth": 0,
             "tickcolor": "rgb(36,36,36)",
             "ticklen": 8,
             "ticks": "outside",
             "tickwidth": 2
            },
            "type": "contourcarpet"
           }
          ],
          "heatmap": [
           {
            "colorbar": {
             "outlinewidth": 0,
             "tickcolor": "rgb(36,36,36)",
             "ticklen": 8,
             "ticks": "outside",
             "tickwidth": 2
            },
            "colorscale": [
             [
              0,
              "rgb(2,4,25)"
             ],
             [
              0.06274509803921569,
              "rgb(24,15,41)"
             ],
             [
              0.12549019607843137,
              "rgb(47,23,57)"
             ],
             [
              0.18823529411764706,
              "rgb(71,28,72)"
             ],
             [
              0.25098039215686274,
              "rgb(97,30,82)"
             ],
             [
              0.3137254901960784,
              "rgb(123,30,89)"
             ],
             [
              0.3764705882352941,
              "rgb(150,27,91)"
             ],
             [
              0.4392156862745098,
              "rgb(177,22,88)"
             ],
             [
              0.5019607843137255,
              "rgb(203,26,79)"
             ],
             [
              0.5647058823529412,
              "rgb(223,47,67)"
             ],
             [
              0.6274509803921569,
              "rgb(236,76,61)"
             ],
             [
              0.6901960784313725,
              "rgb(242,107,73)"
             ],
             [
              0.7529411764705882,
              "rgb(244,135,95)"
             ],
             [
              0.8156862745098039,
              "rgb(245,162,122)"
             ],
             [
              0.8784313725490196,
              "rgb(246,188,153)"
             ],
             [
              0.9411764705882353,
              "rgb(247,212,187)"
             ],
             [
              1,
              "rgb(250,234,220)"
             ]
            ],
            "type": "heatmap"
           }
          ],
          "heatmapgl": [
           {
            "colorbar": {
             "outlinewidth": 0,
             "tickcolor": "rgb(36,36,36)",
             "ticklen": 8,
             "ticks": "outside",
             "tickwidth": 2
            },
            "colorscale": [
             [
              0,
              "rgb(2,4,25)"
             ],
             [
              0.06274509803921569,
              "rgb(24,15,41)"
             ],
             [
              0.12549019607843137,
              "rgb(47,23,57)"
             ],
             [
              0.18823529411764706,
              "rgb(71,28,72)"
             ],
             [
              0.25098039215686274,
              "rgb(97,30,82)"
             ],
             [
              0.3137254901960784,
              "rgb(123,30,89)"
             ],
             [
              0.3764705882352941,
              "rgb(150,27,91)"
             ],
             [
              0.4392156862745098,
              "rgb(177,22,88)"
             ],
             [
              0.5019607843137255,
              "rgb(203,26,79)"
             ],
             [
              0.5647058823529412,
              "rgb(223,47,67)"
             ],
             [
              0.6274509803921569,
              "rgb(236,76,61)"
             ],
             [
              0.6901960784313725,
              "rgb(242,107,73)"
             ],
             [
              0.7529411764705882,
              "rgb(244,135,95)"
             ],
             [
              0.8156862745098039,
              "rgb(245,162,122)"
             ],
             [
              0.8784313725490196,
              "rgb(246,188,153)"
             ],
             [
              0.9411764705882353,
              "rgb(247,212,187)"
             ],
             [
              1,
              "rgb(250,234,220)"
             ]
            ],
            "type": "heatmapgl"
           }
          ],
          "histogram": [
           {
            "marker": {
             "pattern": {
              "fillmode": "overlay",
              "size": 10,
              "solidity": 0.2
             }
            },
            "type": "histogram"
           }
          ],
          "histogram2d": [
           {
            "colorbar": {
             "outlinewidth": 0,
             "tickcolor": "rgb(36,36,36)",
             "ticklen": 8,
             "ticks": "outside",
             "tickwidth": 2
            },
            "colorscale": [
             [
              0,
              "rgb(2,4,25)"
             ],
             [
              0.06274509803921569,
              "rgb(24,15,41)"
             ],
             [
              0.12549019607843137,
              "rgb(47,23,57)"
             ],
             [
              0.18823529411764706,
              "rgb(71,28,72)"
             ],
             [
              0.25098039215686274,
              "rgb(97,30,82)"
             ],
             [
              0.3137254901960784,
              "rgb(123,30,89)"
             ],
             [
              0.3764705882352941,
              "rgb(150,27,91)"
             ],
             [
              0.4392156862745098,
              "rgb(177,22,88)"
             ],
             [
              0.5019607843137255,
              "rgb(203,26,79)"
             ],
             [
              0.5647058823529412,
              "rgb(223,47,67)"
             ],
             [
              0.6274509803921569,
              "rgb(236,76,61)"
             ],
             [
              0.6901960784313725,
              "rgb(242,107,73)"
             ],
             [
              0.7529411764705882,
              "rgb(244,135,95)"
             ],
             [
              0.8156862745098039,
              "rgb(245,162,122)"
             ],
             [
              0.8784313725490196,
              "rgb(246,188,153)"
             ],
             [
              0.9411764705882353,
              "rgb(247,212,187)"
             ],
             [
              1,
              "rgb(250,234,220)"
             ]
            ],
            "type": "histogram2d"
           }
          ],
          "histogram2dcontour": [
           {
            "colorbar": {
             "outlinewidth": 0,
             "tickcolor": "rgb(36,36,36)",
             "ticklen": 8,
             "ticks": "outside",
             "tickwidth": 2
            },
            "colorscale": [
             [
              0,
              "rgb(2,4,25)"
             ],
             [
              0.06274509803921569,
              "rgb(24,15,41)"
             ],
             [
              0.12549019607843137,
              "rgb(47,23,57)"
             ],
             [
              0.18823529411764706,
              "rgb(71,28,72)"
             ],
             [
              0.25098039215686274,
              "rgb(97,30,82)"
             ],
             [
              0.3137254901960784,
              "rgb(123,30,89)"
             ],
             [
              0.3764705882352941,
              "rgb(150,27,91)"
             ],
             [
              0.4392156862745098,
              "rgb(177,22,88)"
             ],
             [
              0.5019607843137255,
              "rgb(203,26,79)"
             ],
             [
              0.5647058823529412,
              "rgb(223,47,67)"
             ],
             [
              0.6274509803921569,
              "rgb(236,76,61)"
             ],
             [
              0.6901960784313725,
              "rgb(242,107,73)"
             ],
             [
              0.7529411764705882,
              "rgb(244,135,95)"
             ],
             [
              0.8156862745098039,
              "rgb(245,162,122)"
             ],
             [
              0.8784313725490196,
              "rgb(246,188,153)"
             ],
             [
              0.9411764705882353,
              "rgb(247,212,187)"
             ],
             [
              1,
              "rgb(250,234,220)"
             ]
            ],
            "type": "histogram2dcontour"
           }
          ],
          "mesh3d": [
           {
            "colorbar": {
             "outlinewidth": 0,
             "tickcolor": "rgb(36,36,36)",
             "ticklen": 8,
             "ticks": "outside",
             "tickwidth": 2
            },
            "type": "mesh3d"
           }
          ],
          "parcoords": [
           {
            "line": {
             "colorbar": {
              "outlinewidth": 0,
              "tickcolor": "rgb(36,36,36)",
              "ticklen": 8,
              "ticks": "outside",
              "tickwidth": 2
             }
            },
            "type": "parcoords"
           }
          ],
          "pie": [
           {
            "automargin": true,
            "type": "pie"
           }
          ],
          "scatter": [
           {
            "fillpattern": {
             "fillmode": "overlay",
             "size": 10,
             "solidity": 0.2
            },
            "type": "scatter"
           }
          ],
          "scatter3d": [
           {
            "line": {
             "colorbar": {
              "outlinewidth": 0,
              "tickcolor": "rgb(36,36,36)",
              "ticklen": 8,
              "ticks": "outside",
              "tickwidth": 2
             }
            },
            "marker": {
             "colorbar": {
              "outlinewidth": 0,
              "tickcolor": "rgb(36,36,36)",
              "ticklen": 8,
              "ticks": "outside",
              "tickwidth": 2
             }
            },
            "type": "scatter3d"
           }
          ],
          "scattercarpet": [
           {
            "marker": {
             "colorbar": {
              "outlinewidth": 0,
              "tickcolor": "rgb(36,36,36)",
              "ticklen": 8,
              "ticks": "outside",
              "tickwidth": 2
             }
            },
            "type": "scattercarpet"
           }
          ],
          "scattergeo": [
           {
            "marker": {
             "colorbar": {
              "outlinewidth": 0,
              "tickcolor": "rgb(36,36,36)",
              "ticklen": 8,
              "ticks": "outside",
              "tickwidth": 2
             }
            },
            "type": "scattergeo"
           }
          ],
          "scattergl": [
           {
            "marker": {
             "colorbar": {
              "outlinewidth": 0,
              "tickcolor": "rgb(36,36,36)",
              "ticklen": 8,
              "ticks": "outside",
              "tickwidth": 2
             }
            },
            "type": "scattergl"
           }
          ],
          "scattermapbox": [
           {
            "marker": {
             "colorbar": {
              "outlinewidth": 0,
              "tickcolor": "rgb(36,36,36)",
              "ticklen": 8,
              "ticks": "outside",
              "tickwidth": 2
             }
            },
            "type": "scattermapbox"
           }
          ],
          "scatterpolar": [
           {
            "marker": {
             "colorbar": {
              "outlinewidth": 0,
              "tickcolor": "rgb(36,36,36)",
              "ticklen": 8,
              "ticks": "outside",
              "tickwidth": 2
             }
            },
            "type": "scatterpolar"
           }
          ],
          "scatterpolargl": [
           {
            "marker": {
             "colorbar": {
              "outlinewidth": 0,
              "tickcolor": "rgb(36,36,36)",
              "ticklen": 8,
              "ticks": "outside",
              "tickwidth": 2
             }
            },
            "type": "scatterpolargl"
           }
          ],
          "scatterternary": [
           {
            "marker": {
             "colorbar": {
              "outlinewidth": 0,
              "tickcolor": "rgb(36,36,36)",
              "ticklen": 8,
              "ticks": "outside",
              "tickwidth": 2
             }
            },
            "type": "scatterternary"
           }
          ],
          "surface": [
           {
            "colorbar": {
             "outlinewidth": 0,
             "tickcolor": "rgb(36,36,36)",
             "ticklen": 8,
             "ticks": "outside",
             "tickwidth": 2
            },
            "colorscale": [
             [
              0,
              "rgb(2,4,25)"
             ],
             [
              0.06274509803921569,
              "rgb(24,15,41)"
             ],
             [
              0.12549019607843137,
              "rgb(47,23,57)"
             ],
             [
              0.18823529411764706,
              "rgb(71,28,72)"
             ],
             [
              0.25098039215686274,
              "rgb(97,30,82)"
             ],
             [
              0.3137254901960784,
              "rgb(123,30,89)"
             ],
             [
              0.3764705882352941,
              "rgb(150,27,91)"
             ],
             [
              0.4392156862745098,
              "rgb(177,22,88)"
             ],
             [
              0.5019607843137255,
              "rgb(203,26,79)"
             ],
             [
              0.5647058823529412,
              "rgb(223,47,67)"
             ],
             [
              0.6274509803921569,
              "rgb(236,76,61)"
             ],
             [
              0.6901960784313725,
              "rgb(242,107,73)"
             ],
             [
              0.7529411764705882,
              "rgb(244,135,95)"
             ],
             [
              0.8156862745098039,
              "rgb(245,162,122)"
             ],
             [
              0.8784313725490196,
              "rgb(246,188,153)"
             ],
             [
              0.9411764705882353,
              "rgb(247,212,187)"
             ],
             [
              1,
              "rgb(250,234,220)"
             ]
            ],
            "type": "surface"
           }
          ],
          "table": [
           {
            "cells": {
             "fill": {
              "color": "rgb(231,231,240)"
             },
             "line": {
              "color": "white"
             }
            },
            "header": {
             "fill": {
              "color": "rgb(183,183,191)"
             },
             "line": {
              "color": "white"
             }
            },
            "type": "table"
           }
          ]
         },
         "layout": {
          "annotationdefaults": {
           "arrowcolor": "rgb(67,103,167)"
          },
          "autotypenumbers": "strict",
          "coloraxis": {
           "colorbar": {
            "outlinewidth": 0,
            "tickcolor": "rgb(36,36,36)",
            "ticklen": 8,
            "ticks": "outside",
            "tickwidth": 2
           }
          },
          "colorscale": {
           "sequential": [
            [
             0,
             "rgb(2,4,25)"
            ],
            [
             0.06274509803921569,
             "rgb(24,15,41)"
            ],
            [
             0.12549019607843137,
             "rgb(47,23,57)"
            ],
            [
             0.18823529411764706,
             "rgb(71,28,72)"
            ],
            [
             0.25098039215686274,
             "rgb(97,30,82)"
            ],
            [
             0.3137254901960784,
             "rgb(123,30,89)"
            ],
            [
             0.3764705882352941,
             "rgb(150,27,91)"
            ],
            [
             0.4392156862745098,
             "rgb(177,22,88)"
            ],
            [
             0.5019607843137255,
             "rgb(203,26,79)"
            ],
            [
             0.5647058823529412,
             "rgb(223,47,67)"
            ],
            [
             0.6274509803921569,
             "rgb(236,76,61)"
            ],
            [
             0.6901960784313725,
             "rgb(242,107,73)"
            ],
            [
             0.7529411764705882,
             "rgb(244,135,95)"
            ],
            [
             0.8156862745098039,
             "rgb(245,162,122)"
            ],
            [
             0.8784313725490196,
             "rgb(246,188,153)"
            ],
            [
             0.9411764705882353,
             "rgb(247,212,187)"
            ],
            [
             1,
             "rgb(250,234,220)"
            ]
           ],
           "sequentialminus": [
            [
             0,
             "rgb(2,4,25)"
            ],
            [
             0.06274509803921569,
             "rgb(24,15,41)"
            ],
            [
             0.12549019607843137,
             "rgb(47,23,57)"
            ],
            [
             0.18823529411764706,
             "rgb(71,28,72)"
            ],
            [
             0.25098039215686274,
             "rgb(97,30,82)"
            ],
            [
             0.3137254901960784,
             "rgb(123,30,89)"
            ],
            [
             0.3764705882352941,
             "rgb(150,27,91)"
            ],
            [
             0.4392156862745098,
             "rgb(177,22,88)"
            ],
            [
             0.5019607843137255,
             "rgb(203,26,79)"
            ],
            [
             0.5647058823529412,
             "rgb(223,47,67)"
            ],
            [
             0.6274509803921569,
             "rgb(236,76,61)"
            ],
            [
             0.6901960784313725,
             "rgb(242,107,73)"
            ],
            [
             0.7529411764705882,
             "rgb(244,135,95)"
            ],
            [
             0.8156862745098039,
             "rgb(245,162,122)"
            ],
            [
             0.8784313725490196,
             "rgb(246,188,153)"
            ],
            [
             0.9411764705882353,
             "rgb(247,212,187)"
            ],
            [
             1,
             "rgb(250,234,220)"
            ]
           ]
          },
          "colorway": [
           "rgb(76,114,176)",
           "rgb(221,132,82)",
           "rgb(85,168,104)",
           "rgb(196,78,82)",
           "rgb(129,114,179)",
           "rgb(147,120,96)",
           "rgb(218,139,195)",
           "rgb(140,140,140)",
           "rgb(204,185,116)",
           "rgb(100,181,205)"
          ],
          "font": {
           "color": "rgb(36,36,36)"
          },
          "geo": {
           "bgcolor": "white",
           "lakecolor": "white",
           "landcolor": "rgb(234,234,242)",
           "showlakes": true,
           "showland": true,
           "subunitcolor": "white"
          },
          "hoverlabel": {
           "align": "left"
          },
          "hovermode": "closest",
          "paper_bgcolor": "white",
          "plot_bgcolor": "rgb(234,234,242)",
          "polar": {
           "angularaxis": {
            "gridcolor": "white",
            "linecolor": "white",
            "showgrid": true,
            "ticks": ""
           },
           "bgcolor": "rgb(234,234,242)",
           "radialaxis": {
            "gridcolor": "white",
            "linecolor": "white",
            "showgrid": true,
            "ticks": ""
           }
          },
          "scene": {
           "xaxis": {
            "backgroundcolor": "rgb(234,234,242)",
            "gridcolor": "white",
            "gridwidth": 2,
            "linecolor": "white",
            "showbackground": true,
            "showgrid": true,
            "ticks": "",
            "zerolinecolor": "white"
           },
           "yaxis": {
            "backgroundcolor": "rgb(234,234,242)",
            "gridcolor": "white",
            "gridwidth": 2,
            "linecolor": "white",
            "showbackground": true,
            "showgrid": true,
            "ticks": "",
            "zerolinecolor": "white"
           },
           "zaxis": {
            "backgroundcolor": "rgb(234,234,242)",
            "gridcolor": "white",
            "gridwidth": 2,
            "linecolor": "white",
            "showbackground": true,
            "showgrid": true,
            "ticks": "",
            "zerolinecolor": "white"
           }
          },
          "shapedefaults": {
           "fillcolor": "rgb(67,103,167)",
           "line": {
            "width": 0
           },
           "opacity": 0.5
          },
          "ternary": {
           "aaxis": {
            "gridcolor": "white",
            "linecolor": "white",
            "showgrid": true,
            "ticks": ""
           },
           "baxis": {
            "gridcolor": "white",
            "linecolor": "white",
            "showgrid": true,
            "ticks": ""
           },
           "bgcolor": "rgb(234,234,242)",
           "caxis": {
            "gridcolor": "white",
            "linecolor": "white",
            "showgrid": true,
            "ticks": ""
           }
          },
          "xaxis": {
           "automargin": true,
           "gridcolor": "white",
           "linecolor": "white",
           "showgrid": true,
           "ticks": "",
           "title": {
            "standoff": 15
           },
           "zerolinecolor": "white"
          },
          "yaxis": {
           "automargin": true,
           "gridcolor": "white",
           "linecolor": "white",
           "showgrid": true,
           "ticks": "",
           "title": {
            "standoff": 15
           },
           "zerolinecolor": "white"
          }
         }
        },
        "xaxis": {
         "anchor": "y",
         "categoryorder": "category ascending",
         "domain": [
          0,
          0.15
         ],
         "title": {
          "text": "発生時（始期）"
         }
        },
        "xaxis2": {
         "anchor": "y2",
         "categoryorder": "category ascending",
         "domain": [
          0.16999999999999998,
          0.31999999999999995
         ],
         "matches": "x",
         "title": {
          "text": "発生時（始期）"
         }
        },
        "xaxis3": {
         "anchor": "y3",
         "categoryorder": "category ascending",
         "domain": [
          0.33999999999999997,
          0.49
         ],
         "matches": "x",
         "title": {
          "text": "発生時（始期）"
         }
        },
        "xaxis4": {
         "anchor": "y4",
         "categoryorder": "category ascending",
         "domain": [
          0.51,
          0.66
         ],
         "matches": "x",
         "title": {
          "text": "発生時（始期）"
         }
        },
        "xaxis5": {
         "anchor": "y5",
         "categoryorder": "category ascending",
         "domain": [
          0.6799999999999999,
          0.83
         ],
         "matches": "x",
         "title": {
          "text": "発生時（始期）"
         }
        },
        "xaxis6": {
         "anchor": "y6",
         "categoryorder": "category ascending",
         "domain": [
          0.85,
          1
         ],
         "matches": "x",
         "title": {
          "text": "発生時（始期）"
         }
        },
        "yaxis": {
         "anchor": "x",
         "domain": [
          0,
          1
         ],
         "title": {
          "text": "count"
         }
        },
        "yaxis2": {
         "anchor": "x2",
         "domain": [
          0,
          1
         ],
         "matches": "y",
         "showticklabels": false
        },
        "yaxis3": {
         "anchor": "x3",
         "domain": [
          0,
          1
         ],
         "matches": "y",
         "showticklabels": false
        },
        "yaxis4": {
         "anchor": "x4",
         "domain": [
          0,
          1
         ],
         "matches": "y",
         "showticklabels": false
        },
        "yaxis5": {
         "anchor": "x5",
         "domain": [
          0,
          1
         ],
         "matches": "y",
         "showticklabels": false
        },
        "yaxis6": {
         "anchor": "x6",
         "domain": [
          0,
          1
         ],
         "matches": "y",
         "showticklabels": false
        }
       }
      }
     },
     "metadata": {},
     "output_type": "display_data"
    }
   ],
   "source": [
    "fig = px.bar(kashiwa,\n",
    "            x='発生時（始期）',\n",
    "            facet_col='被害者の職業',\n",
    "            template='seaborn')\n",
    "fig.update_traces(\n",
    "    marker_line_width=0\n",
    ")\n",
    "fig.update_xaxes(categoryorder='category ascending')\n",
    "fig.show()"
   ]
  },
  {
   "attachments": {},
   "cell_type": "markdown",
   "metadata": {
    "slideshow": {
     "slide_type": "slide"
    }
   },
   "source": [
    "# Geocoding\n",
    "\n",
    "<img src=\"https://raw.githubusercontent.com/yohman/23-1-Reitaku-GIS/main/Weeks/Week08/images/Geocoding_01.png\" width=400>\n",
    "\n",
    "住所だけではマップイングできません。座標が必要です。なので、住所から座標を特定するプロセスが必要である。このプロセスを<h1>【ジオコーティング】</h1>という。\n"
   ]
  },
  {
   "attachments": {},
   "cell_type": "markdown",
   "metadata": {
    "slideshow": {
     "slide_type": "slide"
    }
   },
   "source": [
    "ジオコーティングと言えば、色んな方法があります。現在、日本で無料でジオコーティングサービスを提供しているのが国土地理院のジオコーティングAPI。\n",
    "\n",
    "試してみよう。このようにURLをブラウザーで記入するだけで座標が返ってくるサービスである。国土地理院さん、とても便利なサービス、ありがとうございます！\n",
    "\n",
    "https://msearch.gsi.go.jp/address-search/AddressSearch?q=麗澤大学"
   ]
  },
  {
   "attachments": {},
   "cell_type": "markdown",
   "metadata": {
    "slideshow": {
     "slide_type": "slide"
    }
   },
   "source": [
    "では、このプロセスに従って、アドレスから座標を出力する Python 関数を作成します。"
   ]
  },
  {
   "cell_type": "code",
   "execution_count": 28,
   "metadata": {},
   "outputs": [],
   "source": [
    "# 関数を作成\n",
    "def geocode(address):\n",
    "\n",
    "    # ジオコーティングURL\n",
    "    url = \"https://msearch.gsi.go.jp/address-search/AddressSearch?q=\"\n",
    "\n",
    "    # try/exceptでエラーをキャッチ\n",
    "    # 成功の場合\n",
    "    try:\n",
    "        s_quote = urllib.parse.quote(address)\n",
    "        response = requests.get(url + s_quote)\n",
    "        if len(response.json())>0:\n",
    "            return response.json()[0][\"geometry\"][\"coordinates\"] \n",
    "        else:\n",
    "            return False\n",
    "        \n",
    "    # 失敗の場合\n",
    "    except:\n",
    "        return False"
   ]
  },
  {
   "attachments": {},
   "cell_type": "markdown",
   "metadata": {
    "slideshow": {
     "slide_type": "slide"
    }
   },
   "source": [
    "関数の使い方は簡単！"
   ]
  },
  {
   "cell_type": "code",
   "execution_count": 34,
   "metadata": {},
   "outputs": [
    {
     "data": {
      "text/plain": [
       "[142.365005, 43.770832]"
      ]
     },
     "execution_count": 34,
     "metadata": {},
     "output_type": "execute_result"
    }
   ],
   "source": [
    "geocode('旭川動物園')"
   ]
  },
  {
   "attachments": {},
   "cell_type": "markdown",
   "metadata": {
    "slideshow": {
     "slide_type": "slide"
    }
   },
   "source": [
    "## データフレームの準備\n",
    "\n",
    "`kashiwa`のデータフレームの各行の住所をジオコーティングする前に`住所`と座標（`lat`,`lon`）のフィールドを作りましょう。"
   ]
  },
  {
   "cell_type": "code",
   "execution_count": 35,
   "metadata": {},
   "outputs": [],
   "source": [
    "# 空の住所フィールドを作成\n",
    "kashiwa['住所'] = ''"
   ]
  },
  {
   "cell_type": "code",
   "execution_count": 36,
   "metadata": {},
   "outputs": [],
   "source": [
    "# 空だがfloatとしてフィールドを作成\n",
    "kashiwa['lat'] = pd.Series(dtype=float)\n",
    "kashiwa['lon'] = pd.Series(dtype=float)"
   ]
  },
  {
   "attachments": {},
   "cell_type": "markdown",
   "metadata": {
    "slideshow": {
     "slide_type": "slide"
    }
   },
   "source": [
    "<img src=\"https://raw.githubusercontent.com/yohman/23-1-Reitaku-GIS/main/Weeks/Week08/images/concat.png\" width=600>\n",
    "\n",
    "↑で作った住所フィールドに次の 3 つのフィールドを連結します。\n",
    "\n",
    "1. 都道府県（発生地）\n",
    "1. 市区町村（発生地）\n",
    "1. 町丁目（発生地）"
   ]
  },
  {
   "cell_type": "code",
   "execution_count": 37,
   "metadata": {},
   "outputs": [],
   "source": [
    "# 住所フィールドを作成\n",
    "kashiwa['住所'] = kashiwa['都道府県（発生地）']+kashiwa['市区町村（発生地）']+kashiwa['町丁目（発生地）']"
   ]
  },
  {
   "cell_type": "code",
   "execution_count": 38,
   "metadata": {
    "slideshow": {
     "slide_type": "slide"
    }
   },
   "outputs": [
    {
     "data": {
      "text/html": [
       "<div>\n",
       "<style scoped>\n",
       "    .dataframe tbody tr th:only-of-type {\n",
       "        vertical-align: middle;\n",
       "    }\n",
       "\n",
       "    .dataframe tbody tr th {\n",
       "        vertical-align: top;\n",
       "    }\n",
       "\n",
       "    .dataframe thead th {\n",
       "        text-align: right;\n",
       "    }\n",
       "</style>\n",
       "<table border=\"1\" class=\"dataframe\">\n",
       "  <thead>\n",
       "    <tr style=\"text-align: right;\">\n",
       "      <th></th>\n",
       "      <th>罪名</th>\n",
       "      <th>手口</th>\n",
       "      <th>管轄警察署（発生地）</th>\n",
       "      <th>管轄交番・駐在所（発生地）</th>\n",
       "      <th>市区町村コード（発生地）</th>\n",
       "      <th>都道府県（発生地）</th>\n",
       "      <th>市区町村（発生地）</th>\n",
       "      <th>町丁目（発生地）</th>\n",
       "      <th>発生年月日（始期）</th>\n",
       "      <th>発生時（始期）</th>\n",
       "      <th>発生場所</th>\n",
       "      <th>発生場所の詳細</th>\n",
       "      <th>被害者の年齢</th>\n",
       "      <th>被害者の職業</th>\n",
       "      <th>施錠関係</th>\n",
       "      <th>住所</th>\n",
       "      <th>lat</th>\n",
       "      <th>lon</th>\n",
       "    </tr>\n",
       "  </thead>\n",
       "  <tbody>\n",
       "    <tr>\n",
       "      <th>3006</th>\n",
       "      <td>窃盗</td>\n",
       "      <td>自転車盗</td>\n",
       "      <td>柏</td>\n",
       "      <td>旭町交番</td>\n",
       "      <td>122173</td>\n",
       "      <td>千葉県</td>\n",
       "      <td>柏市</td>\n",
       "      <td>末広町</td>\n",
       "      <td>2022-08-02</td>\n",
       "      <td>14</td>\n",
       "      <td>その他</td>\n",
       "      <td>駐車（輪）場</td>\n",
       "      <td>10歳代</td>\n",
       "      <td>その他</td>\n",
       "      <td>施錠せず</td>\n",
       "      <td>千葉県柏市末広町</td>\n",
       "      <td>NaN</td>\n",
       "      <td>NaN</td>\n",
       "    </tr>\n",
       "    <tr>\n",
       "      <th>2798</th>\n",
       "      <td>窃盗</td>\n",
       "      <td>自転車盗</td>\n",
       "      <td>柏</td>\n",
       "      <td>北柏駅前交番</td>\n",
       "      <td>122173</td>\n",
       "      <td>千葉県</td>\n",
       "      <td>柏市</td>\n",
       "      <td>柏下</td>\n",
       "      <td>2022-10-31</td>\n",
       "      <td>09</td>\n",
       "      <td>その他</td>\n",
       "      <td>その他</td>\n",
       "      <td>65-69歳</td>\n",
       "      <td>その他</td>\n",
       "      <td>施錠せず</td>\n",
       "      <td>千葉県柏市柏下</td>\n",
       "      <td>NaN</td>\n",
       "      <td>NaN</td>\n",
       "    </tr>\n",
       "    <tr>\n",
       "      <th>3029</th>\n",
       "      <td>窃盗</td>\n",
       "      <td>自転車盗</td>\n",
       "      <td>柏</td>\n",
       "      <td>松葉町交番</td>\n",
       "      <td>122173</td>\n",
       "      <td>千葉県</td>\n",
       "      <td>柏市</td>\n",
       "      <td>根戸</td>\n",
       "      <td>2022-12-10</td>\n",
       "      <td>12</td>\n",
       "      <td>その他</td>\n",
       "      <td>駐車（輪）場</td>\n",
       "      <td>20歳代</td>\n",
       "      <td>その他</td>\n",
       "      <td>施錠した</td>\n",
       "      <td>千葉県柏市根戸</td>\n",
       "      <td>NaN</td>\n",
       "      <td>NaN</td>\n",
       "    </tr>\n",
       "  </tbody>\n",
       "</table>\n",
       "</div>"
      ],
      "text/plain": [
       "      罪名    手口 管轄警察署（発生地） 管轄交番・駐在所（発生地）  市区町村コード（発生地） 都道府県（発生地） 市区町村（発生地）   \n",
       "3006  窃盗  自転車盗          柏          旭町交番        122173       千葉県        柏市  \\\n",
       "2798  窃盗  自転車盗          柏        北柏駅前交番        122173       千葉県        柏市   \n",
       "3029  窃盗  自転車盗          柏         松葉町交番        122173       千葉県        柏市   \n",
       "\n",
       "     町丁目（発生地）   発生年月日（始期） 発生時（始期） 発生場所 発生場所の詳細  被害者の年齢 被害者の職業  施錠関係        住所   \n",
       "3006      末広町  2022-08-02      14  その他  駐車（輪）場    10歳代    その他  施錠せず  千葉県柏市末広町  \\\n",
       "2798       柏下  2022-10-31      09  その他     その他  65-69歳    その他  施錠せず   千葉県柏市柏下   \n",
       "3029       根戸  2022-12-10      12  その他  駐車（輪）場    20歳代    その他  施錠した   千葉県柏市根戸   \n",
       "\n",
       "      lat  lon  \n",
       "3006  NaN  NaN  \n",
       "2798  NaN  NaN  \n",
       "3029  NaN  NaN  "
      ]
     },
     "execution_count": 38,
     "metadata": {},
     "output_type": "execute_result"
    }
   ],
   "source": [
    "# random sampleで上手く行ったかどうかをチェック\n",
    "kashiwa.sample(3)"
   ]
  },
  {
   "attachments": {},
   "cell_type": "markdown",
   "metadata": {
    "slideshow": {
     "slide_type": "slide"
    }
   },
   "source": [
    "これで準備は整えました。`kashiwa` のデータフレームを for loop に入れて住所を一つずつジオコーティングしよう。\n",
    "\n",
    "この作業は数分かかるので注意。千件以上のデータフレームはなるべく避けよう。"
   ]
  },
  {
   "cell_type": "code",
   "execution_count": 39,
   "metadata": {},
   "outputs": [
    {
     "name": "stdout",
     "output_type": "stream",
     "text": [
      "千葉県柏市今谷上町 139.956406 35.841019\n",
      "千葉県柏市今谷上町 139.956406 35.841019\n",
      "千葉県柏市今谷上町 139.956406 35.841019\n",
      "千葉県柏市今谷上町 139.956406 35.841019\n",
      "千葉県柏市今谷上町 139.956406 35.841019\n",
      "千葉県柏市酒井根 139.957825 35.81815\n",
      "千葉県柏市酒井根３丁目 139.965973 35.818859\n",
      "千葉県柏市酒井根４丁目 139.960007 35.820488\n",
      "千葉県柏市酒井根５丁目 139.961349 35.824585\n",
      "千葉県柏市酒井根５丁目 139.961349 35.824585\n",
      "千葉県柏市逆井 139.982468 35.815441\n",
      "千葉県柏市中新宿３丁目 139.946884 35.83292\n",
      "千葉県柏市西山２丁目 139.95401 35.82056\n",
      "千葉県柏市光ケ丘１丁目 139.957794 35.833195\n",
      "千葉県柏市光ケ丘１丁目 139.957794 35.833195\n",
      "千葉県柏市光ケ丘団地 139.957809 35.829479\n",
      "千葉県柏市東中新宿１丁目 139.960556 35.833984\n",
      "千葉県柏市東中新宿１丁目 139.960556 35.833984\n",
      "千葉県柏市東中新宿１丁目 139.960556 35.833984\n",
      "千葉県柏市柏 139.986511 35.864445\n",
      "千葉県柏市柏 139.986511 35.864445\n",
      "千葉県柏市柏 139.986511 35.864445\n",
      "千葉県柏市柏下 139.983795 35.870007\n",
      "千葉県柏市柏堀之内新田 139.983582 35.875332\n",
      "千葉県柏市北柏２丁目 139.989914 35.872643\n",
      "千葉県柏市北柏２丁目 139.989914 35.872643\n",
      "千葉県柏市北柏２丁目 139.989914 35.872643\n",
      "千葉県柏市北柏３丁目 139.987793 35.872192\n",
      "千葉県柏市北柏３丁目 139.987793 35.872192\n",
      "千葉県柏市北柏４丁目 139.986893 35.870586\n",
      "千葉県柏市北柏４丁目 139.986893 35.870586\n",
      "千葉県柏市北柏５丁目 139.990295 35.868679\n",
      "千葉県柏市宿連寺 139.985229 35.887501\n",
      "千葉県柏市宿連寺 139.985229 35.887501\n",
      "千葉県柏市根戸 139.98645 35.88113\n",
      "千葉県柏市根戸 139.98645 35.88113\n",
      "千葉県柏市根戸 139.98645 35.88113\n",
      "千葉県柏市根戸 139.98645 35.88113\n",
      "千葉県柏市根戸 139.98645 35.88113\n",
      "千葉県柏市根戸 139.98645 35.88113\n",
      "千葉県柏市根戸 139.98645 35.88113\n",
      "千葉県柏市根戸 139.98645 35.88113\n",
      "千葉県柏市根戸 139.98645 35.88113\n",
      "千葉県柏市根戸 139.98645 35.88113\n",
      "千葉県柏市根戸 139.98645 35.88113\n",
      "千葉県柏市根戸 139.98645 35.88113\n",
      "千葉県柏市根戸 139.98645 35.88113\n",
      "千葉県柏市根戸 139.98645 35.88113\n",
      "千葉県柏市根戸 139.98645 35.88113\n",
      "千葉県柏市根戸 139.98645 35.88113\n",
      "千葉県柏市根戸 139.98645 35.88113\n",
      "千葉県柏市根戸 139.98645 35.88113\n",
      "千葉県柏市根戸 139.98645 35.88113\n",
      "千葉県柏市根戸 139.98645 35.88113\n",
      "千葉県柏市加賀１丁目 139.970932 35.832733\n",
      "千葉県柏市逆井 139.982468 35.815441\n",
      "千葉県柏市逆井 139.982468 35.815441\n",
      "千葉県柏市逆井 139.982468 35.815441\n",
      "千葉県柏市逆井 139.982468 35.815441\n",
      "千葉県柏市逆井 139.982468 35.815441\n",
      "千葉県柏市逆井 139.982468 35.815441\n",
      "千葉県柏市逆井 139.982468 35.815441\n",
      "千葉県柏市逆井 139.982468 35.815441\n",
      "千葉県柏市逆井１丁目 139.983444 35.822018\n",
      "千葉県柏市逆井１丁目 139.983444 35.822018\n",
      "千葉県柏市逆井１丁目 139.983444 35.822018\n",
      "千葉県柏市逆井２丁目 139.979614 35.824383\n",
      "千葉県柏市逆井２丁目 139.979614 35.824383\n",
      "千葉県柏市逆井２丁目 139.979614 35.824383\n",
      "千葉県柏市逆井２丁目 139.979614 35.824383\n",
      "千葉県柏市逆井２丁目 139.979614 35.824383\n",
      "千葉県柏市逆井２丁目 139.979614 35.824383\n",
      "千葉県柏市南増尾 139.974075 35.816387\n",
      "千葉県柏市南増尾 139.974075 35.816387\n",
      "千葉県柏市南増尾 139.974075 35.816387\n",
      "千葉県柏市南増尾１丁目 139.971741 35.818909\n",
      "千葉県柏市南増尾２丁目 139.96759 35.817165\n",
      "千葉県柏市南増尾３丁目 139.97052 35.814602\n",
      "千葉県柏市南増尾３丁目 139.97052 35.814602\n",
      "千葉県柏市南増尾３丁目 139.97052 35.814602\n",
      "千葉県柏市南増尾３丁目 139.97052 35.814602\n",
      "千葉県柏市南増尾３丁目 139.97052 35.814602\n",
      "千葉県柏市南増尾４丁目 139.966034 35.813236\n",
      "千葉県柏市南増尾５丁目 139.966537 35.809929\n",
      "千葉県柏市南増尾６丁目 139.963562 35.811157\n",
      "千葉県柏市南増尾８丁目 139.959 35.810768\n",
      "千葉県柏市増尾台１丁目 139.976883 35.827206\n",
      "千葉県柏市増尾台１丁目 139.976883 35.827206\n",
      "千葉県柏市逆井藤ノ台 139.98671 35.822952\n",
      "千葉県柏市逆井藤ノ台 139.98671 35.822952\n",
      "千葉県柏市逆井藤ノ台 139.98671 35.822952\n",
      "千葉県柏市南逆井１丁目 139.970367 35.807571\n",
      "千葉県柏市青葉台２丁目 139.957855 35.813534\n",
      "千葉県柏市青葉台２丁目 139.957855 35.813534\n",
      "千葉県柏市新逆井１丁目 139.972183 35.812092\n",
      "千葉県柏市新逆井２丁目 139.970627 35.809525\n",
      "千葉県柏市新逆井２丁目 139.970627 35.809525\n",
      "千葉県柏市新逆井２丁目 139.970627 35.809525\n",
      "千葉県柏市大井 140.00441 35.850155\n",
      "千葉県柏市逆井２丁目 139.979614 35.824383\n",
      "千葉県柏市新富町１丁目 139.955795 35.85088\n",
      "千葉県柏市豊四季 139.949814 35.859928\n",
      "千葉県柏市豊四季 139.949814 35.859928\n",
      "千葉県柏市豊四季 139.949814 35.859928\n",
      "千葉県柏市豊四季 139.949814 35.859928\n",
      "千葉県柏市豊四季 139.949814 35.859928\n",
      "千葉県柏市豊四季 139.949814 35.859928\n",
      "千葉県柏市豊四季 139.949814 35.859928\n",
      "千葉県柏市豊四季 139.949814 35.859928\n",
      "千葉県柏市南柏１丁目 139.953476 35.845783\n",
      "千葉県柏市南柏１丁目 139.953476 35.845783\n",
      "千葉県柏市南柏１丁目 139.953476 35.845783\n",
      "千葉県柏市南柏１丁目 139.953476 35.845783\n",
      "千葉県柏市南柏１丁目 139.953476 35.845783\n",
      "千葉県柏市南柏１丁目 139.953476 35.845783\n",
      "千葉県柏市南柏１丁目 139.953476 35.845783\n",
      "千葉県柏市南柏２丁目 139.955032 35.847271\n",
      "千葉県柏市南柏２丁目 139.955032 35.847271\n",
      "千葉県柏市南柏２丁目 139.955032 35.847271\n",
      "千葉県柏市南柏２丁目 139.955032 35.847271\n",
      "千葉県柏市豊町２丁目 139.960251 35.851013\n",
      "千葉県柏市豊町２丁目 139.960251 35.851013\n",
      "千葉県柏市豊町２丁目 139.960251 35.851013\n",
      "千葉県柏市南柏中央 139.954956 35.844471\n",
      "千葉県柏市南柏中央 139.954956 35.844471\n",
      "千葉県柏市南柏中央 139.954956 35.844471\n",
      "千葉県柏市南柏中央 139.954956 35.844471\n",
      "千葉県柏市南柏中央 139.954956 35.844471\n",
      "千葉県柏市南柏中央 139.954956 35.844471\n",
      "千葉県柏市南柏中央 139.954956 35.844471\n",
      "千葉県柏市南柏中央 139.954956 35.844471\n",
      "千葉県柏市南柏中央 139.954956 35.844471\n",
      "千葉県柏市南柏中央 139.954956 35.844471\n",
      "千葉県柏市南柏中央 139.954956 35.844471\n",
      "千葉県柏市南柏中央 139.954956 35.844471\n",
      "千葉県柏市南柏中央 139.954956 35.844471\n",
      "千葉県柏市南柏中央 139.954956 35.844471\n",
      "千葉県柏市南柏中央 139.954956 35.844471\n",
      "千葉県柏市加賀３丁目 139.97319 35.830082\n",
      "千葉県柏市加賀３丁目 139.97319 35.830082\n",
      "千葉県柏市加賀３丁目 139.97319 35.830082\n",
      "千葉県柏市加賀３丁目 139.97319 35.830082\n",
      "千葉県柏市逆井２丁目 139.979614 35.824383\n",
      "千葉県柏市増尾１丁目 139.974945 35.832466\n",
      "千葉県柏市増尾２丁目 139.978226 35.831703\n",
      "千葉県柏市増尾４丁目 139.983551 35.835472\n",
      "千葉県柏市増尾８丁目 139.986633 35.829124\n",
      "千葉県柏市増尾台３丁目 139.974731 35.824703\n",
      "千葉県柏市増尾台３丁目 139.974731 35.824703\n",
      "千葉県柏市増尾台４丁目 139.973206 35.821732\n",
      "千葉県柏市増尾台４丁目 139.973206 35.821732\n",
      "千葉県柏市大井 140.00441 35.850155\n",
      "千葉県柏市大井 140.00441 35.850155\n",
      "千葉県柏市大島田 140.012802 35.835773\n",
      "千葉県柏市大島田 140.012802 35.835773\n",
      "千葉県柏市大島田１丁目 140.011703 35.833759\n",
      "千葉県柏市大島田１丁目 140.011703 35.833759\n",
      "千葉県柏市大島田１丁目 140.011703 35.833759\n",
      "千葉県柏市大島田１丁目 140.011703 35.833759\n",
      "千葉県柏市大島田１丁目 140.011703 35.833759\n",
      "千葉県柏市大島田１丁目 140.011703 35.833759\n",
      "千葉県柏市大島田１丁目 140.011703 35.833759\n",
      "千葉県柏市大島田１丁目 140.011703 35.833759\n",
      "千葉県柏市大島田１丁目 140.011703 35.833759\n",
      "千葉県柏市大島田１丁目 140.011703 35.833759\n",
      "千葉県柏市大島田１丁目 140.011703 35.833759\n",
      "千葉県柏市大津ケ丘１丁目 140.003662 35.84325\n",
      "千葉県柏市大津ケ丘２丁目 139.999237 35.841068\n",
      "千葉県柏市大津ケ丘２丁目 139.999237 35.841068\n",
      "千葉県柏市大津ケ丘２丁目 139.999237 35.841068\n",
      "千葉県柏市大津ケ丘３丁目 139.995621 35.840942\n",
      "千葉県柏市大津ケ丘３丁目 139.995621 35.840942\n",
      "千葉県柏市大津ケ丘４丁目 140.002502 35.837143\n",
      "千葉県柏市大津ケ丘４丁目 140.002502 35.837143\n",
      "千葉県柏市大津ケ丘４丁目 140.002502 35.837143\n",
      "千葉県柏市大津ケ丘４丁目 140.002502 35.837143\n",
      "千葉県柏市五條谷 140.016342 35.848038\n",
      "千葉県柏市塚崎 139.996063 35.834927\n",
      "千葉県柏市手賀の杜３丁目 140.026993 35.846394\n",
      "千葉県柏市布施 139.992828 35.891518\n",
      "千葉県柏市つくしが丘４丁目 139.968262 35.835949\n",
      "千葉県柏市つくしが丘５丁目 139.96756 35.83136\n",
      "千葉県柏市常盤台 139.967072 35.84692\n",
      "千葉県柏市豊住３丁目 139.963547 35.838268\n",
      "千葉県柏市豊住３丁目 139.963547 35.838268\n",
      "千葉県柏市豊住３丁目 139.963547 35.838268\n",
      "千葉県柏市豊住４丁目 139.965775 35.842236\n",
      "千葉県柏市豊住５丁目 139.966721 35.840786\n",
      "千葉県柏市豊住５丁目 139.966721 35.840786\n",
      "千葉県柏市名戸ケ谷 139.981064 35.843285\n",
      "千葉県柏市名戸ケ谷１丁目 139.976089 35.845604\n",
      "千葉県柏市新柏１丁目 139.968597 35.839211\n",
      "千葉県柏市新柏３丁目 139.972061 35.841667\n",
      "千葉県柏市明原３丁目 139.963196 35.867088\n",
      "千葉県柏市明原３丁目 139.963196 35.867088\n",
      "千葉県柏市明原３丁目 139.963196 35.867088\n",
      "千葉県柏市明原３丁目 139.963196 35.867088\n",
      "千葉県柏市明原３丁目 139.963196 35.867088\n",
      "千葉県柏市明原４丁目 139.962662 35.864574\n",
      "千葉県柏市明原４丁目 139.962662 35.864574\n",
      "千葉県柏市あけぼの１丁目 139.971985 35.865929\n",
      "千葉県柏市あけぼの２丁目 139.974197 35.868034\n",
      "千葉県柏市あけぼの２丁目 139.974197 35.868034\n",
      "千葉県柏市あけぼの３丁目 139.971756 35.869129\n",
      "千葉県柏市あけぼの３丁目 139.971756 35.869129\n",
      "千葉県柏市あけぼの４丁目 139.968948 35.866798\n",
      "千葉県柏市あけぼの４丁目 139.968948 35.866798\n",
      "千葉県柏市あけぼの４丁目 139.968948 35.866798\n",
      "千葉県柏市あけぼの５丁目 139.967926 35.869289\n",
      "千葉県柏市旭町１丁目 139.968491 35.861916\n",
      "千葉県柏市旭町１丁目 139.968491 35.861916\n",
      "千葉県柏市旭町１丁目 139.968491 35.861916\n",
      "千葉県柏市旭町１丁目 139.968491 35.861916\n",
      "千葉県柏市旭町１丁目 139.968491 35.861916\n",
      "千葉県柏市旭町１丁目 139.968491 35.861916\n",
      "千葉県柏市旭町１丁目 139.968491 35.861916\n",
      "千葉県柏市旭町１丁目 139.968491 35.861916\n",
      "千葉県柏市旭町１丁目 139.968491 35.861916\n",
      "千葉県柏市旭町４丁目 139.962036 35.858974\n",
      "千葉県柏市旭町４丁目 139.962036 35.858974\n",
      "千葉県柏市旭町４丁目 139.962036 35.858974\n",
      "千葉県柏市旭町４丁目 139.962036 35.858974\n",
      "千葉県柏市旭町４丁目 139.962036 35.858974\n",
      "千葉県柏市旭町５丁目 139.962128 35.85675\n",
      "千葉県柏市旭町６丁目 139.958267 35.857044\n",
      "千葉県柏市旭町６丁目 139.958267 35.857044\n",
      "千葉県柏市篠籠田 139.943359 35.868122\n",
      "千葉県柏市末広町 139.970398 35.862904\n",
      "千葉県柏市末広町 139.970398 35.862904\n",
      "千葉県柏市末広町 139.970398 35.862904\n",
      "千葉県柏市末広町 139.970398 35.862904\n",
      "千葉県柏市末広町 139.970398 35.862904\n",
      "千葉県柏市末広町 139.970398 35.862904\n",
      "千葉県柏市末広町 139.970398 35.862904\n",
      "千葉県柏市末広町 139.970398 35.862904\n",
      "千葉県柏市末広町 139.970398 35.862904\n",
      "千葉県柏市末広町 139.970398 35.862904\n",
      "千葉県柏市富里３丁目 139.962891 35.854397\n",
      "千葉県柏市富里３丁目 139.962891 35.854397\n",
      "千葉県柏市富里３丁目 139.962891 35.854397\n",
      "千葉県柏市富里３丁目 139.962891 35.854397\n",
      "千葉県柏市富里３丁目 139.962891 35.854397\n",
      "千葉県柏市富里３丁目 139.962891 35.854397\n",
      "千葉県柏市豊四季台１丁目 139.957932 35.866894\n",
      "千葉県柏市豊四季台１丁目 139.957932 35.866894\n",
      "千葉県柏市豊四季台１丁目 139.957932 35.866894\n",
      "千葉県柏市豊四季台１丁目 139.957932 35.866894\n",
      "千葉県柏市豊四季台３丁目 139.959137 35.862438\n",
      "千葉県柏市豊四季台４丁目 139.956039 35.863903\n",
      "千葉県柏市豊四季台４丁目 139.956039 35.863903\n",
      "千葉県柏市西町 139.957932 35.869198\n",
      "千葉県柏市十余二 139.959305 35.882629\n",
      "千葉県柏市十余二 139.959305 35.882629\n",
      "千葉県柏市根戸 139.98645 35.88113\n",
      "千葉県柏市松ケ崎 139.975952 35.879082\n",
      "千葉県柏市松ケ崎 139.975952 35.879082\n",
      "千葉県柏市松ケ崎 139.975952 35.879082\n",
      "千葉県柏市松ケ崎 139.975952 35.879082\n",
      "千葉県柏市松ケ崎 139.975952 35.879082\n",
      "千葉県柏市松ケ崎 139.975952 35.879082\n",
      "千葉県柏市松ケ崎 139.975952 35.879082\n",
      "千葉県柏市松ケ崎 139.975952 35.879082\n",
      "千葉県柏市松葉町１丁目 139.980759 35.886456\n",
      "千葉県柏市松葉町１丁目 139.980759 35.886456\n",
      "千葉県柏市松葉町３丁目 139.970963 35.886009\n",
      "千葉県柏市松葉町３丁目 139.970963 35.886009\n",
      "千葉県柏市松葉町４丁目 139.971802 35.889114\n",
      "千葉県柏市松葉町４丁目 139.971802 35.889114\n",
      "千葉県柏市松葉町４丁目 139.971802 35.889114\n",
      "千葉県柏市松葉町５丁目 139.966446 35.889473\n",
      "千葉県柏市松葉町５丁目 139.966446 35.889473\n",
      "千葉県柏市松葉町６丁目 139.968033 35.891541\n",
      "千葉県柏市大山台１丁目 139.967804 35.880825\n",
      "千葉県柏市大山台１丁目 139.967804 35.880825\n",
      "千葉県柏市大山台１丁目 139.967804 35.880825\n",
      "千葉県柏市大山台１丁目 139.967804 35.880825\n",
      "千葉県柏市大山台２丁目 139.969193 35.88258\n",
      "千葉県柏市大山台２丁目 139.969193 35.88258\n",
      "千葉県柏市大山台２丁目 139.969193 35.88258\n",
      "千葉県柏市大山台２丁目 139.969193 35.88258\n",
      "千葉県柏市大山台２丁目 139.969193 35.88258\n",
      "千葉県柏市大山台２丁目 139.969193 35.88258\n",
      "千葉県柏市大山台２丁目 139.969193 35.88258\n",
      "千葉県柏市正連寺 139.950058 35.902401\n",
      "千葉県柏市正連寺 139.950058 35.902401\n",
      "千葉県柏市若柴 139.953995 35.891659\n",
      "千葉県柏市若柴 139.953995 35.891659\n",
      "千葉県柏市若柴 139.953995 35.891659\n",
      "千葉県柏市若柴 139.953995 35.891659\n",
      "千葉県柏市若柴 139.953995 35.891659\n",
      "千葉県柏市若柴 139.953995 35.891659\n",
      "千葉県柏市若柴 139.953995 35.891659\n",
      "千葉県柏市若柴 139.953995 35.891659\n",
      "千葉県柏市若柴 139.953995 35.891659\n",
      "千葉県柏市若柴 139.953995 35.891659\n",
      "千葉県柏市若柴 139.953995 35.891659\n",
      "千葉県柏市若柴 139.953995 35.891659\n",
      "千葉県柏市若柴 139.953995 35.891659\n",
      "千葉県柏市若柴 139.953995 35.891659\n",
      "千葉県柏市若柴 139.953995 35.891659\n",
      "千葉県柏市若柴 139.953995 35.891659\n",
      "千葉県柏市若柴 139.953995 35.891659\n",
      "千葉県柏市若柴 139.953995 35.891659\n",
      "千葉県柏市若柴 139.953995 35.891659\n",
      "千葉県柏市若柴 139.953995 35.891659\n",
      "千葉県柏市若柴 139.953995 35.891659\n",
      "千葉県柏市若柴 139.953995 35.891659\n",
      "千葉県柏市柏の葉４丁目 139.937088 35.896427\n",
      "千葉県柏市柏の葉６丁目 139.944931 35.896942\n",
      "千葉県柏市東１丁目 139.97847 35.857388\n",
      "千葉県柏市東上町 139.977722 35.859604\n",
      "千葉県柏市東上町 139.977722 35.859604\n",
      "千葉県柏市泉町 139.967957 35.856449\n",
      "千葉県柏市泉町 139.967957 35.856449\n",
      "千葉県柏市泉町 139.967957 35.856449\n",
      "千葉県柏市泉町 139.967957 35.856449\n",
      "千葉県柏市柏 139.986511 35.864445\n",
      "千葉県柏市柏 139.986511 35.864445\n",
      "千葉県柏市柏 139.986511 35.864445\n",
      "千葉県柏市柏 139.986511 35.864445\n",
      "千葉県柏市柏 139.986511 35.864445\n",
      "千葉県柏市柏 139.986511 35.864445\n",
      "千葉県柏市柏１丁目 139.97142 35.861809\n",
      "千葉県柏市柏１丁目 139.97142 35.861809\n",
      "千葉県柏市柏１丁目 139.97142 35.861809\n",
      "千葉県柏市柏１丁目 139.97142 35.861809\n",
      "千葉県柏市柏１丁目 139.97142 35.861809\n",
      "千葉県柏市柏１丁目 139.97142 35.861809\n",
      "千葉県柏市柏１丁目 139.97142 35.861809\n",
      "千葉県柏市柏１丁目 139.97142 35.861809\n",
      "千葉県柏市柏１丁目 139.97142 35.861809\n",
      "千葉県柏市柏１丁目 139.97142 35.861809\n",
      "千葉県柏市柏１丁目 139.97142 35.861809\n",
      "千葉県柏市柏１丁目 139.97142 35.861809\n",
      "千葉県柏市柏２丁目 139.973999 35.861694\n",
      "千葉県柏市柏２丁目 139.973999 35.861694\n",
      "千葉県柏市柏２丁目 139.973999 35.861694\n",
      "千葉県柏市柏２丁目 139.973999 35.861694\n",
      "千葉県柏市柏２丁目 139.973999 35.861694\n",
      "千葉県柏市柏２丁目 139.973999 35.861694\n",
      "千葉県柏市柏３丁目 139.975159 35.860302\n",
      "千葉県柏市柏３丁目 139.975159 35.860302\n",
      "千葉県柏市柏３丁目 139.975159 35.860302\n",
      "千葉県柏市柏３丁目 139.975159 35.860302\n",
      "千葉県柏市柏３丁目 139.975159 35.860302\n",
      "千葉県柏市柏３丁目 139.975159 35.860302\n",
      "千葉県柏市柏３丁目 139.975159 35.860302\n",
      "千葉県柏市柏３丁目 139.975159 35.860302\n",
      "千葉県柏市柏４丁目 139.974228 35.863529\n",
      "千葉県柏市柏４丁目 139.974228 35.863529\n",
      "千葉県柏市柏４丁目 139.974228 35.863529\n",
      "千葉県柏市柏４丁目 139.974228 35.863529\n",
      "千葉県柏市柏４丁目 139.974228 35.863529\n",
      "千葉県柏市柏５丁目 139.97612 35.866447\n",
      "千葉県柏市柏５丁目 139.97612 35.866447\n",
      "千葉県柏市柏５丁目 139.97612 35.866447\n",
      "千葉県柏市柏５丁目 139.97612 35.866447\n",
      "千葉県柏市柏５丁目 139.97612 35.866447\n",
      "千葉県柏市柏５丁目 139.97612 35.866447\n",
      "千葉県柏市柏５丁目 139.97612 35.866447\n",
      "千葉県柏市柏５丁目 139.97612 35.866447\n",
      "千葉県柏市柏５丁目 139.97612 35.866447\n",
      "千葉県柏市柏５丁目 139.97612 35.866447\n",
      "千葉県柏市柏６丁目 139.977219 35.864346\n",
      "千葉県柏市柏６丁目 139.977219 35.864346\n",
      "千葉県柏市柏６丁目 139.977219 35.864346\n",
      "千葉県柏市柏６丁目 139.977219 35.864346\n",
      "千葉県柏市柏７丁目 139.97995 35.862926\n",
      "千葉県柏市桜台 139.981522 35.860554\n",
      "千葉県柏市桜台 139.981522 35.860554\n",
      "千葉県柏市末広町 139.970398 35.862904\n",
      "千葉県柏市中央１丁目 139.972931 35.857903\n",
      "千葉県柏市中央２丁目 139.972137 35.855583\n",
      "千葉県柏市中央２丁目 139.972137 35.855583\n",
      "千葉県柏市中央２丁目 139.972137 35.855583\n",
      "千葉県柏市中央２丁目 139.972137 35.855583\n",
      "千葉県柏市中央町 139.970566 35.859303\n",
      "千葉県柏市中央町 139.970566 35.859303\n",
      "千葉県柏市中央町 139.970566 35.859303\n",
      "千葉県柏市中央町 139.970566 35.859303\n",
      "千葉県柏市中央町 139.970566 35.859303\n",
      "千葉県柏市中央町 139.970566 35.859303\n",
      "千葉県柏市中央町 139.970566 35.859303\n",
      "千葉県柏市中央町 139.970566 35.859303\n",
      "千葉県柏市中央町 139.970566 35.859303\n",
      "千葉県柏市富里２丁目 139.96521 35.853264\n",
      "千葉県柏市富里２丁目 139.96521 35.853264\n",
      "千葉県柏市北柏台 139.992081 35.876255\n",
      "千葉県柏市岩井 140.034134 35.84705\n",
      "千葉県柏市東台本町 139.983749 35.858639\n",
      "千葉県柏市永楽台１丁目 139.968948 35.844578\n",
      "千葉県柏市柏 139.986511 35.864445\n",
      "千葉県柏市柏 139.986511 35.864445\n",
      "千葉県柏市柏 139.986511 35.864445\n",
      "千葉県柏市柏 139.986511 35.864445\n",
      "千葉県柏市柏３丁目 139.975159 35.860302\n",
      "千葉県柏市関場町 139.983734 35.850071\n",
      "千葉県柏市関場町 139.983734 35.850071\n",
      "千葉県柏市千代田１丁目 139.976288 35.856525\n",
      "千葉県柏市千代田２丁目 139.975143 35.853741\n",
      "千葉県柏市千代田２丁目 139.975143 35.853741\n",
      "千葉県柏市千代田２丁目 139.975143 35.853741\n",
      "千葉県柏市千代田３丁目 139.977646 35.853451\n",
      "千葉県柏市つくしが丘５丁目 139.96756 35.83136\n",
      "千葉県柏市戸張 139.993591 35.856003\n",
      "千葉県柏市戸張 139.993591 35.856003\n",
      "千葉県柏市戸張 139.993591 35.856003\n",
      "千葉県柏市戸張 139.993591 35.856003\n",
      "千葉県柏市若柴 139.953995 35.891659\n",
      "千葉県柏市若葉町 139.971054 35.85392\n",
      "千葉県柏市若葉町 139.971054 35.85392\n",
      "千葉県柏市若葉町 139.971054 35.85392\n",
      "千葉県柏市若葉町 139.971054 35.85392\n",
      "千葉県柏市東柏１丁目 139.987534 35.851498\n",
      "千葉県柏市東柏２丁目 139.987366 35.849293\n",
      "千葉県柏市船戸 139.952377 35.915867\n",
      "千葉県柏市船戸山高野 139.939484 35.923737\n",
      "千葉県柏市船戸山高野 139.939484 35.923737\n",
      "千葉県柏市大室 139.961746 35.911968\n",
      "千葉県柏市大室 139.961746 35.911968\n",
      "千葉県柏市大室 139.961746 35.911968\n",
      "千葉県柏市大室 139.961746 35.911968\n",
      "千葉県柏市大室 139.961746 35.911968\n",
      "千葉県柏市大室 139.961746 35.911968\n",
      "千葉県柏市大室 139.961746 35.911968\n",
      "千葉県柏市大室 139.961746 35.911968\n",
      "千葉県柏市小青田 139.956726 35.916023\n",
      "千葉県柏市小青田 139.956726 35.916023\n",
      "千葉県柏市小青田 139.956726 35.916023\n",
      "千葉県柏市小青田５丁目 139.959076 35.915054\n",
      "千葉県柏市小青田５丁目 139.959076 35.915054\n",
      "千葉県柏市小青田５丁目 139.959076 35.915054\n",
      "千葉県柏市小青田５丁目 139.959076 35.915054\n",
      "千葉県柏市花野井 139.974243 35.896736\n",
      "千葉県柏市花野井 139.974243 35.896736\n",
      "千葉県柏市花野井 139.974243 35.896736\n",
      "千葉県柏市花野井 139.974243 35.896736\n",
      "千葉県柏市篠籠田 139.943359 35.868122\n",
      "千葉県柏市豊四季 139.949814 35.859928\n",
      "千葉県柏市豊四季 139.949814 35.859928\n",
      "千葉県柏市豊四季 139.949814 35.859928\n",
      "千葉県柏市豊四季 139.949814 35.859928\n",
      "千葉県柏市豊四季 139.949814 35.859928\n",
      "千葉県柏市豊四季 139.949814 35.859928\n",
      "千葉県柏市豊四季 139.949814 35.859928\n",
      "千葉県柏市豊四季 139.949814 35.859928\n",
      "千葉県柏市豊平町 139.957123 35.854702\n",
      "千葉県柏市高南台１丁目 139.996078 35.804619\n",
      "千葉県柏市高南台２丁目 139.991287 35.802979\n",
      "千葉県柏市高南台３丁目 139.993011 35.805519\n",
      "千葉県柏市しいの木台３丁目 139.980179 35.801025\n",
      "千葉県柏市しいの木台４丁目 139.977814 35.80201\n",
      "千葉県柏市しいの木台４丁目 139.977814 35.80201\n",
      "千葉県柏市高柳 139.99794 35.8078\n",
      "千葉県柏市高柳 139.99794 35.8078\n",
      "千葉県柏市高柳 139.99794 35.8078\n",
      "千葉県柏市高柳 139.99794 35.8078\n",
      "千葉県柏市高柳 139.99794 35.8078\n",
      "千葉県柏市高柳 139.99794 35.8078\n",
      "千葉県柏市高柳 139.99794 35.8078\n",
      "千葉県柏市高柳 139.99794 35.8078\n",
      "千葉県柏市高柳 139.99794 35.8078\n",
      "千葉県柏市高柳 139.99794 35.8078\n",
      "千葉県柏市高柳 139.99794 35.8078\n",
      "千葉県柏市高柳１丁目 139.99794 35.8078\n",
      "千葉県柏市高柳１丁目 139.99794 35.8078\n",
      "千葉県柏市高柳１丁目 139.99794 35.8078\n",
      "千葉県柏市高柳１丁目 139.99794 35.8078\n",
      "千葉県柏市高柳１丁目 139.99794 35.8078\n",
      "千葉県柏市高柳２丁目 139.996445 35.809856\n",
      "千葉県柏市高田 139.949219 35.877697\n"
     ]
    }
   ],
   "source": [
    "# kashiwaデータフレームをループ\n",
    "for i,row in kashiwa.iterrows():\n",
    "\n",
    "    # ジオコーティング成功\n",
    "    if geocode(row['住所']) != False:\n",
    "        # 座標を変数に\n",
    "        lon = geocode(row['住所'])[0]\n",
    "        lat = geocode(row['住所'])[1]\n",
    "\n",
    "        # データフレームに値をインプット        \n",
    "        kashiwa.loc[i,'lon'] = lon\n",
    "        kashiwa.loc[i,'lat'] = lat\n",
    "\n",
    "        # 結果をprint\n",
    "        print(row['住所'],lon,lat)\n",
    "    \n",
    "    # ジオコーティング失敗\n",
    "    else:\n",
    "        print(row['住所'],'ジオコーティング失敗')\n",
    "        continue"
   ]
  },
  {
   "cell_type": "code",
   "execution_count": 40,
   "metadata": {
    "slideshow": {
     "slide_type": "slide"
    }
   },
   "outputs": [
    {
     "data": {
      "text/html": [
       "<div>\n",
       "<style scoped>\n",
       "    .dataframe tbody tr th:only-of-type {\n",
       "        vertical-align: middle;\n",
       "    }\n",
       "\n",
       "    .dataframe tbody tr th {\n",
       "        vertical-align: top;\n",
       "    }\n",
       "\n",
       "    .dataframe thead th {\n",
       "        text-align: right;\n",
       "    }\n",
       "</style>\n",
       "<table border=\"1\" class=\"dataframe\">\n",
       "  <thead>\n",
       "    <tr style=\"text-align: right;\">\n",
       "      <th></th>\n",
       "      <th>罪名</th>\n",
       "      <th>手口</th>\n",
       "      <th>管轄警察署（発生地）</th>\n",
       "      <th>管轄交番・駐在所（発生地）</th>\n",
       "      <th>市区町村コード（発生地）</th>\n",
       "      <th>都道府県（発生地）</th>\n",
       "      <th>市区町村（発生地）</th>\n",
       "      <th>町丁目（発生地）</th>\n",
       "      <th>発生年月日（始期）</th>\n",
       "      <th>発生時（始期）</th>\n",
       "      <th>発生場所</th>\n",
       "      <th>発生場所の詳細</th>\n",
       "      <th>被害者の年齢</th>\n",
       "      <th>被害者の職業</th>\n",
       "      <th>施錠関係</th>\n",
       "      <th>住所</th>\n",
       "      <th>lat</th>\n",
       "      <th>lon</th>\n",
       "    </tr>\n",
       "  </thead>\n",
       "  <tbody>\n",
       "    <tr>\n",
       "      <th>3117</th>\n",
       "      <td>窃盗</td>\n",
       "      <td>自転車盗</td>\n",
       "      <td>柏</td>\n",
       "      <td>柏駅前交番</td>\n",
       "      <td>122173</td>\n",
       "      <td>千葉県</td>\n",
       "      <td>柏市</td>\n",
       "      <td>柏３丁目</td>\n",
       "      <td>2022-04-25</td>\n",
       "      <td>18</td>\n",
       "      <td>駐車（輪）場</td>\n",
       "      <td>駐車（輪）場</td>\n",
       "      <td>20歳代</td>\n",
       "      <td>その他</td>\n",
       "      <td>施錠せず</td>\n",
       "      <td>千葉県柏市柏３丁目</td>\n",
       "      <td>35.860302</td>\n",
       "      <td>139.975159</td>\n",
       "    </tr>\n",
       "    <tr>\n",
       "      <th>2925</th>\n",
       "      <td>窃盗</td>\n",
       "      <td>自転車盗</td>\n",
       "      <td>柏</td>\n",
       "      <td>増尾駅前交番</td>\n",
       "      <td>122173</td>\n",
       "      <td>千葉県</td>\n",
       "      <td>柏市</td>\n",
       "      <td>増尾台４丁目</td>\n",
       "      <td>2022-09-05</td>\n",
       "      <td>21</td>\n",
       "      <td>一戸建住宅</td>\n",
       "      <td>その他</td>\n",
       "      <td>10歳代</td>\n",
       "      <td>高校生</td>\n",
       "      <td>施錠せず</td>\n",
       "      <td>千葉県柏市増尾台４丁目</td>\n",
       "      <td>35.821732</td>\n",
       "      <td>139.973206</td>\n",
       "    </tr>\n",
       "    <tr>\n",
       "      <th>3185</th>\n",
       "      <td>窃盗</td>\n",
       "      <td>自転車盗</td>\n",
       "      <td>柏</td>\n",
       "      <td>緑ヶ丘交番</td>\n",
       "      <td>122173</td>\n",
       "      <td>千葉県</td>\n",
       "      <td>柏市</td>\n",
       "      <td>若葉町</td>\n",
       "      <td>2022-03-18</td>\n",
       "      <td>20</td>\n",
       "      <td>４階建て以上共同住宅</td>\n",
       "      <td>駐車（輪）場</td>\n",
       "      <td>10歳代</td>\n",
       "      <td>高校生</td>\n",
       "      <td>施錠せず</td>\n",
       "      <td>千葉県柏市若葉町</td>\n",
       "      <td>35.853920</td>\n",
       "      <td>139.971054</td>\n",
       "    </tr>\n",
       "    <tr>\n",
       "      <th>3042</th>\n",
       "      <td>窃盗</td>\n",
       "      <td>自転車盗</td>\n",
       "      <td>柏</td>\n",
       "      <td>松葉町交番</td>\n",
       "      <td>122173</td>\n",
       "      <td>千葉県</td>\n",
       "      <td>柏市</td>\n",
       "      <td>松葉町４丁目</td>\n",
       "      <td>2022-04-22</td>\n",
       "      <td>18</td>\n",
       "      <td>４階建て以上共同住宅</td>\n",
       "      <td>その他</td>\n",
       "      <td>70歳以上</td>\n",
       "      <td>その他</td>\n",
       "      <td>施錠した</td>\n",
       "      <td>千葉県柏市松葉町４丁目</td>\n",
       "      <td>35.889114</td>\n",
       "      <td>139.971802</td>\n",
       "    </tr>\n",
       "    <tr>\n",
       "      <th>3057</th>\n",
       "      <td>窃盗</td>\n",
       "      <td>自転車盗</td>\n",
       "      <td>柏</td>\n",
       "      <td>松葉町交番</td>\n",
       "      <td>122173</td>\n",
       "      <td>千葉県</td>\n",
       "      <td>柏市</td>\n",
       "      <td>大山台２丁目</td>\n",
       "      <td>2022-12-20</td>\n",
       "      <td>16</td>\n",
       "      <td>その他</td>\n",
       "      <td>駐車（輪）場</td>\n",
       "      <td>30歳代</td>\n",
       "      <td>その他</td>\n",
       "      <td>施錠せず</td>\n",
       "      <td>千葉県柏市大山台２丁目</td>\n",
       "      <td>35.882580</td>\n",
       "      <td>139.969193</td>\n",
       "    </tr>\n",
       "  </tbody>\n",
       "</table>\n",
       "</div>"
      ],
      "text/plain": [
       "      罪名    手口 管轄警察署（発生地） 管轄交番・駐在所（発生地）  市区町村コード（発生地） 都道府県（発生地） 市区町村（発生地）   \n",
       "3117  窃盗  自転車盗          柏         柏駅前交番        122173       千葉県        柏市  \\\n",
       "2925  窃盗  自転車盗          柏        増尾駅前交番        122173       千葉県        柏市   \n",
       "3185  窃盗  自転車盗          柏         緑ヶ丘交番        122173       千葉県        柏市   \n",
       "3042  窃盗  自転車盗          柏         松葉町交番        122173       千葉県        柏市   \n",
       "3057  窃盗  自転車盗          柏         松葉町交番        122173       千葉県        柏市   \n",
       "\n",
       "     町丁目（発生地）   発生年月日（始期） 発生時（始期）        発生場所 発生場所の詳細 被害者の年齢 被害者の職業  施錠関係   \n",
       "3117     柏３丁目  2022-04-25      18      駐車（輪）場  駐車（輪）場   20歳代    その他  施錠せず  \\\n",
       "2925   増尾台４丁目  2022-09-05      21       一戸建住宅     その他   10歳代    高校生  施錠せず   \n",
       "3185      若葉町  2022-03-18      20  ４階建て以上共同住宅  駐車（輪）場   10歳代    高校生  施錠せず   \n",
       "3042   松葉町４丁目  2022-04-22      18  ４階建て以上共同住宅     その他  70歳以上    その他  施錠した   \n",
       "3057   大山台２丁目  2022-12-20      16         その他  駐車（輪）場   30歳代    その他  施錠せず   \n",
       "\n",
       "               住所        lat         lon  \n",
       "3117    千葉県柏市柏３丁目  35.860302  139.975159  \n",
       "2925  千葉県柏市増尾台４丁目  35.821732  139.973206  \n",
       "3185     千葉県柏市若葉町  35.853920  139.971054  \n",
       "3042  千葉県柏市松葉町４丁目  35.889114  139.971802  \n",
       "3057  千葉県柏市大山台２丁目  35.882580  139.969193  "
      ]
     },
     "execution_count": 40,
     "metadata": {},
     "output_type": "execute_result"
    }
   ],
   "source": [
    "# check your output\n",
    "kashiwa.sample(5)"
   ]
  },
  {
   "attachments": {},
   "cell_type": "markdown",
   "metadata": {
    "slideshow": {
     "slide_type": "slide"
    }
   },
   "source": [
    "## Let's map it!\n",
    "\n",
    "待ってました、いよいよマップタイム！"
   ]
  },
  {
   "cell_type": "code",
   "execution_count": 41,
   "metadata": {
    "slideshow": {
     "slide_type": "fragment"
    }
   },
   "outputs": [],
   "source": [
    "# 全データの中央座標\n",
    "center_lat = kashiwa.lat.mean()\n",
    "center_lon = kashiwa.lon.mean()"
   ]
  },
  {
   "cell_type": "code",
   "execution_count": 42,
   "metadata": {
    "slideshow": {
     "slide_type": "slide"
    }
   },
   "outputs": [
    {
     "data": {
      "text/html": [
       "<div style=\"width:100%;\"><div style=\"position:relative;width:100%;height:0;padding-bottom:60%;\"><span style=\"color:#565656\">Make this Notebook Trusted to load map: File -> Trust Notebook</span><iframe srcdoc=\"&lt;!DOCTYPE html&gt;\n",
       "&lt;html&gt;\n",
       "&lt;head&gt;\n",
       "    \n",
       "    &lt;meta http-equiv=&quot;content-type&quot; content=&quot;text/html; charset=UTF-8&quot; /&gt;\n",
       "    \n",
       "        &lt;script&gt;\n",
       "            L_NO_TOUCH = false;\n",
       "            L_DISABLE_3D = false;\n",
       "        &lt;/script&gt;\n",
       "    \n",
       "    &lt;style&gt;html, body {width: 100%;height: 100%;margin: 0;padding: 0;}&lt;/style&gt;\n",
       "    &lt;style&gt;#map {position:absolute;top:0;bottom:0;right:0;left:0;}&lt;/style&gt;\n",
       "    &lt;script src=&quot;https://cdn.jsdelivr.net/npm/leaflet@1.9.3/dist/leaflet.js&quot;&gt;&lt;/script&gt;\n",
       "    &lt;script src=&quot;https://code.jquery.com/jquery-1.12.4.min.js&quot;&gt;&lt;/script&gt;\n",
       "    &lt;script src=&quot;https://cdn.jsdelivr.net/npm/bootstrap@5.2.2/dist/js/bootstrap.bundle.min.js&quot;&gt;&lt;/script&gt;\n",
       "    &lt;script src=&quot;https://cdnjs.cloudflare.com/ajax/libs/Leaflet.awesome-markers/2.0.2/leaflet.awesome-markers.js&quot;&gt;&lt;/script&gt;\n",
       "    &lt;link rel=&quot;stylesheet&quot; href=&quot;https://cdn.jsdelivr.net/npm/leaflet@1.9.3/dist/leaflet.css&quot;/&gt;\n",
       "    &lt;link rel=&quot;stylesheet&quot; href=&quot;https://cdn.jsdelivr.net/npm/bootstrap@5.2.2/dist/css/bootstrap.min.css&quot;/&gt;\n",
       "    &lt;link rel=&quot;stylesheet&quot; href=&quot;https://netdna.bootstrapcdn.com/bootstrap/3.0.0/css/bootstrap.min.css&quot;/&gt;\n",
       "    &lt;link rel=&quot;stylesheet&quot; href=&quot;https://cdn.jsdelivr.net/npm/@fortawesome/fontawesome-free@6.2.0/css/all.min.css&quot;/&gt;\n",
       "    &lt;link rel=&quot;stylesheet&quot; href=&quot;https://cdnjs.cloudflare.com/ajax/libs/Leaflet.awesome-markers/2.0.2/leaflet.awesome-markers.css&quot;/&gt;\n",
       "    &lt;link rel=&quot;stylesheet&quot; href=&quot;https://cdn.jsdelivr.net/gh/python-visualization/folium/folium/templates/leaflet.awesome.rotate.min.css&quot;/&gt;\n",
       "    \n",
       "            &lt;meta name=&quot;viewport&quot; content=&quot;width=device-width,\n",
       "                initial-scale=1.0, maximum-scale=1.0, user-scalable=no&quot; /&gt;\n",
       "            &lt;style&gt;\n",
       "                #map_42c5d24bc452cc35f10425b4a99175b9 {\n",
       "                    position: relative;\n",
       "                    width: 100.0%;\n",
       "                    height: 100.0%;\n",
       "                    left: 0.0%;\n",
       "                    top: 0.0%;\n",
       "                }\n",
       "                .leaflet-container { font-size: 1rem; }\n",
       "            &lt;/style&gt;\n",
       "        \n",
       "    &lt;script src=&quot;https://cdnjs.cloudflare.com/ajax/libs/leaflet.markercluster/1.1.0/leaflet.markercluster.js&quot;&gt;&lt;/script&gt;\n",
       "    &lt;link rel=&quot;stylesheet&quot; href=&quot;https://cdnjs.cloudflare.com/ajax/libs/leaflet.markercluster/1.1.0/MarkerCluster.css&quot;/&gt;\n",
       "    &lt;link rel=&quot;stylesheet&quot; href=&quot;https://cdnjs.cloudflare.com/ajax/libs/leaflet.markercluster/1.1.0/MarkerCluster.Default.css&quot;/&gt;\n",
       "&lt;/head&gt;\n",
       "&lt;body&gt;\n",
       "    \n",
       "    \n",
       "            &lt;div class=&quot;folium-map&quot; id=&quot;map_42c5d24bc452cc35f10425b4a99175b9&quot; &gt;&lt;/div&gt;\n",
       "        \n",
       "&lt;/body&gt;\n",
       "&lt;script&gt;\n",
       "    \n",
       "    \n",
       "            var map_42c5d24bc452cc35f10425b4a99175b9 = L.map(\n",
       "                &quot;map_42c5d24bc452cc35f10425b4a99175b9&quot;,\n",
       "                {\n",
       "                    center: [35.8561031762208, 139.9728003906582],\n",
       "                    crs: L.CRS.EPSG3857,\n",
       "                    zoom: 12,\n",
       "                    zoomControl: true,\n",
       "                    preferCanvas: false,\n",
       "                }\n",
       "            );\n",
       "\n",
       "            \n",
       "\n",
       "        \n",
       "    \n",
       "            var tile_layer_0f96595612af429b8c8b98c6fe71b42a = L.tileLayer(\n",
       "                &quot;https://{s}.tile.openstreetmap.org/{z}/{x}/{y}.png&quot;,\n",
       "                {&quot;attribution&quot;: &quot;Data by \\u0026copy; \\u003ca target=\\&quot;_blank\\&quot; href=\\&quot;http://openstreetmap.org\\&quot;\\u003eOpenStreetMap\\u003c/a\\u003e, under \\u003ca target=\\&quot;_blank\\&quot; href=\\&quot;http://www.openstreetmap.org/copyright\\&quot;\\u003eODbL\\u003c/a\\u003e.&quot;, &quot;detectRetina&quot;: false, &quot;maxNativeZoom&quot;: 18, &quot;maxZoom&quot;: 18, &quot;minZoom&quot;: 0, &quot;noWrap&quot;: false, &quot;opacity&quot;: 1, &quot;subdomains&quot;: &quot;abc&quot;, &quot;tms&quot;: false}\n",
       "            ).addTo(map_42c5d24bc452cc35f10425b4a99175b9);\n",
       "        \n",
       "    \n",
       "            var marker_cluster_f5402a4fc6ed0df5afbd40eaf92801dd = L.markerClusterGroup(\n",
       "                {}\n",
       "            );\n",
       "            map_42c5d24bc452cc35f10425b4a99175b9.addLayer(marker_cluster_f5402a4fc6ed0df5afbd40eaf92801dd);\n",
       "        \n",
       "    \n",
       "            var marker_f364f8a38a8dede9e84f1a2f165bc95f = L.marker(\n",
       "                [35.841019, 139.956406],\n",
       "                {}\n",
       "            ).addTo(marker_cluster_f5402a4fc6ed0df5afbd40eaf92801dd);\n",
       "        \n",
       "    \n",
       "            marker_f364f8a38a8dede9e84f1a2f165bc95f.bindTooltip(\n",
       "                `&lt;div&gt;\n",
       "                     30歳代\n",
       "                 &lt;/div&gt;`,\n",
       "                {&quot;sticky&quot;: true}\n",
       "            );\n",
       "        \n",
       "    \n",
       "            var marker_d4c17fdd0375c459f6bc43624c3a109c = L.marker(\n",
       "                [35.841019, 139.956406],\n",
       "                {}\n",
       "            ).addTo(marker_cluster_f5402a4fc6ed0df5afbd40eaf92801dd);\n",
       "        \n",
       "    \n",
       "            marker_d4c17fdd0375c459f6bc43624c3a109c.bindTooltip(\n",
       "                `&lt;div&gt;\n",
       "                     60-64歳\n",
       "                 &lt;/div&gt;`,\n",
       "                {&quot;sticky&quot;: true}\n",
       "            );\n",
       "        \n",
       "    \n",
       "            var marker_e5fef655966707fae844a808783baebb = L.marker(\n",
       "                [35.841019, 139.956406],\n",
       "                {}\n",
       "            ).addTo(marker_cluster_f5402a4fc6ed0df5afbd40eaf92801dd);\n",
       "        \n",
       "    \n",
       "            marker_e5fef655966707fae844a808783baebb.bindTooltip(\n",
       "                `&lt;div&gt;\n",
       "                     20歳代\n",
       "                 &lt;/div&gt;`,\n",
       "                {&quot;sticky&quot;: true}\n",
       "            );\n",
       "        \n",
       "    \n",
       "            var marker_d203e10c1d0d5cb7cffe09ce8a8f99df = L.marker(\n",
       "                [35.841019, 139.956406],\n",
       "                {}\n",
       "            ).addTo(marker_cluster_f5402a4fc6ed0df5afbd40eaf92801dd);\n",
       "        \n",
       "    \n",
       "            marker_d203e10c1d0d5cb7cffe09ce8a8f99df.bindTooltip(\n",
       "                `&lt;div&gt;\n",
       "                     10歳代\n",
       "                 &lt;/div&gt;`,\n",
       "                {&quot;sticky&quot;: true}\n",
       "            );\n",
       "        \n",
       "    \n",
       "            var marker_4493678277449c967fd43e6acd6fb065 = L.marker(\n",
       "                [35.841019, 139.956406],\n",
       "                {}\n",
       "            ).addTo(marker_cluster_f5402a4fc6ed0df5afbd40eaf92801dd);\n",
       "        \n",
       "    \n",
       "            marker_4493678277449c967fd43e6acd6fb065.bindTooltip(\n",
       "                `&lt;div&gt;\n",
       "                     10歳未満\n",
       "                 &lt;/div&gt;`,\n",
       "                {&quot;sticky&quot;: true}\n",
       "            );\n",
       "        \n",
       "    \n",
       "            var marker_547b6f842b7f9205e80f0c530c323a31 = L.marker(\n",
       "                [35.81815, 139.957825],\n",
       "                {}\n",
       "            ).addTo(marker_cluster_f5402a4fc6ed0df5afbd40eaf92801dd);\n",
       "        \n",
       "    \n",
       "            marker_547b6f842b7f9205e80f0c530c323a31.bindTooltip(\n",
       "                `&lt;div&gt;\n",
       "                     40歳代\n",
       "                 &lt;/div&gt;`,\n",
       "                {&quot;sticky&quot;: true}\n",
       "            );\n",
       "        \n",
       "    \n",
       "            var marker_0c013473cf7ded80f7a433dc5e2fe549 = L.marker(\n",
       "                [35.818859, 139.965973],\n",
       "                {}\n",
       "            ).addTo(marker_cluster_f5402a4fc6ed0df5afbd40eaf92801dd);\n",
       "        \n",
       "    \n",
       "            marker_0c013473cf7ded80f7a433dc5e2fe549.bindTooltip(\n",
       "                `&lt;div&gt;\n",
       "                     10歳代\n",
       "                 &lt;/div&gt;`,\n",
       "                {&quot;sticky&quot;: true}\n",
       "            );\n",
       "        \n",
       "    \n",
       "            var marker_d811b69fa4a6084c6ccb4afef1b8ce38 = L.marker(\n",
       "                [35.820488, 139.960007],\n",
       "                {}\n",
       "            ).addTo(marker_cluster_f5402a4fc6ed0df5afbd40eaf92801dd);\n",
       "        \n",
       "    \n",
       "            marker_d811b69fa4a6084c6ccb4afef1b8ce38.bindTooltip(\n",
       "                `&lt;div&gt;\n",
       "                     70歳以上\n",
       "                 &lt;/div&gt;`,\n",
       "                {&quot;sticky&quot;: true}\n",
       "            );\n",
       "        \n",
       "    \n",
       "            var marker_844fa404f0e62f3d2545aa5976405e92 = L.marker(\n",
       "                [35.824585, 139.961349],\n",
       "                {}\n",
       "            ).addTo(marker_cluster_f5402a4fc6ed0df5afbd40eaf92801dd);\n",
       "        \n",
       "    \n",
       "            marker_844fa404f0e62f3d2545aa5976405e92.bindTooltip(\n",
       "                `&lt;div&gt;\n",
       "                     30歳代\n",
       "                 &lt;/div&gt;`,\n",
       "                {&quot;sticky&quot;: true}\n",
       "            );\n",
       "        \n",
       "    \n",
       "            var marker_d8218ece32c3c9e7b123a50211c1c00f = L.marker(\n",
       "                [35.824585, 139.961349],\n",
       "                {}\n",
       "            ).addTo(marker_cluster_f5402a4fc6ed0df5afbd40eaf92801dd);\n",
       "        \n",
       "    \n",
       "            marker_d8218ece32c3c9e7b123a50211c1c00f.bindTooltip(\n",
       "                `&lt;div&gt;\n",
       "                     10歳未満\n",
       "                 &lt;/div&gt;`,\n",
       "                {&quot;sticky&quot;: true}\n",
       "            );\n",
       "        \n",
       "    \n",
       "            var marker_f59e741f6b8d8a0f901373b6d0485238 = L.marker(\n",
       "                [35.815441, 139.982468],\n",
       "                {}\n",
       "            ).addTo(marker_cluster_f5402a4fc6ed0df5afbd40eaf92801dd);\n",
       "        \n",
       "    \n",
       "            marker_f59e741f6b8d8a0f901373b6d0485238.bindTooltip(\n",
       "                `&lt;div&gt;\n",
       "                     10歳代\n",
       "                 &lt;/div&gt;`,\n",
       "                {&quot;sticky&quot;: true}\n",
       "            );\n",
       "        \n",
       "    \n",
       "            var marker_ab01fcc2c93c369da174c27c521d9713 = L.marker(\n",
       "                [35.83292, 139.946884],\n",
       "                {}\n",
       "            ).addTo(marker_cluster_f5402a4fc6ed0df5afbd40eaf92801dd);\n",
       "        \n",
       "    \n",
       "            marker_ab01fcc2c93c369da174c27c521d9713.bindTooltip(\n",
       "                `&lt;div&gt;\n",
       "                     10歳代\n",
       "                 &lt;/div&gt;`,\n",
       "                {&quot;sticky&quot;: true}\n",
       "            );\n",
       "        \n",
       "    \n",
       "            var marker_f031b66cf9a12d977466a18a66745bb8 = L.marker(\n",
       "                [35.82056, 139.95401],\n",
       "                {}\n",
       "            ).addTo(marker_cluster_f5402a4fc6ed0df5afbd40eaf92801dd);\n",
       "        \n",
       "    \n",
       "            marker_f031b66cf9a12d977466a18a66745bb8.bindTooltip(\n",
       "                `&lt;div&gt;\n",
       "                     10歳代\n",
       "                 &lt;/div&gt;`,\n",
       "                {&quot;sticky&quot;: true}\n",
       "            );\n",
       "        \n",
       "    \n",
       "            var marker_49d47ce3b971fc96e6e450253a423cd6 = L.marker(\n",
       "                [35.833195, 139.957794],\n",
       "                {}\n",
       "            ).addTo(marker_cluster_f5402a4fc6ed0df5afbd40eaf92801dd);\n",
       "        \n",
       "    \n",
       "            marker_49d47ce3b971fc96e6e450253a423cd6.bindTooltip(\n",
       "                `&lt;div&gt;\n",
       "                     30歳代\n",
       "                 &lt;/div&gt;`,\n",
       "                {&quot;sticky&quot;: true}\n",
       "            );\n",
       "        \n",
       "    \n",
       "            var marker_8fe16ccac6ceaae4c6c6f7b3ca0cb6ce = L.marker(\n",
       "                [35.833195, 139.957794],\n",
       "                {}\n",
       "            ).addTo(marker_cluster_f5402a4fc6ed0df5afbd40eaf92801dd);\n",
       "        \n",
       "    \n",
       "            marker_8fe16ccac6ceaae4c6c6f7b3ca0cb6ce.bindTooltip(\n",
       "                `&lt;div&gt;\n",
       "                     30歳代\n",
       "                 &lt;/div&gt;`,\n",
       "                {&quot;sticky&quot;: true}\n",
       "            );\n",
       "        \n",
       "    \n",
       "            var marker_47e96d2afdd4362cf2c0169a596ca517 = L.marker(\n",
       "                [35.829479, 139.957809],\n",
       "                {}\n",
       "            ).addTo(marker_cluster_f5402a4fc6ed0df5afbd40eaf92801dd);\n",
       "        \n",
       "    \n",
       "            marker_47e96d2afdd4362cf2c0169a596ca517.bindTooltip(\n",
       "                `&lt;div&gt;\n",
       "                     10歳代\n",
       "                 &lt;/div&gt;`,\n",
       "                {&quot;sticky&quot;: true}\n",
       "            );\n",
       "        \n",
       "    \n",
       "            var marker_a18d36c340b44730037e86b3b9bc2f83 = L.marker(\n",
       "                [35.833984, 139.960556],\n",
       "                {}\n",
       "            ).addTo(marker_cluster_f5402a4fc6ed0df5afbd40eaf92801dd);\n",
       "        \n",
       "    \n",
       "            marker_a18d36c340b44730037e86b3b9bc2f83.bindTooltip(\n",
       "                `&lt;div&gt;\n",
       "                     10歳代\n",
       "                 &lt;/div&gt;`,\n",
       "                {&quot;sticky&quot;: true}\n",
       "            );\n",
       "        \n",
       "    \n",
       "            var marker_0e22ecd95cf030697832f06a32a60617 = L.marker(\n",
       "                [35.833984, 139.960556],\n",
       "                {}\n",
       "            ).addTo(marker_cluster_f5402a4fc6ed0df5afbd40eaf92801dd);\n",
       "        \n",
       "    \n",
       "            marker_0e22ecd95cf030697832f06a32a60617.bindTooltip(\n",
       "                `&lt;div&gt;\n",
       "                     10歳未満\n",
       "                 &lt;/div&gt;`,\n",
       "                {&quot;sticky&quot;: true}\n",
       "            );\n",
       "        \n",
       "    \n",
       "            var marker_155c8e3a2dc3aefb00509c0785a54a04 = L.marker(\n",
       "                [35.833984, 139.960556],\n",
       "                {}\n",
       "            ).addTo(marker_cluster_f5402a4fc6ed0df5afbd40eaf92801dd);\n",
       "        \n",
       "    \n",
       "            marker_155c8e3a2dc3aefb00509c0785a54a04.bindTooltip(\n",
       "                `&lt;div&gt;\n",
       "                     10歳代\n",
       "                 &lt;/div&gt;`,\n",
       "                {&quot;sticky&quot;: true}\n",
       "            );\n",
       "        \n",
       "    \n",
       "            var marker_374dbf978a62444278423981d0653ec1 = L.marker(\n",
       "                [35.864445, 139.986511],\n",
       "                {}\n",
       "            ).addTo(marker_cluster_f5402a4fc6ed0df5afbd40eaf92801dd);\n",
       "        \n",
       "    \n",
       "            marker_374dbf978a62444278423981d0653ec1.bindTooltip(\n",
       "                `&lt;div&gt;\n",
       "                     50歳代\n",
       "                 &lt;/div&gt;`,\n",
       "                {&quot;sticky&quot;: true}\n",
       "            );\n",
       "        \n",
       "    \n",
       "            var marker_3cb3b1742f7f450e989e325326bb8f2d = L.marker(\n",
       "                [35.864445, 139.986511],\n",
       "                {}\n",
       "            ).addTo(marker_cluster_f5402a4fc6ed0df5afbd40eaf92801dd);\n",
       "        \n",
       "    \n",
       "            marker_3cb3b1742f7f450e989e325326bb8f2d.bindTooltip(\n",
       "                `&lt;div&gt;\n",
       "                     30歳代\n",
       "                 &lt;/div&gt;`,\n",
       "                {&quot;sticky&quot;: true}\n",
       "            );\n",
       "        \n",
       "    \n",
       "            var marker_09d8b4510e8f3a9d6151ec60e7009600 = L.marker(\n",
       "                [35.864445, 139.986511],\n",
       "                {}\n",
       "            ).addTo(marker_cluster_f5402a4fc6ed0df5afbd40eaf92801dd);\n",
       "        \n",
       "    \n",
       "            marker_09d8b4510e8f3a9d6151ec60e7009600.bindTooltip(\n",
       "                `&lt;div&gt;\n",
       "                     40歳代\n",
       "                 &lt;/div&gt;`,\n",
       "                {&quot;sticky&quot;: true}\n",
       "            );\n",
       "        \n",
       "    \n",
       "            var marker_7435e6eb8503a377ce09e765b11fbe4b = L.marker(\n",
       "                [35.870007, 139.983795],\n",
       "                {}\n",
       "            ).addTo(marker_cluster_f5402a4fc6ed0df5afbd40eaf92801dd);\n",
       "        \n",
       "    \n",
       "            marker_7435e6eb8503a377ce09e765b11fbe4b.bindTooltip(\n",
       "                `&lt;div&gt;\n",
       "                     65-69歳\n",
       "                 &lt;/div&gt;`,\n",
       "                {&quot;sticky&quot;: true}\n",
       "            );\n",
       "        \n",
       "    \n",
       "            var marker_010cfc4122babdd6291234a0987c5219 = L.marker(\n",
       "                [35.875332, 139.983582],\n",
       "                {}\n",
       "            ).addTo(marker_cluster_f5402a4fc6ed0df5afbd40eaf92801dd);\n",
       "        \n",
       "    \n",
       "            marker_010cfc4122babdd6291234a0987c5219.bindTooltip(\n",
       "                `&lt;div&gt;\n",
       "                     20歳代\n",
       "                 &lt;/div&gt;`,\n",
       "                {&quot;sticky&quot;: true}\n",
       "            );\n",
       "        \n",
       "    \n",
       "            var marker_2f6ca057a7d3474e1e84e5721fca21a6 = L.marker(\n",
       "                [35.872643, 139.989914],\n",
       "                {}\n",
       "            ).addTo(marker_cluster_f5402a4fc6ed0df5afbd40eaf92801dd);\n",
       "        \n",
       "    \n",
       "            marker_2f6ca057a7d3474e1e84e5721fca21a6.bindTooltip(\n",
       "                `&lt;div&gt;\n",
       "                     60-64歳\n",
       "                 &lt;/div&gt;`,\n",
       "                {&quot;sticky&quot;: true}\n",
       "            );\n",
       "        \n",
       "    \n",
       "            var marker_30e51e20df83fad9feec0ffdf566ebe5 = L.marker(\n",
       "                [35.872643, 139.989914],\n",
       "                {}\n",
       "            ).addTo(marker_cluster_f5402a4fc6ed0df5afbd40eaf92801dd);\n",
       "        \n",
       "    \n",
       "            marker_30e51e20df83fad9feec0ffdf566ebe5.bindTooltip(\n",
       "                `&lt;div&gt;\n",
       "                     20歳代\n",
       "                 &lt;/div&gt;`,\n",
       "                {&quot;sticky&quot;: true}\n",
       "            );\n",
       "        \n",
       "    \n",
       "            var marker_3b86c6a51e8b5f21e42b767e5c2dcd77 = L.marker(\n",
       "                [35.872643, 139.989914],\n",
       "                {}\n",
       "            ).addTo(marker_cluster_f5402a4fc6ed0df5afbd40eaf92801dd);\n",
       "        \n",
       "    \n",
       "            marker_3b86c6a51e8b5f21e42b767e5c2dcd77.bindTooltip(\n",
       "                `&lt;div&gt;\n",
       "                     30歳代\n",
       "                 &lt;/div&gt;`,\n",
       "                {&quot;sticky&quot;: true}\n",
       "            );\n",
       "        \n",
       "    \n",
       "            var marker_609d02fd5b12fa8ea4fed90ac9ee0a68 = L.marker(\n",
       "                [35.872192, 139.987793],\n",
       "                {}\n",
       "            ).addTo(marker_cluster_f5402a4fc6ed0df5afbd40eaf92801dd);\n",
       "        \n",
       "    \n",
       "            marker_609d02fd5b12fa8ea4fed90ac9ee0a68.bindTooltip(\n",
       "                `&lt;div&gt;\n",
       "                     10歳代\n",
       "                 &lt;/div&gt;`,\n",
       "                {&quot;sticky&quot;: true}\n",
       "            );\n",
       "        \n",
       "    \n",
       "            var marker_668b904c07bfc68aa8ed43d5e728db63 = L.marker(\n",
       "                [35.872192, 139.987793],\n",
       "                {}\n",
       "            ).addTo(marker_cluster_f5402a4fc6ed0df5afbd40eaf92801dd);\n",
       "        \n",
       "    \n",
       "            marker_668b904c07bfc68aa8ed43d5e728db63.bindTooltip(\n",
       "                `&lt;div&gt;\n",
       "                     40歳代\n",
       "                 &lt;/div&gt;`,\n",
       "                {&quot;sticky&quot;: true}\n",
       "            );\n",
       "        \n",
       "    \n",
       "            var marker_e0964443e2f6e8ef27cee138a36ce278 = L.marker(\n",
       "                [35.870586, 139.986893],\n",
       "                {}\n",
       "            ).addTo(marker_cluster_f5402a4fc6ed0df5afbd40eaf92801dd);\n",
       "        \n",
       "    \n",
       "            marker_e0964443e2f6e8ef27cee138a36ce278.bindTooltip(\n",
       "                `&lt;div&gt;\n",
       "                     20歳代\n",
       "                 &lt;/div&gt;`,\n",
       "                {&quot;sticky&quot;: true}\n",
       "            );\n",
       "        \n",
       "    \n",
       "            var marker_7dc40fa147dba61dcac80ebf81e0a601 = L.marker(\n",
       "                [35.870586, 139.986893],\n",
       "                {}\n",
       "            ).addTo(marker_cluster_f5402a4fc6ed0df5afbd40eaf92801dd);\n",
       "        \n",
       "    \n",
       "            marker_7dc40fa147dba61dcac80ebf81e0a601.bindTooltip(\n",
       "                `&lt;div&gt;\n",
       "                     20歳代\n",
       "                 &lt;/div&gt;`,\n",
       "                {&quot;sticky&quot;: true}\n",
       "            );\n",
       "        \n",
       "    \n",
       "            var marker_2ae18858a412a349a5b2f11ececbb5bb = L.marker(\n",
       "                [35.868679, 139.990295],\n",
       "                {}\n",
       "            ).addTo(marker_cluster_f5402a4fc6ed0df5afbd40eaf92801dd);\n",
       "        \n",
       "    \n",
       "            marker_2ae18858a412a349a5b2f11ececbb5bb.bindTooltip(\n",
       "                `&lt;div&gt;\n",
       "                     30歳代\n",
       "                 &lt;/div&gt;`,\n",
       "                {&quot;sticky&quot;: true}\n",
       "            );\n",
       "        \n",
       "    \n",
       "            var marker_59063684c0d244d514b1a3f7e648f516 = L.marker(\n",
       "                [35.887501, 139.985229],\n",
       "                {}\n",
       "            ).addTo(marker_cluster_f5402a4fc6ed0df5afbd40eaf92801dd);\n",
       "        \n",
       "    \n",
       "            marker_59063684c0d244d514b1a3f7e648f516.bindTooltip(\n",
       "                `&lt;div&gt;\n",
       "                     10歳未満\n",
       "                 &lt;/div&gt;`,\n",
       "                {&quot;sticky&quot;: true}\n",
       "            );\n",
       "        \n",
       "    \n",
       "            var marker_853a73ef1522bca9ac55bb2374ecdfd5 = L.marker(\n",
       "                [35.887501, 139.985229],\n",
       "                {}\n",
       "            ).addTo(marker_cluster_f5402a4fc6ed0df5afbd40eaf92801dd);\n",
       "        \n",
       "    \n",
       "            marker_853a73ef1522bca9ac55bb2374ecdfd5.bindTooltip(\n",
       "                `&lt;div&gt;\n",
       "                     10歳代\n",
       "                 &lt;/div&gt;`,\n",
       "                {&quot;sticky&quot;: true}\n",
       "            );\n",
       "        \n",
       "    \n",
       "            var marker_479e0c201ef1c1e7c639b40e5dcc1b78 = L.marker(\n",
       "                [35.88113, 139.98645],\n",
       "                {}\n",
       "            ).addTo(marker_cluster_f5402a4fc6ed0df5afbd40eaf92801dd);\n",
       "        \n",
       "    \n",
       "            marker_479e0c201ef1c1e7c639b40e5dcc1b78.bindTooltip(\n",
       "                `&lt;div&gt;\n",
       "                     20歳代\n",
       "                 &lt;/div&gt;`,\n",
       "                {&quot;sticky&quot;: true}\n",
       "            );\n",
       "        \n",
       "    \n",
       "            var marker_28aea2c59615d6d583aba00088165dd3 = L.marker(\n",
       "                [35.88113, 139.98645],\n",
       "                {}\n",
       "            ).addTo(marker_cluster_f5402a4fc6ed0df5afbd40eaf92801dd);\n",
       "        \n",
       "    \n",
       "            marker_28aea2c59615d6d583aba00088165dd3.bindTooltip(\n",
       "                `&lt;div&gt;\n",
       "                     50歳代\n",
       "                 &lt;/div&gt;`,\n",
       "                {&quot;sticky&quot;: true}\n",
       "            );\n",
       "        \n",
       "    \n",
       "            var marker_243b99aeb8ffbf5a48fa4a065129a072 = L.marker(\n",
       "                [35.88113, 139.98645],\n",
       "                {}\n",
       "            ).addTo(marker_cluster_f5402a4fc6ed0df5afbd40eaf92801dd);\n",
       "        \n",
       "    \n",
       "            marker_243b99aeb8ffbf5a48fa4a065129a072.bindTooltip(\n",
       "                `&lt;div&gt;\n",
       "                     40歳代\n",
       "                 &lt;/div&gt;`,\n",
       "                {&quot;sticky&quot;: true}\n",
       "            );\n",
       "        \n",
       "    \n",
       "            var marker_c32c00472f8f707b283c0a92c99953c5 = L.marker(\n",
       "                [35.88113, 139.98645],\n",
       "                {}\n",
       "            ).addTo(marker_cluster_f5402a4fc6ed0df5afbd40eaf92801dd);\n",
       "        \n",
       "    \n",
       "            marker_c32c00472f8f707b283c0a92c99953c5.bindTooltip(\n",
       "                `&lt;div&gt;\n",
       "                     40歳代\n",
       "                 &lt;/div&gt;`,\n",
       "                {&quot;sticky&quot;: true}\n",
       "            );\n",
       "        \n",
       "    \n",
       "            var marker_3bee10f439a29d7272144436af981301 = L.marker(\n",
       "                [35.88113, 139.98645],\n",
       "                {}\n",
       "            ).addTo(marker_cluster_f5402a4fc6ed0df5afbd40eaf92801dd);\n",
       "        \n",
       "    \n",
       "            marker_3bee10f439a29d7272144436af981301.bindTooltip(\n",
       "                `&lt;div&gt;\n",
       "                     60-64歳\n",
       "                 &lt;/div&gt;`,\n",
       "                {&quot;sticky&quot;: true}\n",
       "            );\n",
       "        \n",
       "    \n",
       "            var marker_f97fd4bd50ee2807f2a5d278ce578f9d = L.marker(\n",
       "                [35.88113, 139.98645],\n",
       "                {}\n",
       "            ).addTo(marker_cluster_f5402a4fc6ed0df5afbd40eaf92801dd);\n",
       "        \n",
       "    \n",
       "            marker_f97fd4bd50ee2807f2a5d278ce578f9d.bindTooltip(\n",
       "                `&lt;div&gt;\n",
       "                     10歳代\n",
       "                 &lt;/div&gt;`,\n",
       "                {&quot;sticky&quot;: true}\n",
       "            );\n",
       "        \n",
       "    \n",
       "            var marker_191da8335786ccf017f5fe5aebcc5d47 = L.marker(\n",
       "                [35.88113, 139.98645],\n",
       "                {}\n",
       "            ).addTo(marker_cluster_f5402a4fc6ed0df5afbd40eaf92801dd);\n",
       "        \n",
       "    \n",
       "            marker_191da8335786ccf017f5fe5aebcc5d47.bindTooltip(\n",
       "                `&lt;div&gt;\n",
       "                     10歳代\n",
       "                 &lt;/div&gt;`,\n",
       "                {&quot;sticky&quot;: true}\n",
       "            );\n",
       "        \n",
       "    \n",
       "            var marker_fca131c6e7226f1f1fb2745a2fc3061b = L.marker(\n",
       "                [35.88113, 139.98645],\n",
       "                {}\n",
       "            ).addTo(marker_cluster_f5402a4fc6ed0df5afbd40eaf92801dd);\n",
       "        \n",
       "    \n",
       "            marker_fca131c6e7226f1f1fb2745a2fc3061b.bindTooltip(\n",
       "                `&lt;div&gt;\n",
       "                     10歳代\n",
       "                 &lt;/div&gt;`,\n",
       "                {&quot;sticky&quot;: true}\n",
       "            );\n",
       "        \n",
       "    \n",
       "            var marker_168939b3529814aab8e5743b265d6622 = L.marker(\n",
       "                [35.88113, 139.98645],\n",
       "                {}\n",
       "            ).addTo(marker_cluster_f5402a4fc6ed0df5afbd40eaf92801dd);\n",
       "        \n",
       "    \n",
       "            marker_168939b3529814aab8e5743b265d6622.bindTooltip(\n",
       "                `&lt;div&gt;\n",
       "                     40歳代\n",
       "                 &lt;/div&gt;`,\n",
       "                {&quot;sticky&quot;: true}\n",
       "            );\n",
       "        \n",
       "    \n",
       "            var marker_26a3d3dde0b1b4f0de20bb4ac1c75523 = L.marker(\n",
       "                [35.88113, 139.98645],\n",
       "                {}\n",
       "            ).addTo(marker_cluster_f5402a4fc6ed0df5afbd40eaf92801dd);\n",
       "        \n",
       "    \n",
       "            marker_26a3d3dde0b1b4f0de20bb4ac1c75523.bindTooltip(\n",
       "                `&lt;div&gt;\n",
       "                     20歳代\n",
       "                 &lt;/div&gt;`,\n",
       "                {&quot;sticky&quot;: true}\n",
       "            );\n",
       "        \n",
       "    \n",
       "            var marker_44a0c4ac23a5e4f60aad3ac6d96c73af = L.marker(\n",
       "                [35.88113, 139.98645],\n",
       "                {}\n",
       "            ).addTo(marker_cluster_f5402a4fc6ed0df5afbd40eaf92801dd);\n",
       "        \n",
       "    \n",
       "            marker_44a0c4ac23a5e4f60aad3ac6d96c73af.bindTooltip(\n",
       "                `&lt;div&gt;\n",
       "                     10歳未満\n",
       "                 &lt;/div&gt;`,\n",
       "                {&quot;sticky&quot;: true}\n",
       "            );\n",
       "        \n",
       "    \n",
       "            var marker_9cc4d51c6ca4c38d8566962dcc0b18ad = L.marker(\n",
       "                [35.88113, 139.98645],\n",
       "                {}\n",
       "            ).addTo(marker_cluster_f5402a4fc6ed0df5afbd40eaf92801dd);\n",
       "        \n",
       "    \n",
       "            marker_9cc4d51c6ca4c38d8566962dcc0b18ad.bindTooltip(\n",
       "                `&lt;div&gt;\n",
       "                     40歳代\n",
       "                 &lt;/div&gt;`,\n",
       "                {&quot;sticky&quot;: true}\n",
       "            );\n",
       "        \n",
       "    \n",
       "            var marker_c6d4e75a1baa12c3ddfd47022048e043 = L.marker(\n",
       "                [35.88113, 139.98645],\n",
       "                {}\n",
       "            ).addTo(marker_cluster_f5402a4fc6ed0df5afbd40eaf92801dd);\n",
       "        \n",
       "    \n",
       "            marker_c6d4e75a1baa12c3ddfd47022048e043.bindTooltip(\n",
       "                `&lt;div&gt;\n",
       "                     10歳代\n",
       "                 &lt;/div&gt;`,\n",
       "                {&quot;sticky&quot;: true}\n",
       "            );\n",
       "        \n",
       "    \n",
       "            var marker_a33a7a87c25b3f7133fa7b3b1538cdaf = L.marker(\n",
       "                [35.88113, 139.98645],\n",
       "                {}\n",
       "            ).addTo(marker_cluster_f5402a4fc6ed0df5afbd40eaf92801dd);\n",
       "        \n",
       "    \n",
       "            marker_a33a7a87c25b3f7133fa7b3b1538cdaf.bindTooltip(\n",
       "                `&lt;div&gt;\n",
       "                     20歳代\n",
       "                 &lt;/div&gt;`,\n",
       "                {&quot;sticky&quot;: true}\n",
       "            );\n",
       "        \n",
       "    \n",
       "            var marker_b985486eea9320e3e35d090b448afe56 = L.marker(\n",
       "                [35.88113, 139.98645],\n",
       "                {}\n",
       "            ).addTo(marker_cluster_f5402a4fc6ed0df5afbd40eaf92801dd);\n",
       "        \n",
       "    \n",
       "            marker_b985486eea9320e3e35d090b448afe56.bindTooltip(\n",
       "                `&lt;div&gt;\n",
       "                     10歳代\n",
       "                 &lt;/div&gt;`,\n",
       "                {&quot;sticky&quot;: true}\n",
       "            );\n",
       "        \n",
       "    \n",
       "            var marker_d96e57c4a586c52cc041f6dd7714195c = L.marker(\n",
       "                [35.88113, 139.98645],\n",
       "                {}\n",
       "            ).addTo(marker_cluster_f5402a4fc6ed0df5afbd40eaf92801dd);\n",
       "        \n",
       "    \n",
       "            marker_d96e57c4a586c52cc041f6dd7714195c.bindTooltip(\n",
       "                `&lt;div&gt;\n",
       "                     20歳代\n",
       "                 &lt;/div&gt;`,\n",
       "                {&quot;sticky&quot;: true}\n",
       "            );\n",
       "        \n",
       "    \n",
       "            var marker_d7df467487206fe905638761103f1c71 = L.marker(\n",
       "                [35.88113, 139.98645],\n",
       "                {}\n",
       "            ).addTo(marker_cluster_f5402a4fc6ed0df5afbd40eaf92801dd);\n",
       "        \n",
       "    \n",
       "            marker_d7df467487206fe905638761103f1c71.bindTooltip(\n",
       "                `&lt;div&gt;\n",
       "                     20歳代\n",
       "                 &lt;/div&gt;`,\n",
       "                {&quot;sticky&quot;: true}\n",
       "            );\n",
       "        \n",
       "    \n",
       "            var marker_609a1ec0ef831b285610dd427529cd5a = L.marker(\n",
       "                [35.88113, 139.98645],\n",
       "                {}\n",
       "            ).addTo(marker_cluster_f5402a4fc6ed0df5afbd40eaf92801dd);\n",
       "        \n",
       "    \n",
       "            marker_609a1ec0ef831b285610dd427529cd5a.bindTooltip(\n",
       "                `&lt;div&gt;\n",
       "                     20歳代\n",
       "                 &lt;/div&gt;`,\n",
       "                {&quot;sticky&quot;: true}\n",
       "            );\n",
       "        \n",
       "    \n",
       "            var marker_d538eb39f6bb8dee020769ac2495a0b5 = L.marker(\n",
       "                [35.88113, 139.98645],\n",
       "                {}\n",
       "            ).addTo(marker_cluster_f5402a4fc6ed0df5afbd40eaf92801dd);\n",
       "        \n",
       "    \n",
       "            marker_d538eb39f6bb8dee020769ac2495a0b5.bindTooltip(\n",
       "                `&lt;div&gt;\n",
       "                     20歳代\n",
       "                 &lt;/div&gt;`,\n",
       "                {&quot;sticky&quot;: true}\n",
       "            );\n",
       "        \n",
       "    \n",
       "            var marker_d27b83e6ac19f616b755318846a23943 = L.marker(\n",
       "                [35.88113, 139.98645],\n",
       "                {}\n",
       "            ).addTo(marker_cluster_f5402a4fc6ed0df5afbd40eaf92801dd);\n",
       "        \n",
       "    \n",
       "            marker_d27b83e6ac19f616b755318846a23943.bindTooltip(\n",
       "                `&lt;div&gt;\n",
       "                     20歳代\n",
       "                 &lt;/div&gt;`,\n",
       "                {&quot;sticky&quot;: true}\n",
       "            );\n",
       "        \n",
       "    \n",
       "            var marker_acd411dbbc921f1b38f807f7907b8f81 = L.marker(\n",
       "                [35.832733, 139.970932],\n",
       "                {}\n",
       "            ).addTo(marker_cluster_f5402a4fc6ed0df5afbd40eaf92801dd);\n",
       "        \n",
       "    \n",
       "            marker_acd411dbbc921f1b38f807f7907b8f81.bindTooltip(\n",
       "                `&lt;div&gt;\n",
       "                     20歳代\n",
       "                 &lt;/div&gt;`,\n",
       "                {&quot;sticky&quot;: true}\n",
       "            );\n",
       "        \n",
       "    \n",
       "            var marker_bcb28f991df843c3fd13a43bd20d9c4f = L.marker(\n",
       "                [35.815441, 139.982468],\n",
       "                {}\n",
       "            ).addTo(marker_cluster_f5402a4fc6ed0df5afbd40eaf92801dd);\n",
       "        \n",
       "    \n",
       "            marker_bcb28f991df843c3fd13a43bd20d9c4f.bindTooltip(\n",
       "                `&lt;div&gt;\n",
       "                     10歳代\n",
       "                 &lt;/div&gt;`,\n",
       "                {&quot;sticky&quot;: true}\n",
       "            );\n",
       "        \n",
       "    \n",
       "            var marker_8eb3f440d1ab11fcea1d13a233555f5d = L.marker(\n",
       "                [35.815441, 139.982468],\n",
       "                {}\n",
       "            ).addTo(marker_cluster_f5402a4fc6ed0df5afbd40eaf92801dd);\n",
       "        \n",
       "    \n",
       "            marker_8eb3f440d1ab11fcea1d13a233555f5d.bindTooltip(\n",
       "                `&lt;div&gt;\n",
       "                     10歳代\n",
       "                 &lt;/div&gt;`,\n",
       "                {&quot;sticky&quot;: true}\n",
       "            );\n",
       "        \n",
       "    \n",
       "            var marker_827de35051e2e4256ded90028461d7db = L.marker(\n",
       "                [35.815441, 139.982468],\n",
       "                {}\n",
       "            ).addTo(marker_cluster_f5402a4fc6ed0df5afbd40eaf92801dd);\n",
       "        \n",
       "    \n",
       "            marker_827de35051e2e4256ded90028461d7db.bindTooltip(\n",
       "                `&lt;div&gt;\n",
       "                     10歳代\n",
       "                 &lt;/div&gt;`,\n",
       "                {&quot;sticky&quot;: true}\n",
       "            );\n",
       "        \n",
       "    \n",
       "            var marker_d63106294603b647cbf70c1dd3d4d18e = L.marker(\n",
       "                [35.815441, 139.982468],\n",
       "                {}\n",
       "            ).addTo(marker_cluster_f5402a4fc6ed0df5afbd40eaf92801dd);\n",
       "        \n",
       "    \n",
       "            marker_d63106294603b647cbf70c1dd3d4d18e.bindTooltip(\n",
       "                `&lt;div&gt;\n",
       "                     10歳代\n",
       "                 &lt;/div&gt;`,\n",
       "                {&quot;sticky&quot;: true}\n",
       "            );\n",
       "        \n",
       "    \n",
       "            var marker_842bedea3706b48b7ef4540b1590eb61 = L.marker(\n",
       "                [35.815441, 139.982468],\n",
       "                {}\n",
       "            ).addTo(marker_cluster_f5402a4fc6ed0df5afbd40eaf92801dd);\n",
       "        \n",
       "    \n",
       "            marker_842bedea3706b48b7ef4540b1590eb61.bindTooltip(\n",
       "                `&lt;div&gt;\n",
       "                     20歳代\n",
       "                 &lt;/div&gt;`,\n",
       "                {&quot;sticky&quot;: true}\n",
       "            );\n",
       "        \n",
       "    \n",
       "            var marker_6d0e62ffdc8e887086f1aae9a6983db3 = L.marker(\n",
       "                [35.815441, 139.982468],\n",
       "                {}\n",
       "            ).addTo(marker_cluster_f5402a4fc6ed0df5afbd40eaf92801dd);\n",
       "        \n",
       "    \n",
       "            marker_6d0e62ffdc8e887086f1aae9a6983db3.bindTooltip(\n",
       "                `&lt;div&gt;\n",
       "                     20歳代\n",
       "                 &lt;/div&gt;`,\n",
       "                {&quot;sticky&quot;: true}\n",
       "            );\n",
       "        \n",
       "    \n",
       "            var marker_bf36d084a67612e9393a32b1d5ec3aa3 = L.marker(\n",
       "                [35.815441, 139.982468],\n",
       "                {}\n",
       "            ).addTo(marker_cluster_f5402a4fc6ed0df5afbd40eaf92801dd);\n",
       "        \n",
       "    \n",
       "            marker_bf36d084a67612e9393a32b1d5ec3aa3.bindTooltip(\n",
       "                `&lt;div&gt;\n",
       "                     70歳以上\n",
       "                 &lt;/div&gt;`,\n",
       "                {&quot;sticky&quot;: true}\n",
       "            );\n",
       "        \n",
       "    \n",
       "            var marker_815d35aa6276fd2124adae8c7c2f2699 = L.marker(\n",
       "                [35.815441, 139.982468],\n",
       "                {}\n",
       "            ).addTo(marker_cluster_f5402a4fc6ed0df5afbd40eaf92801dd);\n",
       "        \n",
       "    \n",
       "            marker_815d35aa6276fd2124adae8c7c2f2699.bindTooltip(\n",
       "                `&lt;div&gt;\n",
       "                     20歳代\n",
       "                 &lt;/div&gt;`,\n",
       "                {&quot;sticky&quot;: true}\n",
       "            );\n",
       "        \n",
       "    \n",
       "            var marker_e149e381ec1dbc58dc2c1474d5a99af2 = L.marker(\n",
       "                [35.822018, 139.983444],\n",
       "                {}\n",
       "            ).addTo(marker_cluster_f5402a4fc6ed0df5afbd40eaf92801dd);\n",
       "        \n",
       "    \n",
       "            marker_e149e381ec1dbc58dc2c1474d5a99af2.bindTooltip(\n",
       "                `&lt;div&gt;\n",
       "                     10歳代\n",
       "                 &lt;/div&gt;`,\n",
       "                {&quot;sticky&quot;: true}\n",
       "            );\n",
       "        \n",
       "    \n",
       "            var marker_b6ce9b070e84f84d7586473caa870675 = L.marker(\n",
       "                [35.822018, 139.983444],\n",
       "                {}\n",
       "            ).addTo(marker_cluster_f5402a4fc6ed0df5afbd40eaf92801dd);\n",
       "        \n",
       "    \n",
       "            marker_b6ce9b070e84f84d7586473caa870675.bindTooltip(\n",
       "                `&lt;div&gt;\n",
       "                     10歳代\n",
       "                 &lt;/div&gt;`,\n",
       "                {&quot;sticky&quot;: true}\n",
       "            );\n",
       "        \n",
       "    \n",
       "            var marker_6bf07b33c325c23d6cc3a58e84fcedf7 = L.marker(\n",
       "                [35.822018, 139.983444],\n",
       "                {}\n",
       "            ).addTo(marker_cluster_f5402a4fc6ed0df5afbd40eaf92801dd);\n",
       "        \n",
       "    \n",
       "            marker_6bf07b33c325c23d6cc3a58e84fcedf7.bindTooltip(\n",
       "                `&lt;div&gt;\n",
       "                     20歳代\n",
       "                 &lt;/div&gt;`,\n",
       "                {&quot;sticky&quot;: true}\n",
       "            );\n",
       "        \n",
       "    \n",
       "            var marker_136d86b1039bc2623e867f5fb7f83db8 = L.marker(\n",
       "                [35.824383, 139.979614],\n",
       "                {}\n",
       "            ).addTo(marker_cluster_f5402a4fc6ed0df5afbd40eaf92801dd);\n",
       "        \n",
       "    \n",
       "            marker_136d86b1039bc2623e867f5fb7f83db8.bindTooltip(\n",
       "                `&lt;div&gt;\n",
       "                     10歳代\n",
       "                 &lt;/div&gt;`,\n",
       "                {&quot;sticky&quot;: true}\n",
       "            );\n",
       "        \n",
       "    \n",
       "            var marker_d0a60a380e70f32199ba5a336e86a2a0 = L.marker(\n",
       "                [35.824383, 139.979614],\n",
       "                {}\n",
       "            ).addTo(marker_cluster_f5402a4fc6ed0df5afbd40eaf92801dd);\n",
       "        \n",
       "    \n",
       "            marker_d0a60a380e70f32199ba5a336e86a2a0.bindTooltip(\n",
       "                `&lt;div&gt;\n",
       "                     10歳代\n",
       "                 &lt;/div&gt;`,\n",
       "                {&quot;sticky&quot;: true}\n",
       "            );\n",
       "        \n",
       "    \n",
       "            var marker_8195342cad5db5ca207ce8e0df84c0b3 = L.marker(\n",
       "                [35.824383, 139.979614],\n",
       "                {}\n",
       "            ).addTo(marker_cluster_f5402a4fc6ed0df5afbd40eaf92801dd);\n",
       "        \n",
       "    \n",
       "            marker_8195342cad5db5ca207ce8e0df84c0b3.bindTooltip(\n",
       "                `&lt;div&gt;\n",
       "                     10歳代\n",
       "                 &lt;/div&gt;`,\n",
       "                {&quot;sticky&quot;: true}\n",
       "            );\n",
       "        \n",
       "    \n",
       "            var marker_c99b4900f9326016bc87069449e918b9 = L.marker(\n",
       "                [35.824383, 139.979614],\n",
       "                {}\n",
       "            ).addTo(marker_cluster_f5402a4fc6ed0df5afbd40eaf92801dd);\n",
       "        \n",
       "    \n",
       "            marker_c99b4900f9326016bc87069449e918b9.bindTooltip(\n",
       "                `&lt;div&gt;\n",
       "                     20歳代\n",
       "                 &lt;/div&gt;`,\n",
       "                {&quot;sticky&quot;: true}\n",
       "            );\n",
       "        \n",
       "    \n",
       "            var marker_524271260ad300e90a6de2665c429b75 = L.marker(\n",
       "                [35.824383, 139.979614],\n",
       "                {}\n",
       "            ).addTo(marker_cluster_f5402a4fc6ed0df5afbd40eaf92801dd);\n",
       "        \n",
       "    \n",
       "            marker_524271260ad300e90a6de2665c429b75.bindTooltip(\n",
       "                `&lt;div&gt;\n",
       "                     30歳代\n",
       "                 &lt;/div&gt;`,\n",
       "                {&quot;sticky&quot;: true}\n",
       "            );\n",
       "        \n",
       "    \n",
       "            var marker_ae5df4670de228c6f1771cedc6ec5836 = L.marker(\n",
       "                [35.824383, 139.979614],\n",
       "                {}\n",
       "            ).addTo(marker_cluster_f5402a4fc6ed0df5afbd40eaf92801dd);\n",
       "        \n",
       "    \n",
       "            marker_ae5df4670de228c6f1771cedc6ec5836.bindTooltip(\n",
       "                `&lt;div&gt;\n",
       "                     10歳代\n",
       "                 &lt;/div&gt;`,\n",
       "                {&quot;sticky&quot;: true}\n",
       "            );\n",
       "        \n",
       "    \n",
       "            var marker_f09723ef7a49199473bfe6a5ee0db177 = L.marker(\n",
       "                [35.816387, 139.974075],\n",
       "                {}\n",
       "            ).addTo(marker_cluster_f5402a4fc6ed0df5afbd40eaf92801dd);\n",
       "        \n",
       "    \n",
       "            marker_f09723ef7a49199473bfe6a5ee0db177.bindTooltip(\n",
       "                `&lt;div&gt;\n",
       "                     10歳代\n",
       "                 &lt;/div&gt;`,\n",
       "                {&quot;sticky&quot;: true}\n",
       "            );\n",
       "        \n",
       "    \n",
       "            var marker_d11bd1e506669402e32a60ec47291e7e = L.marker(\n",
       "                [35.816387, 139.974075],\n",
       "                {}\n",
       "            ).addTo(marker_cluster_f5402a4fc6ed0df5afbd40eaf92801dd);\n",
       "        \n",
       "    \n",
       "            marker_d11bd1e506669402e32a60ec47291e7e.bindTooltip(\n",
       "                `&lt;div&gt;\n",
       "                     10歳代\n",
       "                 &lt;/div&gt;`,\n",
       "                {&quot;sticky&quot;: true}\n",
       "            );\n",
       "        \n",
       "    \n",
       "            var marker_4624edb9daa898fb5783e52986aefad3 = L.marker(\n",
       "                [35.816387, 139.974075],\n",
       "                {}\n",
       "            ).addTo(marker_cluster_f5402a4fc6ed0df5afbd40eaf92801dd);\n",
       "        \n",
       "    \n",
       "            marker_4624edb9daa898fb5783e52986aefad3.bindTooltip(\n",
       "                `&lt;div&gt;\n",
       "                     10歳代\n",
       "                 &lt;/div&gt;`,\n",
       "                {&quot;sticky&quot;: true}\n",
       "            );\n",
       "        \n",
       "    \n",
       "            var marker_c2f4859cc2d97d660c6a5772c208464e = L.marker(\n",
       "                [35.818909, 139.971741],\n",
       "                {}\n",
       "            ).addTo(marker_cluster_f5402a4fc6ed0df5afbd40eaf92801dd);\n",
       "        \n",
       "    \n",
       "            marker_c2f4859cc2d97d660c6a5772c208464e.bindTooltip(\n",
       "                `&lt;div&gt;\n",
       "                     40歳代\n",
       "                 &lt;/div&gt;`,\n",
       "                {&quot;sticky&quot;: true}\n",
       "            );\n",
       "        \n",
       "    \n",
       "            var marker_3dcb1822e620c97b0476e7c1e73a597c = L.marker(\n",
       "                [35.817165, 139.96759],\n",
       "                {}\n",
       "            ).addTo(marker_cluster_f5402a4fc6ed0df5afbd40eaf92801dd);\n",
       "        \n",
       "    \n",
       "            marker_3dcb1822e620c97b0476e7c1e73a597c.bindTooltip(\n",
       "                `&lt;div&gt;\n",
       "                     10歳代\n",
       "                 &lt;/div&gt;`,\n",
       "                {&quot;sticky&quot;: true}\n",
       "            );\n",
       "        \n",
       "    \n",
       "            var marker_fbf23c75039d422e8494cfd479d944c1 = L.marker(\n",
       "                [35.814602, 139.97052],\n",
       "                {}\n",
       "            ).addTo(marker_cluster_f5402a4fc6ed0df5afbd40eaf92801dd);\n",
       "        \n",
       "    \n",
       "            marker_fbf23c75039d422e8494cfd479d944c1.bindTooltip(\n",
       "                `&lt;div&gt;\n",
       "                     70歳以上\n",
       "                 &lt;/div&gt;`,\n",
       "                {&quot;sticky&quot;: true}\n",
       "            );\n",
       "        \n",
       "    \n",
       "            var marker_cbfa58473885abfb1a603b181533d4ce = L.marker(\n",
       "                [35.814602, 139.97052],\n",
       "                {}\n",
       "            ).addTo(marker_cluster_f5402a4fc6ed0df5afbd40eaf92801dd);\n",
       "        \n",
       "    \n",
       "            marker_cbfa58473885abfb1a603b181533d4ce.bindTooltip(\n",
       "                `&lt;div&gt;\n",
       "                     50歳代\n",
       "                 &lt;/div&gt;`,\n",
       "                {&quot;sticky&quot;: true}\n",
       "            );\n",
       "        \n",
       "    \n",
       "            var marker_6cd47cc5c89eb65805a787b8d59e4408 = L.marker(\n",
       "                [35.814602, 139.97052],\n",
       "                {}\n",
       "            ).addTo(marker_cluster_f5402a4fc6ed0df5afbd40eaf92801dd);\n",
       "        \n",
       "    \n",
       "            marker_6cd47cc5c89eb65805a787b8d59e4408.bindTooltip(\n",
       "                `&lt;div&gt;\n",
       "                     30歳代\n",
       "                 &lt;/div&gt;`,\n",
       "                {&quot;sticky&quot;: true}\n",
       "            );\n",
       "        \n",
       "    \n",
       "            var marker_c863b63f19660447d47e9c507b419f04 = L.marker(\n",
       "                [35.814602, 139.97052],\n",
       "                {}\n",
       "            ).addTo(marker_cluster_f5402a4fc6ed0df5afbd40eaf92801dd);\n",
       "        \n",
       "    \n",
       "            marker_c863b63f19660447d47e9c507b419f04.bindTooltip(\n",
       "                `&lt;div&gt;\n",
       "                     10歳代\n",
       "                 &lt;/div&gt;`,\n",
       "                {&quot;sticky&quot;: true}\n",
       "            );\n",
       "        \n",
       "    \n",
       "            var marker_aa82239279ed589e9298d9f55190d629 = L.marker(\n",
       "                [35.814602, 139.97052],\n",
       "                {}\n",
       "            ).addTo(marker_cluster_f5402a4fc6ed0df5afbd40eaf92801dd);\n",
       "        \n",
       "    \n",
       "            marker_aa82239279ed589e9298d9f55190d629.bindTooltip(\n",
       "                `&lt;div&gt;\n",
       "                     20歳代\n",
       "                 &lt;/div&gt;`,\n",
       "                {&quot;sticky&quot;: true}\n",
       "            );\n",
       "        \n",
       "    \n",
       "            var marker_397c56f0b09318828c1502b9993b6163 = L.marker(\n",
       "                [35.813236, 139.966034],\n",
       "                {}\n",
       "            ).addTo(marker_cluster_f5402a4fc6ed0df5afbd40eaf92801dd);\n",
       "        \n",
       "    \n",
       "            marker_397c56f0b09318828c1502b9993b6163.bindTooltip(\n",
       "                `&lt;div&gt;\n",
       "                     10歳代\n",
       "                 &lt;/div&gt;`,\n",
       "                {&quot;sticky&quot;: true}\n",
       "            );\n",
       "        \n",
       "    \n",
       "            var marker_658616b9ce9e06cabd6b3f676e08c3bc = L.marker(\n",
       "                [35.809929, 139.966537],\n",
       "                {}\n",
       "            ).addTo(marker_cluster_f5402a4fc6ed0df5afbd40eaf92801dd);\n",
       "        \n",
       "    \n",
       "            marker_658616b9ce9e06cabd6b3f676e08c3bc.bindTooltip(\n",
       "                `&lt;div&gt;\n",
       "                     70歳以上\n",
       "                 &lt;/div&gt;`,\n",
       "                {&quot;sticky&quot;: true}\n",
       "            );\n",
       "        \n",
       "    \n",
       "            var marker_fbc106fdfcace198fb99c6e0826db550 = L.marker(\n",
       "                [35.811157, 139.963562],\n",
       "                {}\n",
       "            ).addTo(marker_cluster_f5402a4fc6ed0df5afbd40eaf92801dd);\n",
       "        \n",
       "    \n",
       "            marker_fbc106fdfcace198fb99c6e0826db550.bindTooltip(\n",
       "                `&lt;div&gt;\n",
       "                     40歳代\n",
       "                 &lt;/div&gt;`,\n",
       "                {&quot;sticky&quot;: true}\n",
       "            );\n",
       "        \n",
       "    \n",
       "            var marker_ea117e5667e1fd5d6c2a101e6d21eb16 = L.marker(\n",
       "                [35.810768, 139.959],\n",
       "                {}\n",
       "            ).addTo(marker_cluster_f5402a4fc6ed0df5afbd40eaf92801dd);\n",
       "        \n",
       "    \n",
       "            marker_ea117e5667e1fd5d6c2a101e6d21eb16.bindTooltip(\n",
       "                `&lt;div&gt;\n",
       "                     10歳代\n",
       "                 &lt;/div&gt;`,\n",
       "                {&quot;sticky&quot;: true}\n",
       "            );\n",
       "        \n",
       "    \n",
       "            var marker_a5a01a8426cd1532416d5e05103de3f2 = L.marker(\n",
       "                [35.827206, 139.976883],\n",
       "                {}\n",
       "            ).addTo(marker_cluster_f5402a4fc6ed0df5afbd40eaf92801dd);\n",
       "        \n",
       "    \n",
       "            marker_a5a01a8426cd1532416d5e05103de3f2.bindTooltip(\n",
       "                `&lt;div&gt;\n",
       "                     30歳代\n",
       "                 &lt;/div&gt;`,\n",
       "                {&quot;sticky&quot;: true}\n",
       "            );\n",
       "        \n",
       "    \n",
       "            var marker_311f0b221e225abf5beca52dd09bc48f = L.marker(\n",
       "                [35.827206, 139.976883],\n",
       "                {}\n",
       "            ).addTo(marker_cluster_f5402a4fc6ed0df5afbd40eaf92801dd);\n",
       "        \n",
       "    \n",
       "            marker_311f0b221e225abf5beca52dd09bc48f.bindTooltip(\n",
       "                `&lt;div&gt;\n",
       "                     50歳代\n",
       "                 &lt;/div&gt;`,\n",
       "                {&quot;sticky&quot;: true}\n",
       "            );\n",
       "        \n",
       "    \n",
       "            var marker_add74d2f2a7b1e8e4389f1016ab83a7c = L.marker(\n",
       "                [35.822952, 139.98671],\n",
       "                {}\n",
       "            ).addTo(marker_cluster_f5402a4fc6ed0df5afbd40eaf92801dd);\n",
       "        \n",
       "    \n",
       "            marker_add74d2f2a7b1e8e4389f1016ab83a7c.bindTooltip(\n",
       "                `&lt;div&gt;\n",
       "                     10歳代\n",
       "                 &lt;/div&gt;`,\n",
       "                {&quot;sticky&quot;: true}\n",
       "            );\n",
       "        \n",
       "    \n",
       "            var marker_8a81f283206eadcb6f9a6009b24367aa = L.marker(\n",
       "                [35.822952, 139.98671],\n",
       "                {}\n",
       "            ).addTo(marker_cluster_f5402a4fc6ed0df5afbd40eaf92801dd);\n",
       "        \n",
       "    \n",
       "            marker_8a81f283206eadcb6f9a6009b24367aa.bindTooltip(\n",
       "                `&lt;div&gt;\n",
       "                     10歳代\n",
       "                 &lt;/div&gt;`,\n",
       "                {&quot;sticky&quot;: true}\n",
       "            );\n",
       "        \n",
       "    \n",
       "            var marker_97cd1eadeef9ad469d6d12f7e54751a9 = L.marker(\n",
       "                [35.822952, 139.98671],\n",
       "                {}\n",
       "            ).addTo(marker_cluster_f5402a4fc6ed0df5afbd40eaf92801dd);\n",
       "        \n",
       "    \n",
       "            marker_97cd1eadeef9ad469d6d12f7e54751a9.bindTooltip(\n",
       "                `&lt;div&gt;\n",
       "                     10歳代\n",
       "                 &lt;/div&gt;`,\n",
       "                {&quot;sticky&quot;: true}\n",
       "            );\n",
       "        \n",
       "    \n",
       "            var marker_ec153b6203f2bafa59725b45571cf60a = L.marker(\n",
       "                [35.807571, 139.970367],\n",
       "                {}\n",
       "            ).addTo(marker_cluster_f5402a4fc6ed0df5afbd40eaf92801dd);\n",
       "        \n",
       "    \n",
       "            marker_ec153b6203f2bafa59725b45571cf60a.bindTooltip(\n",
       "                `&lt;div&gt;\n",
       "                     10歳未満\n",
       "                 &lt;/div&gt;`,\n",
       "                {&quot;sticky&quot;: true}\n",
       "            );\n",
       "        \n",
       "    \n",
       "            var marker_3cd186cc7702ca2e7690c5472f9bc798 = L.marker(\n",
       "                [35.813534, 139.957855],\n",
       "                {}\n",
       "            ).addTo(marker_cluster_f5402a4fc6ed0df5afbd40eaf92801dd);\n",
       "        \n",
       "    \n",
       "            marker_3cd186cc7702ca2e7690c5472f9bc798.bindTooltip(\n",
       "                `&lt;div&gt;\n",
       "                     10歳代\n",
       "                 &lt;/div&gt;`,\n",
       "                {&quot;sticky&quot;: true}\n",
       "            );\n",
       "        \n",
       "    \n",
       "            var marker_e468ff5e1231d837cc01239a47788b5c = L.marker(\n",
       "                [35.813534, 139.957855],\n",
       "                {}\n",
       "            ).addTo(marker_cluster_f5402a4fc6ed0df5afbd40eaf92801dd);\n",
       "        \n",
       "    \n",
       "            marker_e468ff5e1231d837cc01239a47788b5c.bindTooltip(\n",
       "                `&lt;div&gt;\n",
       "                     10歳代\n",
       "                 &lt;/div&gt;`,\n",
       "                {&quot;sticky&quot;: true}\n",
       "            );\n",
       "        \n",
       "    \n",
       "            var marker_dc7d1cfb55d8ee2388be2bbdb76f1885 = L.marker(\n",
       "                [35.812092, 139.972183],\n",
       "                {}\n",
       "            ).addTo(marker_cluster_f5402a4fc6ed0df5afbd40eaf92801dd);\n",
       "        \n",
       "    \n",
       "            marker_dc7d1cfb55d8ee2388be2bbdb76f1885.bindTooltip(\n",
       "                `&lt;div&gt;\n",
       "                     70歳以上\n",
       "                 &lt;/div&gt;`,\n",
       "                {&quot;sticky&quot;: true}\n",
       "            );\n",
       "        \n",
       "    \n",
       "            var marker_a6d72500ee740f626b117ffc4e254a8a = L.marker(\n",
       "                [35.809525, 139.970627],\n",
       "                {}\n",
       "            ).addTo(marker_cluster_f5402a4fc6ed0df5afbd40eaf92801dd);\n",
       "        \n",
       "    \n",
       "            marker_a6d72500ee740f626b117ffc4e254a8a.bindTooltip(\n",
       "                `&lt;div&gt;\n",
       "                     10歳代\n",
       "                 &lt;/div&gt;`,\n",
       "                {&quot;sticky&quot;: true}\n",
       "            );\n",
       "        \n",
       "    \n",
       "            var marker_bea6716b063696d89c31365c7994fcdc = L.marker(\n",
       "                [35.809525, 139.970627],\n",
       "                {}\n",
       "            ).addTo(marker_cluster_f5402a4fc6ed0df5afbd40eaf92801dd);\n",
       "        \n",
       "    \n",
       "            marker_bea6716b063696d89c31365c7994fcdc.bindTooltip(\n",
       "                `&lt;div&gt;\n",
       "                     10歳未満\n",
       "                 &lt;/div&gt;`,\n",
       "                {&quot;sticky&quot;: true}\n",
       "            );\n",
       "        \n",
       "    \n",
       "            var marker_149b9e5ab1e22a1b458c40e116b6ed9d = L.marker(\n",
       "                [35.809525, 139.970627],\n",
       "                {}\n",
       "            ).addTo(marker_cluster_f5402a4fc6ed0df5afbd40eaf92801dd);\n",
       "        \n",
       "    \n",
       "            marker_149b9e5ab1e22a1b458c40e116b6ed9d.bindTooltip(\n",
       "                `&lt;div&gt;\n",
       "                     20歳代\n",
       "                 &lt;/div&gt;`,\n",
       "                {&quot;sticky&quot;: true}\n",
       "            );\n",
       "        \n",
       "    \n",
       "            var marker_4ad4d41e34dddc06f93b8d1e8662b807 = L.marker(\n",
       "                [35.850155, 140.00441],\n",
       "                {}\n",
       "            ).addTo(marker_cluster_f5402a4fc6ed0df5afbd40eaf92801dd);\n",
       "        \n",
       "    \n",
       "            marker_4ad4d41e34dddc06f93b8d1e8662b807.bindTooltip(\n",
       "                `&lt;div&gt;\n",
       "                     10歳代\n",
       "                 &lt;/div&gt;`,\n",
       "                {&quot;sticky&quot;: true}\n",
       "            );\n",
       "        \n",
       "    \n",
       "            var marker_062ecf17b7f950cb4951f2ffd8071e3f = L.marker(\n",
       "                [35.824383, 139.979614],\n",
       "                {}\n",
       "            ).addTo(marker_cluster_f5402a4fc6ed0df5afbd40eaf92801dd);\n",
       "        \n",
       "    \n",
       "            marker_062ecf17b7f950cb4951f2ffd8071e3f.bindTooltip(\n",
       "                `&lt;div&gt;\n",
       "                     10歳代\n",
       "                 &lt;/div&gt;`,\n",
       "                {&quot;sticky&quot;: true}\n",
       "            );\n",
       "        \n",
       "    \n",
       "            var marker_866024b04e4a83c8f1223d2761cbecb7 = L.marker(\n",
       "                [35.85088, 139.955795],\n",
       "                {}\n",
       "            ).addTo(marker_cluster_f5402a4fc6ed0df5afbd40eaf92801dd);\n",
       "        \n",
       "    \n",
       "            marker_866024b04e4a83c8f1223d2761cbecb7.bindTooltip(\n",
       "                `&lt;div&gt;\n",
       "                     10歳代\n",
       "                 &lt;/div&gt;`,\n",
       "                {&quot;sticky&quot;: true}\n",
       "            );\n",
       "        \n",
       "    \n",
       "            var marker_4910d3180375ded0efb629c231e599f6 = L.marker(\n",
       "                [35.859928, 139.949814],\n",
       "                {}\n",
       "            ).addTo(marker_cluster_f5402a4fc6ed0df5afbd40eaf92801dd);\n",
       "        \n",
       "    \n",
       "            marker_4910d3180375ded0efb629c231e599f6.bindTooltip(\n",
       "                `&lt;div&gt;\n",
       "                     10歳代\n",
       "                 &lt;/div&gt;`,\n",
       "                {&quot;sticky&quot;: true}\n",
       "            );\n",
       "        \n",
       "    \n",
       "            var marker_be559fa064b21296c6fb7cef4874cd9c = L.marker(\n",
       "                [35.859928, 139.949814],\n",
       "                {}\n",
       "            ).addTo(marker_cluster_f5402a4fc6ed0df5afbd40eaf92801dd);\n",
       "        \n",
       "    \n",
       "            marker_be559fa064b21296c6fb7cef4874cd9c.bindTooltip(\n",
       "                `&lt;div&gt;\n",
       "                     30歳代\n",
       "                 &lt;/div&gt;`,\n",
       "                {&quot;sticky&quot;: true}\n",
       "            );\n",
       "        \n",
       "    \n",
       "            var marker_4358dca474fa650eff1120a151b9cd1c = L.marker(\n",
       "                [35.859928, 139.949814],\n",
       "                {}\n",
       "            ).addTo(marker_cluster_f5402a4fc6ed0df5afbd40eaf92801dd);\n",
       "        \n",
       "    \n",
       "            marker_4358dca474fa650eff1120a151b9cd1c.bindTooltip(\n",
       "                `&lt;div&gt;\n",
       "                     30歳代\n",
       "                 &lt;/div&gt;`,\n",
       "                {&quot;sticky&quot;: true}\n",
       "            );\n",
       "        \n",
       "    \n",
       "            var marker_8fbef0d5981c65ed4c86614e04a8b395 = L.marker(\n",
       "                [35.859928, 139.949814],\n",
       "                {}\n",
       "            ).addTo(marker_cluster_f5402a4fc6ed0df5afbd40eaf92801dd);\n",
       "        \n",
       "    \n",
       "            marker_8fbef0d5981c65ed4c86614e04a8b395.bindTooltip(\n",
       "                `&lt;div&gt;\n",
       "                     30歳代\n",
       "                 &lt;/div&gt;`,\n",
       "                {&quot;sticky&quot;: true}\n",
       "            );\n",
       "        \n",
       "    \n",
       "            var marker_46088bc7b2e974e035c3f438b92e29b6 = L.marker(\n",
       "                [35.859928, 139.949814],\n",
       "                {}\n",
       "            ).addTo(marker_cluster_f5402a4fc6ed0df5afbd40eaf92801dd);\n",
       "        \n",
       "    \n",
       "            marker_46088bc7b2e974e035c3f438b92e29b6.bindTooltip(\n",
       "                `&lt;div&gt;\n",
       "                     30歳代\n",
       "                 &lt;/div&gt;`,\n",
       "                {&quot;sticky&quot;: true}\n",
       "            );\n",
       "        \n",
       "    \n",
       "            var marker_98408c9cf6e7d6972bb622e7eeb47f13 = L.marker(\n",
       "                [35.859928, 139.949814],\n",
       "                {}\n",
       "            ).addTo(marker_cluster_f5402a4fc6ed0df5afbd40eaf92801dd);\n",
       "        \n",
       "    \n",
       "            marker_98408c9cf6e7d6972bb622e7eeb47f13.bindTooltip(\n",
       "                `&lt;div&gt;\n",
       "                     10歳代\n",
       "                 &lt;/div&gt;`,\n",
       "                {&quot;sticky&quot;: true}\n",
       "            );\n",
       "        \n",
       "    \n",
       "            var marker_d3f56dbd87698472f62a239900809950 = L.marker(\n",
       "                [35.859928, 139.949814],\n",
       "                {}\n",
       "            ).addTo(marker_cluster_f5402a4fc6ed0df5afbd40eaf92801dd);\n",
       "        \n",
       "    \n",
       "            marker_d3f56dbd87698472f62a239900809950.bindTooltip(\n",
       "                `&lt;div&gt;\n",
       "                     20歳代\n",
       "                 &lt;/div&gt;`,\n",
       "                {&quot;sticky&quot;: true}\n",
       "            );\n",
       "        \n",
       "    \n",
       "            var marker_7baabf61a4564cc5dc5c31a4f60f8880 = L.marker(\n",
       "                [35.859928, 139.949814],\n",
       "                {}\n",
       "            ).addTo(marker_cluster_f5402a4fc6ed0df5afbd40eaf92801dd);\n",
       "        \n",
       "    \n",
       "            marker_7baabf61a4564cc5dc5c31a4f60f8880.bindTooltip(\n",
       "                `&lt;div&gt;\n",
       "                     10歳代\n",
       "                 &lt;/div&gt;`,\n",
       "                {&quot;sticky&quot;: true}\n",
       "            );\n",
       "        \n",
       "    \n",
       "            var marker_59868a966d9b73d093bf7ba243422156 = L.marker(\n",
       "                [35.845783, 139.953476],\n",
       "                {}\n",
       "            ).addTo(marker_cluster_f5402a4fc6ed0df5afbd40eaf92801dd);\n",
       "        \n",
       "    \n",
       "            marker_59868a966d9b73d093bf7ba243422156.bindTooltip(\n",
       "                `&lt;div&gt;\n",
       "                     30歳代\n",
       "                 &lt;/div&gt;`,\n",
       "                {&quot;sticky&quot;: true}\n",
       "            );\n",
       "        \n",
       "    \n",
       "            var marker_3c27b9c4043ddd105dd49fd0143f1dc4 = L.marker(\n",
       "                [35.845783, 139.953476],\n",
       "                {}\n",
       "            ).addTo(marker_cluster_f5402a4fc6ed0df5afbd40eaf92801dd);\n",
       "        \n",
       "    \n",
       "            marker_3c27b9c4043ddd105dd49fd0143f1dc4.bindTooltip(\n",
       "                `&lt;div&gt;\n",
       "                     10歳代\n",
       "                 &lt;/div&gt;`,\n",
       "                {&quot;sticky&quot;: true}\n",
       "            );\n",
       "        \n",
       "    \n",
       "            var marker_6036b8f9a895ebb16261288206e21660 = L.marker(\n",
       "                [35.845783, 139.953476],\n",
       "                {}\n",
       "            ).addTo(marker_cluster_f5402a4fc6ed0df5afbd40eaf92801dd);\n",
       "        \n",
       "    \n",
       "            marker_6036b8f9a895ebb16261288206e21660.bindTooltip(\n",
       "                `&lt;div&gt;\n",
       "                     20歳代\n",
       "                 &lt;/div&gt;`,\n",
       "                {&quot;sticky&quot;: true}\n",
       "            );\n",
       "        \n",
       "    \n",
       "            var marker_1f4819d618268b5ce9c6378d7c5a2ea4 = L.marker(\n",
       "                [35.845783, 139.953476],\n",
       "                {}\n",
       "            ).addTo(marker_cluster_f5402a4fc6ed0df5afbd40eaf92801dd);\n",
       "        \n",
       "    \n",
       "            marker_1f4819d618268b5ce9c6378d7c5a2ea4.bindTooltip(\n",
       "                `&lt;div&gt;\n",
       "                     10歳代\n",
       "                 &lt;/div&gt;`,\n",
       "                {&quot;sticky&quot;: true}\n",
       "            );\n",
       "        \n",
       "    \n",
       "            var marker_8447fd6b6f7d5e0bd40d50cfe6a939df = L.marker(\n",
       "                [35.845783, 139.953476],\n",
       "                {}\n",
       "            ).addTo(marker_cluster_f5402a4fc6ed0df5afbd40eaf92801dd);\n",
       "        \n",
       "    \n",
       "            marker_8447fd6b6f7d5e0bd40d50cfe6a939df.bindTooltip(\n",
       "                `&lt;div&gt;\n",
       "                     30歳代\n",
       "                 &lt;/div&gt;`,\n",
       "                {&quot;sticky&quot;: true}\n",
       "            );\n",
       "        \n",
       "    \n",
       "            var marker_d21bdd0007c904c2ac84d196584590c1 = L.marker(\n",
       "                [35.845783, 139.953476],\n",
       "                {}\n",
       "            ).addTo(marker_cluster_f5402a4fc6ed0df5afbd40eaf92801dd);\n",
       "        \n",
       "    \n",
       "            marker_d21bdd0007c904c2ac84d196584590c1.bindTooltip(\n",
       "                `&lt;div&gt;\n",
       "                     50歳代\n",
       "                 &lt;/div&gt;`,\n",
       "                {&quot;sticky&quot;: true}\n",
       "            );\n",
       "        \n",
       "    \n",
       "            var marker_835a92f18da2638a15db4087e1006bbd = L.marker(\n",
       "                [35.845783, 139.953476],\n",
       "                {}\n",
       "            ).addTo(marker_cluster_f5402a4fc6ed0df5afbd40eaf92801dd);\n",
       "        \n",
       "    \n",
       "            marker_835a92f18da2638a15db4087e1006bbd.bindTooltip(\n",
       "                `&lt;div&gt;\n",
       "                     20歳代\n",
       "                 &lt;/div&gt;`,\n",
       "                {&quot;sticky&quot;: true}\n",
       "            );\n",
       "        \n",
       "    \n",
       "            var marker_5add0001cecf8246dfb5f13f48b6bccc = L.marker(\n",
       "                [35.847271, 139.955032],\n",
       "                {}\n",
       "            ).addTo(marker_cluster_f5402a4fc6ed0df5afbd40eaf92801dd);\n",
       "        \n",
       "    \n",
       "            marker_5add0001cecf8246dfb5f13f48b6bccc.bindTooltip(\n",
       "                `&lt;div&gt;\n",
       "                     20歳代\n",
       "                 &lt;/div&gt;`,\n",
       "                {&quot;sticky&quot;: true}\n",
       "            );\n",
       "        \n",
       "    \n",
       "            var marker_3e1c940fe32335574b406db52c59be7c = L.marker(\n",
       "                [35.847271, 139.955032],\n",
       "                {}\n",
       "            ).addTo(marker_cluster_f5402a4fc6ed0df5afbd40eaf92801dd);\n",
       "        \n",
       "    \n",
       "            marker_3e1c940fe32335574b406db52c59be7c.bindTooltip(\n",
       "                `&lt;div&gt;\n",
       "                     10歳代\n",
       "                 &lt;/div&gt;`,\n",
       "                {&quot;sticky&quot;: true}\n",
       "            );\n",
       "        \n",
       "    \n",
       "            var marker_7bd3558ef81d3c11795008066887f9b9 = L.marker(\n",
       "                [35.847271, 139.955032],\n",
       "                {}\n",
       "            ).addTo(marker_cluster_f5402a4fc6ed0df5afbd40eaf92801dd);\n",
       "        \n",
       "    \n",
       "            marker_7bd3558ef81d3c11795008066887f9b9.bindTooltip(\n",
       "                `&lt;div&gt;\n",
       "                     10歳代\n",
       "                 &lt;/div&gt;`,\n",
       "                {&quot;sticky&quot;: true}\n",
       "            );\n",
       "        \n",
       "    \n",
       "            var marker_30f2aafd526cab98f2af9bf9e3b4a401 = L.marker(\n",
       "                [35.847271, 139.955032],\n",
       "                {}\n",
       "            ).addTo(marker_cluster_f5402a4fc6ed0df5afbd40eaf92801dd);\n",
       "        \n",
       "    \n",
       "            marker_30f2aafd526cab98f2af9bf9e3b4a401.bindTooltip(\n",
       "                `&lt;div&gt;\n",
       "                     10歳代\n",
       "                 &lt;/div&gt;`,\n",
       "                {&quot;sticky&quot;: true}\n",
       "            );\n",
       "        \n",
       "    \n",
       "            var marker_c862da5e3c5501382d4ca3c9dca04cd6 = L.marker(\n",
       "                [35.851013, 139.960251],\n",
       "                {}\n",
       "            ).addTo(marker_cluster_f5402a4fc6ed0df5afbd40eaf92801dd);\n",
       "        \n",
       "    \n",
       "            marker_c862da5e3c5501382d4ca3c9dca04cd6.bindTooltip(\n",
       "                `&lt;div&gt;\n",
       "                     10歳代\n",
       "                 &lt;/div&gt;`,\n",
       "                {&quot;sticky&quot;: true}\n",
       "            );\n",
       "        \n",
       "    \n",
       "            var marker_1b8bbd2190b8e1b12a261981f76ed57b = L.marker(\n",
       "                [35.851013, 139.960251],\n",
       "                {}\n",
       "            ).addTo(marker_cluster_f5402a4fc6ed0df5afbd40eaf92801dd);\n",
       "        \n",
       "    \n",
       "            marker_1b8bbd2190b8e1b12a261981f76ed57b.bindTooltip(\n",
       "                `&lt;div&gt;\n",
       "                     10歳代\n",
       "                 &lt;/div&gt;`,\n",
       "                {&quot;sticky&quot;: true}\n",
       "            );\n",
       "        \n",
       "    \n",
       "            var marker_df6051681b45ae51baf6c4fc585bc8de = L.marker(\n",
       "                [35.851013, 139.960251],\n",
       "                {}\n",
       "            ).addTo(marker_cluster_f5402a4fc6ed0df5afbd40eaf92801dd);\n",
       "        \n",
       "    \n",
       "            marker_df6051681b45ae51baf6c4fc585bc8de.bindTooltip(\n",
       "                `&lt;div&gt;\n",
       "                     20歳代\n",
       "                 &lt;/div&gt;`,\n",
       "                {&quot;sticky&quot;: true}\n",
       "            );\n",
       "        \n",
       "    \n",
       "            var marker_c44be7a632a6ce9496bd4b8ea920a6ee = L.marker(\n",
       "                [35.844471, 139.954956],\n",
       "                {}\n",
       "            ).addTo(marker_cluster_f5402a4fc6ed0df5afbd40eaf92801dd);\n",
       "        \n",
       "    \n",
       "            marker_c44be7a632a6ce9496bd4b8ea920a6ee.bindTooltip(\n",
       "                `&lt;div&gt;\n",
       "                     20歳代\n",
       "                 &lt;/div&gt;`,\n",
       "                {&quot;sticky&quot;: true}\n",
       "            );\n",
       "        \n",
       "    \n",
       "            var marker_f371bea672e55f00feff8d8c3d56ac56 = L.marker(\n",
       "                [35.844471, 139.954956],\n",
       "                {}\n",
       "            ).addTo(marker_cluster_f5402a4fc6ed0df5afbd40eaf92801dd);\n",
       "        \n",
       "    \n",
       "            marker_f371bea672e55f00feff8d8c3d56ac56.bindTooltip(\n",
       "                `&lt;div&gt;\n",
       "                     10歳代\n",
       "                 &lt;/div&gt;`,\n",
       "                {&quot;sticky&quot;: true}\n",
       "            );\n",
       "        \n",
       "    \n",
       "            var marker_8e9d8b75bb71dc0ddbba13cd5e079254 = L.marker(\n",
       "                [35.844471, 139.954956],\n",
       "                {}\n",
       "            ).addTo(marker_cluster_f5402a4fc6ed0df5afbd40eaf92801dd);\n",
       "        \n",
       "    \n",
       "            marker_8e9d8b75bb71dc0ddbba13cd5e079254.bindTooltip(\n",
       "                `&lt;div&gt;\n",
       "                     10歳代\n",
       "                 &lt;/div&gt;`,\n",
       "                {&quot;sticky&quot;: true}\n",
       "            );\n",
       "        \n",
       "    \n",
       "            var marker_5a7ab57e8108af43d8571250f05b2a9c = L.marker(\n",
       "                [35.844471, 139.954956],\n",
       "                {}\n",
       "            ).addTo(marker_cluster_f5402a4fc6ed0df5afbd40eaf92801dd);\n",
       "        \n",
       "    \n",
       "            marker_5a7ab57e8108af43d8571250f05b2a9c.bindTooltip(\n",
       "                `&lt;div&gt;\n",
       "                     10歳代\n",
       "                 &lt;/div&gt;`,\n",
       "                {&quot;sticky&quot;: true}\n",
       "            );\n",
       "        \n",
       "    \n",
       "            var marker_cf21abad9a82ef7054b7e6ad996e94fa = L.marker(\n",
       "                [35.844471, 139.954956],\n",
       "                {}\n",
       "            ).addTo(marker_cluster_f5402a4fc6ed0df5afbd40eaf92801dd);\n",
       "        \n",
       "    \n",
       "            marker_cf21abad9a82ef7054b7e6ad996e94fa.bindTooltip(\n",
       "                `&lt;div&gt;\n",
       "                     10歳代\n",
       "                 &lt;/div&gt;`,\n",
       "                {&quot;sticky&quot;: true}\n",
       "            );\n",
       "        \n",
       "    \n",
       "            var marker_53a68fc74e36dd71819711a8b444765f = L.marker(\n",
       "                [35.844471, 139.954956],\n",
       "                {}\n",
       "            ).addTo(marker_cluster_f5402a4fc6ed0df5afbd40eaf92801dd);\n",
       "        \n",
       "    \n",
       "            marker_53a68fc74e36dd71819711a8b444765f.bindTooltip(\n",
       "                `&lt;div&gt;\n",
       "                     10歳代\n",
       "                 &lt;/div&gt;`,\n",
       "                {&quot;sticky&quot;: true}\n",
       "            );\n",
       "        \n",
       "    \n",
       "            var marker_ab22cbcd76b5fbc8631250b4d1fe84c5 = L.marker(\n",
       "                [35.844471, 139.954956],\n",
       "                {}\n",
       "            ).addTo(marker_cluster_f5402a4fc6ed0df5afbd40eaf92801dd);\n",
       "        \n",
       "    \n",
       "            marker_ab22cbcd76b5fbc8631250b4d1fe84c5.bindTooltip(\n",
       "                `&lt;div&gt;\n",
       "                     30歳代\n",
       "                 &lt;/div&gt;`,\n",
       "                {&quot;sticky&quot;: true}\n",
       "            );\n",
       "        \n",
       "    \n",
       "            var marker_5b5e5d6df790109b8b554e37143e5004 = L.marker(\n",
       "                [35.844471, 139.954956],\n",
       "                {}\n",
       "            ).addTo(marker_cluster_f5402a4fc6ed0df5afbd40eaf92801dd);\n",
       "        \n",
       "    \n",
       "            marker_5b5e5d6df790109b8b554e37143e5004.bindTooltip(\n",
       "                `&lt;div&gt;\n",
       "                     20歳代\n",
       "                 &lt;/div&gt;`,\n",
       "                {&quot;sticky&quot;: true}\n",
       "            );\n",
       "        \n",
       "    \n",
       "            var marker_27d8e25ff72d9d5866676058d7c3999b = L.marker(\n",
       "                [35.844471, 139.954956],\n",
       "                {}\n",
       "            ).addTo(marker_cluster_f5402a4fc6ed0df5afbd40eaf92801dd);\n",
       "        \n",
       "    \n",
       "            marker_27d8e25ff72d9d5866676058d7c3999b.bindTooltip(\n",
       "                `&lt;div&gt;\n",
       "                     10歳代\n",
       "                 &lt;/div&gt;`,\n",
       "                {&quot;sticky&quot;: true}\n",
       "            );\n",
       "        \n",
       "    \n",
       "            var marker_2386d835c0879c84fe48c5c208af11f1 = L.marker(\n",
       "                [35.844471, 139.954956],\n",
       "                {}\n",
       "            ).addTo(marker_cluster_f5402a4fc6ed0df5afbd40eaf92801dd);\n",
       "        \n",
       "    \n",
       "            marker_2386d835c0879c84fe48c5c208af11f1.bindTooltip(\n",
       "                `&lt;div&gt;\n",
       "                     10歳代\n",
       "                 &lt;/div&gt;`,\n",
       "                {&quot;sticky&quot;: true}\n",
       "            );\n",
       "        \n",
       "    \n",
       "            var marker_2fbcbf34515183c2bb5c693ec95ccb04 = L.marker(\n",
       "                [35.844471, 139.954956],\n",
       "                {}\n",
       "            ).addTo(marker_cluster_f5402a4fc6ed0df5afbd40eaf92801dd);\n",
       "        \n",
       "    \n",
       "            marker_2fbcbf34515183c2bb5c693ec95ccb04.bindTooltip(\n",
       "                `&lt;div&gt;\n",
       "                     10歳代\n",
       "                 &lt;/div&gt;`,\n",
       "                {&quot;sticky&quot;: true}\n",
       "            );\n",
       "        \n",
       "    \n",
       "            var marker_dc496be66114e2879643c81fbc05a5e2 = L.marker(\n",
       "                [35.844471, 139.954956],\n",
       "                {}\n",
       "            ).addTo(marker_cluster_f5402a4fc6ed0df5afbd40eaf92801dd);\n",
       "        \n",
       "    \n",
       "            marker_dc496be66114e2879643c81fbc05a5e2.bindTooltip(\n",
       "                `&lt;div&gt;\n",
       "                     20歳代\n",
       "                 &lt;/div&gt;`,\n",
       "                {&quot;sticky&quot;: true}\n",
       "            );\n",
       "        \n",
       "    \n",
       "            var marker_659078b3b82babed34d810bc04b5e1e8 = L.marker(\n",
       "                [35.844471, 139.954956],\n",
       "                {}\n",
       "            ).addTo(marker_cluster_f5402a4fc6ed0df5afbd40eaf92801dd);\n",
       "        \n",
       "    \n",
       "            marker_659078b3b82babed34d810bc04b5e1e8.bindTooltip(\n",
       "                `&lt;div&gt;\n",
       "                     20歳代\n",
       "                 &lt;/div&gt;`,\n",
       "                {&quot;sticky&quot;: true}\n",
       "            );\n",
       "        \n",
       "    \n",
       "            var marker_3c4aa780c4c7b7e71621403637552aa4 = L.marker(\n",
       "                [35.844471, 139.954956],\n",
       "                {}\n",
       "            ).addTo(marker_cluster_f5402a4fc6ed0df5afbd40eaf92801dd);\n",
       "        \n",
       "    \n",
       "            marker_3c4aa780c4c7b7e71621403637552aa4.bindTooltip(\n",
       "                `&lt;div&gt;\n",
       "                     40歳代\n",
       "                 &lt;/div&gt;`,\n",
       "                {&quot;sticky&quot;: true}\n",
       "            );\n",
       "        \n",
       "    \n",
       "            var marker_798cf907a8a66cf89f804acb6fdbcfd4 = L.marker(\n",
       "                [35.844471, 139.954956],\n",
       "                {}\n",
       "            ).addTo(marker_cluster_f5402a4fc6ed0df5afbd40eaf92801dd);\n",
       "        \n",
       "    \n",
       "            marker_798cf907a8a66cf89f804acb6fdbcfd4.bindTooltip(\n",
       "                `&lt;div&gt;\n",
       "                     30歳代\n",
       "                 &lt;/div&gt;`,\n",
       "                {&quot;sticky&quot;: true}\n",
       "            );\n",
       "        \n",
       "    \n",
       "            var marker_5870194b550406f3937e599065c2a5b7 = L.marker(\n",
       "                [35.830082, 139.97319],\n",
       "                {}\n",
       "            ).addTo(marker_cluster_f5402a4fc6ed0df5afbd40eaf92801dd);\n",
       "        \n",
       "    \n",
       "            marker_5870194b550406f3937e599065c2a5b7.bindTooltip(\n",
       "                `&lt;div&gt;\n",
       "                     10歳代\n",
       "                 &lt;/div&gt;`,\n",
       "                {&quot;sticky&quot;: true}\n",
       "            );\n",
       "        \n",
       "    \n",
       "            var marker_fd2f078c7db8e581c09826642656ab16 = L.marker(\n",
       "                [35.830082, 139.97319],\n",
       "                {}\n",
       "            ).addTo(marker_cluster_f5402a4fc6ed0df5afbd40eaf92801dd);\n",
       "        \n",
       "    \n",
       "            marker_fd2f078c7db8e581c09826642656ab16.bindTooltip(\n",
       "                `&lt;div&gt;\n",
       "                     10歳代\n",
       "                 &lt;/div&gt;`,\n",
       "                {&quot;sticky&quot;: true}\n",
       "            );\n",
       "        \n",
       "    \n",
       "            var marker_d7806c9fd901b9582a0399946e747de9 = L.marker(\n",
       "                [35.830082, 139.97319],\n",
       "                {}\n",
       "            ).addTo(marker_cluster_f5402a4fc6ed0df5afbd40eaf92801dd);\n",
       "        \n",
       "    \n",
       "            marker_d7806c9fd901b9582a0399946e747de9.bindTooltip(\n",
       "                `&lt;div&gt;\n",
       "                     70歳以上\n",
       "                 &lt;/div&gt;`,\n",
       "                {&quot;sticky&quot;: true}\n",
       "            );\n",
       "        \n",
       "    \n",
       "            var marker_70966cc4f46562666104e9003a345547 = L.marker(\n",
       "                [35.830082, 139.97319],\n",
       "                {}\n",
       "            ).addTo(marker_cluster_f5402a4fc6ed0df5afbd40eaf92801dd);\n",
       "        \n",
       "    \n",
       "            marker_70966cc4f46562666104e9003a345547.bindTooltip(\n",
       "                `&lt;div&gt;\n",
       "                     20歳代\n",
       "                 &lt;/div&gt;`,\n",
       "                {&quot;sticky&quot;: true}\n",
       "            );\n",
       "        \n",
       "    \n",
       "            var marker_2be9d335e54be992f08149b305cd5a63 = L.marker(\n",
       "                [35.824383, 139.979614],\n",
       "                {}\n",
       "            ).addTo(marker_cluster_f5402a4fc6ed0df5afbd40eaf92801dd);\n",
       "        \n",
       "    \n",
       "            marker_2be9d335e54be992f08149b305cd5a63.bindTooltip(\n",
       "                `&lt;div&gt;\n",
       "                     10歳未満\n",
       "                 &lt;/div&gt;`,\n",
       "                {&quot;sticky&quot;: true}\n",
       "            );\n",
       "        \n",
       "    \n",
       "            var marker_2da93430b47fd8040abdef465843c2ab = L.marker(\n",
       "                [35.832466, 139.974945],\n",
       "                {}\n",
       "            ).addTo(marker_cluster_f5402a4fc6ed0df5afbd40eaf92801dd);\n",
       "        \n",
       "    \n",
       "            marker_2da93430b47fd8040abdef465843c2ab.bindTooltip(\n",
       "                `&lt;div&gt;\n",
       "                     30歳代\n",
       "                 &lt;/div&gt;`,\n",
       "                {&quot;sticky&quot;: true}\n",
       "            );\n",
       "        \n",
       "    \n",
       "            var marker_ff618b475d35684da8be1a8e0f3039f7 = L.marker(\n",
       "                [35.831703, 139.978226],\n",
       "                {}\n",
       "            ).addTo(marker_cluster_f5402a4fc6ed0df5afbd40eaf92801dd);\n",
       "        \n",
       "    \n",
       "            marker_ff618b475d35684da8be1a8e0f3039f7.bindTooltip(\n",
       "                `&lt;div&gt;\n",
       "                     10歳代\n",
       "                 &lt;/div&gt;`,\n",
       "                {&quot;sticky&quot;: true}\n",
       "            );\n",
       "        \n",
       "    \n",
       "            var marker_7318322891e298caeafd4e37845d346e = L.marker(\n",
       "                [35.835472, 139.983551],\n",
       "                {}\n",
       "            ).addTo(marker_cluster_f5402a4fc6ed0df5afbd40eaf92801dd);\n",
       "        \n",
       "    \n",
       "            marker_7318322891e298caeafd4e37845d346e.bindTooltip(\n",
       "                `&lt;div&gt;\n",
       "                     30歳代\n",
       "                 &lt;/div&gt;`,\n",
       "                {&quot;sticky&quot;: true}\n",
       "            );\n",
       "        \n",
       "    \n",
       "            var marker_b44773b21dbbb427fc38609504c10427 = L.marker(\n",
       "                [35.829124, 139.986633],\n",
       "                {}\n",
       "            ).addTo(marker_cluster_f5402a4fc6ed0df5afbd40eaf92801dd);\n",
       "        \n",
       "    \n",
       "            marker_b44773b21dbbb427fc38609504c10427.bindTooltip(\n",
       "                `&lt;div&gt;\n",
       "                     10歳代\n",
       "                 &lt;/div&gt;`,\n",
       "                {&quot;sticky&quot;: true}\n",
       "            );\n",
       "        \n",
       "    \n",
       "            var marker_088738d2683aa16fcda8dbf14944a3a9 = L.marker(\n",
       "                [35.824703, 139.974731],\n",
       "                {}\n",
       "            ).addTo(marker_cluster_f5402a4fc6ed0df5afbd40eaf92801dd);\n",
       "        \n",
       "    \n",
       "            marker_088738d2683aa16fcda8dbf14944a3a9.bindTooltip(\n",
       "                `&lt;div&gt;\n",
       "                     60-64歳\n",
       "                 &lt;/div&gt;`,\n",
       "                {&quot;sticky&quot;: true}\n",
       "            );\n",
       "        \n",
       "    \n",
       "            var marker_f35d18732aeec6ff62c2681bd201bb6e = L.marker(\n",
       "                [35.824703, 139.974731],\n",
       "                {}\n",
       "            ).addTo(marker_cluster_f5402a4fc6ed0df5afbd40eaf92801dd);\n",
       "        \n",
       "    \n",
       "            marker_f35d18732aeec6ff62c2681bd201bb6e.bindTooltip(\n",
       "                `&lt;div&gt;\n",
       "                     20歳代\n",
       "                 &lt;/div&gt;`,\n",
       "                {&quot;sticky&quot;: true}\n",
       "            );\n",
       "        \n",
       "    \n",
       "            var marker_115393c96fefb4c65c9ecb86d11dfb0c = L.marker(\n",
       "                [35.821732, 139.973206],\n",
       "                {}\n",
       "            ).addTo(marker_cluster_f5402a4fc6ed0df5afbd40eaf92801dd);\n",
       "        \n",
       "    \n",
       "            marker_115393c96fefb4c65c9ecb86d11dfb0c.bindTooltip(\n",
       "                `&lt;div&gt;\n",
       "                     10歳代\n",
       "                 &lt;/div&gt;`,\n",
       "                {&quot;sticky&quot;: true}\n",
       "            );\n",
       "        \n",
       "    \n",
       "            var marker_378ac2ac15d22bd74242dbeb8279c41d = L.marker(\n",
       "                [35.821732, 139.973206],\n",
       "                {}\n",
       "            ).addTo(marker_cluster_f5402a4fc6ed0df5afbd40eaf92801dd);\n",
       "        \n",
       "    \n",
       "            marker_378ac2ac15d22bd74242dbeb8279c41d.bindTooltip(\n",
       "                `&lt;div&gt;\n",
       "                     10歳代\n",
       "                 &lt;/div&gt;`,\n",
       "                {&quot;sticky&quot;: true}\n",
       "            );\n",
       "        \n",
       "    \n",
       "            var marker_467b029d78627d0e06765bb307acd480 = L.marker(\n",
       "                [35.850155, 140.00441],\n",
       "                {}\n",
       "            ).addTo(marker_cluster_f5402a4fc6ed0df5afbd40eaf92801dd);\n",
       "        \n",
       "    \n",
       "            marker_467b029d78627d0e06765bb307acd480.bindTooltip(\n",
       "                `&lt;div&gt;\n",
       "                     10歳代\n",
       "                 &lt;/div&gt;`,\n",
       "                {&quot;sticky&quot;: true}\n",
       "            );\n",
       "        \n",
       "    \n",
       "            var marker_5181096bddea33116c9761d00ae63b6e = L.marker(\n",
       "                [35.850155, 140.00441],\n",
       "                {}\n",
       "            ).addTo(marker_cluster_f5402a4fc6ed0df5afbd40eaf92801dd);\n",
       "        \n",
       "    \n",
       "            marker_5181096bddea33116c9761d00ae63b6e.bindTooltip(\n",
       "                `&lt;div&gt;\n",
       "                     30歳代\n",
       "                 &lt;/div&gt;`,\n",
       "                {&quot;sticky&quot;: true}\n",
       "            );\n",
       "        \n",
       "    \n",
       "            var marker_84ca451130e9e30e1e5ebc9b60e9a78a = L.marker(\n",
       "                [35.835773, 140.012802],\n",
       "                {}\n",
       "            ).addTo(marker_cluster_f5402a4fc6ed0df5afbd40eaf92801dd);\n",
       "        \n",
       "    \n",
       "            marker_84ca451130e9e30e1e5ebc9b60e9a78a.bindTooltip(\n",
       "                `&lt;div&gt;\n",
       "                     10歳代\n",
       "                 &lt;/div&gt;`,\n",
       "                {&quot;sticky&quot;: true}\n",
       "            );\n",
       "        \n",
       "    \n",
       "            var marker_d0a847332a6f49ba0c7fa3391b1bcc5c = L.marker(\n",
       "                [35.835773, 140.012802],\n",
       "                {}\n",
       "            ).addTo(marker_cluster_f5402a4fc6ed0df5afbd40eaf92801dd);\n",
       "        \n",
       "    \n",
       "            marker_d0a847332a6f49ba0c7fa3391b1bcc5c.bindTooltip(\n",
       "                `&lt;div&gt;\n",
       "                     20歳代\n",
       "                 &lt;/div&gt;`,\n",
       "                {&quot;sticky&quot;: true}\n",
       "            );\n",
       "        \n",
       "    \n",
       "            var marker_a3fa38924baea864a86eb552af29ef00 = L.marker(\n",
       "                [35.833759, 140.011703],\n",
       "                {}\n",
       "            ).addTo(marker_cluster_f5402a4fc6ed0df5afbd40eaf92801dd);\n",
       "        \n",
       "    \n",
       "            marker_a3fa38924baea864a86eb552af29ef00.bindTooltip(\n",
       "                `&lt;div&gt;\n",
       "                     10歳代\n",
       "                 &lt;/div&gt;`,\n",
       "                {&quot;sticky&quot;: true}\n",
       "            );\n",
       "        \n",
       "    \n",
       "            var marker_258e8157b93311370d7fbd1533bc0109 = L.marker(\n",
       "                [35.833759, 140.011703],\n",
       "                {}\n",
       "            ).addTo(marker_cluster_f5402a4fc6ed0df5afbd40eaf92801dd);\n",
       "        \n",
       "    \n",
       "            marker_258e8157b93311370d7fbd1533bc0109.bindTooltip(\n",
       "                `&lt;div&gt;\n",
       "                     10歳代\n",
       "                 &lt;/div&gt;`,\n",
       "                {&quot;sticky&quot;: true}\n",
       "            );\n",
       "        \n",
       "    \n",
       "            var marker_ba65cd6aee1242dbdc68dbe850090b48 = L.marker(\n",
       "                [35.833759, 140.011703],\n",
       "                {}\n",
       "            ).addTo(marker_cluster_f5402a4fc6ed0df5afbd40eaf92801dd);\n",
       "        \n",
       "    \n",
       "            marker_ba65cd6aee1242dbdc68dbe850090b48.bindTooltip(\n",
       "                `&lt;div&gt;\n",
       "                     20歳代\n",
       "                 &lt;/div&gt;`,\n",
       "                {&quot;sticky&quot;: true}\n",
       "            );\n",
       "        \n",
       "    \n",
       "            var marker_b466f972c792f1587b2d82777f63662a = L.marker(\n",
       "                [35.833759, 140.011703],\n",
       "                {}\n",
       "            ).addTo(marker_cluster_f5402a4fc6ed0df5afbd40eaf92801dd);\n",
       "        \n",
       "    \n",
       "            marker_b466f972c792f1587b2d82777f63662a.bindTooltip(\n",
       "                `&lt;div&gt;\n",
       "                     20歳代\n",
       "                 &lt;/div&gt;`,\n",
       "                {&quot;sticky&quot;: true}\n",
       "            );\n",
       "        \n",
       "    \n",
       "            var marker_66981713a0acbc62622874df21fb2058 = L.marker(\n",
       "                [35.833759, 140.011703],\n",
       "                {}\n",
       "            ).addTo(marker_cluster_f5402a4fc6ed0df5afbd40eaf92801dd);\n",
       "        \n",
       "    \n",
       "            marker_66981713a0acbc62622874df21fb2058.bindTooltip(\n",
       "                `&lt;div&gt;\n",
       "                     10歳代\n",
       "                 &lt;/div&gt;`,\n",
       "                {&quot;sticky&quot;: true}\n",
       "            );\n",
       "        \n",
       "    \n",
       "            var marker_fb9c6e4e50c864ad371cd2fe1b2cf737 = L.marker(\n",
       "                [35.833759, 140.011703],\n",
       "                {}\n",
       "            ).addTo(marker_cluster_f5402a4fc6ed0df5afbd40eaf92801dd);\n",
       "        \n",
       "    \n",
       "            marker_fb9c6e4e50c864ad371cd2fe1b2cf737.bindTooltip(\n",
       "                `&lt;div&gt;\n",
       "                     10歳代\n",
       "                 &lt;/div&gt;`,\n",
       "                {&quot;sticky&quot;: true}\n",
       "            );\n",
       "        \n",
       "    \n",
       "            var marker_3ee7554fa69b336aaacc3c69ebbbbb52 = L.marker(\n",
       "                [35.833759, 140.011703],\n",
       "                {}\n",
       "            ).addTo(marker_cluster_f5402a4fc6ed0df5afbd40eaf92801dd);\n",
       "        \n",
       "    \n",
       "            marker_3ee7554fa69b336aaacc3c69ebbbbb52.bindTooltip(\n",
       "                `&lt;div&gt;\n",
       "                     10歳代\n",
       "                 &lt;/div&gt;`,\n",
       "                {&quot;sticky&quot;: true}\n",
       "            );\n",
       "        \n",
       "    \n",
       "            var marker_8e8f204ef00cedab374bb035573e08a7 = L.marker(\n",
       "                [35.833759, 140.011703],\n",
       "                {}\n",
       "            ).addTo(marker_cluster_f5402a4fc6ed0df5afbd40eaf92801dd);\n",
       "        \n",
       "    \n",
       "            marker_8e8f204ef00cedab374bb035573e08a7.bindTooltip(\n",
       "                `&lt;div&gt;\n",
       "                     10歳代\n",
       "                 &lt;/div&gt;`,\n",
       "                {&quot;sticky&quot;: true}\n",
       "            );\n",
       "        \n",
       "    \n",
       "            var marker_02d41a776ea59610529cf7e0e48f1be4 = L.marker(\n",
       "                [35.833759, 140.011703],\n",
       "                {}\n",
       "            ).addTo(marker_cluster_f5402a4fc6ed0df5afbd40eaf92801dd);\n",
       "        \n",
       "    \n",
       "            marker_02d41a776ea59610529cf7e0e48f1be4.bindTooltip(\n",
       "                `&lt;div&gt;\n",
       "                     10歳代\n",
       "                 &lt;/div&gt;`,\n",
       "                {&quot;sticky&quot;: true}\n",
       "            );\n",
       "        \n",
       "    \n",
       "            var marker_573ba68f0719bc72cb4c7d5bb1443690 = L.marker(\n",
       "                [35.833759, 140.011703],\n",
       "                {}\n",
       "            ).addTo(marker_cluster_f5402a4fc6ed0df5afbd40eaf92801dd);\n",
       "        \n",
       "    \n",
       "            marker_573ba68f0719bc72cb4c7d5bb1443690.bindTooltip(\n",
       "                `&lt;div&gt;\n",
       "                     10歳代\n",
       "                 &lt;/div&gt;`,\n",
       "                {&quot;sticky&quot;: true}\n",
       "            );\n",
       "        \n",
       "    \n",
       "            var marker_6fb505f7db3fe67fb5d825a317a6dc98 = L.marker(\n",
       "                [35.833759, 140.011703],\n",
       "                {}\n",
       "            ).addTo(marker_cluster_f5402a4fc6ed0df5afbd40eaf92801dd);\n",
       "        \n",
       "    \n",
       "            marker_6fb505f7db3fe67fb5d825a317a6dc98.bindTooltip(\n",
       "                `&lt;div&gt;\n",
       "                     10歳代\n",
       "                 &lt;/div&gt;`,\n",
       "                {&quot;sticky&quot;: true}\n",
       "            );\n",
       "        \n",
       "    \n",
       "            var marker_beb0ca32022a542d919a77c4316190c2 = L.marker(\n",
       "                [35.84325, 140.003662],\n",
       "                {}\n",
       "            ).addTo(marker_cluster_f5402a4fc6ed0df5afbd40eaf92801dd);\n",
       "        \n",
       "    \n",
       "            marker_beb0ca32022a542d919a77c4316190c2.bindTooltip(\n",
       "                `&lt;div&gt;\n",
       "                     法人・団体、被害者なし\n",
       "                 &lt;/div&gt;`,\n",
       "                {&quot;sticky&quot;: true}\n",
       "            );\n",
       "        \n",
       "    \n",
       "            var marker_26fbf9886efc464c871281af4cf8b43c = L.marker(\n",
       "                [35.841068, 139.999237],\n",
       "                {}\n",
       "            ).addTo(marker_cluster_f5402a4fc6ed0df5afbd40eaf92801dd);\n",
       "        \n",
       "    \n",
       "            marker_26fbf9886efc464c871281af4cf8b43c.bindTooltip(\n",
       "                `&lt;div&gt;\n",
       "                     40歳代\n",
       "                 &lt;/div&gt;`,\n",
       "                {&quot;sticky&quot;: true}\n",
       "            );\n",
       "        \n",
       "    \n",
       "            var marker_4f2ac2e8f6eb70a60f27ef1652ee6f2e = L.marker(\n",
       "                [35.841068, 139.999237],\n",
       "                {}\n",
       "            ).addTo(marker_cluster_f5402a4fc6ed0df5afbd40eaf92801dd);\n",
       "        \n",
       "    \n",
       "            marker_4f2ac2e8f6eb70a60f27ef1652ee6f2e.bindTooltip(\n",
       "                `&lt;div&gt;\n",
       "                     10歳代\n",
       "                 &lt;/div&gt;`,\n",
       "                {&quot;sticky&quot;: true}\n",
       "            );\n",
       "        \n",
       "    \n",
       "            var marker_87aa4c4427b42790ee629c013c61f493 = L.marker(\n",
       "                [35.841068, 139.999237],\n",
       "                {}\n",
       "            ).addTo(marker_cluster_f5402a4fc6ed0df5afbd40eaf92801dd);\n",
       "        \n",
       "    \n",
       "            marker_87aa4c4427b42790ee629c013c61f493.bindTooltip(\n",
       "                `&lt;div&gt;\n",
       "                     10歳代\n",
       "                 &lt;/div&gt;`,\n",
       "                {&quot;sticky&quot;: true}\n",
       "            );\n",
       "        \n",
       "    \n",
       "            var marker_83cdfbf93abe8d3bda461235817f6a68 = L.marker(\n",
       "                [35.840942, 139.995621],\n",
       "                {}\n",
       "            ).addTo(marker_cluster_f5402a4fc6ed0df5afbd40eaf92801dd);\n",
       "        \n",
       "    \n",
       "            marker_83cdfbf93abe8d3bda461235817f6a68.bindTooltip(\n",
       "                `&lt;div&gt;\n",
       "                     10歳代\n",
       "                 &lt;/div&gt;`,\n",
       "                {&quot;sticky&quot;: true}\n",
       "            );\n",
       "        \n",
       "    \n",
       "            var marker_5d9d391876d27a097a994ab99120de62 = L.marker(\n",
       "                [35.840942, 139.995621],\n",
       "                {}\n",
       "            ).addTo(marker_cluster_f5402a4fc6ed0df5afbd40eaf92801dd);\n",
       "        \n",
       "    \n",
       "            marker_5d9d391876d27a097a994ab99120de62.bindTooltip(\n",
       "                `&lt;div&gt;\n",
       "                     10歳代\n",
       "                 &lt;/div&gt;`,\n",
       "                {&quot;sticky&quot;: true}\n",
       "            );\n",
       "        \n",
       "    \n",
       "            var marker_24d402de3bf6f1940a1a52c2c11eea47 = L.marker(\n",
       "                [35.837143, 140.002502],\n",
       "                {}\n",
       "            ).addTo(marker_cluster_f5402a4fc6ed0df5afbd40eaf92801dd);\n",
       "        \n",
       "    \n",
       "            marker_24d402de3bf6f1940a1a52c2c11eea47.bindTooltip(\n",
       "                `&lt;div&gt;\n",
       "                     50歳代\n",
       "                 &lt;/div&gt;`,\n",
       "                {&quot;sticky&quot;: true}\n",
       "            );\n",
       "        \n",
       "    \n",
       "            var marker_9995e2bafd9c8938afe632c89ca792e8 = L.marker(\n",
       "                [35.837143, 140.002502],\n",
       "                {}\n",
       "            ).addTo(marker_cluster_f5402a4fc6ed0df5afbd40eaf92801dd);\n",
       "        \n",
       "    \n",
       "            marker_9995e2bafd9c8938afe632c89ca792e8.bindTooltip(\n",
       "                `&lt;div&gt;\n",
       "                     20歳代\n",
       "                 &lt;/div&gt;`,\n",
       "                {&quot;sticky&quot;: true}\n",
       "            );\n",
       "        \n",
       "    \n",
       "            var marker_fea9080cd62b299d1eb21170e91ce838 = L.marker(\n",
       "                [35.837143, 140.002502],\n",
       "                {}\n",
       "            ).addTo(marker_cluster_f5402a4fc6ed0df5afbd40eaf92801dd);\n",
       "        \n",
       "    \n",
       "            marker_fea9080cd62b299d1eb21170e91ce838.bindTooltip(\n",
       "                `&lt;div&gt;\n",
       "                     10歳代\n",
       "                 &lt;/div&gt;`,\n",
       "                {&quot;sticky&quot;: true}\n",
       "            );\n",
       "        \n",
       "    \n",
       "            var marker_8ed18e0b1001291c58822b57ba7838ab = L.marker(\n",
       "                [35.837143, 140.002502],\n",
       "                {}\n",
       "            ).addTo(marker_cluster_f5402a4fc6ed0df5afbd40eaf92801dd);\n",
       "        \n",
       "    \n",
       "            marker_8ed18e0b1001291c58822b57ba7838ab.bindTooltip(\n",
       "                `&lt;div&gt;\n",
       "                     20歳代\n",
       "                 &lt;/div&gt;`,\n",
       "                {&quot;sticky&quot;: true}\n",
       "            );\n",
       "        \n",
       "    \n",
       "            var marker_c339b5627626186c118ca214fae8ca21 = L.marker(\n",
       "                [35.848038, 140.016342],\n",
       "                {}\n",
       "            ).addTo(marker_cluster_f5402a4fc6ed0df5afbd40eaf92801dd);\n",
       "        \n",
       "    \n",
       "            marker_c339b5627626186c118ca214fae8ca21.bindTooltip(\n",
       "                `&lt;div&gt;\n",
       "                     40歳代\n",
       "                 &lt;/div&gt;`,\n",
       "                {&quot;sticky&quot;: true}\n",
       "            );\n",
       "        \n",
       "    \n",
       "            var marker_3058e2a63f9424e67e261c678ba6e5f5 = L.marker(\n",
       "                [35.834927, 139.996063],\n",
       "                {}\n",
       "            ).addTo(marker_cluster_f5402a4fc6ed0df5afbd40eaf92801dd);\n",
       "        \n",
       "    \n",
       "            marker_3058e2a63f9424e67e261c678ba6e5f5.bindTooltip(\n",
       "                `&lt;div&gt;\n",
       "                     10歳代\n",
       "                 &lt;/div&gt;`,\n",
       "                {&quot;sticky&quot;: true}\n",
       "            );\n",
       "        \n",
       "    \n",
       "            var marker_3b69ce5e339f59ba5b5e2da567d90771 = L.marker(\n",
       "                [35.846394, 140.026993],\n",
       "                {}\n",
       "            ).addTo(marker_cluster_f5402a4fc6ed0df5afbd40eaf92801dd);\n",
       "        \n",
       "    \n",
       "            marker_3b69ce5e339f59ba5b5e2da567d90771.bindTooltip(\n",
       "                `&lt;div&gt;\n",
       "                     10歳代\n",
       "                 &lt;/div&gt;`,\n",
       "                {&quot;sticky&quot;: true}\n",
       "            );\n",
       "        \n",
       "    \n",
       "            var marker_89e4422810e7b31cc181950a07c7c800 = L.marker(\n",
       "                [35.891518, 139.992828],\n",
       "                {}\n",
       "            ).addTo(marker_cluster_f5402a4fc6ed0df5afbd40eaf92801dd);\n",
       "        \n",
       "    \n",
       "            marker_89e4422810e7b31cc181950a07c7c800.bindTooltip(\n",
       "                `&lt;div&gt;\n",
       "                     30歳代\n",
       "                 &lt;/div&gt;`,\n",
       "                {&quot;sticky&quot;: true}\n",
       "            );\n",
       "        \n",
       "    \n",
       "            var marker_f1f55112ac021f45e1b4f2d7017d14a1 = L.marker(\n",
       "                [35.835949, 139.968262],\n",
       "                {}\n",
       "            ).addTo(marker_cluster_f5402a4fc6ed0df5afbd40eaf92801dd);\n",
       "        \n",
       "    \n",
       "            marker_f1f55112ac021f45e1b4f2d7017d14a1.bindTooltip(\n",
       "                `&lt;div&gt;\n",
       "                     10歳代\n",
       "                 &lt;/div&gt;`,\n",
       "                {&quot;sticky&quot;: true}\n",
       "            );\n",
       "        \n",
       "    \n",
       "            var marker_52083b01018e8bd9d938b64eb9517770 = L.marker(\n",
       "                [35.83136, 139.96756],\n",
       "                {}\n",
       "            ).addTo(marker_cluster_f5402a4fc6ed0df5afbd40eaf92801dd);\n",
       "        \n",
       "    \n",
       "            marker_52083b01018e8bd9d938b64eb9517770.bindTooltip(\n",
       "                `&lt;div&gt;\n",
       "                     20歳代\n",
       "                 &lt;/div&gt;`,\n",
       "                {&quot;sticky&quot;: true}\n",
       "            );\n",
       "        \n",
       "    \n",
       "            var marker_4cf0f03292e994304979a40e2eee98dd = L.marker(\n",
       "                [35.84692, 139.967072],\n",
       "                {}\n",
       "            ).addTo(marker_cluster_f5402a4fc6ed0df5afbd40eaf92801dd);\n",
       "        \n",
       "    \n",
       "            marker_4cf0f03292e994304979a40e2eee98dd.bindTooltip(\n",
       "                `&lt;div&gt;\n",
       "                     30歳代\n",
       "                 &lt;/div&gt;`,\n",
       "                {&quot;sticky&quot;: true}\n",
       "            );\n",
       "        \n",
       "    \n",
       "            var marker_4400d743dadb6e83e2cccc3304834f47 = L.marker(\n",
       "                [35.838268, 139.963547],\n",
       "                {}\n",
       "            ).addTo(marker_cluster_f5402a4fc6ed0df5afbd40eaf92801dd);\n",
       "        \n",
       "    \n",
       "            marker_4400d743dadb6e83e2cccc3304834f47.bindTooltip(\n",
       "                `&lt;div&gt;\n",
       "                     10歳未満\n",
       "                 &lt;/div&gt;`,\n",
       "                {&quot;sticky&quot;: true}\n",
       "            );\n",
       "        \n",
       "    \n",
       "            var marker_e796360a65cc6d4d91949355ea49e7d5 = L.marker(\n",
       "                [35.838268, 139.963547],\n",
       "                {}\n",
       "            ).addTo(marker_cluster_f5402a4fc6ed0df5afbd40eaf92801dd);\n",
       "        \n",
       "    \n",
       "            marker_e796360a65cc6d4d91949355ea49e7d5.bindTooltip(\n",
       "                `&lt;div&gt;\n",
       "                     40歳代\n",
       "                 &lt;/div&gt;`,\n",
       "                {&quot;sticky&quot;: true}\n",
       "            );\n",
       "        \n",
       "    \n",
       "            var marker_bb6512eb727a59a1cf9ed98e6663f79d = L.marker(\n",
       "                [35.838268, 139.963547],\n",
       "                {}\n",
       "            ).addTo(marker_cluster_f5402a4fc6ed0df5afbd40eaf92801dd);\n",
       "        \n",
       "    \n",
       "            marker_bb6512eb727a59a1cf9ed98e6663f79d.bindTooltip(\n",
       "                `&lt;div&gt;\n",
       "                     10歳未満\n",
       "                 &lt;/div&gt;`,\n",
       "                {&quot;sticky&quot;: true}\n",
       "            );\n",
       "        \n",
       "    \n",
       "            var marker_2993ef7412795f2fbf23cace1f73e1cf = L.marker(\n",
       "                [35.842236, 139.965775],\n",
       "                {}\n",
       "            ).addTo(marker_cluster_f5402a4fc6ed0df5afbd40eaf92801dd);\n",
       "        \n",
       "    \n",
       "            marker_2993ef7412795f2fbf23cace1f73e1cf.bindTooltip(\n",
       "                `&lt;div&gt;\n",
       "                     70歳以上\n",
       "                 &lt;/div&gt;`,\n",
       "                {&quot;sticky&quot;: true}\n",
       "            );\n",
       "        \n",
       "    \n",
       "            var marker_6885ea351bd8cbb84bf5ad17f1631ddc = L.marker(\n",
       "                [35.840786, 139.966721],\n",
       "                {}\n",
       "            ).addTo(marker_cluster_f5402a4fc6ed0df5afbd40eaf92801dd);\n",
       "        \n",
       "    \n",
       "            marker_6885ea351bd8cbb84bf5ad17f1631ddc.bindTooltip(\n",
       "                `&lt;div&gt;\n",
       "                     40歳代\n",
       "                 &lt;/div&gt;`,\n",
       "                {&quot;sticky&quot;: true}\n",
       "            );\n",
       "        \n",
       "    \n",
       "            var marker_5fadf42a3ee6849688999fdccfa879db = L.marker(\n",
       "                [35.840786, 139.966721],\n",
       "                {}\n",
       "            ).addTo(marker_cluster_f5402a4fc6ed0df5afbd40eaf92801dd);\n",
       "        \n",
       "    \n",
       "            marker_5fadf42a3ee6849688999fdccfa879db.bindTooltip(\n",
       "                `&lt;div&gt;\n",
       "                     40歳代\n",
       "                 &lt;/div&gt;`,\n",
       "                {&quot;sticky&quot;: true}\n",
       "            );\n",
       "        \n",
       "    \n",
       "            var marker_1fdc6adf3e01e6748542d7265b5bde1a = L.marker(\n",
       "                [35.843285, 139.981064],\n",
       "                {}\n",
       "            ).addTo(marker_cluster_f5402a4fc6ed0df5afbd40eaf92801dd);\n",
       "        \n",
       "    \n",
       "            marker_1fdc6adf3e01e6748542d7265b5bde1a.bindTooltip(\n",
       "                `&lt;div&gt;\n",
       "                     20歳代\n",
       "                 &lt;/div&gt;`,\n",
       "                {&quot;sticky&quot;: true}\n",
       "            );\n",
       "        \n",
       "    \n",
       "            var marker_6094efb3e110dfb6b372714834c04f26 = L.marker(\n",
       "                [35.845604, 139.976089],\n",
       "                {}\n",
       "            ).addTo(marker_cluster_f5402a4fc6ed0df5afbd40eaf92801dd);\n",
       "        \n",
       "    \n",
       "            marker_6094efb3e110dfb6b372714834c04f26.bindTooltip(\n",
       "                `&lt;div&gt;\n",
       "                     20歳代\n",
       "                 &lt;/div&gt;`,\n",
       "                {&quot;sticky&quot;: true}\n",
       "            );\n",
       "        \n",
       "    \n",
       "            var marker_12721610def0aa96d45872182e0fa5c1 = L.marker(\n",
       "                [35.839211, 139.968597],\n",
       "                {}\n",
       "            ).addTo(marker_cluster_f5402a4fc6ed0df5afbd40eaf92801dd);\n",
       "        \n",
       "    \n",
       "            marker_12721610def0aa96d45872182e0fa5c1.bindTooltip(\n",
       "                `&lt;div&gt;\n",
       "                     30歳代\n",
       "                 &lt;/div&gt;`,\n",
       "                {&quot;sticky&quot;: true}\n",
       "            );\n",
       "        \n",
       "    \n",
       "            var marker_89947847ba54570ce36b9bd2ea065a4c = L.marker(\n",
       "                [35.841667, 139.972061],\n",
       "                {}\n",
       "            ).addTo(marker_cluster_f5402a4fc6ed0df5afbd40eaf92801dd);\n",
       "        \n",
       "    \n",
       "            marker_89947847ba54570ce36b9bd2ea065a4c.bindTooltip(\n",
       "                `&lt;div&gt;\n",
       "                     20歳代\n",
       "                 &lt;/div&gt;`,\n",
       "                {&quot;sticky&quot;: true}\n",
       "            );\n",
       "        \n",
       "    \n",
       "            var marker_e8d86cac5f5d443d059944ef1d8c1eb3 = L.marker(\n",
       "                [35.867088, 139.963196],\n",
       "                {}\n",
       "            ).addTo(marker_cluster_f5402a4fc6ed0df5afbd40eaf92801dd);\n",
       "        \n",
       "    \n",
       "            marker_e8d86cac5f5d443d059944ef1d8c1eb3.bindTooltip(\n",
       "                `&lt;div&gt;\n",
       "                     10歳代\n",
       "                 &lt;/div&gt;`,\n",
       "                {&quot;sticky&quot;: true}\n",
       "            );\n",
       "        \n",
       "    \n",
       "            var marker_5238d9e9f34381d78b8cf4eef602526b = L.marker(\n",
       "                [35.867088, 139.963196],\n",
       "                {}\n",
       "            ).addTo(marker_cluster_f5402a4fc6ed0df5afbd40eaf92801dd);\n",
       "        \n",
       "    \n",
       "            marker_5238d9e9f34381d78b8cf4eef602526b.bindTooltip(\n",
       "                `&lt;div&gt;\n",
       "                     10歳代\n",
       "                 &lt;/div&gt;`,\n",
       "                {&quot;sticky&quot;: true}\n",
       "            );\n",
       "        \n",
       "    \n",
       "            var marker_1c4f9b956d066fe9bba2090cc3278551 = L.marker(\n",
       "                [35.867088, 139.963196],\n",
       "                {}\n",
       "            ).addTo(marker_cluster_f5402a4fc6ed0df5afbd40eaf92801dd);\n",
       "        \n",
       "    \n",
       "            marker_1c4f9b956d066fe9bba2090cc3278551.bindTooltip(\n",
       "                `&lt;div&gt;\n",
       "                     10歳代\n",
       "                 &lt;/div&gt;`,\n",
       "                {&quot;sticky&quot;: true}\n",
       "            );\n",
       "        \n",
       "    \n",
       "            var marker_d118c14a13a6e8de9048572420506e89 = L.marker(\n",
       "                [35.867088, 139.963196],\n",
       "                {}\n",
       "            ).addTo(marker_cluster_f5402a4fc6ed0df5afbd40eaf92801dd);\n",
       "        \n",
       "    \n",
       "            marker_d118c14a13a6e8de9048572420506e89.bindTooltip(\n",
       "                `&lt;div&gt;\n",
       "                     10歳代\n",
       "                 &lt;/div&gt;`,\n",
       "                {&quot;sticky&quot;: true}\n",
       "            );\n",
       "        \n",
       "    \n",
       "            var marker_d2a9066a0ddca8feda9baefff7d768f6 = L.marker(\n",
       "                [35.867088, 139.963196],\n",
       "                {}\n",
       "            ).addTo(marker_cluster_f5402a4fc6ed0df5afbd40eaf92801dd);\n",
       "        \n",
       "    \n",
       "            marker_d2a9066a0ddca8feda9baefff7d768f6.bindTooltip(\n",
       "                `&lt;div&gt;\n",
       "                     10歳代\n",
       "                 &lt;/div&gt;`,\n",
       "                {&quot;sticky&quot;: true}\n",
       "            );\n",
       "        \n",
       "    \n",
       "            var marker_a8e0d4620e82194697f557018fa5da07 = L.marker(\n",
       "                [35.864574, 139.962662],\n",
       "                {}\n",
       "            ).addTo(marker_cluster_f5402a4fc6ed0df5afbd40eaf92801dd);\n",
       "        \n",
       "    \n",
       "            marker_a8e0d4620e82194697f557018fa5da07.bindTooltip(\n",
       "                `&lt;div&gt;\n",
       "                     20歳代\n",
       "                 &lt;/div&gt;`,\n",
       "                {&quot;sticky&quot;: true}\n",
       "            );\n",
       "        \n",
       "    \n",
       "            var marker_80700047fd3825e5568f78ace11c9ba0 = L.marker(\n",
       "                [35.864574, 139.962662],\n",
       "                {}\n",
       "            ).addTo(marker_cluster_f5402a4fc6ed0df5afbd40eaf92801dd);\n",
       "        \n",
       "    \n",
       "            marker_80700047fd3825e5568f78ace11c9ba0.bindTooltip(\n",
       "                `&lt;div&gt;\n",
       "                     20歳代\n",
       "                 &lt;/div&gt;`,\n",
       "                {&quot;sticky&quot;: true}\n",
       "            );\n",
       "        \n",
       "    \n",
       "            var marker_8e0c21b2e1eb46658669d347d2d7bf4b = L.marker(\n",
       "                [35.865929, 139.971985],\n",
       "                {}\n",
       "            ).addTo(marker_cluster_f5402a4fc6ed0df5afbd40eaf92801dd);\n",
       "        \n",
       "    \n",
       "            marker_8e0c21b2e1eb46658669d347d2d7bf4b.bindTooltip(\n",
       "                `&lt;div&gt;\n",
       "                     65-69歳\n",
       "                 &lt;/div&gt;`,\n",
       "                {&quot;sticky&quot;: true}\n",
       "            );\n",
       "        \n",
       "    \n",
       "            var marker_f12f75f56dd3b6d2a2b122f50cca156f = L.marker(\n",
       "                [35.868034, 139.974197],\n",
       "                {}\n",
       "            ).addTo(marker_cluster_f5402a4fc6ed0df5afbd40eaf92801dd);\n",
       "        \n",
       "    \n",
       "            marker_f12f75f56dd3b6d2a2b122f50cca156f.bindTooltip(\n",
       "                `&lt;div&gt;\n",
       "                     30歳代\n",
       "                 &lt;/div&gt;`,\n",
       "                {&quot;sticky&quot;: true}\n",
       "            );\n",
       "        \n",
       "    \n",
       "            var marker_ef65e1b3b7d7e49512371f7467864f36 = L.marker(\n",
       "                [35.868034, 139.974197],\n",
       "                {}\n",
       "            ).addTo(marker_cluster_f5402a4fc6ed0df5afbd40eaf92801dd);\n",
       "        \n",
       "    \n",
       "            marker_ef65e1b3b7d7e49512371f7467864f36.bindTooltip(\n",
       "                `&lt;div&gt;\n",
       "                     20歳代\n",
       "                 &lt;/div&gt;`,\n",
       "                {&quot;sticky&quot;: true}\n",
       "            );\n",
       "        \n",
       "    \n",
       "            var marker_c70c79af2652c6d98a927d2bc68a0387 = L.marker(\n",
       "                [35.869129, 139.971756],\n",
       "                {}\n",
       "            ).addTo(marker_cluster_f5402a4fc6ed0df5afbd40eaf92801dd);\n",
       "        \n",
       "    \n",
       "            marker_c70c79af2652c6d98a927d2bc68a0387.bindTooltip(\n",
       "                `&lt;div&gt;\n",
       "                     20歳代\n",
       "                 &lt;/div&gt;`,\n",
       "                {&quot;sticky&quot;: true}\n",
       "            );\n",
       "        \n",
       "    \n",
       "            var marker_e7b8ca1efbc856d07e871a41d926713d = L.marker(\n",
       "                [35.869129, 139.971756],\n",
       "                {}\n",
       "            ).addTo(marker_cluster_f5402a4fc6ed0df5afbd40eaf92801dd);\n",
       "        \n",
       "    \n",
       "            marker_e7b8ca1efbc856d07e871a41d926713d.bindTooltip(\n",
       "                `&lt;div&gt;\n",
       "                     30歳代\n",
       "                 &lt;/div&gt;`,\n",
       "                {&quot;sticky&quot;: true}\n",
       "            );\n",
       "        \n",
       "    \n",
       "            var marker_a89c0dcf3eb4d3c9bc7c9817648b4ac3 = L.marker(\n",
       "                [35.866798, 139.968948],\n",
       "                {}\n",
       "            ).addTo(marker_cluster_f5402a4fc6ed0df5afbd40eaf92801dd);\n",
       "        \n",
       "    \n",
       "            marker_a89c0dcf3eb4d3c9bc7c9817648b4ac3.bindTooltip(\n",
       "                `&lt;div&gt;\n",
       "                     20歳代\n",
       "                 &lt;/div&gt;`,\n",
       "                {&quot;sticky&quot;: true}\n",
       "            );\n",
       "        \n",
       "    \n",
       "            var marker_d68a9a30f578b08f009f2eb289c516cf = L.marker(\n",
       "                [35.866798, 139.968948],\n",
       "                {}\n",
       "            ).addTo(marker_cluster_f5402a4fc6ed0df5afbd40eaf92801dd);\n",
       "        \n",
       "    \n",
       "            marker_d68a9a30f578b08f009f2eb289c516cf.bindTooltip(\n",
       "                `&lt;div&gt;\n",
       "                     20歳代\n",
       "                 &lt;/div&gt;`,\n",
       "                {&quot;sticky&quot;: true}\n",
       "            );\n",
       "        \n",
       "    \n",
       "            var marker_c854634b77491be6066507a4de8c5c2a = L.marker(\n",
       "                [35.866798, 139.968948],\n",
       "                {}\n",
       "            ).addTo(marker_cluster_f5402a4fc6ed0df5afbd40eaf92801dd);\n",
       "        \n",
       "    \n",
       "            marker_c854634b77491be6066507a4de8c5c2a.bindTooltip(\n",
       "                `&lt;div&gt;\n",
       "                     30歳代\n",
       "                 &lt;/div&gt;`,\n",
       "                {&quot;sticky&quot;: true}\n",
       "            );\n",
       "        \n",
       "    \n",
       "            var marker_6f1bdf059aecdcd9863d3cbb4ec4cf6b = L.marker(\n",
       "                [35.869289, 139.967926],\n",
       "                {}\n",
       "            ).addTo(marker_cluster_f5402a4fc6ed0df5afbd40eaf92801dd);\n",
       "        \n",
       "    \n",
       "            marker_6f1bdf059aecdcd9863d3cbb4ec4cf6b.bindTooltip(\n",
       "                `&lt;div&gt;\n",
       "                     50歳代\n",
       "                 &lt;/div&gt;`,\n",
       "                {&quot;sticky&quot;: true}\n",
       "            );\n",
       "        \n",
       "    \n",
       "            var marker_fb65a4d2fd9afc44841c7f9975126124 = L.marker(\n",
       "                [35.861916, 139.968491],\n",
       "                {}\n",
       "            ).addTo(marker_cluster_f5402a4fc6ed0df5afbd40eaf92801dd);\n",
       "        \n",
       "    \n",
       "            marker_fb65a4d2fd9afc44841c7f9975126124.bindTooltip(\n",
       "                `&lt;div&gt;\n",
       "                     50歳代\n",
       "                 &lt;/div&gt;`,\n",
       "                {&quot;sticky&quot;: true}\n",
       "            );\n",
       "        \n",
       "    \n",
       "            var marker_433f36cd680e1d53225084fa092d23c9 = L.marker(\n",
       "                [35.861916, 139.968491],\n",
       "                {}\n",
       "            ).addTo(marker_cluster_f5402a4fc6ed0df5afbd40eaf92801dd);\n",
       "        \n",
       "    \n",
       "            marker_433f36cd680e1d53225084fa092d23c9.bindTooltip(\n",
       "                `&lt;div&gt;\n",
       "                     20歳代\n",
       "                 &lt;/div&gt;`,\n",
       "                {&quot;sticky&quot;: true}\n",
       "            );\n",
       "        \n",
       "    \n",
       "            var marker_a773a940660f2c73c15861e31c8d3b31 = L.marker(\n",
       "                [35.861916, 139.968491],\n",
       "                {}\n",
       "            ).addTo(marker_cluster_f5402a4fc6ed0df5afbd40eaf92801dd);\n",
       "        \n",
       "    \n",
       "            marker_a773a940660f2c73c15861e31c8d3b31.bindTooltip(\n",
       "                `&lt;div&gt;\n",
       "                     10歳代\n",
       "                 &lt;/div&gt;`,\n",
       "                {&quot;sticky&quot;: true}\n",
       "            );\n",
       "        \n",
       "    \n",
       "            var marker_96485d7aef144134f42512de9eae618d = L.marker(\n",
       "                [35.861916, 139.968491],\n",
       "                {}\n",
       "            ).addTo(marker_cluster_f5402a4fc6ed0df5afbd40eaf92801dd);\n",
       "        \n",
       "    \n",
       "            marker_96485d7aef144134f42512de9eae618d.bindTooltip(\n",
       "                `&lt;div&gt;\n",
       "                     30歳代\n",
       "                 &lt;/div&gt;`,\n",
       "                {&quot;sticky&quot;: true}\n",
       "            );\n",
       "        \n",
       "    \n",
       "            var marker_f9c52e5646afc5ab8543b25b189aacf1 = L.marker(\n",
       "                [35.861916, 139.968491],\n",
       "                {}\n",
       "            ).addTo(marker_cluster_f5402a4fc6ed0df5afbd40eaf92801dd);\n",
       "        \n",
       "    \n",
       "            marker_f9c52e5646afc5ab8543b25b189aacf1.bindTooltip(\n",
       "                `&lt;div&gt;\n",
       "                     20歳代\n",
       "                 &lt;/div&gt;`,\n",
       "                {&quot;sticky&quot;: true}\n",
       "            );\n",
       "        \n",
       "    \n",
       "            var marker_c1dd786c8f17abc9955aa1fd2e224752 = L.marker(\n",
       "                [35.861916, 139.968491],\n",
       "                {}\n",
       "            ).addTo(marker_cluster_f5402a4fc6ed0df5afbd40eaf92801dd);\n",
       "        \n",
       "    \n",
       "            marker_c1dd786c8f17abc9955aa1fd2e224752.bindTooltip(\n",
       "                `&lt;div&gt;\n",
       "                     30歳代\n",
       "                 &lt;/div&gt;`,\n",
       "                {&quot;sticky&quot;: true}\n",
       "            );\n",
       "        \n",
       "    \n",
       "            var marker_0af5aead6c8ddd2aa7f1f5981d0850f5 = L.marker(\n",
       "                [35.861916, 139.968491],\n",
       "                {}\n",
       "            ).addTo(marker_cluster_f5402a4fc6ed0df5afbd40eaf92801dd);\n",
       "        \n",
       "    \n",
       "            marker_0af5aead6c8ddd2aa7f1f5981d0850f5.bindTooltip(\n",
       "                `&lt;div&gt;\n",
       "                     50歳代\n",
       "                 &lt;/div&gt;`,\n",
       "                {&quot;sticky&quot;: true}\n",
       "            );\n",
       "        \n",
       "    \n",
       "            var marker_ac0b4b5dbd718702d00c6458587fde40 = L.marker(\n",
       "                [35.861916, 139.968491],\n",
       "                {}\n",
       "            ).addTo(marker_cluster_f5402a4fc6ed0df5afbd40eaf92801dd);\n",
       "        \n",
       "    \n",
       "            marker_ac0b4b5dbd718702d00c6458587fde40.bindTooltip(\n",
       "                `&lt;div&gt;\n",
       "                     30歳代\n",
       "                 &lt;/div&gt;`,\n",
       "                {&quot;sticky&quot;: true}\n",
       "            );\n",
       "        \n",
       "    \n",
       "            var marker_0c7b20cc86fa5b5ffa03dc918fb950e1 = L.marker(\n",
       "                [35.861916, 139.968491],\n",
       "                {}\n",
       "            ).addTo(marker_cluster_f5402a4fc6ed0df5afbd40eaf92801dd);\n",
       "        \n",
       "    \n",
       "            marker_0c7b20cc86fa5b5ffa03dc918fb950e1.bindTooltip(\n",
       "                `&lt;div&gt;\n",
       "                     10歳代\n",
       "                 &lt;/div&gt;`,\n",
       "                {&quot;sticky&quot;: true}\n",
       "            );\n",
       "        \n",
       "    \n",
       "            var marker_25d7ffb8559a93ea6ce0c3707ca09e1a = L.marker(\n",
       "                [35.858974, 139.962036],\n",
       "                {}\n",
       "            ).addTo(marker_cluster_f5402a4fc6ed0df5afbd40eaf92801dd);\n",
       "        \n",
       "    \n",
       "            marker_25d7ffb8559a93ea6ce0c3707ca09e1a.bindTooltip(\n",
       "                `&lt;div&gt;\n",
       "                     10歳代\n",
       "                 &lt;/div&gt;`,\n",
       "                {&quot;sticky&quot;: true}\n",
       "            );\n",
       "        \n",
       "    \n",
       "            var marker_e6cff33fed9f143b995653ffc0025edd = L.marker(\n",
       "                [35.858974, 139.962036],\n",
       "                {}\n",
       "            ).addTo(marker_cluster_f5402a4fc6ed0df5afbd40eaf92801dd);\n",
       "        \n",
       "    \n",
       "            marker_e6cff33fed9f143b995653ffc0025edd.bindTooltip(\n",
       "                `&lt;div&gt;\n",
       "                     20歳代\n",
       "                 &lt;/div&gt;`,\n",
       "                {&quot;sticky&quot;: true}\n",
       "            );\n",
       "        \n",
       "    \n",
       "            var marker_8087552721ec51d929a00c317eb3ed31 = L.marker(\n",
       "                [35.858974, 139.962036],\n",
       "                {}\n",
       "            ).addTo(marker_cluster_f5402a4fc6ed0df5afbd40eaf92801dd);\n",
       "        \n",
       "    \n",
       "            marker_8087552721ec51d929a00c317eb3ed31.bindTooltip(\n",
       "                `&lt;div&gt;\n",
       "                     30歳代\n",
       "                 &lt;/div&gt;`,\n",
       "                {&quot;sticky&quot;: true}\n",
       "            );\n",
       "        \n",
       "    \n",
       "            var marker_ca7a5a82c051f006a55be546b5ea8e4e = L.marker(\n",
       "                [35.858974, 139.962036],\n",
       "                {}\n",
       "            ).addTo(marker_cluster_f5402a4fc6ed0df5afbd40eaf92801dd);\n",
       "        \n",
       "    \n",
       "            marker_ca7a5a82c051f006a55be546b5ea8e4e.bindTooltip(\n",
       "                `&lt;div&gt;\n",
       "                     20歳代\n",
       "                 &lt;/div&gt;`,\n",
       "                {&quot;sticky&quot;: true}\n",
       "            );\n",
       "        \n",
       "    \n",
       "            var marker_e038a5e3139fc54c438f390b238d7c3a = L.marker(\n",
       "                [35.858974, 139.962036],\n",
       "                {}\n",
       "            ).addTo(marker_cluster_f5402a4fc6ed0df5afbd40eaf92801dd);\n",
       "        \n",
       "    \n",
       "            marker_e038a5e3139fc54c438f390b238d7c3a.bindTooltip(\n",
       "                `&lt;div&gt;\n",
       "                     20歳代\n",
       "                 &lt;/div&gt;`,\n",
       "                {&quot;sticky&quot;: true}\n",
       "            );\n",
       "        \n",
       "    \n",
       "            var marker_b06128149cce499933a8064bd73cb2b6 = L.marker(\n",
       "                [35.85675, 139.962128],\n",
       "                {}\n",
       "            ).addTo(marker_cluster_f5402a4fc6ed0df5afbd40eaf92801dd);\n",
       "        \n",
       "    \n",
       "            marker_b06128149cce499933a8064bd73cb2b6.bindTooltip(\n",
       "                `&lt;div&gt;\n",
       "                     30歳代\n",
       "                 &lt;/div&gt;`,\n",
       "                {&quot;sticky&quot;: true}\n",
       "            );\n",
       "        \n",
       "    \n",
       "            var marker_50f00398831913251a72461ef02a47ea = L.marker(\n",
       "                [35.857044, 139.958267],\n",
       "                {}\n",
       "            ).addTo(marker_cluster_f5402a4fc6ed0df5afbd40eaf92801dd);\n",
       "        \n",
       "    \n",
       "            marker_50f00398831913251a72461ef02a47ea.bindTooltip(\n",
       "                `&lt;div&gt;\n",
       "                     70歳以上\n",
       "                 &lt;/div&gt;`,\n",
       "                {&quot;sticky&quot;: true}\n",
       "            );\n",
       "        \n",
       "    \n",
       "            var marker_02d67e72ddd0e32f80dbc293493ffa93 = L.marker(\n",
       "                [35.857044, 139.958267],\n",
       "                {}\n",
       "            ).addTo(marker_cluster_f5402a4fc6ed0df5afbd40eaf92801dd);\n",
       "        \n",
       "    \n",
       "            marker_02d67e72ddd0e32f80dbc293493ffa93.bindTooltip(\n",
       "                `&lt;div&gt;\n",
       "                     10歳代\n",
       "                 &lt;/div&gt;`,\n",
       "                {&quot;sticky&quot;: true}\n",
       "            );\n",
       "        \n",
       "    \n",
       "            var marker_305323a764de3b764a3228a1f88ac73d = L.marker(\n",
       "                [35.868122, 139.943359],\n",
       "                {}\n",
       "            ).addTo(marker_cluster_f5402a4fc6ed0df5afbd40eaf92801dd);\n",
       "        \n",
       "    \n",
       "            marker_305323a764de3b764a3228a1f88ac73d.bindTooltip(\n",
       "                `&lt;div&gt;\n",
       "                     10歳代\n",
       "                 &lt;/div&gt;`,\n",
       "                {&quot;sticky&quot;: true}\n",
       "            );\n",
       "        \n",
       "    \n",
       "            var marker_b809ee5cae3c04333ff5690fe233c2f0 = L.marker(\n",
       "                [35.862904, 139.970398],\n",
       "                {}\n",
       "            ).addTo(marker_cluster_f5402a4fc6ed0df5afbd40eaf92801dd);\n",
       "        \n",
       "    \n",
       "            marker_b809ee5cae3c04333ff5690fe233c2f0.bindTooltip(\n",
       "                `&lt;div&gt;\n",
       "                     40歳代\n",
       "                 &lt;/div&gt;`,\n",
       "                {&quot;sticky&quot;: true}\n",
       "            );\n",
       "        \n",
       "    \n",
       "            var marker_3396f0df8d537d3268301234aa52d2c1 = L.marker(\n",
       "                [35.862904, 139.970398],\n",
       "                {}\n",
       "            ).addTo(marker_cluster_f5402a4fc6ed0df5afbd40eaf92801dd);\n",
       "        \n",
       "    \n",
       "            marker_3396f0df8d537d3268301234aa52d2c1.bindTooltip(\n",
       "                `&lt;div&gt;\n",
       "                     10歳代\n",
       "                 &lt;/div&gt;`,\n",
       "                {&quot;sticky&quot;: true}\n",
       "            );\n",
       "        \n",
       "    \n",
       "            var marker_16671241bff92c72a3a1ca8812ae6757 = L.marker(\n",
       "                [35.862904, 139.970398],\n",
       "                {}\n",
       "            ).addTo(marker_cluster_f5402a4fc6ed0df5afbd40eaf92801dd);\n",
       "        \n",
       "    \n",
       "            marker_16671241bff92c72a3a1ca8812ae6757.bindTooltip(\n",
       "                `&lt;div&gt;\n",
       "                     40歳代\n",
       "                 &lt;/div&gt;`,\n",
       "                {&quot;sticky&quot;: true}\n",
       "            );\n",
       "        \n",
       "    \n",
       "            var marker_4f749dab5bf2b88a9e4d9616e8265e01 = L.marker(\n",
       "                [35.862904, 139.970398],\n",
       "                {}\n",
       "            ).addTo(marker_cluster_f5402a4fc6ed0df5afbd40eaf92801dd);\n",
       "        \n",
       "    \n",
       "            marker_4f749dab5bf2b88a9e4d9616e8265e01.bindTooltip(\n",
       "                `&lt;div&gt;\n",
       "                     10歳代\n",
       "                 &lt;/div&gt;`,\n",
       "                {&quot;sticky&quot;: true}\n",
       "            );\n",
       "        \n",
       "    \n",
       "            var marker_34f9cb8d9ef029d3ae04056ac261e21f = L.marker(\n",
       "                [35.862904, 139.970398],\n",
       "                {}\n",
       "            ).addTo(marker_cluster_f5402a4fc6ed0df5afbd40eaf92801dd);\n",
       "        \n",
       "    \n",
       "            marker_34f9cb8d9ef029d3ae04056ac261e21f.bindTooltip(\n",
       "                `&lt;div&gt;\n",
       "                     20歳代\n",
       "                 &lt;/div&gt;`,\n",
       "                {&quot;sticky&quot;: true}\n",
       "            );\n",
       "        \n",
       "    \n",
       "            var marker_2990607febbe007d6bb1569a5ca1a8b7 = L.marker(\n",
       "                [35.862904, 139.970398],\n",
       "                {}\n",
       "            ).addTo(marker_cluster_f5402a4fc6ed0df5afbd40eaf92801dd);\n",
       "        \n",
       "    \n",
       "            marker_2990607febbe007d6bb1569a5ca1a8b7.bindTooltip(\n",
       "                `&lt;div&gt;\n",
       "                     65-69歳\n",
       "                 &lt;/div&gt;`,\n",
       "                {&quot;sticky&quot;: true}\n",
       "            );\n",
       "        \n",
       "    \n",
       "            var marker_8d45edf9f20fb550174f58f800878249 = L.marker(\n",
       "                [35.862904, 139.970398],\n",
       "                {}\n",
       "            ).addTo(marker_cluster_f5402a4fc6ed0df5afbd40eaf92801dd);\n",
       "        \n",
       "    \n",
       "            marker_8d45edf9f20fb550174f58f800878249.bindTooltip(\n",
       "                `&lt;div&gt;\n",
       "                     10歳未満\n",
       "                 &lt;/div&gt;`,\n",
       "                {&quot;sticky&quot;: true}\n",
       "            );\n",
       "        \n",
       "    \n",
       "            var marker_b8677fd09e4a35c68c7a94b2250fc153 = L.marker(\n",
       "                [35.862904, 139.970398],\n",
       "                {}\n",
       "            ).addTo(marker_cluster_f5402a4fc6ed0df5afbd40eaf92801dd);\n",
       "        \n",
       "    \n",
       "            marker_b8677fd09e4a35c68c7a94b2250fc153.bindTooltip(\n",
       "                `&lt;div&gt;\n",
       "                     10歳代\n",
       "                 &lt;/div&gt;`,\n",
       "                {&quot;sticky&quot;: true}\n",
       "            );\n",
       "        \n",
       "    \n",
       "            var marker_c51f940fb9d2436dee9bfe6dca856590 = L.marker(\n",
       "                [35.862904, 139.970398],\n",
       "                {}\n",
       "            ).addTo(marker_cluster_f5402a4fc6ed0df5afbd40eaf92801dd);\n",
       "        \n",
       "    \n",
       "            marker_c51f940fb9d2436dee9bfe6dca856590.bindTooltip(\n",
       "                `&lt;div&gt;\n",
       "                     20歳代\n",
       "                 &lt;/div&gt;`,\n",
       "                {&quot;sticky&quot;: true}\n",
       "            );\n",
       "        \n",
       "    \n",
       "            var marker_9aca7c61347d2529af42e8e037287275 = L.marker(\n",
       "                [35.862904, 139.970398],\n",
       "                {}\n",
       "            ).addTo(marker_cluster_f5402a4fc6ed0df5afbd40eaf92801dd);\n",
       "        \n",
       "    \n",
       "            marker_9aca7c61347d2529af42e8e037287275.bindTooltip(\n",
       "                `&lt;div&gt;\n",
       "                     20歳代\n",
       "                 &lt;/div&gt;`,\n",
       "                {&quot;sticky&quot;: true}\n",
       "            );\n",
       "        \n",
       "    \n",
       "            var marker_e672f0837fc349842954140ac55c488b = L.marker(\n",
       "                [35.854397, 139.962891],\n",
       "                {}\n",
       "            ).addTo(marker_cluster_f5402a4fc6ed0df5afbd40eaf92801dd);\n",
       "        \n",
       "    \n",
       "            marker_e672f0837fc349842954140ac55c488b.bindTooltip(\n",
       "                `&lt;div&gt;\n",
       "                     20歳代\n",
       "                 &lt;/div&gt;`,\n",
       "                {&quot;sticky&quot;: true}\n",
       "            );\n",
       "        \n",
       "    \n",
       "            var marker_5d3a9ef3135fd59f20ba5b9159a35c38 = L.marker(\n",
       "                [35.854397, 139.962891],\n",
       "                {}\n",
       "            ).addTo(marker_cluster_f5402a4fc6ed0df5afbd40eaf92801dd);\n",
       "        \n",
       "    \n",
       "            marker_5d3a9ef3135fd59f20ba5b9159a35c38.bindTooltip(\n",
       "                `&lt;div&gt;\n",
       "                     10歳代\n",
       "                 &lt;/div&gt;`,\n",
       "                {&quot;sticky&quot;: true}\n",
       "            );\n",
       "        \n",
       "    \n",
       "            var marker_dd29ea89e3a752ba61157c17a6e53f35 = L.marker(\n",
       "                [35.854397, 139.962891],\n",
       "                {}\n",
       "            ).addTo(marker_cluster_f5402a4fc6ed0df5afbd40eaf92801dd);\n",
       "        \n",
       "    \n",
       "            marker_dd29ea89e3a752ba61157c17a6e53f35.bindTooltip(\n",
       "                `&lt;div&gt;\n",
       "                     20歳代\n",
       "                 &lt;/div&gt;`,\n",
       "                {&quot;sticky&quot;: true}\n",
       "            );\n",
       "        \n",
       "    \n",
       "            var marker_b14806dc9036360d49aff643b6ab2e1c = L.marker(\n",
       "                [35.854397, 139.962891],\n",
       "                {}\n",
       "            ).addTo(marker_cluster_f5402a4fc6ed0df5afbd40eaf92801dd);\n",
       "        \n",
       "    \n",
       "            marker_b14806dc9036360d49aff643b6ab2e1c.bindTooltip(\n",
       "                `&lt;div&gt;\n",
       "                     20歳代\n",
       "                 &lt;/div&gt;`,\n",
       "                {&quot;sticky&quot;: true}\n",
       "            );\n",
       "        \n",
       "    \n",
       "            var marker_a5e70c9137896d1c58d9e6bb222abd03 = L.marker(\n",
       "                [35.854397, 139.962891],\n",
       "                {}\n",
       "            ).addTo(marker_cluster_f5402a4fc6ed0df5afbd40eaf92801dd);\n",
       "        \n",
       "    \n",
       "            marker_a5e70c9137896d1c58d9e6bb222abd03.bindTooltip(\n",
       "                `&lt;div&gt;\n",
       "                     20歳代\n",
       "                 &lt;/div&gt;`,\n",
       "                {&quot;sticky&quot;: true}\n",
       "            );\n",
       "        \n",
       "    \n",
       "            var marker_59ba3919ab683f7108b2febd798b24c7 = L.marker(\n",
       "                [35.854397, 139.962891],\n",
       "                {}\n",
       "            ).addTo(marker_cluster_f5402a4fc6ed0df5afbd40eaf92801dd);\n",
       "        \n",
       "    \n",
       "            marker_59ba3919ab683f7108b2febd798b24c7.bindTooltip(\n",
       "                `&lt;div&gt;\n",
       "                     20歳代\n",
       "                 &lt;/div&gt;`,\n",
       "                {&quot;sticky&quot;: true}\n",
       "            );\n",
       "        \n",
       "    \n",
       "            var marker_af8c65d30f97a525e05815803db00574 = L.marker(\n",
       "                [35.866894, 139.957932],\n",
       "                {}\n",
       "            ).addTo(marker_cluster_f5402a4fc6ed0df5afbd40eaf92801dd);\n",
       "        \n",
       "    \n",
       "            marker_af8c65d30f97a525e05815803db00574.bindTooltip(\n",
       "                `&lt;div&gt;\n",
       "                     10歳代\n",
       "                 &lt;/div&gt;`,\n",
       "                {&quot;sticky&quot;: true}\n",
       "            );\n",
       "        \n",
       "    \n",
       "            var marker_5104434225dc98d9d3887f6f58a17ac5 = L.marker(\n",
       "                [35.866894, 139.957932],\n",
       "                {}\n",
       "            ).addTo(marker_cluster_f5402a4fc6ed0df5afbd40eaf92801dd);\n",
       "        \n",
       "    \n",
       "            marker_5104434225dc98d9d3887f6f58a17ac5.bindTooltip(\n",
       "                `&lt;div&gt;\n",
       "                     40歳代\n",
       "                 &lt;/div&gt;`,\n",
       "                {&quot;sticky&quot;: true}\n",
       "            );\n",
       "        \n",
       "    \n",
       "            var marker_f88a7079f4c598f45fa00bee0441aa26 = L.marker(\n",
       "                [35.866894, 139.957932],\n",
       "                {}\n",
       "            ).addTo(marker_cluster_f5402a4fc6ed0df5afbd40eaf92801dd);\n",
       "        \n",
       "    \n",
       "            marker_f88a7079f4c598f45fa00bee0441aa26.bindTooltip(\n",
       "                `&lt;div&gt;\n",
       "                     20歳代\n",
       "                 &lt;/div&gt;`,\n",
       "                {&quot;sticky&quot;: true}\n",
       "            );\n",
       "        \n",
       "    \n",
       "            var marker_5a2974602186e47a070db93328ec55b7 = L.marker(\n",
       "                [35.866894, 139.957932],\n",
       "                {}\n",
       "            ).addTo(marker_cluster_f5402a4fc6ed0df5afbd40eaf92801dd);\n",
       "        \n",
       "    \n",
       "            marker_5a2974602186e47a070db93328ec55b7.bindTooltip(\n",
       "                `&lt;div&gt;\n",
       "                     40歳代\n",
       "                 &lt;/div&gt;`,\n",
       "                {&quot;sticky&quot;: true}\n",
       "            );\n",
       "        \n",
       "    \n",
       "            var marker_18ba11b831eb41f00fe5daecb6b62bf7 = L.marker(\n",
       "                [35.862438, 139.959137],\n",
       "                {}\n",
       "            ).addTo(marker_cluster_f5402a4fc6ed0df5afbd40eaf92801dd);\n",
       "        \n",
       "    \n",
       "            marker_18ba11b831eb41f00fe5daecb6b62bf7.bindTooltip(\n",
       "                `&lt;div&gt;\n",
       "                     70歳以上\n",
       "                 &lt;/div&gt;`,\n",
       "                {&quot;sticky&quot;: true}\n",
       "            );\n",
       "        \n",
       "    \n",
       "            var marker_67196b36a9d7f16c95691498852e7ad4 = L.marker(\n",
       "                [35.863903, 139.956039],\n",
       "                {}\n",
       "            ).addTo(marker_cluster_f5402a4fc6ed0df5afbd40eaf92801dd);\n",
       "        \n",
       "    \n",
       "            marker_67196b36a9d7f16c95691498852e7ad4.bindTooltip(\n",
       "                `&lt;div&gt;\n",
       "                     40歳代\n",
       "                 &lt;/div&gt;`,\n",
       "                {&quot;sticky&quot;: true}\n",
       "            );\n",
       "        \n",
       "    \n",
       "            var marker_2f9e43561f950fe2a36b19808d2521d1 = L.marker(\n",
       "                [35.863903, 139.956039],\n",
       "                {}\n",
       "            ).addTo(marker_cluster_f5402a4fc6ed0df5afbd40eaf92801dd);\n",
       "        \n",
       "    \n",
       "            marker_2f9e43561f950fe2a36b19808d2521d1.bindTooltip(\n",
       "                `&lt;div&gt;\n",
       "                     10歳代\n",
       "                 &lt;/div&gt;`,\n",
       "                {&quot;sticky&quot;: true}\n",
       "            );\n",
       "        \n",
       "    \n",
       "            var marker_9e32b126d08290b748b051c2b1538711 = L.marker(\n",
       "                [35.869198, 139.957932],\n",
       "                {}\n",
       "            ).addTo(marker_cluster_f5402a4fc6ed0df5afbd40eaf92801dd);\n",
       "        \n",
       "    \n",
       "            marker_9e32b126d08290b748b051c2b1538711.bindTooltip(\n",
       "                `&lt;div&gt;\n",
       "                     10歳代\n",
       "                 &lt;/div&gt;`,\n",
       "                {&quot;sticky&quot;: true}\n",
       "            );\n",
       "        \n",
       "    \n",
       "            var marker_bc4f284358883a7f50c53913e349ac7c = L.marker(\n",
       "                [35.882629, 139.959305],\n",
       "                {}\n",
       "            ).addTo(marker_cluster_f5402a4fc6ed0df5afbd40eaf92801dd);\n",
       "        \n",
       "    \n",
       "            marker_bc4f284358883a7f50c53913e349ac7c.bindTooltip(\n",
       "                `&lt;div&gt;\n",
       "                     70歳以上\n",
       "                 &lt;/div&gt;`,\n",
       "                {&quot;sticky&quot;: true}\n",
       "            );\n",
       "        \n",
       "    \n",
       "            var marker_2a71fae0357f558c53e7955b8688097b = L.marker(\n",
       "                [35.882629, 139.959305],\n",
       "                {}\n",
       "            ).addTo(marker_cluster_f5402a4fc6ed0df5afbd40eaf92801dd);\n",
       "        \n",
       "    \n",
       "            marker_2a71fae0357f558c53e7955b8688097b.bindTooltip(\n",
       "                `&lt;div&gt;\n",
       "                     10歳代\n",
       "                 &lt;/div&gt;`,\n",
       "                {&quot;sticky&quot;: true}\n",
       "            );\n",
       "        \n",
       "    \n",
       "            var marker_a738d4605f35b72432740cb3a7a13bcf = L.marker(\n",
       "                [35.88113, 139.98645],\n",
       "                {}\n",
       "            ).addTo(marker_cluster_f5402a4fc6ed0df5afbd40eaf92801dd);\n",
       "        \n",
       "    \n",
       "            marker_a738d4605f35b72432740cb3a7a13bcf.bindTooltip(\n",
       "                `&lt;div&gt;\n",
       "                     20歳代\n",
       "                 &lt;/div&gt;`,\n",
       "                {&quot;sticky&quot;: true}\n",
       "            );\n",
       "        \n",
       "    \n",
       "            var marker_8db08a88d5c3f533b9c47b98ea891ac3 = L.marker(\n",
       "                [35.879082, 139.975952],\n",
       "                {}\n",
       "            ).addTo(marker_cluster_f5402a4fc6ed0df5afbd40eaf92801dd);\n",
       "        \n",
       "    \n",
       "            marker_8db08a88d5c3f533b9c47b98ea891ac3.bindTooltip(\n",
       "                `&lt;div&gt;\n",
       "                     20歳代\n",
       "                 &lt;/div&gt;`,\n",
       "                {&quot;sticky&quot;: true}\n",
       "            );\n",
       "        \n",
       "    \n",
       "            var marker_49b64ca2f95c13ef365c4c06ac60423c = L.marker(\n",
       "                [35.879082, 139.975952],\n",
       "                {}\n",
       "            ).addTo(marker_cluster_f5402a4fc6ed0df5afbd40eaf92801dd);\n",
       "        \n",
       "    \n",
       "            marker_49b64ca2f95c13ef365c4c06ac60423c.bindTooltip(\n",
       "                `&lt;div&gt;\n",
       "                     10歳代\n",
       "                 &lt;/div&gt;`,\n",
       "                {&quot;sticky&quot;: true}\n",
       "            );\n",
       "        \n",
       "    \n",
       "            var marker_d5916cd44c3b4e4256a7786ddd75d2e9 = L.marker(\n",
       "                [35.879082, 139.975952],\n",
       "                {}\n",
       "            ).addTo(marker_cluster_f5402a4fc6ed0df5afbd40eaf92801dd);\n",
       "        \n",
       "    \n",
       "            marker_d5916cd44c3b4e4256a7786ddd75d2e9.bindTooltip(\n",
       "                `&lt;div&gt;\n",
       "                     20歳代\n",
       "                 &lt;/div&gt;`,\n",
       "                {&quot;sticky&quot;: true}\n",
       "            );\n",
       "        \n",
       "    \n",
       "            var marker_fb6bd651e17c0c669867e05f28048214 = L.marker(\n",
       "                [35.879082, 139.975952],\n",
       "                {}\n",
       "            ).addTo(marker_cluster_f5402a4fc6ed0df5afbd40eaf92801dd);\n",
       "        \n",
       "    \n",
       "            marker_fb6bd651e17c0c669867e05f28048214.bindTooltip(\n",
       "                `&lt;div&gt;\n",
       "                     20歳代\n",
       "                 &lt;/div&gt;`,\n",
       "                {&quot;sticky&quot;: true}\n",
       "            );\n",
       "        \n",
       "    \n",
       "            var marker_01c3687596c9e511801c5944ba1d9ece = L.marker(\n",
       "                [35.879082, 139.975952],\n",
       "                {}\n",
       "            ).addTo(marker_cluster_f5402a4fc6ed0df5afbd40eaf92801dd);\n",
       "        \n",
       "    \n",
       "            marker_01c3687596c9e511801c5944ba1d9ece.bindTooltip(\n",
       "                `&lt;div&gt;\n",
       "                     40歳代\n",
       "                 &lt;/div&gt;`,\n",
       "                {&quot;sticky&quot;: true}\n",
       "            );\n",
       "        \n",
       "    \n",
       "            var marker_652f934c6c10debd17e57bfaef5e4788 = L.marker(\n",
       "                [35.879082, 139.975952],\n",
       "                {}\n",
       "            ).addTo(marker_cluster_f5402a4fc6ed0df5afbd40eaf92801dd);\n",
       "        \n",
       "    \n",
       "            marker_652f934c6c10debd17e57bfaef5e4788.bindTooltip(\n",
       "                `&lt;div&gt;\n",
       "                     10歳代\n",
       "                 &lt;/div&gt;`,\n",
       "                {&quot;sticky&quot;: true}\n",
       "            );\n",
       "        \n",
       "    \n",
       "            var marker_6a832aaa29c107657e3027e128480d15 = L.marker(\n",
       "                [35.879082, 139.975952],\n",
       "                {}\n",
       "            ).addTo(marker_cluster_f5402a4fc6ed0df5afbd40eaf92801dd);\n",
       "        \n",
       "    \n",
       "            marker_6a832aaa29c107657e3027e128480d15.bindTooltip(\n",
       "                `&lt;div&gt;\n",
       "                     30歳代\n",
       "                 &lt;/div&gt;`,\n",
       "                {&quot;sticky&quot;: true}\n",
       "            );\n",
       "        \n",
       "    \n",
       "            var marker_0dbe64241f49a563ab58587842a17e87 = L.marker(\n",
       "                [35.879082, 139.975952],\n",
       "                {}\n",
       "            ).addTo(marker_cluster_f5402a4fc6ed0df5afbd40eaf92801dd);\n",
       "        \n",
       "    \n",
       "            marker_0dbe64241f49a563ab58587842a17e87.bindTooltip(\n",
       "                `&lt;div&gt;\n",
       "                     30歳代\n",
       "                 &lt;/div&gt;`,\n",
       "                {&quot;sticky&quot;: true}\n",
       "            );\n",
       "        \n",
       "    \n",
       "            var marker_4b39ed7187c445afbdf3270f9c7b4a70 = L.marker(\n",
       "                [35.886456, 139.980759],\n",
       "                {}\n",
       "            ).addTo(marker_cluster_f5402a4fc6ed0df5afbd40eaf92801dd);\n",
       "        \n",
       "    \n",
       "            marker_4b39ed7187c445afbdf3270f9c7b4a70.bindTooltip(\n",
       "                `&lt;div&gt;\n",
       "                     20歳代\n",
       "                 &lt;/div&gt;`,\n",
       "                {&quot;sticky&quot;: true}\n",
       "            );\n",
       "        \n",
       "    \n",
       "            var marker_3fd2f346fc413ca238fcdf9002ebf32f = L.marker(\n",
       "                [35.886456, 139.980759],\n",
       "                {}\n",
       "            ).addTo(marker_cluster_f5402a4fc6ed0df5afbd40eaf92801dd);\n",
       "        \n",
       "    \n",
       "            marker_3fd2f346fc413ca238fcdf9002ebf32f.bindTooltip(\n",
       "                `&lt;div&gt;\n",
       "                     10歳代\n",
       "                 &lt;/div&gt;`,\n",
       "                {&quot;sticky&quot;: true}\n",
       "            );\n",
       "        \n",
       "    \n",
       "            var marker_60eaa9a9e02d3d2eccdaa4a475214030 = L.marker(\n",
       "                [35.886009, 139.970963],\n",
       "                {}\n",
       "            ).addTo(marker_cluster_f5402a4fc6ed0df5afbd40eaf92801dd);\n",
       "        \n",
       "    \n",
       "            marker_60eaa9a9e02d3d2eccdaa4a475214030.bindTooltip(\n",
       "                `&lt;div&gt;\n",
       "                     10歳未満\n",
       "                 &lt;/div&gt;`,\n",
       "                {&quot;sticky&quot;: true}\n",
       "            );\n",
       "        \n",
       "    \n",
       "            var marker_7d244bd49902aa89000975e5728a68c6 = L.marker(\n",
       "                [35.886009, 139.970963],\n",
       "                {}\n",
       "            ).addTo(marker_cluster_f5402a4fc6ed0df5afbd40eaf92801dd);\n",
       "        \n",
       "    \n",
       "            marker_7d244bd49902aa89000975e5728a68c6.bindTooltip(\n",
       "                `&lt;div&gt;\n",
       "                     10歳代\n",
       "                 &lt;/div&gt;`,\n",
       "                {&quot;sticky&quot;: true}\n",
       "            );\n",
       "        \n",
       "    \n",
       "            var marker_4b3ce334f9ed52e6219d0fd4e46b7020 = L.marker(\n",
       "                [35.889114, 139.971802],\n",
       "                {}\n",
       "            ).addTo(marker_cluster_f5402a4fc6ed0df5afbd40eaf92801dd);\n",
       "        \n",
       "    \n",
       "            marker_4b3ce334f9ed52e6219d0fd4e46b7020.bindTooltip(\n",
       "                `&lt;div&gt;\n",
       "                     70歳以上\n",
       "                 &lt;/div&gt;`,\n",
       "                {&quot;sticky&quot;: true}\n",
       "            );\n",
       "        \n",
       "    \n",
       "            var marker_5fe65e71641dad5e1f647d5210a62757 = L.marker(\n",
       "                [35.889114, 139.971802],\n",
       "                {}\n",
       "            ).addTo(marker_cluster_f5402a4fc6ed0df5afbd40eaf92801dd);\n",
       "        \n",
       "    \n",
       "            marker_5fe65e71641dad5e1f647d5210a62757.bindTooltip(\n",
       "                `&lt;div&gt;\n",
       "                     65-69歳\n",
       "                 &lt;/div&gt;`,\n",
       "                {&quot;sticky&quot;: true}\n",
       "            );\n",
       "        \n",
       "    \n",
       "            var marker_a11f0993653d47dfeff14fba851fa787 = L.marker(\n",
       "                [35.889114, 139.971802],\n",
       "                {}\n",
       "            ).addTo(marker_cluster_f5402a4fc6ed0df5afbd40eaf92801dd);\n",
       "        \n",
       "    \n",
       "            marker_a11f0993653d47dfeff14fba851fa787.bindTooltip(\n",
       "                `&lt;div&gt;\n",
       "                     70歳以上\n",
       "                 &lt;/div&gt;`,\n",
       "                {&quot;sticky&quot;: true}\n",
       "            );\n",
       "        \n",
       "    \n",
       "            var marker_8e614719e265e04709cc984f37b5cb03 = L.marker(\n",
       "                [35.889473, 139.966446],\n",
       "                {}\n",
       "            ).addTo(marker_cluster_f5402a4fc6ed0df5afbd40eaf92801dd);\n",
       "        \n",
       "    \n",
       "            marker_8e614719e265e04709cc984f37b5cb03.bindTooltip(\n",
       "                `&lt;div&gt;\n",
       "                     40歳代\n",
       "                 &lt;/div&gt;`,\n",
       "                {&quot;sticky&quot;: true}\n",
       "            );\n",
       "        \n",
       "    \n",
       "            var marker_0b4c8185b277fc0891b28e64b655702d = L.marker(\n",
       "                [35.889473, 139.966446],\n",
       "                {}\n",
       "            ).addTo(marker_cluster_f5402a4fc6ed0df5afbd40eaf92801dd);\n",
       "        \n",
       "    \n",
       "            marker_0b4c8185b277fc0891b28e64b655702d.bindTooltip(\n",
       "                `&lt;div&gt;\n",
       "                     70歳以上\n",
       "                 &lt;/div&gt;`,\n",
       "                {&quot;sticky&quot;: true}\n",
       "            );\n",
       "        \n",
       "    \n",
       "            var marker_c1570432b0da03c9249d50ef2f50a214 = L.marker(\n",
       "                [35.891541, 139.968033],\n",
       "                {}\n",
       "            ).addTo(marker_cluster_f5402a4fc6ed0df5afbd40eaf92801dd);\n",
       "        \n",
       "    \n",
       "            marker_c1570432b0da03c9249d50ef2f50a214.bindTooltip(\n",
       "                `&lt;div&gt;\n",
       "                     50歳代\n",
       "                 &lt;/div&gt;`,\n",
       "                {&quot;sticky&quot;: true}\n",
       "            );\n",
       "        \n",
       "    \n",
       "            var marker_9a7d468294161210a030e392e5efddf8 = L.marker(\n",
       "                [35.880825, 139.967804],\n",
       "                {}\n",
       "            ).addTo(marker_cluster_f5402a4fc6ed0df5afbd40eaf92801dd);\n",
       "        \n",
       "    \n",
       "            marker_9a7d468294161210a030e392e5efddf8.bindTooltip(\n",
       "                `&lt;div&gt;\n",
       "                     40歳代\n",
       "                 &lt;/div&gt;`,\n",
       "                {&quot;sticky&quot;: true}\n",
       "            );\n",
       "        \n",
       "    \n",
       "            var marker_55852b45245f5499fe0f46e37f6e933f = L.marker(\n",
       "                [35.880825, 139.967804],\n",
       "                {}\n",
       "            ).addTo(marker_cluster_f5402a4fc6ed0df5afbd40eaf92801dd);\n",
       "        \n",
       "    \n",
       "            marker_55852b45245f5499fe0f46e37f6e933f.bindTooltip(\n",
       "                `&lt;div&gt;\n",
       "                     20歳代\n",
       "                 &lt;/div&gt;`,\n",
       "                {&quot;sticky&quot;: true}\n",
       "            );\n",
       "        \n",
       "    \n",
       "            var marker_dec9f13681a16437b5ee86437134b199 = L.marker(\n",
       "                [35.880825, 139.967804],\n",
       "                {}\n",
       "            ).addTo(marker_cluster_f5402a4fc6ed0df5afbd40eaf92801dd);\n",
       "        \n",
       "    \n",
       "            marker_dec9f13681a16437b5ee86437134b199.bindTooltip(\n",
       "                `&lt;div&gt;\n",
       "                     10歳代\n",
       "                 &lt;/div&gt;`,\n",
       "                {&quot;sticky&quot;: true}\n",
       "            );\n",
       "        \n",
       "    \n",
       "            var marker_2b4b5f1d198305e3de7dd99fba4d4830 = L.marker(\n",
       "                [35.880825, 139.967804],\n",
       "                {}\n",
       "            ).addTo(marker_cluster_f5402a4fc6ed0df5afbd40eaf92801dd);\n",
       "        \n",
       "    \n",
       "            marker_2b4b5f1d198305e3de7dd99fba4d4830.bindTooltip(\n",
       "                `&lt;div&gt;\n",
       "                     10歳代\n",
       "                 &lt;/div&gt;`,\n",
       "                {&quot;sticky&quot;: true}\n",
       "            );\n",
       "        \n",
       "    \n",
       "            var marker_c781553951467b269b37ef5ca42cf839 = L.marker(\n",
       "                [35.88258, 139.969193],\n",
       "                {}\n",
       "            ).addTo(marker_cluster_f5402a4fc6ed0df5afbd40eaf92801dd);\n",
       "        \n",
       "    \n",
       "            marker_c781553951467b269b37ef5ca42cf839.bindTooltip(\n",
       "                `&lt;div&gt;\n",
       "                     40歳代\n",
       "                 &lt;/div&gt;`,\n",
       "                {&quot;sticky&quot;: true}\n",
       "            );\n",
       "        \n",
       "    \n",
       "            var marker_d0ceda9da5363fec50db3198e478daaf = L.marker(\n",
       "                [35.88258, 139.969193],\n",
       "                {}\n",
       "            ).addTo(marker_cluster_f5402a4fc6ed0df5afbd40eaf92801dd);\n",
       "        \n",
       "    \n",
       "            marker_d0ceda9da5363fec50db3198e478daaf.bindTooltip(\n",
       "                `&lt;div&gt;\n",
       "                     10歳代\n",
       "                 &lt;/div&gt;`,\n",
       "                {&quot;sticky&quot;: true}\n",
       "            );\n",
       "        \n",
       "    \n",
       "            var marker_2039c24d02f727ce51c02c1083533c5c = L.marker(\n",
       "                [35.88258, 139.969193],\n",
       "                {}\n",
       "            ).addTo(marker_cluster_f5402a4fc6ed0df5afbd40eaf92801dd);\n",
       "        \n",
       "    \n",
       "            marker_2039c24d02f727ce51c02c1083533c5c.bindTooltip(\n",
       "                `&lt;div&gt;\n",
       "                     20歳代\n",
       "                 &lt;/div&gt;`,\n",
       "                {&quot;sticky&quot;: true}\n",
       "            );\n",
       "        \n",
       "    \n",
       "            var marker_72fe3dd747e94f015989dd0e37ccfd05 = L.marker(\n",
       "                [35.88258, 139.969193],\n",
       "                {}\n",
       "            ).addTo(marker_cluster_f5402a4fc6ed0df5afbd40eaf92801dd);\n",
       "        \n",
       "    \n",
       "            marker_72fe3dd747e94f015989dd0e37ccfd05.bindTooltip(\n",
       "                `&lt;div&gt;\n",
       "                     10歳代\n",
       "                 &lt;/div&gt;`,\n",
       "                {&quot;sticky&quot;: true}\n",
       "            );\n",
       "        \n",
       "    \n",
       "            var marker_68795e6fdb45cdb1735c98fbd4c4def8 = L.marker(\n",
       "                [35.88258, 139.969193],\n",
       "                {}\n",
       "            ).addTo(marker_cluster_f5402a4fc6ed0df5afbd40eaf92801dd);\n",
       "        \n",
       "    \n",
       "            marker_68795e6fdb45cdb1735c98fbd4c4def8.bindTooltip(\n",
       "                `&lt;div&gt;\n",
       "                     10歳代\n",
       "                 &lt;/div&gt;`,\n",
       "                {&quot;sticky&quot;: true}\n",
       "            );\n",
       "        \n",
       "    \n",
       "            var marker_a9a25eb74862fad19667d51fe810f627 = L.marker(\n",
       "                [35.88258, 139.969193],\n",
       "                {}\n",
       "            ).addTo(marker_cluster_f5402a4fc6ed0df5afbd40eaf92801dd);\n",
       "        \n",
       "    \n",
       "            marker_a9a25eb74862fad19667d51fe810f627.bindTooltip(\n",
       "                `&lt;div&gt;\n",
       "                     30歳代\n",
       "                 &lt;/div&gt;`,\n",
       "                {&quot;sticky&quot;: true}\n",
       "            );\n",
       "        \n",
       "    \n",
       "            var marker_dcfa932f9a895a75d002e9b930c0bfe0 = L.marker(\n",
       "                [35.88258, 139.969193],\n",
       "                {}\n",
       "            ).addTo(marker_cluster_f5402a4fc6ed0df5afbd40eaf92801dd);\n",
       "        \n",
       "    \n",
       "            marker_dcfa932f9a895a75d002e9b930c0bfe0.bindTooltip(\n",
       "                `&lt;div&gt;\n",
       "                     法人・団体、被害者なし\n",
       "                 &lt;/div&gt;`,\n",
       "                {&quot;sticky&quot;: true}\n",
       "            );\n",
       "        \n",
       "    \n",
       "            var marker_4767853ec8abda2abf09525da69d1815 = L.marker(\n",
       "                [35.902401, 139.950058],\n",
       "                {}\n",
       "            ).addTo(marker_cluster_f5402a4fc6ed0df5afbd40eaf92801dd);\n",
       "        \n",
       "    \n",
       "            marker_4767853ec8abda2abf09525da69d1815.bindTooltip(\n",
       "                `&lt;div&gt;\n",
       "                     20歳代\n",
       "                 &lt;/div&gt;`,\n",
       "                {&quot;sticky&quot;: true}\n",
       "            );\n",
       "        \n",
       "    \n",
       "            var marker_756d8eba52897b866a090f49fa4450d2 = L.marker(\n",
       "                [35.902401, 139.950058],\n",
       "                {}\n",
       "            ).addTo(marker_cluster_f5402a4fc6ed0df5afbd40eaf92801dd);\n",
       "        \n",
       "    \n",
       "            marker_756d8eba52897b866a090f49fa4450d2.bindTooltip(\n",
       "                `&lt;div&gt;\n",
       "                     30歳代\n",
       "                 &lt;/div&gt;`,\n",
       "                {&quot;sticky&quot;: true}\n",
       "            );\n",
       "        \n",
       "    \n",
       "            var marker_b6c140f256fa63fb916be174032f6785 = L.marker(\n",
       "                [35.891659, 139.953995],\n",
       "                {}\n",
       "            ).addTo(marker_cluster_f5402a4fc6ed0df5afbd40eaf92801dd);\n",
       "        \n",
       "    \n",
       "            marker_b6c140f256fa63fb916be174032f6785.bindTooltip(\n",
       "                `&lt;div&gt;\n",
       "                     10歳代\n",
       "                 &lt;/div&gt;`,\n",
       "                {&quot;sticky&quot;: true}\n",
       "            );\n",
       "        \n",
       "    \n",
       "            var marker_9a86f0e26f51702af34fe2606aeb4549 = L.marker(\n",
       "                [35.891659, 139.953995],\n",
       "                {}\n",
       "            ).addTo(marker_cluster_f5402a4fc6ed0df5afbd40eaf92801dd);\n",
       "        \n",
       "    \n",
       "            marker_9a86f0e26f51702af34fe2606aeb4549.bindTooltip(\n",
       "                `&lt;div&gt;\n",
       "                     10歳代\n",
       "                 &lt;/div&gt;`,\n",
       "                {&quot;sticky&quot;: true}\n",
       "            );\n",
       "        \n",
       "    \n",
       "            var marker_5a6aa1f5ebaec9b8c3c4ba8a2eb7b310 = L.marker(\n",
       "                [35.891659, 139.953995],\n",
       "                {}\n",
       "            ).addTo(marker_cluster_f5402a4fc6ed0df5afbd40eaf92801dd);\n",
       "        \n",
       "    \n",
       "            marker_5a6aa1f5ebaec9b8c3c4ba8a2eb7b310.bindTooltip(\n",
       "                `&lt;div&gt;\n",
       "                     10歳代\n",
       "                 &lt;/div&gt;`,\n",
       "                {&quot;sticky&quot;: true}\n",
       "            );\n",
       "        \n",
       "    \n",
       "            var marker_891dbb6bd2108eb752aafdc244f16f83 = L.marker(\n",
       "                [35.891659, 139.953995],\n",
       "                {}\n",
       "            ).addTo(marker_cluster_f5402a4fc6ed0df5afbd40eaf92801dd);\n",
       "        \n",
       "    \n",
       "            marker_891dbb6bd2108eb752aafdc244f16f83.bindTooltip(\n",
       "                `&lt;div&gt;\n",
       "                     10歳代\n",
       "                 &lt;/div&gt;`,\n",
       "                {&quot;sticky&quot;: true}\n",
       "            );\n",
       "        \n",
       "    \n",
       "            var marker_b6ccea1522c89cb643a9add84e127935 = L.marker(\n",
       "                [35.891659, 139.953995],\n",
       "                {}\n",
       "            ).addTo(marker_cluster_f5402a4fc6ed0df5afbd40eaf92801dd);\n",
       "        \n",
       "    \n",
       "            marker_b6ccea1522c89cb643a9add84e127935.bindTooltip(\n",
       "                `&lt;div&gt;\n",
       "                     20歳代\n",
       "                 &lt;/div&gt;`,\n",
       "                {&quot;sticky&quot;: true}\n",
       "            );\n",
       "        \n",
       "    \n",
       "            var marker_cca862b8a6b9ee81e1204e01e64edcf7 = L.marker(\n",
       "                [35.891659, 139.953995],\n",
       "                {}\n",
       "            ).addTo(marker_cluster_f5402a4fc6ed0df5afbd40eaf92801dd);\n",
       "        \n",
       "    \n",
       "            marker_cca862b8a6b9ee81e1204e01e64edcf7.bindTooltip(\n",
       "                `&lt;div&gt;\n",
       "                     10歳代\n",
       "                 &lt;/div&gt;`,\n",
       "                {&quot;sticky&quot;: true}\n",
       "            );\n",
       "        \n",
       "    \n",
       "            var marker_27a80e04d32e5671d046bef525044afc = L.marker(\n",
       "                [35.891659, 139.953995],\n",
       "                {}\n",
       "            ).addTo(marker_cluster_f5402a4fc6ed0df5afbd40eaf92801dd);\n",
       "        \n",
       "    \n",
       "            marker_27a80e04d32e5671d046bef525044afc.bindTooltip(\n",
       "                `&lt;div&gt;\n",
       "                     20歳代\n",
       "                 &lt;/div&gt;`,\n",
       "                {&quot;sticky&quot;: true}\n",
       "            );\n",
       "        \n",
       "    \n",
       "            var marker_0af6468591225e1d3fa5764dd6166a9e = L.marker(\n",
       "                [35.891659, 139.953995],\n",
       "                {}\n",
       "            ).addTo(marker_cluster_f5402a4fc6ed0df5afbd40eaf92801dd);\n",
       "        \n",
       "    \n",
       "            marker_0af6468591225e1d3fa5764dd6166a9e.bindTooltip(\n",
       "                `&lt;div&gt;\n",
       "                     40歳代\n",
       "                 &lt;/div&gt;`,\n",
       "                {&quot;sticky&quot;: true}\n",
       "            );\n",
       "        \n",
       "    \n",
       "            var marker_674792c6fcab6eb840b659bd0aa1cd1f = L.marker(\n",
       "                [35.891659, 139.953995],\n",
       "                {}\n",
       "            ).addTo(marker_cluster_f5402a4fc6ed0df5afbd40eaf92801dd);\n",
       "        \n",
       "    \n",
       "            marker_674792c6fcab6eb840b659bd0aa1cd1f.bindTooltip(\n",
       "                `&lt;div&gt;\n",
       "                     10歳代\n",
       "                 &lt;/div&gt;`,\n",
       "                {&quot;sticky&quot;: true}\n",
       "            );\n",
       "        \n",
       "    \n",
       "            var marker_5323135165c3a3fcb2bd2d70557693c6 = L.marker(\n",
       "                [35.891659, 139.953995],\n",
       "                {}\n",
       "            ).addTo(marker_cluster_f5402a4fc6ed0df5afbd40eaf92801dd);\n",
       "        \n",
       "    \n",
       "            marker_5323135165c3a3fcb2bd2d70557693c6.bindTooltip(\n",
       "                `&lt;div&gt;\n",
       "                     10歳代\n",
       "                 &lt;/div&gt;`,\n",
       "                {&quot;sticky&quot;: true}\n",
       "            );\n",
       "        \n",
       "    \n",
       "            var marker_f88dd8c5eda265bbf4451ed1964d0b18 = L.marker(\n",
       "                [35.891659, 139.953995],\n",
       "                {}\n",
       "            ).addTo(marker_cluster_f5402a4fc6ed0df5afbd40eaf92801dd);\n",
       "        \n",
       "    \n",
       "            marker_f88dd8c5eda265bbf4451ed1964d0b18.bindTooltip(\n",
       "                `&lt;div&gt;\n",
       "                     30歳代\n",
       "                 &lt;/div&gt;`,\n",
       "                {&quot;sticky&quot;: true}\n",
       "            );\n",
       "        \n",
       "    \n",
       "            var marker_26860e803cfe9c7246ba5fc75cc72230 = L.marker(\n",
       "                [35.891659, 139.953995],\n",
       "                {}\n",
       "            ).addTo(marker_cluster_f5402a4fc6ed0df5afbd40eaf92801dd);\n",
       "        \n",
       "    \n",
       "            marker_26860e803cfe9c7246ba5fc75cc72230.bindTooltip(\n",
       "                `&lt;div&gt;\n",
       "                     20歳代\n",
       "                 &lt;/div&gt;`,\n",
       "                {&quot;sticky&quot;: true}\n",
       "            );\n",
       "        \n",
       "    \n",
       "            var marker_c5a448b85b6db34af3315c434e4400ad = L.marker(\n",
       "                [35.891659, 139.953995],\n",
       "                {}\n",
       "            ).addTo(marker_cluster_f5402a4fc6ed0df5afbd40eaf92801dd);\n",
       "        \n",
       "    \n",
       "            marker_c5a448b85b6db34af3315c434e4400ad.bindTooltip(\n",
       "                `&lt;div&gt;\n",
       "                     10歳代\n",
       "                 &lt;/div&gt;`,\n",
       "                {&quot;sticky&quot;: true}\n",
       "            );\n",
       "        \n",
       "    \n",
       "            var marker_2b1c76672bc88a29cf385ed06cd03bad = L.marker(\n",
       "                [35.891659, 139.953995],\n",
       "                {}\n",
       "            ).addTo(marker_cluster_f5402a4fc6ed0df5afbd40eaf92801dd);\n",
       "        \n",
       "    \n",
       "            marker_2b1c76672bc88a29cf385ed06cd03bad.bindTooltip(\n",
       "                `&lt;div&gt;\n",
       "                     20歳代\n",
       "                 &lt;/div&gt;`,\n",
       "                {&quot;sticky&quot;: true}\n",
       "            );\n",
       "        \n",
       "    \n",
       "            var marker_bc80bd3dfe1cf5326d325a8c67fd7790 = L.marker(\n",
       "                [35.891659, 139.953995],\n",
       "                {}\n",
       "            ).addTo(marker_cluster_f5402a4fc6ed0df5afbd40eaf92801dd);\n",
       "        \n",
       "    \n",
       "            marker_bc80bd3dfe1cf5326d325a8c67fd7790.bindTooltip(\n",
       "                `&lt;div&gt;\n",
       "                     40歳代\n",
       "                 &lt;/div&gt;`,\n",
       "                {&quot;sticky&quot;: true}\n",
       "            );\n",
       "        \n",
       "    \n",
       "            var marker_432ef2ae9f32e9182622d780a81203e4 = L.marker(\n",
       "                [35.891659, 139.953995],\n",
       "                {}\n",
       "            ).addTo(marker_cluster_f5402a4fc6ed0df5afbd40eaf92801dd);\n",
       "        \n",
       "    \n",
       "            marker_432ef2ae9f32e9182622d780a81203e4.bindTooltip(\n",
       "                `&lt;div&gt;\n",
       "                     10歳代\n",
       "                 &lt;/div&gt;`,\n",
       "                {&quot;sticky&quot;: true}\n",
       "            );\n",
       "        \n",
       "    \n",
       "            var marker_fa4b577a8c1519bd63a7d250b795bfc7 = L.marker(\n",
       "                [35.891659, 139.953995],\n",
       "                {}\n",
       "            ).addTo(marker_cluster_f5402a4fc6ed0df5afbd40eaf92801dd);\n",
       "        \n",
       "    \n",
       "            marker_fa4b577a8c1519bd63a7d250b795bfc7.bindTooltip(\n",
       "                `&lt;div&gt;\n",
       "                     10歳代\n",
       "                 &lt;/div&gt;`,\n",
       "                {&quot;sticky&quot;: true}\n",
       "            );\n",
       "        \n",
       "    \n",
       "            var marker_558778adf7f72bc07a323747803b1318 = L.marker(\n",
       "                [35.891659, 139.953995],\n",
       "                {}\n",
       "            ).addTo(marker_cluster_f5402a4fc6ed0df5afbd40eaf92801dd);\n",
       "        \n",
       "    \n",
       "            marker_558778adf7f72bc07a323747803b1318.bindTooltip(\n",
       "                `&lt;div&gt;\n",
       "                     40歳代\n",
       "                 &lt;/div&gt;`,\n",
       "                {&quot;sticky&quot;: true}\n",
       "            );\n",
       "        \n",
       "    \n",
       "            var marker_096f44568276074de229fc3bbb96fc18 = L.marker(\n",
       "                [35.891659, 139.953995],\n",
       "                {}\n",
       "            ).addTo(marker_cluster_f5402a4fc6ed0df5afbd40eaf92801dd);\n",
       "        \n",
       "    \n",
       "            marker_096f44568276074de229fc3bbb96fc18.bindTooltip(\n",
       "                `&lt;div&gt;\n",
       "                     20歳代\n",
       "                 &lt;/div&gt;`,\n",
       "                {&quot;sticky&quot;: true}\n",
       "            );\n",
       "        \n",
       "    \n",
       "            var marker_71e1005c439b022921b544bfbba502a5 = L.marker(\n",
       "                [35.891659, 139.953995],\n",
       "                {}\n",
       "            ).addTo(marker_cluster_f5402a4fc6ed0df5afbd40eaf92801dd);\n",
       "        \n",
       "    \n",
       "            marker_71e1005c439b022921b544bfbba502a5.bindTooltip(\n",
       "                `&lt;div&gt;\n",
       "                     10歳代\n",
       "                 &lt;/div&gt;`,\n",
       "                {&quot;sticky&quot;: true}\n",
       "            );\n",
       "        \n",
       "    \n",
       "            var marker_a09f8a5f084a7f07b31bc55207096381 = L.marker(\n",
       "                [35.891659, 139.953995],\n",
       "                {}\n",
       "            ).addTo(marker_cluster_f5402a4fc6ed0df5afbd40eaf92801dd);\n",
       "        \n",
       "    \n",
       "            marker_a09f8a5f084a7f07b31bc55207096381.bindTooltip(\n",
       "                `&lt;div&gt;\n",
       "                     20歳代\n",
       "                 &lt;/div&gt;`,\n",
       "                {&quot;sticky&quot;: true}\n",
       "            );\n",
       "        \n",
       "    \n",
       "            var marker_e754e06df4eacb73bf1c55cdf3d322ed = L.marker(\n",
       "                [35.891659, 139.953995],\n",
       "                {}\n",
       "            ).addTo(marker_cluster_f5402a4fc6ed0df5afbd40eaf92801dd);\n",
       "        \n",
       "    \n",
       "            marker_e754e06df4eacb73bf1c55cdf3d322ed.bindTooltip(\n",
       "                `&lt;div&gt;\n",
       "                     20歳代\n",
       "                 &lt;/div&gt;`,\n",
       "                {&quot;sticky&quot;: true}\n",
       "            );\n",
       "        \n",
       "    \n",
       "            var marker_d48a9963b7177d08e943cf952378b862 = L.marker(\n",
       "                [35.896427, 139.937088],\n",
       "                {}\n",
       "            ).addTo(marker_cluster_f5402a4fc6ed0df5afbd40eaf92801dd);\n",
       "        \n",
       "    \n",
       "            marker_d48a9963b7177d08e943cf952378b862.bindTooltip(\n",
       "                `&lt;div&gt;\n",
       "                     30歳代\n",
       "                 &lt;/div&gt;`,\n",
       "                {&quot;sticky&quot;: true}\n",
       "            );\n",
       "        \n",
       "    \n",
       "            var marker_75266272fd76a222009b1748e59b7917 = L.marker(\n",
       "                [35.896942, 139.944931],\n",
       "                {}\n",
       "            ).addTo(marker_cluster_f5402a4fc6ed0df5afbd40eaf92801dd);\n",
       "        \n",
       "    \n",
       "            marker_75266272fd76a222009b1748e59b7917.bindTooltip(\n",
       "                `&lt;div&gt;\n",
       "                     20歳代\n",
       "                 &lt;/div&gt;`,\n",
       "                {&quot;sticky&quot;: true}\n",
       "            );\n",
       "        \n",
       "    \n",
       "            var marker_c61c13550270f7fb64e8ad597596979b = L.marker(\n",
       "                [35.857388, 139.97847],\n",
       "                {}\n",
       "            ).addTo(marker_cluster_f5402a4fc6ed0df5afbd40eaf92801dd);\n",
       "        \n",
       "    \n",
       "            marker_c61c13550270f7fb64e8ad597596979b.bindTooltip(\n",
       "                `&lt;div&gt;\n",
       "                     20歳代\n",
       "                 &lt;/div&gt;`,\n",
       "                {&quot;sticky&quot;: true}\n",
       "            );\n",
       "        \n",
       "    \n",
       "            var marker_2fad5eb8e8794751a60b93a4579a1f8a = L.marker(\n",
       "                [35.859604, 139.977722],\n",
       "                {}\n",
       "            ).addTo(marker_cluster_f5402a4fc6ed0df5afbd40eaf92801dd);\n",
       "        \n",
       "    \n",
       "            marker_2fad5eb8e8794751a60b93a4579a1f8a.bindTooltip(\n",
       "                `&lt;div&gt;\n",
       "                     30歳代\n",
       "                 &lt;/div&gt;`,\n",
       "                {&quot;sticky&quot;: true}\n",
       "            );\n",
       "        \n",
       "    \n",
       "            var marker_242fd10d341bd521fcc41470d11d2903 = L.marker(\n",
       "                [35.859604, 139.977722],\n",
       "                {}\n",
       "            ).addTo(marker_cluster_f5402a4fc6ed0df5afbd40eaf92801dd);\n",
       "        \n",
       "    \n",
       "            marker_242fd10d341bd521fcc41470d11d2903.bindTooltip(\n",
       "                `&lt;div&gt;\n",
       "                     20歳代\n",
       "                 &lt;/div&gt;`,\n",
       "                {&quot;sticky&quot;: true}\n",
       "            );\n",
       "        \n",
       "    \n",
       "            var marker_dbba78b75244228e39289f86e4cf14dc = L.marker(\n",
       "                [35.856449, 139.967957],\n",
       "                {}\n",
       "            ).addTo(marker_cluster_f5402a4fc6ed0df5afbd40eaf92801dd);\n",
       "        \n",
       "    \n",
       "            marker_dbba78b75244228e39289f86e4cf14dc.bindTooltip(\n",
       "                `&lt;div&gt;\n",
       "                     10歳代\n",
       "                 &lt;/div&gt;`,\n",
       "                {&quot;sticky&quot;: true}\n",
       "            );\n",
       "        \n",
       "    \n",
       "            var marker_5940d5d7afff2931d9c12240ea201c59 = L.marker(\n",
       "                [35.856449, 139.967957],\n",
       "                {}\n",
       "            ).addTo(marker_cluster_f5402a4fc6ed0df5afbd40eaf92801dd);\n",
       "        \n",
       "    \n",
       "            marker_5940d5d7afff2931d9c12240ea201c59.bindTooltip(\n",
       "                `&lt;div&gt;\n",
       "                     10歳代\n",
       "                 &lt;/div&gt;`,\n",
       "                {&quot;sticky&quot;: true}\n",
       "            );\n",
       "        \n",
       "    \n",
       "            var marker_4150e79bd67fee61124bbe1947d3cb33 = L.marker(\n",
       "                [35.856449, 139.967957],\n",
       "                {}\n",
       "            ).addTo(marker_cluster_f5402a4fc6ed0df5afbd40eaf92801dd);\n",
       "        \n",
       "    \n",
       "            marker_4150e79bd67fee61124bbe1947d3cb33.bindTooltip(\n",
       "                `&lt;div&gt;\n",
       "                     10歳代\n",
       "                 &lt;/div&gt;`,\n",
       "                {&quot;sticky&quot;: true}\n",
       "            );\n",
       "        \n",
       "    \n",
       "            var marker_c4c34c6e1bb6eecb0145bd273d4c18f4 = L.marker(\n",
       "                [35.856449, 139.967957],\n",
       "                {}\n",
       "            ).addTo(marker_cluster_f5402a4fc6ed0df5afbd40eaf92801dd);\n",
       "        \n",
       "    \n",
       "            marker_c4c34c6e1bb6eecb0145bd273d4c18f4.bindTooltip(\n",
       "                `&lt;div&gt;\n",
       "                     10歳代\n",
       "                 &lt;/div&gt;`,\n",
       "                {&quot;sticky&quot;: true}\n",
       "            );\n",
       "        \n",
       "    \n",
       "            var marker_e369009cf6b2301a32b43d0b807e14a3 = L.marker(\n",
       "                [35.864445, 139.986511],\n",
       "                {}\n",
       "            ).addTo(marker_cluster_f5402a4fc6ed0df5afbd40eaf92801dd);\n",
       "        \n",
       "    \n",
       "            marker_e369009cf6b2301a32b43d0b807e14a3.bindTooltip(\n",
       "                `&lt;div&gt;\n",
       "                     40歳代\n",
       "                 &lt;/div&gt;`,\n",
       "                {&quot;sticky&quot;: true}\n",
       "            );\n",
       "        \n",
       "    \n",
       "            var marker_427451b23a8f5a4148debdad6e0a3c51 = L.marker(\n",
       "                [35.864445, 139.986511],\n",
       "                {}\n",
       "            ).addTo(marker_cluster_f5402a4fc6ed0df5afbd40eaf92801dd);\n",
       "        \n",
       "    \n",
       "            marker_427451b23a8f5a4148debdad6e0a3c51.bindTooltip(\n",
       "                `&lt;div&gt;\n",
       "                     10歳代\n",
       "                 &lt;/div&gt;`,\n",
       "                {&quot;sticky&quot;: true}\n",
       "            );\n",
       "        \n",
       "    \n",
       "            var marker_b4280e4275110b80a8f9a1a4b0d431d0 = L.marker(\n",
       "                [35.864445, 139.986511],\n",
       "                {}\n",
       "            ).addTo(marker_cluster_f5402a4fc6ed0df5afbd40eaf92801dd);\n",
       "        \n",
       "    \n",
       "            marker_b4280e4275110b80a8f9a1a4b0d431d0.bindTooltip(\n",
       "                `&lt;div&gt;\n",
       "                     10歳代\n",
       "                 &lt;/div&gt;`,\n",
       "                {&quot;sticky&quot;: true}\n",
       "            );\n",
       "        \n",
       "    \n",
       "            var marker_13c10a27427d9788ca61723f2f79a4d1 = L.marker(\n",
       "                [35.864445, 139.986511],\n",
       "                {}\n",
       "            ).addTo(marker_cluster_f5402a4fc6ed0df5afbd40eaf92801dd);\n",
       "        \n",
       "    \n",
       "            marker_13c10a27427d9788ca61723f2f79a4d1.bindTooltip(\n",
       "                `&lt;div&gt;\n",
       "                     10歳代\n",
       "                 &lt;/div&gt;`,\n",
       "                {&quot;sticky&quot;: true}\n",
       "            );\n",
       "        \n",
       "    \n",
       "            var marker_ff59d9f76ce563c72fbdcd0f49d356de = L.marker(\n",
       "                [35.864445, 139.986511],\n",
       "                {}\n",
       "            ).addTo(marker_cluster_f5402a4fc6ed0df5afbd40eaf92801dd);\n",
       "        \n",
       "    \n",
       "            marker_ff59d9f76ce563c72fbdcd0f49d356de.bindTooltip(\n",
       "                `&lt;div&gt;\n",
       "                     10歳代\n",
       "                 &lt;/div&gt;`,\n",
       "                {&quot;sticky&quot;: true}\n",
       "            );\n",
       "        \n",
       "    \n",
       "            var marker_0f7c4686af284059809ce078e4770323 = L.marker(\n",
       "                [35.864445, 139.986511],\n",
       "                {}\n",
       "            ).addTo(marker_cluster_f5402a4fc6ed0df5afbd40eaf92801dd);\n",
       "        \n",
       "    \n",
       "            marker_0f7c4686af284059809ce078e4770323.bindTooltip(\n",
       "                `&lt;div&gt;\n",
       "                     20歳代\n",
       "                 &lt;/div&gt;`,\n",
       "                {&quot;sticky&quot;: true}\n",
       "            );\n",
       "        \n",
       "    \n",
       "            var marker_9475479c0c0801536a8619c082f1f894 = L.marker(\n",
       "                [35.861809, 139.97142],\n",
       "                {}\n",
       "            ).addTo(marker_cluster_f5402a4fc6ed0df5afbd40eaf92801dd);\n",
       "        \n",
       "    \n",
       "            marker_9475479c0c0801536a8619c082f1f894.bindTooltip(\n",
       "                `&lt;div&gt;\n",
       "                     40歳代\n",
       "                 &lt;/div&gt;`,\n",
       "                {&quot;sticky&quot;: true}\n",
       "            );\n",
       "        \n",
       "    \n",
       "            var marker_540a4ef5aaaeae049168dcd4a9188660 = L.marker(\n",
       "                [35.861809, 139.97142],\n",
       "                {}\n",
       "            ).addTo(marker_cluster_f5402a4fc6ed0df5afbd40eaf92801dd);\n",
       "        \n",
       "    \n",
       "            marker_540a4ef5aaaeae049168dcd4a9188660.bindTooltip(\n",
       "                `&lt;div&gt;\n",
       "                     30歳代\n",
       "                 &lt;/div&gt;`,\n",
       "                {&quot;sticky&quot;: true}\n",
       "            );\n",
       "        \n",
       "    \n",
       "            var marker_587e0114c6c44d59543b60c9edac522c = L.marker(\n",
       "                [35.861809, 139.97142],\n",
       "                {}\n",
       "            ).addTo(marker_cluster_f5402a4fc6ed0df5afbd40eaf92801dd);\n",
       "        \n",
       "    \n",
       "            marker_587e0114c6c44d59543b60c9edac522c.bindTooltip(\n",
       "                `&lt;div&gt;\n",
       "                     20歳代\n",
       "                 &lt;/div&gt;`,\n",
       "                {&quot;sticky&quot;: true}\n",
       "            );\n",
       "        \n",
       "    \n",
       "            var marker_f26dd95c672094e1eb7b4aa8d30f989b = L.marker(\n",
       "                [35.861809, 139.97142],\n",
       "                {}\n",
       "            ).addTo(marker_cluster_f5402a4fc6ed0df5afbd40eaf92801dd);\n",
       "        \n",
       "    \n",
       "            marker_f26dd95c672094e1eb7b4aa8d30f989b.bindTooltip(\n",
       "                `&lt;div&gt;\n",
       "                     30歳代\n",
       "                 &lt;/div&gt;`,\n",
       "                {&quot;sticky&quot;: true}\n",
       "            );\n",
       "        \n",
       "    \n",
       "            var marker_a2a8ecd52fe1609dc9a6f69a60825e80 = L.marker(\n",
       "                [35.861809, 139.97142],\n",
       "                {}\n",
       "            ).addTo(marker_cluster_f5402a4fc6ed0df5afbd40eaf92801dd);\n",
       "        \n",
       "    \n",
       "            marker_a2a8ecd52fe1609dc9a6f69a60825e80.bindTooltip(\n",
       "                `&lt;div&gt;\n",
       "                     40歳代\n",
       "                 &lt;/div&gt;`,\n",
       "                {&quot;sticky&quot;: true}\n",
       "            );\n",
       "        \n",
       "    \n",
       "            var marker_a07a879b685d09c2dd5b02be481514ce = L.marker(\n",
       "                [35.861809, 139.97142],\n",
       "                {}\n",
       "            ).addTo(marker_cluster_f5402a4fc6ed0df5afbd40eaf92801dd);\n",
       "        \n",
       "    \n",
       "            marker_a07a879b685d09c2dd5b02be481514ce.bindTooltip(\n",
       "                `&lt;div&gt;\n",
       "                     60-64歳\n",
       "                 &lt;/div&gt;`,\n",
       "                {&quot;sticky&quot;: true}\n",
       "            );\n",
       "        \n",
       "    \n",
       "            var marker_ed8f1ad99e9e1747d9ce07f8f6e82413 = L.marker(\n",
       "                [35.861809, 139.97142],\n",
       "                {}\n",
       "            ).addTo(marker_cluster_f5402a4fc6ed0df5afbd40eaf92801dd);\n",
       "        \n",
       "    \n",
       "            marker_ed8f1ad99e9e1747d9ce07f8f6e82413.bindTooltip(\n",
       "                `&lt;div&gt;\n",
       "                     10歳代\n",
       "                 &lt;/div&gt;`,\n",
       "                {&quot;sticky&quot;: true}\n",
       "            );\n",
       "        \n",
       "    \n",
       "            var marker_1558e67d302d28c824ca63f49972272b = L.marker(\n",
       "                [35.861809, 139.97142],\n",
       "                {}\n",
       "            ).addTo(marker_cluster_f5402a4fc6ed0df5afbd40eaf92801dd);\n",
       "        \n",
       "    \n",
       "            marker_1558e67d302d28c824ca63f49972272b.bindTooltip(\n",
       "                `&lt;div&gt;\n",
       "                     20歳代\n",
       "                 &lt;/div&gt;`,\n",
       "                {&quot;sticky&quot;: true}\n",
       "            );\n",
       "        \n",
       "    \n",
       "            var marker_025855bf34b9f8e380bbff72308a9580 = L.marker(\n",
       "                [35.861809, 139.97142],\n",
       "                {}\n",
       "            ).addTo(marker_cluster_f5402a4fc6ed0df5afbd40eaf92801dd);\n",
       "        \n",
       "    \n",
       "            marker_025855bf34b9f8e380bbff72308a9580.bindTooltip(\n",
       "                `&lt;div&gt;\n",
       "                     20歳代\n",
       "                 &lt;/div&gt;`,\n",
       "                {&quot;sticky&quot;: true}\n",
       "            );\n",
       "        \n",
       "    \n",
       "            var marker_e0fac23e9f6a282a287aac6164c966f9 = L.marker(\n",
       "                [35.861809, 139.97142],\n",
       "                {}\n",
       "            ).addTo(marker_cluster_f5402a4fc6ed0df5afbd40eaf92801dd);\n",
       "        \n",
       "    \n",
       "            marker_e0fac23e9f6a282a287aac6164c966f9.bindTooltip(\n",
       "                `&lt;div&gt;\n",
       "                     30歳代\n",
       "                 &lt;/div&gt;`,\n",
       "                {&quot;sticky&quot;: true}\n",
       "            );\n",
       "        \n",
       "    \n",
       "            var marker_e7dce701e69adb365d4e33bd6f7393e7 = L.marker(\n",
       "                [35.861809, 139.97142],\n",
       "                {}\n",
       "            ).addTo(marker_cluster_f5402a4fc6ed0df5afbd40eaf92801dd);\n",
       "        \n",
       "    \n",
       "            marker_e7dce701e69adb365d4e33bd6f7393e7.bindTooltip(\n",
       "                `&lt;div&gt;\n",
       "                     20歳代\n",
       "                 &lt;/div&gt;`,\n",
       "                {&quot;sticky&quot;: true}\n",
       "            );\n",
       "        \n",
       "    \n",
       "            var marker_f1f4f1affa56f6a80468f90b33a443d8 = L.marker(\n",
       "                [35.861809, 139.97142],\n",
       "                {}\n",
       "            ).addTo(marker_cluster_f5402a4fc6ed0df5afbd40eaf92801dd);\n",
       "        \n",
       "    \n",
       "            marker_f1f4f1affa56f6a80468f90b33a443d8.bindTooltip(\n",
       "                `&lt;div&gt;\n",
       "                     70歳以上\n",
       "                 &lt;/div&gt;`,\n",
       "                {&quot;sticky&quot;: true}\n",
       "            );\n",
       "        \n",
       "    \n",
       "            var marker_a9400dbd0799b42525e4f1ce29eb46a8 = L.marker(\n",
       "                [35.861694, 139.973999],\n",
       "                {}\n",
       "            ).addTo(marker_cluster_f5402a4fc6ed0df5afbd40eaf92801dd);\n",
       "        \n",
       "    \n",
       "            marker_a9400dbd0799b42525e4f1ce29eb46a8.bindTooltip(\n",
       "                `&lt;div&gt;\n",
       "                     70歳以上\n",
       "                 &lt;/div&gt;`,\n",
       "                {&quot;sticky&quot;: true}\n",
       "            );\n",
       "        \n",
       "    \n",
       "            var marker_a80e476a74949b2a641f4346a6231b9f = L.marker(\n",
       "                [35.861694, 139.973999],\n",
       "                {}\n",
       "            ).addTo(marker_cluster_f5402a4fc6ed0df5afbd40eaf92801dd);\n",
       "        \n",
       "    \n",
       "            marker_a80e476a74949b2a641f4346a6231b9f.bindTooltip(\n",
       "                `&lt;div&gt;\n",
       "                     20歳代\n",
       "                 &lt;/div&gt;`,\n",
       "                {&quot;sticky&quot;: true}\n",
       "            );\n",
       "        \n",
       "    \n",
       "            var marker_96e471683755889fb3ec353dfe403d42 = L.marker(\n",
       "                [35.861694, 139.973999],\n",
       "                {}\n",
       "            ).addTo(marker_cluster_f5402a4fc6ed0df5afbd40eaf92801dd);\n",
       "        \n",
       "    \n",
       "            marker_96e471683755889fb3ec353dfe403d42.bindTooltip(\n",
       "                `&lt;div&gt;\n",
       "                     20歳代\n",
       "                 &lt;/div&gt;`,\n",
       "                {&quot;sticky&quot;: true}\n",
       "            );\n",
       "        \n",
       "    \n",
       "            var marker_56bd3672c7e663f20e4527ad32f2fd87 = L.marker(\n",
       "                [35.861694, 139.973999],\n",
       "                {}\n",
       "            ).addTo(marker_cluster_f5402a4fc6ed0df5afbd40eaf92801dd);\n",
       "        \n",
       "    \n",
       "            marker_56bd3672c7e663f20e4527ad32f2fd87.bindTooltip(\n",
       "                `&lt;div&gt;\n",
       "                     30歳代\n",
       "                 &lt;/div&gt;`,\n",
       "                {&quot;sticky&quot;: true}\n",
       "            );\n",
       "        \n",
       "    \n",
       "            var marker_26ee05907e27553e5fa05ed9c438462e = L.marker(\n",
       "                [35.861694, 139.973999],\n",
       "                {}\n",
       "            ).addTo(marker_cluster_f5402a4fc6ed0df5afbd40eaf92801dd);\n",
       "        \n",
       "    \n",
       "            marker_26ee05907e27553e5fa05ed9c438462e.bindTooltip(\n",
       "                `&lt;div&gt;\n",
       "                     30歳代\n",
       "                 &lt;/div&gt;`,\n",
       "                {&quot;sticky&quot;: true}\n",
       "            );\n",
       "        \n",
       "    \n",
       "            var marker_aca90c8c05fb6b7b513d0830e3ba0fc1 = L.marker(\n",
       "                [35.861694, 139.973999],\n",
       "                {}\n",
       "            ).addTo(marker_cluster_f5402a4fc6ed0df5afbd40eaf92801dd);\n",
       "        \n",
       "    \n",
       "            marker_aca90c8c05fb6b7b513d0830e3ba0fc1.bindTooltip(\n",
       "                `&lt;div&gt;\n",
       "                     20歳代\n",
       "                 &lt;/div&gt;`,\n",
       "                {&quot;sticky&quot;: true}\n",
       "            );\n",
       "        \n",
       "    \n",
       "            var marker_0331cee5fa03a9727dbfdb2fa5cb18bc = L.marker(\n",
       "                [35.860302, 139.975159],\n",
       "                {}\n",
       "            ).addTo(marker_cluster_f5402a4fc6ed0df5afbd40eaf92801dd);\n",
       "        \n",
       "    \n",
       "            marker_0331cee5fa03a9727dbfdb2fa5cb18bc.bindTooltip(\n",
       "                `&lt;div&gt;\n",
       "                     70歳以上\n",
       "                 &lt;/div&gt;`,\n",
       "                {&quot;sticky&quot;: true}\n",
       "            );\n",
       "        \n",
       "    \n",
       "            var marker_2166340d06e8fd3c9d5528973c47df2c = L.marker(\n",
       "                [35.860302, 139.975159],\n",
       "                {}\n",
       "            ).addTo(marker_cluster_f5402a4fc6ed0df5afbd40eaf92801dd);\n",
       "        \n",
       "    \n",
       "            marker_2166340d06e8fd3c9d5528973c47df2c.bindTooltip(\n",
       "                `&lt;div&gt;\n",
       "                     20歳代\n",
       "                 &lt;/div&gt;`,\n",
       "                {&quot;sticky&quot;: true}\n",
       "            );\n",
       "        \n",
       "    \n",
       "            var marker_06f428c424368548aee7f5bee8d9defd = L.marker(\n",
       "                [35.860302, 139.975159],\n",
       "                {}\n",
       "            ).addTo(marker_cluster_f5402a4fc6ed0df5afbd40eaf92801dd);\n",
       "        \n",
       "    \n",
       "            marker_06f428c424368548aee7f5bee8d9defd.bindTooltip(\n",
       "                `&lt;div&gt;\n",
       "                     10歳代\n",
       "                 &lt;/div&gt;`,\n",
       "                {&quot;sticky&quot;: true}\n",
       "            );\n",
       "        \n",
       "    \n",
       "            var marker_dc3480386ce754e5c1ca2c8ea1863a42 = L.marker(\n",
       "                [35.860302, 139.975159],\n",
       "                {}\n",
       "            ).addTo(marker_cluster_f5402a4fc6ed0df5afbd40eaf92801dd);\n",
       "        \n",
       "    \n",
       "            marker_dc3480386ce754e5c1ca2c8ea1863a42.bindTooltip(\n",
       "                `&lt;div&gt;\n",
       "                     20歳代\n",
       "                 &lt;/div&gt;`,\n",
       "                {&quot;sticky&quot;: true}\n",
       "            );\n",
       "        \n",
       "    \n",
       "            var marker_b47b5755e407fdcbaa4413f02d763fd7 = L.marker(\n",
       "                [35.860302, 139.975159],\n",
       "                {}\n",
       "            ).addTo(marker_cluster_f5402a4fc6ed0df5afbd40eaf92801dd);\n",
       "        \n",
       "    \n",
       "            marker_b47b5755e407fdcbaa4413f02d763fd7.bindTooltip(\n",
       "                `&lt;div&gt;\n",
       "                     30歳代\n",
       "                 &lt;/div&gt;`,\n",
       "                {&quot;sticky&quot;: true}\n",
       "            );\n",
       "        \n",
       "    \n",
       "            var marker_76a5a5e05f7f2a76b6325459ad40c799 = L.marker(\n",
       "                [35.860302, 139.975159],\n",
       "                {}\n",
       "            ).addTo(marker_cluster_f5402a4fc6ed0df5afbd40eaf92801dd);\n",
       "        \n",
       "    \n",
       "            marker_76a5a5e05f7f2a76b6325459ad40c799.bindTooltip(\n",
       "                `&lt;div&gt;\n",
       "                     20歳代\n",
       "                 &lt;/div&gt;`,\n",
       "                {&quot;sticky&quot;: true}\n",
       "            );\n",
       "        \n",
       "    \n",
       "            var marker_843dab379d5a5ede9f24c3fe5d7ebbe9 = L.marker(\n",
       "                [35.860302, 139.975159],\n",
       "                {}\n",
       "            ).addTo(marker_cluster_f5402a4fc6ed0df5afbd40eaf92801dd);\n",
       "        \n",
       "    \n",
       "            marker_843dab379d5a5ede9f24c3fe5d7ebbe9.bindTooltip(\n",
       "                `&lt;div&gt;\n",
       "                     20歳代\n",
       "                 &lt;/div&gt;`,\n",
       "                {&quot;sticky&quot;: true}\n",
       "            );\n",
       "        \n",
       "    \n",
       "            var marker_e27417449065e0884f03425ad5a838f1 = L.marker(\n",
       "                [35.860302, 139.975159],\n",
       "                {}\n",
       "            ).addTo(marker_cluster_f5402a4fc6ed0df5afbd40eaf92801dd);\n",
       "        \n",
       "    \n",
       "            marker_e27417449065e0884f03425ad5a838f1.bindTooltip(\n",
       "                `&lt;div&gt;\n",
       "                     60-64歳\n",
       "                 &lt;/div&gt;`,\n",
       "                {&quot;sticky&quot;: true}\n",
       "            );\n",
       "        \n",
       "    \n",
       "            var marker_7764fbc4682ed06dabd4282e13c5e807 = L.marker(\n",
       "                [35.863529, 139.974228],\n",
       "                {}\n",
       "            ).addTo(marker_cluster_f5402a4fc6ed0df5afbd40eaf92801dd);\n",
       "        \n",
       "    \n",
       "            marker_7764fbc4682ed06dabd4282e13c5e807.bindTooltip(\n",
       "                `&lt;div&gt;\n",
       "                     20歳代\n",
       "                 &lt;/div&gt;`,\n",
       "                {&quot;sticky&quot;: true}\n",
       "            );\n",
       "        \n",
       "    \n",
       "            var marker_cea5719983a83bd723eb30f86dd129d6 = L.marker(\n",
       "                [35.863529, 139.974228],\n",
       "                {}\n",
       "            ).addTo(marker_cluster_f5402a4fc6ed0df5afbd40eaf92801dd);\n",
       "        \n",
       "    \n",
       "            marker_cea5719983a83bd723eb30f86dd129d6.bindTooltip(\n",
       "                `&lt;div&gt;\n",
       "                     10歳代\n",
       "                 &lt;/div&gt;`,\n",
       "                {&quot;sticky&quot;: true}\n",
       "            );\n",
       "        \n",
       "    \n",
       "            var marker_028ecb0ac9d4f712897ce2df20b09772 = L.marker(\n",
       "                [35.863529, 139.974228],\n",
       "                {}\n",
       "            ).addTo(marker_cluster_f5402a4fc6ed0df5afbd40eaf92801dd);\n",
       "        \n",
       "    \n",
       "            marker_028ecb0ac9d4f712897ce2df20b09772.bindTooltip(\n",
       "                `&lt;div&gt;\n",
       "                     10歳代\n",
       "                 &lt;/div&gt;`,\n",
       "                {&quot;sticky&quot;: true}\n",
       "            );\n",
       "        \n",
       "    \n",
       "            var marker_5f0d341d57ff904dce0e2551efc75fec = L.marker(\n",
       "                [35.863529, 139.974228],\n",
       "                {}\n",
       "            ).addTo(marker_cluster_f5402a4fc6ed0df5afbd40eaf92801dd);\n",
       "        \n",
       "    \n",
       "            marker_5f0d341d57ff904dce0e2551efc75fec.bindTooltip(\n",
       "                `&lt;div&gt;\n",
       "                     50歳代\n",
       "                 &lt;/div&gt;`,\n",
       "                {&quot;sticky&quot;: true}\n",
       "            );\n",
       "        \n",
       "    \n",
       "            var marker_02ae832cdc30decbf3e44b5fa74fc392 = L.marker(\n",
       "                [35.863529, 139.974228],\n",
       "                {}\n",
       "            ).addTo(marker_cluster_f5402a4fc6ed0df5afbd40eaf92801dd);\n",
       "        \n",
       "    \n",
       "            marker_02ae832cdc30decbf3e44b5fa74fc392.bindTooltip(\n",
       "                `&lt;div&gt;\n",
       "                     10歳代\n",
       "                 &lt;/div&gt;`,\n",
       "                {&quot;sticky&quot;: true}\n",
       "            );\n",
       "        \n",
       "    \n",
       "            var marker_f3a052cbb0ed84a0ab9cc3df66ebaa23 = L.marker(\n",
       "                [35.866447, 139.97612],\n",
       "                {}\n",
       "            ).addTo(marker_cluster_f5402a4fc6ed0df5afbd40eaf92801dd);\n",
       "        \n",
       "    \n",
       "            marker_f3a052cbb0ed84a0ab9cc3df66ebaa23.bindTooltip(\n",
       "                `&lt;div&gt;\n",
       "                     10歳代\n",
       "                 &lt;/div&gt;`,\n",
       "                {&quot;sticky&quot;: true}\n",
       "            );\n",
       "        \n",
       "    \n",
       "            var marker_e8f622c8307a04303afb35f8e5883263 = L.marker(\n",
       "                [35.866447, 139.97612],\n",
       "                {}\n",
       "            ).addTo(marker_cluster_f5402a4fc6ed0df5afbd40eaf92801dd);\n",
       "        \n",
       "    \n",
       "            marker_e8f622c8307a04303afb35f8e5883263.bindTooltip(\n",
       "                `&lt;div&gt;\n",
       "                     10歳代\n",
       "                 &lt;/div&gt;`,\n",
       "                {&quot;sticky&quot;: true}\n",
       "            );\n",
       "        \n",
       "    \n",
       "            var marker_09248a8f9844377f9bae9cec26213fea = L.marker(\n",
       "                [35.866447, 139.97612],\n",
       "                {}\n",
       "            ).addTo(marker_cluster_f5402a4fc6ed0df5afbd40eaf92801dd);\n",
       "        \n",
       "    \n",
       "            marker_09248a8f9844377f9bae9cec26213fea.bindTooltip(\n",
       "                `&lt;div&gt;\n",
       "                     10歳代\n",
       "                 &lt;/div&gt;`,\n",
       "                {&quot;sticky&quot;: true}\n",
       "            );\n",
       "        \n",
       "    \n",
       "            var marker_553dd9b33de8d67eca100f99e4c5d81d = L.marker(\n",
       "                [35.866447, 139.97612],\n",
       "                {}\n",
       "            ).addTo(marker_cluster_f5402a4fc6ed0df5afbd40eaf92801dd);\n",
       "        \n",
       "    \n",
       "            marker_553dd9b33de8d67eca100f99e4c5d81d.bindTooltip(\n",
       "                `&lt;div&gt;\n",
       "                     10歳代\n",
       "                 &lt;/div&gt;`,\n",
       "                {&quot;sticky&quot;: true}\n",
       "            );\n",
       "        \n",
       "    \n",
       "            var marker_2a396fe017dd5f144878eca0f49684f5 = L.marker(\n",
       "                [35.866447, 139.97612],\n",
       "                {}\n",
       "            ).addTo(marker_cluster_f5402a4fc6ed0df5afbd40eaf92801dd);\n",
       "        \n",
       "    \n",
       "            marker_2a396fe017dd5f144878eca0f49684f5.bindTooltip(\n",
       "                `&lt;div&gt;\n",
       "                     20歳代\n",
       "                 &lt;/div&gt;`,\n",
       "                {&quot;sticky&quot;: true}\n",
       "            );\n",
       "        \n",
       "    \n",
       "            var marker_d9869a6ce811447380907174c24a0e1e = L.marker(\n",
       "                [35.866447, 139.97612],\n",
       "                {}\n",
       "            ).addTo(marker_cluster_f5402a4fc6ed0df5afbd40eaf92801dd);\n",
       "        \n",
       "    \n",
       "            marker_d9869a6ce811447380907174c24a0e1e.bindTooltip(\n",
       "                `&lt;div&gt;\n",
       "                     20歳代\n",
       "                 &lt;/div&gt;`,\n",
       "                {&quot;sticky&quot;: true}\n",
       "            );\n",
       "        \n",
       "    \n",
       "            var marker_469cff37c0f92e3222507ccab27f36ed = L.marker(\n",
       "                [35.866447, 139.97612],\n",
       "                {}\n",
       "            ).addTo(marker_cluster_f5402a4fc6ed0df5afbd40eaf92801dd);\n",
       "        \n",
       "    \n",
       "            marker_469cff37c0f92e3222507ccab27f36ed.bindTooltip(\n",
       "                `&lt;div&gt;\n",
       "                     20歳代\n",
       "                 &lt;/div&gt;`,\n",
       "                {&quot;sticky&quot;: true}\n",
       "            );\n",
       "        \n",
       "    \n",
       "            var marker_360aec4af67b656ac30ef5a329673691 = L.marker(\n",
       "                [35.866447, 139.97612],\n",
       "                {}\n",
       "            ).addTo(marker_cluster_f5402a4fc6ed0df5afbd40eaf92801dd);\n",
       "        \n",
       "    \n",
       "            marker_360aec4af67b656ac30ef5a329673691.bindTooltip(\n",
       "                `&lt;div&gt;\n",
       "                     10歳代\n",
       "                 &lt;/div&gt;`,\n",
       "                {&quot;sticky&quot;: true}\n",
       "            );\n",
       "        \n",
       "    \n",
       "            var marker_18ee8d0b778861dc4a04188da6b4aa7b = L.marker(\n",
       "                [35.866447, 139.97612],\n",
       "                {}\n",
       "            ).addTo(marker_cluster_f5402a4fc6ed0df5afbd40eaf92801dd);\n",
       "        \n",
       "    \n",
       "            marker_18ee8d0b778861dc4a04188da6b4aa7b.bindTooltip(\n",
       "                `&lt;div&gt;\n",
       "                     20歳代\n",
       "                 &lt;/div&gt;`,\n",
       "                {&quot;sticky&quot;: true}\n",
       "            );\n",
       "        \n",
       "    \n",
       "            var marker_a037e38eff28255055385a08ca027bcf = L.marker(\n",
       "                [35.866447, 139.97612],\n",
       "                {}\n",
       "            ).addTo(marker_cluster_f5402a4fc6ed0df5afbd40eaf92801dd);\n",
       "        \n",
       "    \n",
       "            marker_a037e38eff28255055385a08ca027bcf.bindTooltip(\n",
       "                `&lt;div&gt;\n",
       "                     10歳代\n",
       "                 &lt;/div&gt;`,\n",
       "                {&quot;sticky&quot;: true}\n",
       "            );\n",
       "        \n",
       "    \n",
       "            var marker_92b5007cc7f0e479ba0e287b47a2dca3 = L.marker(\n",
       "                [35.864346, 139.977219],\n",
       "                {}\n",
       "            ).addTo(marker_cluster_f5402a4fc6ed0df5afbd40eaf92801dd);\n",
       "        \n",
       "    \n",
       "            marker_92b5007cc7f0e479ba0e287b47a2dca3.bindTooltip(\n",
       "                `&lt;div&gt;\n",
       "                     40歳代\n",
       "                 &lt;/div&gt;`,\n",
       "                {&quot;sticky&quot;: true}\n",
       "            );\n",
       "        \n",
       "    \n",
       "            var marker_1bd5276d672945897312958cacddc742 = L.marker(\n",
       "                [35.864346, 139.977219],\n",
       "                {}\n",
       "            ).addTo(marker_cluster_f5402a4fc6ed0df5afbd40eaf92801dd);\n",
       "        \n",
       "    \n",
       "            marker_1bd5276d672945897312958cacddc742.bindTooltip(\n",
       "                `&lt;div&gt;\n",
       "                     20歳代\n",
       "                 &lt;/div&gt;`,\n",
       "                {&quot;sticky&quot;: true}\n",
       "            );\n",
       "        \n",
       "    \n",
       "            var marker_bc9c853da80b67a086363ef345ef22df = L.marker(\n",
       "                [35.864346, 139.977219],\n",
       "                {}\n",
       "            ).addTo(marker_cluster_f5402a4fc6ed0df5afbd40eaf92801dd);\n",
       "        \n",
       "    \n",
       "            marker_bc9c853da80b67a086363ef345ef22df.bindTooltip(\n",
       "                `&lt;div&gt;\n",
       "                     40歳代\n",
       "                 &lt;/div&gt;`,\n",
       "                {&quot;sticky&quot;: true}\n",
       "            );\n",
       "        \n",
       "    \n",
       "            var marker_e58e93e6a8eeb9781ac1a9bb0de5af54 = L.marker(\n",
       "                [35.864346, 139.977219],\n",
       "                {}\n",
       "            ).addTo(marker_cluster_f5402a4fc6ed0df5afbd40eaf92801dd);\n",
       "        \n",
       "    \n",
       "            marker_e58e93e6a8eeb9781ac1a9bb0de5af54.bindTooltip(\n",
       "                `&lt;div&gt;\n",
       "                     30歳代\n",
       "                 &lt;/div&gt;`,\n",
       "                {&quot;sticky&quot;: true}\n",
       "            );\n",
       "        \n",
       "    \n",
       "            var marker_5bfe93152bac96ec7e21e6ebfa9008ea = L.marker(\n",
       "                [35.862926, 139.97995],\n",
       "                {}\n",
       "            ).addTo(marker_cluster_f5402a4fc6ed0df5afbd40eaf92801dd);\n",
       "        \n",
       "    \n",
       "            marker_5bfe93152bac96ec7e21e6ebfa9008ea.bindTooltip(\n",
       "                `&lt;div&gt;\n",
       "                     20歳代\n",
       "                 &lt;/div&gt;`,\n",
       "                {&quot;sticky&quot;: true}\n",
       "            );\n",
       "        \n",
       "    \n",
       "            var marker_a53df87c21e105f28dff24de006b47dd = L.marker(\n",
       "                [35.860554, 139.981522],\n",
       "                {}\n",
       "            ).addTo(marker_cluster_f5402a4fc6ed0df5afbd40eaf92801dd);\n",
       "        \n",
       "    \n",
       "            marker_a53df87c21e105f28dff24de006b47dd.bindTooltip(\n",
       "                `&lt;div&gt;\n",
       "                     20歳代\n",
       "                 &lt;/div&gt;`,\n",
       "                {&quot;sticky&quot;: true}\n",
       "            );\n",
       "        \n",
       "    \n",
       "            var marker_3e825c3caed4e730bd0d46c59e85e78a = L.marker(\n",
       "                [35.860554, 139.981522],\n",
       "                {}\n",
       "            ).addTo(marker_cluster_f5402a4fc6ed0df5afbd40eaf92801dd);\n",
       "        \n",
       "    \n",
       "            marker_3e825c3caed4e730bd0d46c59e85e78a.bindTooltip(\n",
       "                `&lt;div&gt;\n",
       "                     30歳代\n",
       "                 &lt;/div&gt;`,\n",
       "                {&quot;sticky&quot;: true}\n",
       "            );\n",
       "        \n",
       "    \n",
       "            var marker_e61c8a99b8640a6170c1258463453e26 = L.marker(\n",
       "                [35.862904, 139.970398],\n",
       "                {}\n",
       "            ).addTo(marker_cluster_f5402a4fc6ed0df5afbd40eaf92801dd);\n",
       "        \n",
       "    \n",
       "            marker_e61c8a99b8640a6170c1258463453e26.bindTooltip(\n",
       "                `&lt;div&gt;\n",
       "                     20歳代\n",
       "                 &lt;/div&gt;`,\n",
       "                {&quot;sticky&quot;: true}\n",
       "            );\n",
       "        \n",
       "    \n",
       "            var marker_025961b9f0d7bb90c49f91848527159e = L.marker(\n",
       "                [35.857903, 139.972931],\n",
       "                {}\n",
       "            ).addTo(marker_cluster_f5402a4fc6ed0df5afbd40eaf92801dd);\n",
       "        \n",
       "    \n",
       "            marker_025961b9f0d7bb90c49f91848527159e.bindTooltip(\n",
       "                `&lt;div&gt;\n",
       "                     10歳代\n",
       "                 &lt;/div&gt;`,\n",
       "                {&quot;sticky&quot;: true}\n",
       "            );\n",
       "        \n",
       "    \n",
       "            var marker_8c1c285e173e0de875f43f27eefc717e = L.marker(\n",
       "                [35.855583, 139.972137],\n",
       "                {}\n",
       "            ).addTo(marker_cluster_f5402a4fc6ed0df5afbd40eaf92801dd);\n",
       "        \n",
       "    \n",
       "            marker_8c1c285e173e0de875f43f27eefc717e.bindTooltip(\n",
       "                `&lt;div&gt;\n",
       "                     20歳代\n",
       "                 &lt;/div&gt;`,\n",
       "                {&quot;sticky&quot;: true}\n",
       "            );\n",
       "        \n",
       "    \n",
       "            var marker_5c718e20f585460e3830a7e8cc2207a4 = L.marker(\n",
       "                [35.855583, 139.972137],\n",
       "                {}\n",
       "            ).addTo(marker_cluster_f5402a4fc6ed0df5afbd40eaf92801dd);\n",
       "        \n",
       "    \n",
       "            marker_5c718e20f585460e3830a7e8cc2207a4.bindTooltip(\n",
       "                `&lt;div&gt;\n",
       "                     10歳代\n",
       "                 &lt;/div&gt;`,\n",
       "                {&quot;sticky&quot;: true}\n",
       "            );\n",
       "        \n",
       "    \n",
       "            var marker_2bfe9e2454b5caef90873683abdf763d = L.marker(\n",
       "                [35.855583, 139.972137],\n",
       "                {}\n",
       "            ).addTo(marker_cluster_f5402a4fc6ed0df5afbd40eaf92801dd);\n",
       "        \n",
       "    \n",
       "            marker_2bfe9e2454b5caef90873683abdf763d.bindTooltip(\n",
       "                `&lt;div&gt;\n",
       "                     20歳代\n",
       "                 &lt;/div&gt;`,\n",
       "                {&quot;sticky&quot;: true}\n",
       "            );\n",
       "        \n",
       "    \n",
       "            var marker_a28c828c231b38344b632b305f67b187 = L.marker(\n",
       "                [35.855583, 139.972137],\n",
       "                {}\n",
       "            ).addTo(marker_cluster_f5402a4fc6ed0df5afbd40eaf92801dd);\n",
       "        \n",
       "    \n",
       "            marker_a28c828c231b38344b632b305f67b187.bindTooltip(\n",
       "                `&lt;div&gt;\n",
       "                     30歳代\n",
       "                 &lt;/div&gt;`,\n",
       "                {&quot;sticky&quot;: true}\n",
       "            );\n",
       "        \n",
       "    \n",
       "            var marker_cee34ac505c88a8527331d2001b33373 = L.marker(\n",
       "                [35.859303, 139.970566],\n",
       "                {}\n",
       "            ).addTo(marker_cluster_f5402a4fc6ed0df5afbd40eaf92801dd);\n",
       "        \n",
       "    \n",
       "            marker_cee34ac505c88a8527331d2001b33373.bindTooltip(\n",
       "                `&lt;div&gt;\n",
       "                     60-64歳\n",
       "                 &lt;/div&gt;`,\n",
       "                {&quot;sticky&quot;: true}\n",
       "            );\n",
       "        \n",
       "    \n",
       "            var marker_3c457e5deaa38ab6bc104a487f6f4090 = L.marker(\n",
       "                [35.859303, 139.970566],\n",
       "                {}\n",
       "            ).addTo(marker_cluster_f5402a4fc6ed0df5afbd40eaf92801dd);\n",
       "        \n",
       "    \n",
       "            marker_3c457e5deaa38ab6bc104a487f6f4090.bindTooltip(\n",
       "                `&lt;div&gt;\n",
       "                     30歳代\n",
       "                 &lt;/div&gt;`,\n",
       "                {&quot;sticky&quot;: true}\n",
       "            );\n",
       "        \n",
       "    \n",
       "            var marker_16b3fa6ff9f05d622cad6effae3b1109 = L.marker(\n",
       "                [35.859303, 139.970566],\n",
       "                {}\n",
       "            ).addTo(marker_cluster_f5402a4fc6ed0df5afbd40eaf92801dd);\n",
       "        \n",
       "    \n",
       "            marker_16b3fa6ff9f05d622cad6effae3b1109.bindTooltip(\n",
       "                `&lt;div&gt;\n",
       "                     20歳代\n",
       "                 &lt;/div&gt;`,\n",
       "                {&quot;sticky&quot;: true}\n",
       "            );\n",
       "        \n",
       "    \n",
       "            var marker_bb97aeb0da028f0c42f4e3df4b3108fa = L.marker(\n",
       "                [35.859303, 139.970566],\n",
       "                {}\n",
       "            ).addTo(marker_cluster_f5402a4fc6ed0df5afbd40eaf92801dd);\n",
       "        \n",
       "    \n",
       "            marker_bb97aeb0da028f0c42f4e3df4b3108fa.bindTooltip(\n",
       "                `&lt;div&gt;\n",
       "                     50歳代\n",
       "                 &lt;/div&gt;`,\n",
       "                {&quot;sticky&quot;: true}\n",
       "            );\n",
       "        \n",
       "    \n",
       "            var marker_ae69ffede91acdc481deaac7d0ea411c = L.marker(\n",
       "                [35.859303, 139.970566],\n",
       "                {}\n",
       "            ).addTo(marker_cluster_f5402a4fc6ed0df5afbd40eaf92801dd);\n",
       "        \n",
       "    \n",
       "            marker_ae69ffede91acdc481deaac7d0ea411c.bindTooltip(\n",
       "                `&lt;div&gt;\n",
       "                     30歳代\n",
       "                 &lt;/div&gt;`,\n",
       "                {&quot;sticky&quot;: true}\n",
       "            );\n",
       "        \n",
       "    \n",
       "            var marker_32bb0134a8da27e39da4228169788532 = L.marker(\n",
       "                [35.859303, 139.970566],\n",
       "                {}\n",
       "            ).addTo(marker_cluster_f5402a4fc6ed0df5afbd40eaf92801dd);\n",
       "        \n",
       "    \n",
       "            marker_32bb0134a8da27e39da4228169788532.bindTooltip(\n",
       "                `&lt;div&gt;\n",
       "                     10歳代\n",
       "                 &lt;/div&gt;`,\n",
       "                {&quot;sticky&quot;: true}\n",
       "            );\n",
       "        \n",
       "    \n",
       "            var marker_4ea614c02158f912926818039c990e4b = L.marker(\n",
       "                [35.859303, 139.970566],\n",
       "                {}\n",
       "            ).addTo(marker_cluster_f5402a4fc6ed0df5afbd40eaf92801dd);\n",
       "        \n",
       "    \n",
       "            marker_4ea614c02158f912926818039c990e4b.bindTooltip(\n",
       "                `&lt;div&gt;\n",
       "                     30歳代\n",
       "                 &lt;/div&gt;`,\n",
       "                {&quot;sticky&quot;: true}\n",
       "            );\n",
       "        \n",
       "    \n",
       "            var marker_5935794c3fc4f0ecba03395050087226 = L.marker(\n",
       "                [35.859303, 139.970566],\n",
       "                {}\n",
       "            ).addTo(marker_cluster_f5402a4fc6ed0df5afbd40eaf92801dd);\n",
       "        \n",
       "    \n",
       "            marker_5935794c3fc4f0ecba03395050087226.bindTooltip(\n",
       "                `&lt;div&gt;\n",
       "                     10歳代\n",
       "                 &lt;/div&gt;`,\n",
       "                {&quot;sticky&quot;: true}\n",
       "            );\n",
       "        \n",
       "    \n",
       "            var marker_a12657e14354aa75bad12d89449d0839 = L.marker(\n",
       "                [35.859303, 139.970566],\n",
       "                {}\n",
       "            ).addTo(marker_cluster_f5402a4fc6ed0df5afbd40eaf92801dd);\n",
       "        \n",
       "    \n",
       "            marker_a12657e14354aa75bad12d89449d0839.bindTooltip(\n",
       "                `&lt;div&gt;\n",
       "                     30歳代\n",
       "                 &lt;/div&gt;`,\n",
       "                {&quot;sticky&quot;: true}\n",
       "            );\n",
       "        \n",
       "    \n",
       "            var marker_59dbfecea22644e0803fa387ebda3bf5 = L.marker(\n",
       "                [35.853264, 139.96521],\n",
       "                {}\n",
       "            ).addTo(marker_cluster_f5402a4fc6ed0df5afbd40eaf92801dd);\n",
       "        \n",
       "    \n",
       "            marker_59dbfecea22644e0803fa387ebda3bf5.bindTooltip(\n",
       "                `&lt;div&gt;\n",
       "                     40歳代\n",
       "                 &lt;/div&gt;`,\n",
       "                {&quot;sticky&quot;: true}\n",
       "            );\n",
       "        \n",
       "    \n",
       "            var marker_280afc72ef6880ea8a2ca44d7d5bba5c = L.marker(\n",
       "                [35.853264, 139.96521],\n",
       "                {}\n",
       "            ).addTo(marker_cluster_f5402a4fc6ed0df5afbd40eaf92801dd);\n",
       "        \n",
       "    \n",
       "            marker_280afc72ef6880ea8a2ca44d7d5bba5c.bindTooltip(\n",
       "                `&lt;div&gt;\n",
       "                     40歳代\n",
       "                 &lt;/div&gt;`,\n",
       "                {&quot;sticky&quot;: true}\n",
       "            );\n",
       "        \n",
       "    \n",
       "            var marker_2095005d0cb280bb99d4d1ff2860796b = L.marker(\n",
       "                [35.876255, 139.992081],\n",
       "                {}\n",
       "            ).addTo(marker_cluster_f5402a4fc6ed0df5afbd40eaf92801dd);\n",
       "        \n",
       "    \n",
       "            marker_2095005d0cb280bb99d4d1ff2860796b.bindTooltip(\n",
       "                `&lt;div&gt;\n",
       "                     20歳代\n",
       "                 &lt;/div&gt;`,\n",
       "                {&quot;sticky&quot;: true}\n",
       "            );\n",
       "        \n",
       "    \n",
       "            var marker_9cb1151cddcc339a9fca61ae18f78e24 = L.marker(\n",
       "                [35.84705, 140.034134],\n",
       "                {}\n",
       "            ).addTo(marker_cluster_f5402a4fc6ed0df5afbd40eaf92801dd);\n",
       "        \n",
       "    \n",
       "            marker_9cb1151cddcc339a9fca61ae18f78e24.bindTooltip(\n",
       "                `&lt;div&gt;\n",
       "                     10歳代\n",
       "                 &lt;/div&gt;`,\n",
       "                {&quot;sticky&quot;: true}\n",
       "            );\n",
       "        \n",
       "    \n",
       "            var marker_72f411235a1705e3d2fda07d5e6ef04d = L.marker(\n",
       "                [35.858639, 139.983749],\n",
       "                {}\n",
       "            ).addTo(marker_cluster_f5402a4fc6ed0df5afbd40eaf92801dd);\n",
       "        \n",
       "    \n",
       "            marker_72f411235a1705e3d2fda07d5e6ef04d.bindTooltip(\n",
       "                `&lt;div&gt;\n",
       "                     20歳代\n",
       "                 &lt;/div&gt;`,\n",
       "                {&quot;sticky&quot;: true}\n",
       "            );\n",
       "        \n",
       "    \n",
       "            var marker_b2dc5c0566cab4ec8f733424aa1b614e = L.marker(\n",
       "                [35.844578, 139.968948],\n",
       "                {}\n",
       "            ).addTo(marker_cluster_f5402a4fc6ed0df5afbd40eaf92801dd);\n",
       "        \n",
       "    \n",
       "            marker_b2dc5c0566cab4ec8f733424aa1b614e.bindTooltip(\n",
       "                `&lt;div&gt;\n",
       "                     30歳代\n",
       "                 &lt;/div&gt;`,\n",
       "                {&quot;sticky&quot;: true}\n",
       "            );\n",
       "        \n",
       "    \n",
       "            var marker_5aa385f634888ceb89498ed42a2883d6 = L.marker(\n",
       "                [35.864445, 139.986511],\n",
       "                {}\n",
       "            ).addTo(marker_cluster_f5402a4fc6ed0df5afbd40eaf92801dd);\n",
       "        \n",
       "    \n",
       "            marker_5aa385f634888ceb89498ed42a2883d6.bindTooltip(\n",
       "                `&lt;div&gt;\n",
       "                     30歳代\n",
       "                 &lt;/div&gt;`,\n",
       "                {&quot;sticky&quot;: true}\n",
       "            );\n",
       "        \n",
       "    \n",
       "            var marker_8fbad6a12249b73eb094123a2b2f6ded = L.marker(\n",
       "                [35.864445, 139.986511],\n",
       "                {}\n",
       "            ).addTo(marker_cluster_f5402a4fc6ed0df5afbd40eaf92801dd);\n",
       "        \n",
       "    \n",
       "            marker_8fbad6a12249b73eb094123a2b2f6ded.bindTooltip(\n",
       "                `&lt;div&gt;\n",
       "                     50歳代\n",
       "                 &lt;/div&gt;`,\n",
       "                {&quot;sticky&quot;: true}\n",
       "            );\n",
       "        \n",
       "    \n",
       "            var marker_78e6cd356c0f04b40361a476ed90c07c = L.marker(\n",
       "                [35.864445, 139.986511],\n",
       "                {}\n",
       "            ).addTo(marker_cluster_f5402a4fc6ed0df5afbd40eaf92801dd);\n",
       "        \n",
       "    \n",
       "            marker_78e6cd356c0f04b40361a476ed90c07c.bindTooltip(\n",
       "                `&lt;div&gt;\n",
       "                     30歳代\n",
       "                 &lt;/div&gt;`,\n",
       "                {&quot;sticky&quot;: true}\n",
       "            );\n",
       "        \n",
       "    \n",
       "            var marker_2d20a6dd035ae18031d213628fed1ceb = L.marker(\n",
       "                [35.864445, 139.986511],\n",
       "                {}\n",
       "            ).addTo(marker_cluster_f5402a4fc6ed0df5afbd40eaf92801dd);\n",
       "        \n",
       "    \n",
       "            marker_2d20a6dd035ae18031d213628fed1ceb.bindTooltip(\n",
       "                `&lt;div&gt;\n",
       "                     30歳代\n",
       "                 &lt;/div&gt;`,\n",
       "                {&quot;sticky&quot;: true}\n",
       "            );\n",
       "        \n",
       "    \n",
       "            var marker_610d020cf44ae6a402ba3c84a8c9ad2a = L.marker(\n",
       "                [35.860302, 139.975159],\n",
       "                {}\n",
       "            ).addTo(marker_cluster_f5402a4fc6ed0df5afbd40eaf92801dd);\n",
       "        \n",
       "    \n",
       "            marker_610d020cf44ae6a402ba3c84a8c9ad2a.bindTooltip(\n",
       "                `&lt;div&gt;\n",
       "                     50歳代\n",
       "                 &lt;/div&gt;`,\n",
       "                {&quot;sticky&quot;: true}\n",
       "            );\n",
       "        \n",
       "    \n",
       "            var marker_99b80f48e82db432a0d930b687a421ba = L.marker(\n",
       "                [35.850071, 139.983734],\n",
       "                {}\n",
       "            ).addTo(marker_cluster_f5402a4fc6ed0df5afbd40eaf92801dd);\n",
       "        \n",
       "    \n",
       "            marker_99b80f48e82db432a0d930b687a421ba.bindTooltip(\n",
       "                `&lt;div&gt;\n",
       "                     20歳代\n",
       "                 &lt;/div&gt;`,\n",
       "                {&quot;sticky&quot;: true}\n",
       "            );\n",
       "        \n",
       "    \n",
       "            var marker_73c3b14cecc3b9ff6041d1df5e4b0b5a = L.marker(\n",
       "                [35.850071, 139.983734],\n",
       "                {}\n",
       "            ).addTo(marker_cluster_f5402a4fc6ed0df5afbd40eaf92801dd);\n",
       "        \n",
       "    \n",
       "            marker_73c3b14cecc3b9ff6041d1df5e4b0b5a.bindTooltip(\n",
       "                `&lt;div&gt;\n",
       "                     20歳代\n",
       "                 &lt;/div&gt;`,\n",
       "                {&quot;sticky&quot;: true}\n",
       "            );\n",
       "        \n",
       "    \n",
       "            var marker_32bb5d1f950dc620dfab66da87c813bc = L.marker(\n",
       "                [35.856525, 139.976288],\n",
       "                {}\n",
       "            ).addTo(marker_cluster_f5402a4fc6ed0df5afbd40eaf92801dd);\n",
       "        \n",
       "    \n",
       "            marker_32bb5d1f950dc620dfab66da87c813bc.bindTooltip(\n",
       "                `&lt;div&gt;\n",
       "                     20歳代\n",
       "                 &lt;/div&gt;`,\n",
       "                {&quot;sticky&quot;: true}\n",
       "            );\n",
       "        \n",
       "    \n",
       "            var marker_30be3049edeec685cb591d559a8df24b = L.marker(\n",
       "                [35.853741, 139.975143],\n",
       "                {}\n",
       "            ).addTo(marker_cluster_f5402a4fc6ed0df5afbd40eaf92801dd);\n",
       "        \n",
       "    \n",
       "            marker_30be3049edeec685cb591d559a8df24b.bindTooltip(\n",
       "                `&lt;div&gt;\n",
       "                     30歳代\n",
       "                 &lt;/div&gt;`,\n",
       "                {&quot;sticky&quot;: true}\n",
       "            );\n",
       "        \n",
       "    \n",
       "            var marker_6f8855038e139a24adc47628b804b83f = L.marker(\n",
       "                [35.853741, 139.975143],\n",
       "                {}\n",
       "            ).addTo(marker_cluster_f5402a4fc6ed0df5afbd40eaf92801dd);\n",
       "        \n",
       "    \n",
       "            marker_6f8855038e139a24adc47628b804b83f.bindTooltip(\n",
       "                `&lt;div&gt;\n",
       "                     20歳代\n",
       "                 &lt;/div&gt;`,\n",
       "                {&quot;sticky&quot;: true}\n",
       "            );\n",
       "        \n",
       "    \n",
       "            var marker_1486d328f02690b949f871f21a8b5212 = L.marker(\n",
       "                [35.853741, 139.975143],\n",
       "                {}\n",
       "            ).addTo(marker_cluster_f5402a4fc6ed0df5afbd40eaf92801dd);\n",
       "        \n",
       "    \n",
       "            marker_1486d328f02690b949f871f21a8b5212.bindTooltip(\n",
       "                `&lt;div&gt;\n",
       "                     10歳代\n",
       "                 &lt;/div&gt;`,\n",
       "                {&quot;sticky&quot;: true}\n",
       "            );\n",
       "        \n",
       "    \n",
       "            var marker_3d6b5adfe7c29a79c6941ed87582db5e = L.marker(\n",
       "                [35.853451, 139.977646],\n",
       "                {}\n",
       "            ).addTo(marker_cluster_f5402a4fc6ed0df5afbd40eaf92801dd);\n",
       "        \n",
       "    \n",
       "            marker_3d6b5adfe7c29a79c6941ed87582db5e.bindTooltip(\n",
       "                `&lt;div&gt;\n",
       "                     20歳代\n",
       "                 &lt;/div&gt;`,\n",
       "                {&quot;sticky&quot;: true}\n",
       "            );\n",
       "        \n",
       "    \n",
       "            var marker_0e643d6e3d38b72807d706657436e2f7 = L.marker(\n",
       "                [35.83136, 139.96756],\n",
       "                {}\n",
       "            ).addTo(marker_cluster_f5402a4fc6ed0df5afbd40eaf92801dd);\n",
       "        \n",
       "    \n",
       "            marker_0e643d6e3d38b72807d706657436e2f7.bindTooltip(\n",
       "                `&lt;div&gt;\n",
       "                     10歳代\n",
       "                 &lt;/div&gt;`,\n",
       "                {&quot;sticky&quot;: true}\n",
       "            );\n",
       "        \n",
       "    \n",
       "            var marker_faf3960e076187d8e0c84607058a6ec7 = L.marker(\n",
       "                [35.856003, 139.993591],\n",
       "                {}\n",
       "            ).addTo(marker_cluster_f5402a4fc6ed0df5afbd40eaf92801dd);\n",
       "        \n",
       "    \n",
       "            marker_faf3960e076187d8e0c84607058a6ec7.bindTooltip(\n",
       "                `&lt;div&gt;\n",
       "                     10歳代\n",
       "                 &lt;/div&gt;`,\n",
       "                {&quot;sticky&quot;: true}\n",
       "            );\n",
       "        \n",
       "    \n",
       "            var marker_25cb7611883d9edce7d09a7d6034f3ac = L.marker(\n",
       "                [35.856003, 139.993591],\n",
       "                {}\n",
       "            ).addTo(marker_cluster_f5402a4fc6ed0df5afbd40eaf92801dd);\n",
       "        \n",
       "    \n",
       "            marker_25cb7611883d9edce7d09a7d6034f3ac.bindTooltip(\n",
       "                `&lt;div&gt;\n",
       "                     10歳代\n",
       "                 &lt;/div&gt;`,\n",
       "                {&quot;sticky&quot;: true}\n",
       "            );\n",
       "        \n",
       "    \n",
       "            var marker_d951c04ae505b9ebce09440d1dfbea27 = L.marker(\n",
       "                [35.856003, 139.993591],\n",
       "                {}\n",
       "            ).addTo(marker_cluster_f5402a4fc6ed0df5afbd40eaf92801dd);\n",
       "        \n",
       "    \n",
       "            marker_d951c04ae505b9ebce09440d1dfbea27.bindTooltip(\n",
       "                `&lt;div&gt;\n",
       "                     法人・団体、被害者なし\n",
       "                 &lt;/div&gt;`,\n",
       "                {&quot;sticky&quot;: true}\n",
       "            );\n",
       "        \n",
       "    \n",
       "            var marker_0a4c5a0a59834f04de63ed9760d1d4f9 = L.marker(\n",
       "                [35.856003, 139.993591],\n",
       "                {}\n",
       "            ).addTo(marker_cluster_f5402a4fc6ed0df5afbd40eaf92801dd);\n",
       "        \n",
       "    \n",
       "            marker_0a4c5a0a59834f04de63ed9760d1d4f9.bindTooltip(\n",
       "                `&lt;div&gt;\n",
       "                     40歳代\n",
       "                 &lt;/div&gt;`,\n",
       "                {&quot;sticky&quot;: true}\n",
       "            );\n",
       "        \n",
       "    \n",
       "            var marker_233c463dda02c7d4d4164bfcc92f8db4 = L.marker(\n",
       "                [35.891659, 139.953995],\n",
       "                {}\n",
       "            ).addTo(marker_cluster_f5402a4fc6ed0df5afbd40eaf92801dd);\n",
       "        \n",
       "    \n",
       "            marker_233c463dda02c7d4d4164bfcc92f8db4.bindTooltip(\n",
       "                `&lt;div&gt;\n",
       "                     70歳以上\n",
       "                 &lt;/div&gt;`,\n",
       "                {&quot;sticky&quot;: true}\n",
       "            );\n",
       "        \n",
       "    \n",
       "            var marker_98b828a599c6e6c02b87cb5ddfb215f8 = L.marker(\n",
       "                [35.85392, 139.971054],\n",
       "                {}\n",
       "            ).addTo(marker_cluster_f5402a4fc6ed0df5afbd40eaf92801dd);\n",
       "        \n",
       "    \n",
       "            marker_98b828a599c6e6c02b87cb5ddfb215f8.bindTooltip(\n",
       "                `&lt;div&gt;\n",
       "                     10歳代\n",
       "                 &lt;/div&gt;`,\n",
       "                {&quot;sticky&quot;: true}\n",
       "            );\n",
       "        \n",
       "    \n",
       "            var marker_469b0d876994c1e0ebf52ad00585ce39 = L.marker(\n",
       "                [35.85392, 139.971054],\n",
       "                {}\n",
       "            ).addTo(marker_cluster_f5402a4fc6ed0df5afbd40eaf92801dd);\n",
       "        \n",
       "    \n",
       "            marker_469b0d876994c1e0ebf52ad00585ce39.bindTooltip(\n",
       "                `&lt;div&gt;\n",
       "                     50歳代\n",
       "                 &lt;/div&gt;`,\n",
       "                {&quot;sticky&quot;: true}\n",
       "            );\n",
       "        \n",
       "    \n",
       "            var marker_0fabb7dace37cb73034481c4711df3ec = L.marker(\n",
       "                [35.85392, 139.971054],\n",
       "                {}\n",
       "            ).addTo(marker_cluster_f5402a4fc6ed0df5afbd40eaf92801dd);\n",
       "        \n",
       "    \n",
       "            marker_0fabb7dace37cb73034481c4711df3ec.bindTooltip(\n",
       "                `&lt;div&gt;\n",
       "                     40歳代\n",
       "                 &lt;/div&gt;`,\n",
       "                {&quot;sticky&quot;: true}\n",
       "            );\n",
       "        \n",
       "    \n",
       "            var marker_a0b404f44bcae322ef51a00b5f60f965 = L.marker(\n",
       "                [35.85392, 139.971054],\n",
       "                {}\n",
       "            ).addTo(marker_cluster_f5402a4fc6ed0df5afbd40eaf92801dd);\n",
       "        \n",
       "    \n",
       "            marker_a0b404f44bcae322ef51a00b5f60f965.bindTooltip(\n",
       "                `&lt;div&gt;\n",
       "                     30歳代\n",
       "                 &lt;/div&gt;`,\n",
       "                {&quot;sticky&quot;: true}\n",
       "            );\n",
       "        \n",
       "    \n",
       "            var marker_be355da7965510be792d67fc87bb61c6 = L.marker(\n",
       "                [35.851498, 139.987534],\n",
       "                {}\n",
       "            ).addTo(marker_cluster_f5402a4fc6ed0df5afbd40eaf92801dd);\n",
       "        \n",
       "    \n",
       "            marker_be355da7965510be792d67fc87bb61c6.bindTooltip(\n",
       "                `&lt;div&gt;\n",
       "                     20歳代\n",
       "                 &lt;/div&gt;`,\n",
       "                {&quot;sticky&quot;: true}\n",
       "            );\n",
       "        \n",
       "    \n",
       "            var marker_c632907f77f4cc35926afcb89a6bfa24 = L.marker(\n",
       "                [35.849293, 139.987366],\n",
       "                {}\n",
       "            ).addTo(marker_cluster_f5402a4fc6ed0df5afbd40eaf92801dd);\n",
       "        \n",
       "    \n",
       "            marker_c632907f77f4cc35926afcb89a6bfa24.bindTooltip(\n",
       "                `&lt;div&gt;\n",
       "                     10歳代\n",
       "                 &lt;/div&gt;`,\n",
       "                {&quot;sticky&quot;: true}\n",
       "            );\n",
       "        \n",
       "    \n",
       "            var marker_38a666feb438169d9e2c72e3095b3831 = L.marker(\n",
       "                [35.915867, 139.952377],\n",
       "                {}\n",
       "            ).addTo(marker_cluster_f5402a4fc6ed0df5afbd40eaf92801dd);\n",
       "        \n",
       "    \n",
       "            marker_38a666feb438169d9e2c72e3095b3831.bindTooltip(\n",
       "                `&lt;div&gt;\n",
       "                     20歳代\n",
       "                 &lt;/div&gt;`,\n",
       "                {&quot;sticky&quot;: true}\n",
       "            );\n",
       "        \n",
       "    \n",
       "            var marker_c299ba27968f407702174f1049eb4a89 = L.marker(\n",
       "                [35.923737, 139.939484],\n",
       "                {}\n",
       "            ).addTo(marker_cluster_f5402a4fc6ed0df5afbd40eaf92801dd);\n",
       "        \n",
       "    \n",
       "            marker_c299ba27968f407702174f1049eb4a89.bindTooltip(\n",
       "                `&lt;div&gt;\n",
       "                     10歳代\n",
       "                 &lt;/div&gt;`,\n",
       "                {&quot;sticky&quot;: true}\n",
       "            );\n",
       "        \n",
       "    \n",
       "            var marker_b3ecc56f7689ccae48d8f3d8cde77363 = L.marker(\n",
       "                [35.923737, 139.939484],\n",
       "                {}\n",
       "            ).addTo(marker_cluster_f5402a4fc6ed0df5afbd40eaf92801dd);\n",
       "        \n",
       "    \n",
       "            marker_b3ecc56f7689ccae48d8f3d8cde77363.bindTooltip(\n",
       "                `&lt;div&gt;\n",
       "                     10歳代\n",
       "                 &lt;/div&gt;`,\n",
       "                {&quot;sticky&quot;: true}\n",
       "            );\n",
       "        \n",
       "    \n",
       "            var marker_3e86022c921fb14a8a00d2e921ab2f8b = L.marker(\n",
       "                [35.911968, 139.961746],\n",
       "                {}\n",
       "            ).addTo(marker_cluster_f5402a4fc6ed0df5afbd40eaf92801dd);\n",
       "        \n",
       "    \n",
       "            marker_3e86022c921fb14a8a00d2e921ab2f8b.bindTooltip(\n",
       "                `&lt;div&gt;\n",
       "                     10歳代\n",
       "                 &lt;/div&gt;`,\n",
       "                {&quot;sticky&quot;: true}\n",
       "            );\n",
       "        \n",
       "    \n",
       "            var marker_e68d865e7d7c7cee4ebd377d89ba10df = L.marker(\n",
       "                [35.911968, 139.961746],\n",
       "                {}\n",
       "            ).addTo(marker_cluster_f5402a4fc6ed0df5afbd40eaf92801dd);\n",
       "        \n",
       "    \n",
       "            marker_e68d865e7d7c7cee4ebd377d89ba10df.bindTooltip(\n",
       "                `&lt;div&gt;\n",
       "                     10歳代\n",
       "                 &lt;/div&gt;`,\n",
       "                {&quot;sticky&quot;: true}\n",
       "            );\n",
       "        \n",
       "    \n",
       "            var marker_d4cfdba042719122cd959004224175b4 = L.marker(\n",
       "                [35.911968, 139.961746],\n",
       "                {}\n",
       "            ).addTo(marker_cluster_f5402a4fc6ed0df5afbd40eaf92801dd);\n",
       "        \n",
       "    \n",
       "            marker_d4cfdba042719122cd959004224175b4.bindTooltip(\n",
       "                `&lt;div&gt;\n",
       "                     30歳代\n",
       "                 &lt;/div&gt;`,\n",
       "                {&quot;sticky&quot;: true}\n",
       "            );\n",
       "        \n",
       "    \n",
       "            var marker_a9d3edd932fac5172bb9be3aedb9d234 = L.marker(\n",
       "                [35.911968, 139.961746],\n",
       "                {}\n",
       "            ).addTo(marker_cluster_f5402a4fc6ed0df5afbd40eaf92801dd);\n",
       "        \n",
       "    \n",
       "            marker_a9d3edd932fac5172bb9be3aedb9d234.bindTooltip(\n",
       "                `&lt;div&gt;\n",
       "                     20歳代\n",
       "                 &lt;/div&gt;`,\n",
       "                {&quot;sticky&quot;: true}\n",
       "            );\n",
       "        \n",
       "    \n",
       "            var marker_1a379246ded0495c40c8493a2e783db0 = L.marker(\n",
       "                [35.911968, 139.961746],\n",
       "                {}\n",
       "            ).addTo(marker_cluster_f5402a4fc6ed0df5afbd40eaf92801dd);\n",
       "        \n",
       "    \n",
       "            marker_1a379246ded0495c40c8493a2e783db0.bindTooltip(\n",
       "                `&lt;div&gt;\n",
       "                     20歳代\n",
       "                 &lt;/div&gt;`,\n",
       "                {&quot;sticky&quot;: true}\n",
       "            );\n",
       "        \n",
       "    \n",
       "            var marker_e564015e8e098e30c187d00c0885be14 = L.marker(\n",
       "                [35.911968, 139.961746],\n",
       "                {}\n",
       "            ).addTo(marker_cluster_f5402a4fc6ed0df5afbd40eaf92801dd);\n",
       "        \n",
       "    \n",
       "            marker_e564015e8e098e30c187d00c0885be14.bindTooltip(\n",
       "                `&lt;div&gt;\n",
       "                     40歳代\n",
       "                 &lt;/div&gt;`,\n",
       "                {&quot;sticky&quot;: true}\n",
       "            );\n",
       "        \n",
       "    \n",
       "            var marker_45a28751254dfb615f4e85ae2bb90126 = L.marker(\n",
       "                [35.911968, 139.961746],\n",
       "                {}\n",
       "            ).addTo(marker_cluster_f5402a4fc6ed0df5afbd40eaf92801dd);\n",
       "        \n",
       "    \n",
       "            marker_45a28751254dfb615f4e85ae2bb90126.bindTooltip(\n",
       "                `&lt;div&gt;\n",
       "                     法人・団体、被害者なし\n",
       "                 &lt;/div&gt;`,\n",
       "                {&quot;sticky&quot;: true}\n",
       "            );\n",
       "        \n",
       "    \n",
       "            var marker_77d8bf3b865c01e552edafb9f4d14048 = L.marker(\n",
       "                [35.911968, 139.961746],\n",
       "                {}\n",
       "            ).addTo(marker_cluster_f5402a4fc6ed0df5afbd40eaf92801dd);\n",
       "        \n",
       "    \n",
       "            marker_77d8bf3b865c01e552edafb9f4d14048.bindTooltip(\n",
       "                `&lt;div&gt;\n",
       "                     60-64歳\n",
       "                 &lt;/div&gt;`,\n",
       "                {&quot;sticky&quot;: true}\n",
       "            );\n",
       "        \n",
       "    \n",
       "            var marker_58f9bf39bdaa15005e9e56938b58b60d = L.marker(\n",
       "                [35.916023, 139.956726],\n",
       "                {}\n",
       "            ).addTo(marker_cluster_f5402a4fc6ed0df5afbd40eaf92801dd);\n",
       "        \n",
       "    \n",
       "            marker_58f9bf39bdaa15005e9e56938b58b60d.bindTooltip(\n",
       "                `&lt;div&gt;\n",
       "                     10歳代\n",
       "                 &lt;/div&gt;`,\n",
       "                {&quot;sticky&quot;: true}\n",
       "            );\n",
       "        \n",
       "    \n",
       "            var marker_2b2477fa993707bed539ed42b1b61b45 = L.marker(\n",
       "                [35.916023, 139.956726],\n",
       "                {}\n",
       "            ).addTo(marker_cluster_f5402a4fc6ed0df5afbd40eaf92801dd);\n",
       "        \n",
       "    \n",
       "            marker_2b2477fa993707bed539ed42b1b61b45.bindTooltip(\n",
       "                `&lt;div&gt;\n",
       "                     10歳代\n",
       "                 &lt;/div&gt;`,\n",
       "                {&quot;sticky&quot;: true}\n",
       "            );\n",
       "        \n",
       "    \n",
       "            var marker_0a77141a3236b3ea401159ac9e201620 = L.marker(\n",
       "                [35.916023, 139.956726],\n",
       "                {}\n",
       "            ).addTo(marker_cluster_f5402a4fc6ed0df5afbd40eaf92801dd);\n",
       "        \n",
       "    \n",
       "            marker_0a77141a3236b3ea401159ac9e201620.bindTooltip(\n",
       "                `&lt;div&gt;\n",
       "                     10歳代\n",
       "                 &lt;/div&gt;`,\n",
       "                {&quot;sticky&quot;: true}\n",
       "            );\n",
       "        \n",
       "    \n",
       "            var marker_a09466c56452a87b6998adab72e736f8 = L.marker(\n",
       "                [35.915054, 139.959076],\n",
       "                {}\n",
       "            ).addTo(marker_cluster_f5402a4fc6ed0df5afbd40eaf92801dd);\n",
       "        \n",
       "    \n",
       "            marker_a09466c56452a87b6998adab72e736f8.bindTooltip(\n",
       "                `&lt;div&gt;\n",
       "                     10歳代\n",
       "                 &lt;/div&gt;`,\n",
       "                {&quot;sticky&quot;: true}\n",
       "            );\n",
       "        \n",
       "    \n",
       "            var marker_2e810ea60f2848530ba62f375aebc6be = L.marker(\n",
       "                [35.915054, 139.959076],\n",
       "                {}\n",
       "            ).addTo(marker_cluster_f5402a4fc6ed0df5afbd40eaf92801dd);\n",
       "        \n",
       "    \n",
       "            marker_2e810ea60f2848530ba62f375aebc6be.bindTooltip(\n",
       "                `&lt;div&gt;\n",
       "                     10歳代\n",
       "                 &lt;/div&gt;`,\n",
       "                {&quot;sticky&quot;: true}\n",
       "            );\n",
       "        \n",
       "    \n",
       "            var marker_aeb124bd0b7f5dde88a06a727973f2bd = L.marker(\n",
       "                [35.915054, 139.959076],\n",
       "                {}\n",
       "            ).addTo(marker_cluster_f5402a4fc6ed0df5afbd40eaf92801dd);\n",
       "        \n",
       "    \n",
       "            marker_aeb124bd0b7f5dde88a06a727973f2bd.bindTooltip(\n",
       "                `&lt;div&gt;\n",
       "                     10歳代\n",
       "                 &lt;/div&gt;`,\n",
       "                {&quot;sticky&quot;: true}\n",
       "            );\n",
       "        \n",
       "    \n",
       "            var marker_6940462329229708700e42267dc63863 = L.marker(\n",
       "                [35.915054, 139.959076],\n",
       "                {}\n",
       "            ).addTo(marker_cluster_f5402a4fc6ed0df5afbd40eaf92801dd);\n",
       "        \n",
       "    \n",
       "            marker_6940462329229708700e42267dc63863.bindTooltip(\n",
       "                `&lt;div&gt;\n",
       "                     10歳代\n",
       "                 &lt;/div&gt;`,\n",
       "                {&quot;sticky&quot;: true}\n",
       "            );\n",
       "        \n",
       "    \n",
       "            var marker_0b73c97062ca194806ae8be2bf29aecc = L.marker(\n",
       "                [35.896736, 139.974243],\n",
       "                {}\n",
       "            ).addTo(marker_cluster_f5402a4fc6ed0df5afbd40eaf92801dd);\n",
       "        \n",
       "    \n",
       "            marker_0b73c97062ca194806ae8be2bf29aecc.bindTooltip(\n",
       "                `&lt;div&gt;\n",
       "                     40歳代\n",
       "                 &lt;/div&gt;`,\n",
       "                {&quot;sticky&quot;: true}\n",
       "            );\n",
       "        \n",
       "    \n",
       "            var marker_dd471e838e4f43b9d010705fad9bfbdc = L.marker(\n",
       "                [35.896736, 139.974243],\n",
       "                {}\n",
       "            ).addTo(marker_cluster_f5402a4fc6ed0df5afbd40eaf92801dd);\n",
       "        \n",
       "    \n",
       "            marker_dd471e838e4f43b9d010705fad9bfbdc.bindTooltip(\n",
       "                `&lt;div&gt;\n",
       "                     20歳代\n",
       "                 &lt;/div&gt;`,\n",
       "                {&quot;sticky&quot;: true}\n",
       "            );\n",
       "        \n",
       "    \n",
       "            var marker_977ec0be5b722b29a5873ca2e85da9a7 = L.marker(\n",
       "                [35.896736, 139.974243],\n",
       "                {}\n",
       "            ).addTo(marker_cluster_f5402a4fc6ed0df5afbd40eaf92801dd);\n",
       "        \n",
       "    \n",
       "            marker_977ec0be5b722b29a5873ca2e85da9a7.bindTooltip(\n",
       "                `&lt;div&gt;\n",
       "                     40歳代\n",
       "                 &lt;/div&gt;`,\n",
       "                {&quot;sticky&quot;: true}\n",
       "            );\n",
       "        \n",
       "    \n",
       "            var marker_9cdfe47655297a1d50ac001e0f16a852 = L.marker(\n",
       "                [35.896736, 139.974243],\n",
       "                {}\n",
       "            ).addTo(marker_cluster_f5402a4fc6ed0df5afbd40eaf92801dd);\n",
       "        \n",
       "    \n",
       "            marker_9cdfe47655297a1d50ac001e0f16a852.bindTooltip(\n",
       "                `&lt;div&gt;\n",
       "                     60-64歳\n",
       "                 &lt;/div&gt;`,\n",
       "                {&quot;sticky&quot;: true}\n",
       "            );\n",
       "        \n",
       "    \n",
       "            var marker_effe539a100c4d839c6b5e1720261483 = L.marker(\n",
       "                [35.868122, 139.943359],\n",
       "                {}\n",
       "            ).addTo(marker_cluster_f5402a4fc6ed0df5afbd40eaf92801dd);\n",
       "        \n",
       "    \n",
       "            marker_effe539a100c4d839c6b5e1720261483.bindTooltip(\n",
       "                `&lt;div&gt;\n",
       "                     60-64歳\n",
       "                 &lt;/div&gt;`,\n",
       "                {&quot;sticky&quot;: true}\n",
       "            );\n",
       "        \n",
       "    \n",
       "            var marker_4aafc628dea9c95966114295ac2a82c8 = L.marker(\n",
       "                [35.859928, 139.949814],\n",
       "                {}\n",
       "            ).addTo(marker_cluster_f5402a4fc6ed0df5afbd40eaf92801dd);\n",
       "        \n",
       "    \n",
       "            marker_4aafc628dea9c95966114295ac2a82c8.bindTooltip(\n",
       "                `&lt;div&gt;\n",
       "                     20歳代\n",
       "                 &lt;/div&gt;`,\n",
       "                {&quot;sticky&quot;: true}\n",
       "            );\n",
       "        \n",
       "    \n",
       "            var marker_8cd1de50909a385612efe62cfa5d2e1c = L.marker(\n",
       "                [35.859928, 139.949814],\n",
       "                {}\n",
       "            ).addTo(marker_cluster_f5402a4fc6ed0df5afbd40eaf92801dd);\n",
       "        \n",
       "    \n",
       "            marker_8cd1de50909a385612efe62cfa5d2e1c.bindTooltip(\n",
       "                `&lt;div&gt;\n",
       "                     20歳代\n",
       "                 &lt;/div&gt;`,\n",
       "                {&quot;sticky&quot;: true}\n",
       "            );\n",
       "        \n",
       "    \n",
       "            var marker_e403d1f24726661a6d616cf97e8eef66 = L.marker(\n",
       "                [35.859928, 139.949814],\n",
       "                {}\n",
       "            ).addTo(marker_cluster_f5402a4fc6ed0df5afbd40eaf92801dd);\n",
       "        \n",
       "    \n",
       "            marker_e403d1f24726661a6d616cf97e8eef66.bindTooltip(\n",
       "                `&lt;div&gt;\n",
       "                     40歳代\n",
       "                 &lt;/div&gt;`,\n",
       "                {&quot;sticky&quot;: true}\n",
       "            );\n",
       "        \n",
       "    \n",
       "            var marker_e8a650746e99f70c2f8eeb4f60c6709e = L.marker(\n",
       "                [35.859928, 139.949814],\n",
       "                {}\n",
       "            ).addTo(marker_cluster_f5402a4fc6ed0df5afbd40eaf92801dd);\n",
       "        \n",
       "    \n",
       "            marker_e8a650746e99f70c2f8eeb4f60c6709e.bindTooltip(\n",
       "                `&lt;div&gt;\n",
       "                     10歳代\n",
       "                 &lt;/div&gt;`,\n",
       "                {&quot;sticky&quot;: true}\n",
       "            );\n",
       "        \n",
       "    \n",
       "            var marker_0659914beafafca21e0edb35ffa4ccca = L.marker(\n",
       "                [35.859928, 139.949814],\n",
       "                {}\n",
       "            ).addTo(marker_cluster_f5402a4fc6ed0df5afbd40eaf92801dd);\n",
       "        \n",
       "    \n",
       "            marker_0659914beafafca21e0edb35ffa4ccca.bindTooltip(\n",
       "                `&lt;div&gt;\n",
       "                     20歳代\n",
       "                 &lt;/div&gt;`,\n",
       "                {&quot;sticky&quot;: true}\n",
       "            );\n",
       "        \n",
       "    \n",
       "            var marker_7525d7d882fb63dd2dbdefb7c2b85713 = L.marker(\n",
       "                [35.859928, 139.949814],\n",
       "                {}\n",
       "            ).addTo(marker_cluster_f5402a4fc6ed0df5afbd40eaf92801dd);\n",
       "        \n",
       "    \n",
       "            marker_7525d7d882fb63dd2dbdefb7c2b85713.bindTooltip(\n",
       "                `&lt;div&gt;\n",
       "                     30歳代\n",
       "                 &lt;/div&gt;`,\n",
       "                {&quot;sticky&quot;: true}\n",
       "            );\n",
       "        \n",
       "    \n",
       "            var marker_c364e294428af2fea47f56bc612de91d = L.marker(\n",
       "                [35.859928, 139.949814],\n",
       "                {}\n",
       "            ).addTo(marker_cluster_f5402a4fc6ed0df5afbd40eaf92801dd);\n",
       "        \n",
       "    \n",
       "            marker_c364e294428af2fea47f56bc612de91d.bindTooltip(\n",
       "                `&lt;div&gt;\n",
       "                     20歳代\n",
       "                 &lt;/div&gt;`,\n",
       "                {&quot;sticky&quot;: true}\n",
       "            );\n",
       "        \n",
       "    \n",
       "            var marker_3543980744f6843f14d6d78fefbd9986 = L.marker(\n",
       "                [35.859928, 139.949814],\n",
       "                {}\n",
       "            ).addTo(marker_cluster_f5402a4fc6ed0df5afbd40eaf92801dd);\n",
       "        \n",
       "    \n",
       "            marker_3543980744f6843f14d6d78fefbd9986.bindTooltip(\n",
       "                `&lt;div&gt;\n",
       "                     10歳代\n",
       "                 &lt;/div&gt;`,\n",
       "                {&quot;sticky&quot;: true}\n",
       "            );\n",
       "        \n",
       "    \n",
       "            var marker_d235b09f4923b86ca9f51f54aae40861 = L.marker(\n",
       "                [35.854702, 139.957123],\n",
       "                {}\n",
       "            ).addTo(marker_cluster_f5402a4fc6ed0df5afbd40eaf92801dd);\n",
       "        \n",
       "    \n",
       "            marker_d235b09f4923b86ca9f51f54aae40861.bindTooltip(\n",
       "                `&lt;div&gt;\n",
       "                     20歳代\n",
       "                 &lt;/div&gt;`,\n",
       "                {&quot;sticky&quot;: true}\n",
       "            );\n",
       "        \n",
       "    \n",
       "            var marker_67975c61fd7d521e3dc91570eeaf3f3d = L.marker(\n",
       "                [35.804619, 139.996078],\n",
       "                {}\n",
       "            ).addTo(marker_cluster_f5402a4fc6ed0df5afbd40eaf92801dd);\n",
       "        \n",
       "    \n",
       "            marker_67975c61fd7d521e3dc91570eeaf3f3d.bindTooltip(\n",
       "                `&lt;div&gt;\n",
       "                     10歳代\n",
       "                 &lt;/div&gt;`,\n",
       "                {&quot;sticky&quot;: true}\n",
       "            );\n",
       "        \n",
       "    \n",
       "            var marker_33bb69ba4ebdac19a3d2599ad348f60b = L.marker(\n",
       "                [35.802979, 139.991287],\n",
       "                {}\n",
       "            ).addTo(marker_cluster_f5402a4fc6ed0df5afbd40eaf92801dd);\n",
       "        \n",
       "    \n",
       "            marker_33bb69ba4ebdac19a3d2599ad348f60b.bindTooltip(\n",
       "                `&lt;div&gt;\n",
       "                     10歳代\n",
       "                 &lt;/div&gt;`,\n",
       "                {&quot;sticky&quot;: true}\n",
       "            );\n",
       "        \n",
       "    \n",
       "            var marker_446f5e9a3229bc9368726736187fffb5 = L.marker(\n",
       "                [35.805519, 139.993011],\n",
       "                {}\n",
       "            ).addTo(marker_cluster_f5402a4fc6ed0df5afbd40eaf92801dd);\n",
       "        \n",
       "    \n",
       "            marker_446f5e9a3229bc9368726736187fffb5.bindTooltip(\n",
       "                `&lt;div&gt;\n",
       "                     10歳代\n",
       "                 &lt;/div&gt;`,\n",
       "                {&quot;sticky&quot;: true}\n",
       "            );\n",
       "        \n",
       "    \n",
       "            var marker_8ad1c91db051529b4d23a19a5df367be = L.marker(\n",
       "                [35.801025, 139.980179],\n",
       "                {}\n",
       "            ).addTo(marker_cluster_f5402a4fc6ed0df5afbd40eaf92801dd);\n",
       "        \n",
       "    \n",
       "            marker_8ad1c91db051529b4d23a19a5df367be.bindTooltip(\n",
       "                `&lt;div&gt;\n",
       "                     10歳代\n",
       "                 &lt;/div&gt;`,\n",
       "                {&quot;sticky&quot;: true}\n",
       "            );\n",
       "        \n",
       "    \n",
       "            var marker_ba9f409b0604edcba4bda7f567769b04 = L.marker(\n",
       "                [35.80201, 139.977814],\n",
       "                {}\n",
       "            ).addTo(marker_cluster_f5402a4fc6ed0df5afbd40eaf92801dd);\n",
       "        \n",
       "    \n",
       "            marker_ba9f409b0604edcba4bda7f567769b04.bindTooltip(\n",
       "                `&lt;div&gt;\n",
       "                     50歳代\n",
       "                 &lt;/div&gt;`,\n",
       "                {&quot;sticky&quot;: true}\n",
       "            );\n",
       "        \n",
       "    \n",
       "            var marker_337f52fe723bd7c61dde30f5ebd546ed = L.marker(\n",
       "                [35.80201, 139.977814],\n",
       "                {}\n",
       "            ).addTo(marker_cluster_f5402a4fc6ed0df5afbd40eaf92801dd);\n",
       "        \n",
       "    \n",
       "            marker_337f52fe723bd7c61dde30f5ebd546ed.bindTooltip(\n",
       "                `&lt;div&gt;\n",
       "                     30歳代\n",
       "                 &lt;/div&gt;`,\n",
       "                {&quot;sticky&quot;: true}\n",
       "            );\n",
       "        \n",
       "    \n",
       "            var marker_23f01906d68e85d87ec531029a825225 = L.marker(\n",
       "                [35.8078, 139.99794],\n",
       "                {}\n",
       "            ).addTo(marker_cluster_f5402a4fc6ed0df5afbd40eaf92801dd);\n",
       "        \n",
       "    \n",
       "            marker_23f01906d68e85d87ec531029a825225.bindTooltip(\n",
       "                `&lt;div&gt;\n",
       "                     20歳代\n",
       "                 &lt;/div&gt;`,\n",
       "                {&quot;sticky&quot;: true}\n",
       "            );\n",
       "        \n",
       "    \n",
       "            var marker_85714803b86525105fb007e8cabb800e = L.marker(\n",
       "                [35.8078, 139.99794],\n",
       "                {}\n",
       "            ).addTo(marker_cluster_f5402a4fc6ed0df5afbd40eaf92801dd);\n",
       "        \n",
       "    \n",
       "            marker_85714803b86525105fb007e8cabb800e.bindTooltip(\n",
       "                `&lt;div&gt;\n",
       "                     10歳代\n",
       "                 &lt;/div&gt;`,\n",
       "                {&quot;sticky&quot;: true}\n",
       "            );\n",
       "        \n",
       "    \n",
       "            var marker_c61b21268edb17c23d815e93d26670e4 = L.marker(\n",
       "                [35.8078, 139.99794],\n",
       "                {}\n",
       "            ).addTo(marker_cluster_f5402a4fc6ed0df5afbd40eaf92801dd);\n",
       "        \n",
       "    \n",
       "            marker_c61b21268edb17c23d815e93d26670e4.bindTooltip(\n",
       "                `&lt;div&gt;\n",
       "                     30歳代\n",
       "                 &lt;/div&gt;`,\n",
       "                {&quot;sticky&quot;: true}\n",
       "            );\n",
       "        \n",
       "    \n",
       "            var marker_aec214dda465151820558462140702ed = L.marker(\n",
       "                [35.8078, 139.99794],\n",
       "                {}\n",
       "            ).addTo(marker_cluster_f5402a4fc6ed0df5afbd40eaf92801dd);\n",
       "        \n",
       "    \n",
       "            marker_aec214dda465151820558462140702ed.bindTooltip(\n",
       "                `&lt;div&gt;\n",
       "                     10歳代\n",
       "                 &lt;/div&gt;`,\n",
       "                {&quot;sticky&quot;: true}\n",
       "            );\n",
       "        \n",
       "    \n",
       "            var marker_d6ec443383c0932e376b048d5d3dbf47 = L.marker(\n",
       "                [35.8078, 139.99794],\n",
       "                {}\n",
       "            ).addTo(marker_cluster_f5402a4fc6ed0df5afbd40eaf92801dd);\n",
       "        \n",
       "    \n",
       "            marker_d6ec443383c0932e376b048d5d3dbf47.bindTooltip(\n",
       "                `&lt;div&gt;\n",
       "                     10歳代\n",
       "                 &lt;/div&gt;`,\n",
       "                {&quot;sticky&quot;: true}\n",
       "            );\n",
       "        \n",
       "    \n",
       "            var marker_aa9ae93fa1e74903133e6488751f0d52 = L.marker(\n",
       "                [35.8078, 139.99794],\n",
       "                {}\n",
       "            ).addTo(marker_cluster_f5402a4fc6ed0df5afbd40eaf92801dd);\n",
       "        \n",
       "    \n",
       "            marker_aa9ae93fa1e74903133e6488751f0d52.bindTooltip(\n",
       "                `&lt;div&gt;\n",
       "                     10歳代\n",
       "                 &lt;/div&gt;`,\n",
       "                {&quot;sticky&quot;: true}\n",
       "            );\n",
       "        \n",
       "    \n",
       "            var marker_3423244b38ac9ca7e434b5864533f0b3 = L.marker(\n",
       "                [35.8078, 139.99794],\n",
       "                {}\n",
       "            ).addTo(marker_cluster_f5402a4fc6ed0df5afbd40eaf92801dd);\n",
       "        \n",
       "    \n",
       "            marker_3423244b38ac9ca7e434b5864533f0b3.bindTooltip(\n",
       "                `&lt;div&gt;\n",
       "                     10歳代\n",
       "                 &lt;/div&gt;`,\n",
       "                {&quot;sticky&quot;: true}\n",
       "            );\n",
       "        \n",
       "    \n",
       "            var marker_879314350f8aa8635062e09c21c29909 = L.marker(\n",
       "                [35.8078, 139.99794],\n",
       "                {}\n",
       "            ).addTo(marker_cluster_f5402a4fc6ed0df5afbd40eaf92801dd);\n",
       "        \n",
       "    \n",
       "            marker_879314350f8aa8635062e09c21c29909.bindTooltip(\n",
       "                `&lt;div&gt;\n",
       "                     10歳代\n",
       "                 &lt;/div&gt;`,\n",
       "                {&quot;sticky&quot;: true}\n",
       "            );\n",
       "        \n",
       "    \n",
       "            var marker_16d16a4a63bc03b7c57debba1ca0d36d = L.marker(\n",
       "                [35.8078, 139.99794],\n",
       "                {}\n",
       "            ).addTo(marker_cluster_f5402a4fc6ed0df5afbd40eaf92801dd);\n",
       "        \n",
       "    \n",
       "            marker_16d16a4a63bc03b7c57debba1ca0d36d.bindTooltip(\n",
       "                `&lt;div&gt;\n",
       "                     70歳以上\n",
       "                 &lt;/div&gt;`,\n",
       "                {&quot;sticky&quot;: true}\n",
       "            );\n",
       "        \n",
       "    \n",
       "            var marker_7c071f74d49159ba95bc629c1058c3c1 = L.marker(\n",
       "                [35.8078, 139.99794],\n",
       "                {}\n",
       "            ).addTo(marker_cluster_f5402a4fc6ed0df5afbd40eaf92801dd);\n",
       "        \n",
       "    \n",
       "            marker_7c071f74d49159ba95bc629c1058c3c1.bindTooltip(\n",
       "                `&lt;div&gt;\n",
       "                     20歳代\n",
       "                 &lt;/div&gt;`,\n",
       "                {&quot;sticky&quot;: true}\n",
       "            );\n",
       "        \n",
       "    \n",
       "            var marker_1434e30b3f829d7eb79a90035bb08deb = L.marker(\n",
       "                [35.8078, 139.99794],\n",
       "                {}\n",
       "            ).addTo(marker_cluster_f5402a4fc6ed0df5afbd40eaf92801dd);\n",
       "        \n",
       "    \n",
       "            marker_1434e30b3f829d7eb79a90035bb08deb.bindTooltip(\n",
       "                `&lt;div&gt;\n",
       "                     10歳代\n",
       "                 &lt;/div&gt;`,\n",
       "                {&quot;sticky&quot;: true}\n",
       "            );\n",
       "        \n",
       "    \n",
       "            var marker_0e8b049d788332cd163bcd941d43535a = L.marker(\n",
       "                [35.8078, 139.99794],\n",
       "                {}\n",
       "            ).addTo(marker_cluster_f5402a4fc6ed0df5afbd40eaf92801dd);\n",
       "        \n",
       "    \n",
       "            marker_0e8b049d788332cd163bcd941d43535a.bindTooltip(\n",
       "                `&lt;div&gt;\n",
       "                     20歳代\n",
       "                 &lt;/div&gt;`,\n",
       "                {&quot;sticky&quot;: true}\n",
       "            );\n",
       "        \n",
       "    \n",
       "            var marker_f55c544baed99e0de322073b6a8ac37a = L.marker(\n",
       "                [35.8078, 139.99794],\n",
       "                {}\n",
       "            ).addTo(marker_cluster_f5402a4fc6ed0df5afbd40eaf92801dd);\n",
       "        \n",
       "    \n",
       "            marker_f55c544baed99e0de322073b6a8ac37a.bindTooltip(\n",
       "                `&lt;div&gt;\n",
       "                     40歳代\n",
       "                 &lt;/div&gt;`,\n",
       "                {&quot;sticky&quot;: true}\n",
       "            );\n",
       "        \n",
       "    \n",
       "            var marker_5ae9c540c3bba7d106a45fc0a3beccac = L.marker(\n",
       "                [35.8078, 139.99794],\n",
       "                {}\n",
       "            ).addTo(marker_cluster_f5402a4fc6ed0df5afbd40eaf92801dd);\n",
       "        \n",
       "    \n",
       "            marker_5ae9c540c3bba7d106a45fc0a3beccac.bindTooltip(\n",
       "                `&lt;div&gt;\n",
       "                     10歳代\n",
       "                 &lt;/div&gt;`,\n",
       "                {&quot;sticky&quot;: true}\n",
       "            );\n",
       "        \n",
       "    \n",
       "            var marker_c4e75b03eb2033343c041b8ab7ce8ca2 = L.marker(\n",
       "                [35.8078, 139.99794],\n",
       "                {}\n",
       "            ).addTo(marker_cluster_f5402a4fc6ed0df5afbd40eaf92801dd);\n",
       "        \n",
       "    \n",
       "            marker_c4e75b03eb2033343c041b8ab7ce8ca2.bindTooltip(\n",
       "                `&lt;div&gt;\n",
       "                     10歳代\n",
       "                 &lt;/div&gt;`,\n",
       "                {&quot;sticky&quot;: true}\n",
       "            );\n",
       "        \n",
       "    \n",
       "            var marker_38f55b3c43ab5fe186cdb73bc9ef0912 = L.marker(\n",
       "                [35.8078, 139.99794],\n",
       "                {}\n",
       "            ).addTo(marker_cluster_f5402a4fc6ed0df5afbd40eaf92801dd);\n",
       "        \n",
       "    \n",
       "            marker_38f55b3c43ab5fe186cdb73bc9ef0912.bindTooltip(\n",
       "                `&lt;div&gt;\n",
       "                     10歳代\n",
       "                 &lt;/div&gt;`,\n",
       "                {&quot;sticky&quot;: true}\n",
       "            );\n",
       "        \n",
       "    \n",
       "            var marker_a6f30faeaca460b38b8e9332f1a5ec74 = L.marker(\n",
       "                [35.809856, 139.996445],\n",
       "                {}\n",
       "            ).addTo(marker_cluster_f5402a4fc6ed0df5afbd40eaf92801dd);\n",
       "        \n",
       "    \n",
       "            marker_a6f30faeaca460b38b8e9332f1a5ec74.bindTooltip(\n",
       "                `&lt;div&gt;\n",
       "                     30歳代\n",
       "                 &lt;/div&gt;`,\n",
       "                {&quot;sticky&quot;: true}\n",
       "            );\n",
       "        \n",
       "    \n",
       "            var marker_34e1e7ed08614bd3e580136228ac3eb2 = L.marker(\n",
       "                [35.877697, 139.949219],\n",
       "                {}\n",
       "            ).addTo(marker_cluster_f5402a4fc6ed0df5afbd40eaf92801dd);\n",
       "        \n",
       "    \n",
       "            marker_34e1e7ed08614bd3e580136228ac3eb2.bindTooltip(\n",
       "                `&lt;div&gt;\n",
       "                     40歳代\n",
       "                 &lt;/div&gt;`,\n",
       "                {&quot;sticky&quot;: true}\n",
       "            );\n",
       "        \n",
       "&lt;/script&gt;\n",
       "&lt;/html&gt;\" style=\"position:absolute;width:100%;height:100%;left:0;top:0;border:none !important;\" allowfullscreen webkitallowfullscreen mozallowfullscreen></iframe></div></div>"
      ],
      "text/plain": [
       "<folium.folium.Map at 0x11fdad450>"
      ]
     },
     "execution_count": 42,
     "metadata": {},
     "output_type": "execute_result"
    }
   ],
   "source": [
    "# make the map\n",
    "m = folium.Map(location=[center_lat,center_lon], \n",
    "               zoom_start=12)\n",
    "\n",
    "# マーカーがメチャクチャ多い場合はclusterで処理！\n",
    "marker_cluster = plugins.MarkerCluster().add_to(m)\n",
    " \n",
    "# kashiwaのデータフレームをループしてマーカーを作る\n",
    "for index, row in kashiwa.iterrows():\n",
    "    latlon = [row['lat'],row['lon']]\n",
    "    folium.Marker(latlon, \n",
    "                  tooltip=row['被害者の年齢'],\n",
    "                ).add_to(marker_cluster) # mapにではなくmarker_clusterに足す\n",
    "\n",
    "# show the map\n",
    "m"
   ]
  },
  {
   "attachments": {},
   "cell_type": "markdown",
   "metadata": {
    "slideshow": {
     "slide_type": "slide"
    }
   },
   "source": [
    "# EXTRA Time?\n",
    "\n",
    "時間が余った人は違う場所の犯罪マップ作りに挑戦。\n",
    "\n",
    "このサイトから都道府県を選び、データをダウンロード：\n",
    "\n",
    "https://www.npa.go.jp/toukei/seianki/hanzaiopendatalink.html\n",
    "\n",
    "注意！ジオコーティングは時間がかかるので、データを千件以下に絞ってからジオコーティングをするように。"
   ]
  }
 ],
 "metadata": {
  "celltoolbar": "Slideshow",
  "kernelspec": {
   "display_name": "Python 3 (ipykernel)",
   "language": "python",
   "name": "python3"
  },
  "language_info": {
   "codemirror_mode": {
    "name": "ipython",
    "version": 3
   },
   "file_extension": ".py",
   "mimetype": "text/x-python",
   "name": "python",
   "nbconvert_exporter": "python",
   "pygments_lexer": "ipython3",
   "version": "3.11.3"
  }
 },
 "nbformat": 4,
 "nbformat_minor": 2
}
