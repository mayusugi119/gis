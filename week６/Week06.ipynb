{
 "cells": [
  {
   "attachments": {},
   "cell_type": "markdown",
   "metadata": {},
   "source": [
    "# Data Exploration: Spreadsheet からデータを持ってくる\n",
    "\n",
    "![Alt text](https://raw.githubusercontent.com/yohman/23-1-Reitaku-GIS/main/Weeks/Week06/images/csv%20to%20map.png)\n",
    "\n",
    "先週の課題では一つの地図に複数のマーカーを作りましたね。作る過程で、おそらくマーカーを一つ一つコーディングをしたのではないでしょうか。\n",
    "\n",
    "```python\n",
    "# from Chikashi's homework\n",
    "kaede = [35.83304899572845, 139.9550263688704]\n",
    "asunaro = [35.83218389343381, 139.9559046419524]\n",
    "hiiragi = [35.83432746243043, 139.95492044150396]\n",
    "library = [35.83288620720931, 139.9560383893833]\n",
    "parking = [35.83477548217266, 139.9561361979999]\n",
    "bukastu = [35.83480867733186, 139.95489801198133]\n",
    "```\n",
    "\n",
    "でも、もし100個のマーカーを地図に載せるように言われたらどうする？大変だね！コーディングでやると要領が悪いので、データをspreadsheetで作って、Pythonでインポートしましょう。"
   ]
  },
  {
   "attachments": {},
   "cell_type": "markdown",
   "metadata": {},
   "source": [
    "## CSV ファイルのインポート\n",
    "\n",
    "Google Sheetで作ったデータは[こちらでアクセス](https://docs.google.com/spreadsheets/d/1gtQqvep0ULTZ3K1W8fpZoO9ovTg5DfMN3wx1l6Bebcw/edit?usp=sharing)。\n",
    "\n",
    "では、`mydata.csv`　ファイルをインポートしましょう。クラスのサイトからダウンロードするか、上のファイルを csv としてダウンロードする。\n",
    "\n",
    "確認！\n",
    "- `mydata.csv` ファイルがこのノートブックファイルと同じルーツであることを再確認\n"
   ]
  },
  {
   "attachments": {},
   "cell_type": "markdown",
   "metadata": {},
   "source": [
    "### Library import\n",
    "\n",
    "モジュールを三つ使います：\n",
    "- pandas: to import and work with dataframes\n",
    "- folium: to create interactive maps\n",
    "- matplotlib: to create charts"
   ]
  },
  {
   "cell_type": "code",
   "execution_count": 1,
   "metadata": {},
   "outputs": [],
   "source": [
    "# library import\n",
    "# pandas= データを集める、PDというあだ名をつけて使う\n",
    "import pandas as pd\n",
    "import folium\n",
    "import matplotlib.pyplot as plt"
   ]
  },
  {
   "attachments": {},
   "cell_type": "markdown",
   "metadata": {},
   "source": [
    "このようにデータを取り込みます。ちなみに `df` は 【dataframe】の略："
   ]
  },
  {
   "cell_type": "code",
   "execution_count": 28,
   "metadata": {},
   "outputs": [],
   "source": [
    "# import the csv file\n",
    "df = pd.read_csv('mydata.csv')"
   ]
  },
  {
   "cell_type": "code",
   "execution_count": 8,
   "metadata": {},
   "outputs": [
    {
     "data": {
      "text/html": [
       "<div>\n",
       "<style scoped>\n",
       "    .dataframe tbody tr th:only-of-type {\n",
       "        vertical-align: middle;\n",
       "    }\n",
       "\n",
       "    .dataframe tbody tr th {\n",
       "        vertical-align: top;\n",
       "    }\n",
       "\n",
       "    .dataframe thead th {\n",
       "        text-align: right;\n",
       "    }\n",
       "</style>\n",
       "<table border=\"1\" class=\"dataframe\">\n",
       "  <thead>\n",
       "    <tr style=\"text-align: right;\">\n",
       "      <th></th>\n",
       "      <th>name</th>\n",
       "      <th>description</th>\n",
       "      <th>latitude</th>\n",
       "      <th>longitude</th>\n",
       "      <th>color</th>\n",
       "    </tr>\n",
       "  </thead>\n",
       "  <tbody>\n",
       "    <tr>\n",
       "      <th>0</th>\n",
       "      <td>校舎「かえで」</td>\n",
       "      <td>校舎名の「かえで」には「楓の果実が2つの種子が密着した姿で、それぞれから翼が伸びる翼果である...</td>\n",
       "      <td>35.833049</td>\n",
       "      <td>139.955026</td>\n",
       "      <td>green</td>\n",
       "    </tr>\n",
       "    <tr>\n",
       "      <th>1</th>\n",
       "      <td>校舎「あすなろ」</td>\n",
       "      <td>麗澤大学開学50周年記念事業の一環として2011年4月\"森と共生するキャンパス\"をコンセプト...</td>\n",
       "      <td>35.832201</td>\n",
       "      <td>139.955906</td>\n",
       "      <td>green</td>\n",
       "    </tr>\n",
       "    <tr>\n",
       "      <th>2</th>\n",
       "      <td>図書館</td>\n",
       "      <td>AVホール・CALL教室を持ち、授業開講時は8:50から19:00（閉講期間中は9:00から...</td>\n",
       "      <td>35.832862</td>\n",
       "      <td>139.955925</td>\n",
       "      <td>green</td>\n",
       "    </tr>\n",
       "    <tr>\n",
       "      <th>3</th>\n",
       "      <td>学生会館「ひいらぎ」</td>\n",
       "      <td>2022年9月にリニューアルオープン。木目とグリーンを基調としたアットホームな雰囲気で、窓か...</td>\n",
       "      <td>35.834304</td>\n",
       "      <td>139.954985</td>\n",
       "      <td>orange</td>\n",
       "    </tr>\n",
       "    <tr>\n",
       "      <th>4</th>\n",
       "      <td>麗澤大学生涯教育プラザ</td>\n",
       "      <td>2006年（平成18年）2月竣工。大学院、研究センター、情報システム部、麗澤オープンカレッジ...</td>\n",
       "      <td>35.831934</td>\n",
       "      <td>139.956880</td>\n",
       "      <td>green</td>\n",
       "    </tr>\n",
       "  </tbody>\n",
       "</table>\n",
       "</div>"
      ],
      "text/plain": [
       "          name                                        description   latitude   \n",
       "0      校舎「かえで」  校舎名の「かえで」には「楓の果実が2つの種子が密着した姿で、それぞれから翼が伸びる翼果である...  35.833049  \\\n",
       "1     校舎「あすなろ」  麗澤大学開学50周年記念事業の一環として2011年4月\"森と共生するキャンパス\"をコンセプト...  35.832201   \n",
       "2          図書館  AVホール・CALL教室を持ち、授業開講時は8:50から19:00（閉講期間中は9:00から...  35.832862   \n",
       "3   学生会館「ひいらぎ」  2022年9月にリニューアルオープン。木目とグリーンを基調としたアットホームな雰囲気で、窓か...  35.834304   \n",
       "4  麗澤大学生涯教育プラザ  2006年（平成18年）2月竣工。大学院、研究センター、情報システム部、麗澤オープンカレッジ...  35.831934   \n",
       "\n",
       "    longitude   color  \n",
       "0  139.955026   green  \n",
       "1  139.955906   green  \n",
       "2  139.955925   green  \n",
       "3  139.954985  orange  \n",
       "4  139.956880   green  "
      ]
     },
     "execution_count": 8,
     "metadata": {},
     "output_type": "execute_result"
    }
   ],
   "source": [
    "df"
   ]
  },
  {
   "attachments": {},
   "cell_type": "markdown",
   "metadata": {},
   "source": [
    "## Working with dataframes\n",
    "\n",
    "おめでとう！データの取り込みに成功。それでは基本的なデータを explore するコマンドをいくつか紹介。"
   ]
  },
  {
   "cell_type": "code",
   "execution_count": 9,
   "metadata": {},
   "outputs": [
    {
     "data": {
      "text/plain": [
       "(5, 5)"
      ]
     },
     "execution_count": 9,
     "metadata": {},
     "output_type": "execute_result"
    }
   ],
   "source": [
    "# size of the data (rows, columns)\n",
    "df.shape"
   ]
  },
  {
   "cell_type": "code",
   "execution_count": 10,
   "metadata": {},
   "outputs": [
    {
     "name": "stdout",
     "output_type": "stream",
     "text": [
      "<class 'pandas.core.frame.DataFrame'>\n",
      "RangeIndex: 5 entries, 0 to 4\n",
      "Data columns (total 5 columns):\n",
      " #   Column       Non-Null Count  Dtype  \n",
      "---  ------       --------------  -----  \n",
      " 0   name         5 non-null      object \n",
      " 1   description  5 non-null      object \n",
      " 2   latitude     5 non-null      float64\n",
      " 3   longitude    5 non-null      float64\n",
      " 4   color        5 non-null      object \n",
      "dtypes: float64(2), object(3)\n",
      "memory usage: 332.0+ bytes\n"
     ]
    }
   ],
   "source": [
    "# information about the data\n",
    "df.info()"
   ]
  },
  {
   "attachments": {},
   "cell_type": "markdown",
   "metadata": {},
   "source": [
    "↑ここで確認するのは `latitude` and `longitude` が `float` であること。もし `object` であればデータを作り直す必要がある。"
   ]
  },
  {
   "cell_type": "code",
   "execution_count": 12,
   "metadata": {},
   "outputs": [
    {
     "data": {
      "text/plain": [
       "['name', 'description', 'latitude', 'longitude', 'color']"
      ]
     },
     "execution_count": 12,
     "metadata": {},
     "output_type": "execute_result"
    }
   ],
   "source": [
    "# list of columns\n",
    "df.columns.to_list()"
   ]
  },
  {
   "cell_type": "code",
   "execution_count": 11,
   "metadata": {},
   "outputs": [
    {
     "data": {
      "text/html": [
       "<div>\n",
       "<style scoped>\n",
       "    .dataframe tbody tr th:only-of-type {\n",
       "        vertical-align: middle;\n",
       "    }\n",
       "\n",
       "    .dataframe tbody tr th {\n",
       "        vertical-align: top;\n",
       "    }\n",
       "\n",
       "    .dataframe thead th {\n",
       "        text-align: right;\n",
       "    }\n",
       "</style>\n",
       "<table border=\"1\" class=\"dataframe\">\n",
       "  <thead>\n",
       "    <tr style=\"text-align: right;\">\n",
       "      <th></th>\n",
       "      <th>name</th>\n",
       "      <th>latitude</th>\n",
       "      <th>longitude</th>\n",
       "    </tr>\n",
       "  </thead>\n",
       "  <tbody>\n",
       "    <tr>\n",
       "      <th>0</th>\n",
       "      <td>校舎「かえで」</td>\n",
       "      <td>35.833049</td>\n",
       "      <td>139.955026</td>\n",
       "    </tr>\n",
       "    <tr>\n",
       "      <th>1</th>\n",
       "      <td>校舎「あすなろ」</td>\n",
       "      <td>35.832201</td>\n",
       "      <td>139.955906</td>\n",
       "    </tr>\n",
       "    <tr>\n",
       "      <th>2</th>\n",
       "      <td>図書館</td>\n",
       "      <td>35.832862</td>\n",
       "      <td>139.955925</td>\n",
       "    </tr>\n",
       "    <tr>\n",
       "      <th>3</th>\n",
       "      <td>学生会館「ひいらぎ」</td>\n",
       "      <td>35.834304</td>\n",
       "      <td>139.954985</td>\n",
       "    </tr>\n",
       "    <tr>\n",
       "      <th>4</th>\n",
       "      <td>麗澤大学生涯教育プラザ</td>\n",
       "      <td>35.831934</td>\n",
       "      <td>139.956880</td>\n",
       "    </tr>\n",
       "  </tbody>\n",
       "</table>\n",
       "</div>"
      ],
      "text/plain": [
       "          name   latitude   longitude\n",
       "0      校舎「かえで」  35.833049  139.955026\n",
       "1     校舎「あすなろ」  35.832201  139.955906\n",
       "2          図書館  35.832862  139.955925\n",
       "3   学生会館「ひいらぎ」  35.834304  139.954985\n",
       "4  麗澤大学生涯教育プラザ  35.831934  139.956880"
      ]
     },
     "execution_count": 11,
     "metadata": {},
     "output_type": "execute_result"
    }
   ],
   "source": [
    "# show only specific columns\n",
    "df[['name','latitude','longitude']]"
   ]
  },
  {
   "cell_type": "code",
   "execution_count": 13,
   "metadata": {},
   "outputs": [
    {
     "data": {
      "text/plain": [
       "0    35.833049\n",
       "1    35.832201\n",
       "2    35.832862\n",
       "3    35.834304\n",
       "4    35.831934\n",
       "Name: latitude, dtype: float64"
      ]
     },
     "execution_count": 13,
     "metadata": {},
     "output_type": "execute_result"
    }
   ],
   "source": [
    "# get values for a single column\n",
    "df['latitude']"
   ]
  },
  {
   "cell_type": "code",
   "execution_count": 14,
   "metadata": {},
   "outputs": [
    {
     "data": {
      "text/plain": [
       "[35.833049, 35.83220147, 35.83286248, 35.83430366, 35.83193431]"
      ]
     },
     "execution_count": 14,
     "metadata": {},
     "output_type": "execute_result"
    }
   ],
   "source": [
    "# put those values in a list\n",
    "df['latitude'].to_list()"
   ]
  },
  {
   "attachments": {},
   "cell_type": "markdown",
   "metadata": {},
   "source": [
    "### Charts\n",
    "\n",
    "`matplotlib` を使ってグラフを作成。"
   ]
  },
  {
   "cell_type": "code",
   "execution_count": 15,
   "metadata": {},
   "outputs": [
    {
     "data": {
      "text/plain": [
       "<Axes: >"
      ]
     },
     "execution_count": 15,
     "metadata": {},
     "output_type": "execute_result"
    },
    {
     "data": {
      "image/png": "[encoded data removed]",
      "text/plain": [
       "<Figure size 640x480 with 1 Axes>"
      ]
     },
     "metadata": {},
     "output_type": "display_data"
    }
   ],
   "source": [
    "# line chart\n",
    "df['latitude'].plot()"
   ]
  },
  {
   "cell_type": "code",
   "execution_count": 16,
   "metadata": {},
   "outputs": [
    {
     "data": {
      "text/plain": [
       "<Axes: >"
      ]
     },
     "execution_count": 16,
     "metadata": {},
     "output_type": "execute_result"
    },
    {
     "data": {
      "image/png": "[encoded data removed]",
      "text/plain": [
       "<Figure size 640x480 with 1 Axes>"
      ]
     },
     "metadata": {},
     "output_type": "display_data"
    }
   ],
   "source": [
    "# boxplot 箱ヒゲ図\n",
    "df['latitude'].plot.box(color='blue')"
   ]
  },
  {
   "cell_type": "code",
   "execution_count": 27,
   "metadata": {},
   "outputs": [
    {
     "data": {
      "text/plain": [
       "<Axes: >"
      ]
     },
     "execution_count": 27,
     "metadata": {},
     "output_type": "execute_result"
    },
    {
     "data": {
      "image/png": "[encoded data removed]",
      "text/plain": [
       "<Figure size 640x480 with 1 Axes>"
      ]
     },
     "metadata": {},
     "output_type": "display_data"
    }
   ],
   "source": [
    "# bar graph\n",
    "df['latitude'].plot.bar(color='lightblue')"
   ]
  },
  {
   "cell_type": "code",
   "execution_count": 19,
   "metadata": {},
   "outputs": [
    {
     "data": {
      "text/plain": [
       "<Axes: xlabel='longitude', ylabel='latitude'>"
      ]
     },
     "execution_count": 19,
     "metadata": {},
     "output_type": "execute_result"
    },
    {
     "data": {
      "image/png": "[encoded data removed]",
      "text/plain": [
       "<Figure size 640x480 with 1 Axes>"
      ]
     },
     "metadata": {},
     "output_type": "display_data"
    }
   ],
   "source": [
    "# scatterplot 散布図\n",
    "# ここの 'c' は df の変数の 'color' を指定\n",
    "# size(s) を変えてみよう\n",
    "df.plot.scatter(x='longitude',y='latitude',c='color',s=50)"
   ]
  },
  {
   "attachments": {},
   "cell_type": "markdown",
   "metadata": {},
   "source": [
    "### Statistics\n",
    "\n",
    "Pythonは簡単な統計もできます。"
   ]
  },
  {
   "cell_type": "code",
   "execution_count": 25,
   "metadata": {},
   "outputs": [
    {
     "data": {
      "text/plain": [
       "count     5.000000\n",
       "mean     35.832870\n",
       "std       0.000923\n",
       "min      35.831934\n",
       "25%      35.832201\n",
       "50%      35.832862\n",
       "75%      35.833049\n",
       "max      35.834304\n",
       "Name: latitude, dtype: float64"
      ]
     },
     "execution_count": 25,
     "metadata": {},
     "output_type": "execute_result"
    }
   ],
   "source": [
    "# summary stats\n",
    "df['latitude'].describe()\n",
    "\n",
    "#mean平均値、std:標準偏差\n"
   ]
  },
  {
   "cell_type": "code",
   "execution_count": 20,
   "metadata": {},
   "outputs": [
    {
     "data": {
      "text/plain": [
       "count      5.000000\n",
       "mean     139.955745\n",
       "std        0.000781\n",
       "min      139.954985\n",
       "25%      139.955026\n",
       "50%      139.955906\n",
       "75%      139.955925\n",
       "max      139.956880\n",
       "Name: longitude, dtype: float64"
      ]
     },
     "execution_count": 20,
     "metadata": {},
     "output_type": "execute_result"
    }
   ],
   "source": [
    "# summary stats\n",
    "df['longitude'].describe()"
   ]
  },
  {
   "cell_type": "code",
   "execution_count": 21,
   "metadata": {},
   "outputs": [
    {
     "data": {
      "text/plain": [
       "35.832870184"
      ]
     },
     "execution_count": 21,
     "metadata": {},
     "output_type": "execute_result"
    }
   ],
   "source": [
    "# mean 平均値\n",
    "df['latitude'].mean()"
   ]
  },
  {
   "cell_type": "code",
   "execution_count": 22,
   "metadata": {},
   "outputs": [
    {
     "data": {
      "text/plain": [
       "35.83286248"
      ]
     },
     "execution_count": 22,
     "metadata": {},
     "output_type": "execute_result"
    }
   ],
   "source": [
    "# median 中央値\n",
    "df['latitude'].median()"
   ]
  },
  {
   "attachments": {},
   "cell_type": "markdown",
   "metadata": {},
   "source": [
    "では統計を使って、`latitude` and `longitude` の平均値を変数に入れましょう。\n",
    "\n",
    "さて、この平均値は何を意味するのでしょうか？"
   ]
  },
  {
   "cell_type": "code",
   "execution_count": 29,
   "metadata": {},
   "outputs": [
    {
     "name": "stdout",
     "output_type": "stream",
     "text": [
      "35.832870184 139.95574458000002\n"
     ]
    }
   ],
   "source": [
    "# get center lat/lon（新しい変数を入れる）\n",
    "\n",
    "center_lat = df['latitude'].mean()\n",
    "center_lon = df['longitude'].mean()\n",
    "# Point：中心を指す、とても大事\n",
    "print(center_lat,center_lon)"
   ]
  },
  {
   "attachments": {},
   "cell_type": "markdown",
   "metadata": {},
   "source": [
    "## Let's loop!\n",
    "\n",
    "プログラミングの基礎の一つである　`for loop`　があります。「ループ」の言葉通り、何かを【繰り返す】という意味である。\n"
   ]
  },
  {
   "cell_type": "code",
   "execution_count": 33,
   "metadata": {},
   "outputs": [
    {
     "name": "stdout",
     "output_type": "stream",
     "text": [
      "Akari\n",
      "Chikashi\n",
      "Hanxue\n",
      "Kasumi\n"
     ]
    }
   ],
   "source": [
    "# my students\n",
    "students = ['Akari','Chikashi','Hanxue','Kasumi']\n",
    "\n",
    "# print their names\n",
    "# :(ころん)＆   （タブ）が大事\n",
    "for x in students:\n",
    "    print(x)"
   ]
  },
  {
   "attachments": {},
   "cell_type": "markdown",
   "metadata": {},
   "source": [
    "さて、この「ループ」の概念を使ってデータ `df` の１行ずつアウトプットするには `iterrows()` メソッドを使う。例えば、データの `name` を全部アウトプットするには："
   ]
  },
  {
   "cell_type": "code",
   "execution_count": null,
   "metadata": {},
   "outputs": [],
   "source": [
    "# loop through your data\n",
    "for index, row in df.iterrows():\n",
    "    print(row['name'])"
   ]
  },
  {
   "attachments": {},
   "cell_type": "markdown",
   "metadata": {},
   "source": [
    "このように、`row` の変数は【各行】を意味するので、`for loop` に入っているときは変数名と共に各行の値をアウトプットすることができる。複数の変数をアウトプットも可能："
   ]
  },
  {
   "cell_type": "code",
   "execution_count": 37,
   "metadata": {},
   "outputs": [
    {
     "name": "stdout",
     "output_type": "stream",
     "text": [
      "校舎「かえで」 35.833049 139.9550264\n",
      "校舎「あすなろ」 35.83220147 139.9559064\n",
      "図書館 35.83286248 139.9559251\n",
      "学生会館「ひいらぎ」 35.83430366 139.9549849\n",
      "麗澤大学生涯教育プラザ 35.83193431 139.9568801\n"
     ]
    }
   ],
   "source": [
    "# loop and output multiple column values\n",
    "#覚えるしかない、row(行)\n",
    "for index, row in df.iterrows():\n",
    "    print(row['name'],row['latitude'],row['longitude'])"
   ]
  },
  {
   "attachments": {},
   "cell_type": "markdown",
   "metadata": {},
   "source": [
    "### Use the loop in a map\n",
    "\n",
    "それでは、`for loop` を使って、`df` のポイントを一気にマッピングしよう。"
   ]
  },
  {
   "cell_type": "code",
   "execution_count": 38,
   "metadata": {},
   "outputs": [
    {
     "data": {
      "text/html": [
       "<div style=\"width:100%;\"><div style=\"position:relative;width:100%;height:0;padding-bottom:60%;\"><span style=\"color:#565656\">Make this Notebook Trusted to load map: File -> Trust Notebook</span><iframe srcdoc=\"&lt;!DOCTYPE html&gt;\n",
       "&lt;html&gt;\n",
       "&lt;head&gt;\n",
       "    \n",
       "    &lt;meta http-equiv=&quot;content-type&quot; content=&quot;text/html; charset=UTF-8&quot; /&gt;\n",
       "    \n",
       "        &lt;script&gt;\n",
       "            L_NO_TOUCH = false;\n",
       "            L_DISABLE_3D = false;\n",
       "        &lt;/script&gt;\n",
       "    \n",
       "    &lt;style&gt;html, body {width: 100%;height: 100%;margin: 0;padding: 0;}&lt;/style&gt;\n",
       "    &lt;style&gt;#map {position:absolute;top:0;bottom:0;right:0;left:0;}&lt;/style&gt;\n",
       "    &lt;script src=&quot;https://cdn.jsdelivr.net/npm/leaflet@1.9.3/dist/leaflet.js&quot;&gt;&lt;/script&gt;\n",
       "    &lt;script src=&quot;https://code.jquery.com/jquery-1.12.4.min.js&quot;&gt;&lt;/script&gt;\n",
       "    &lt;script src=&quot;https://cdn.jsdelivr.net/npm/bootstrap@5.2.2/dist/js/bootstrap.bundle.min.js&quot;&gt;&lt;/script&gt;\n",
       "    &lt;script src=&quot;https://cdnjs.cloudflare.com/ajax/libs/Leaflet.awesome-markers/2.0.2/leaflet.awesome-markers.js&quot;&gt;&lt;/script&gt;\n",
       "    &lt;link rel=&quot;stylesheet&quot; href=&quot;https://cdn.jsdelivr.net/npm/leaflet@1.9.3/dist/leaflet.css&quot;/&gt;\n",
       "    &lt;link rel=&quot;stylesheet&quot; href=&quot;https://cdn.jsdelivr.net/npm/bootstrap@5.2.2/dist/css/bootstrap.min.css&quot;/&gt;\n",
       "    &lt;link rel=&quot;stylesheet&quot; href=&quot;https://netdna.bootstrapcdn.com/bootstrap/3.0.0/css/bootstrap.min.css&quot;/&gt;\n",
       "    &lt;link rel=&quot;stylesheet&quot; href=&quot;https://cdn.jsdelivr.net/npm/@fortawesome/fontawesome-free@6.2.0/css/all.min.css&quot;/&gt;\n",
       "    &lt;link rel=&quot;stylesheet&quot; href=&quot;https://cdnjs.cloudflare.com/ajax/libs/Leaflet.awesome-markers/2.0.2/leaflet.awesome-markers.css&quot;/&gt;\n",
       "    &lt;link rel=&quot;stylesheet&quot; href=&quot;https://cdn.jsdelivr.net/gh/python-visualization/folium/folium/templates/leaflet.awesome.rotate.min.css&quot;/&gt;\n",
       "    \n",
       "            &lt;meta name=&quot;viewport&quot; content=&quot;width=device-width,\n",
       "                initial-scale=1.0, maximum-scale=1.0, user-scalable=no&quot; /&gt;\n",
       "            &lt;style&gt;\n",
       "                #map_8359d4352c148c5ce46efaf909b6f06f {\n",
       "                    position: relative;\n",
       "                    width: 100.0%;\n",
       "                    height: 100.0%;\n",
       "                    left: 0.0%;\n",
       "                    top: 0.0%;\n",
       "                }\n",
       "                .leaflet-container { font-size: 1rem; }\n",
       "            &lt;/style&gt;\n",
       "        \n",
       "&lt;/head&gt;\n",
       "&lt;body&gt;\n",
       "    \n",
       "    \n",
       "            &lt;div class=&quot;folium-map&quot; id=&quot;map_8359d4352c148c5ce46efaf909b6f06f&quot; &gt;&lt;/div&gt;\n",
       "        \n",
       "&lt;/body&gt;\n",
       "&lt;script&gt;\n",
       "    \n",
       "    \n",
       "            var map_8359d4352c148c5ce46efaf909b6f06f = L.map(\n",
       "                &quot;map_8359d4352c148c5ce46efaf909b6f06f&quot;,\n",
       "                {\n",
       "                    center: [35.832870184, 139.95574458000002],\n",
       "                    crs: L.CRS.EPSG3857,\n",
       "                    zoom: 17,\n",
       "                    zoomControl: true,\n",
       "                    preferCanvas: false,\n",
       "                }\n",
       "            );\n",
       "\n",
       "            \n",
       "\n",
       "        \n",
       "    \n",
       "            var tile_layer_bb040774721735369aea0a230d3e9d14 = L.tileLayer(\n",
       "                &quot;https://{s}.tile.openstreetmap.org/{z}/{x}/{y}.png&quot;,\n",
       "                {&quot;attribution&quot;: &quot;Data by \\u0026copy; \\u003ca target=\\&quot;_blank\\&quot; href=\\&quot;http://openstreetmap.org\\&quot;\\u003eOpenStreetMap\\u003c/a\\u003e, under \\u003ca target=\\&quot;_blank\\&quot; href=\\&quot;http://www.openstreetmap.org/copyright\\&quot;\\u003eODbL\\u003c/a\\u003e.&quot;, &quot;detectRetina&quot;: false, &quot;maxNativeZoom&quot;: 18, &quot;maxZoom&quot;: 18, &quot;minZoom&quot;: 0, &quot;noWrap&quot;: false, &quot;opacity&quot;: 1, &quot;subdomains&quot;: &quot;abc&quot;, &quot;tms&quot;: false}\n",
       "            ).addTo(map_8359d4352c148c5ce46efaf909b6f06f);\n",
       "        \n",
       "    \n",
       "            var marker_1d8bab56c7a9a723a34c1648d19d87a1 = L.marker(\n",
       "                [35.833049, 139.9550264],\n",
       "                {}\n",
       "            ).addTo(map_8359d4352c148c5ce46efaf909b6f06f);\n",
       "        \n",
       "    \n",
       "            var icon_b5c92188f9599adc87f17540abc7a5e9 = L.AwesomeMarkers.icon(\n",
       "                {&quot;extraClasses&quot;: &quot;fa-rotate-0&quot;, &quot;icon&quot;: &quot;info-sign&quot;, &quot;iconColor&quot;: &quot;white&quot;, &quot;markerColor&quot;: &quot;green&quot;, &quot;prefix&quot;: &quot;glyphicon&quot;}\n",
       "            );\n",
       "            marker_1d8bab56c7a9a723a34c1648d19d87a1.setIcon(icon_b5c92188f9599adc87f17540abc7a5e9);\n",
       "        \n",
       "    \n",
       "        var popup_6396fc8a1fdcf58aea92ff5a65af1865 = L.popup({&quot;maxWidth&quot;: &quot;100%&quot;});\n",
       "\n",
       "        \n",
       "            \n",
       "                var html_c5e3b1290575f710b542fbf13df43238 = $(`&lt;div id=&quot;html_c5e3b1290575f710b542fbf13df43238&quot; style=&quot;width: 100.0%; height: 100.0%;&quot;&gt;&lt;div style=&quot;width:150px&quot;&gt;校舎名の「かえで」には「楓の果実が2つの種子が密着した姿で、それぞれから翼が伸びる翼果であることから、仲間同士で切磋琢磨し合い、成長を遂げていくことができる人材の育成を行う」という願いが込められています。&lt;/div&gt;&lt;/div&gt;`)[0];\n",
       "                popup_6396fc8a1fdcf58aea92ff5a65af1865.setContent(html_c5e3b1290575f710b542fbf13df43238);\n",
       "            \n",
       "        \n",
       "\n",
       "        marker_1d8bab56c7a9a723a34c1648d19d87a1.bindPopup(popup_6396fc8a1fdcf58aea92ff5a65af1865)\n",
       "        ;\n",
       "\n",
       "        \n",
       "    \n",
       "    \n",
       "            marker_1d8bab56c7a9a723a34c1648d19d87a1.bindTooltip(\n",
       "                `&lt;div&gt;\n",
       "                     校舎「かえで」\n",
       "                 &lt;/div&gt;`,\n",
       "                {&quot;sticky&quot;: true}\n",
       "            );\n",
       "        \n",
       "    \n",
       "            var marker_6556931ffaf7e581fa9cf37e46827884 = L.marker(\n",
       "                [35.83220147, 139.9559064],\n",
       "                {}\n",
       "            ).addTo(map_8359d4352c148c5ce46efaf909b6f06f);\n",
       "        \n",
       "    \n",
       "            var icon_f836c8186372bdc88c757e1748b4f756 = L.AwesomeMarkers.icon(\n",
       "                {&quot;extraClasses&quot;: &quot;fa-rotate-0&quot;, &quot;icon&quot;: &quot;info-sign&quot;, &quot;iconColor&quot;: &quot;white&quot;, &quot;markerColor&quot;: &quot;green&quot;, &quot;prefix&quot;: &quot;glyphicon&quot;}\n",
       "            );\n",
       "            marker_6556931ffaf7e581fa9cf37e46827884.setIcon(icon_f836c8186372bdc88c757e1748b4f756);\n",
       "        \n",
       "    \n",
       "        var popup_a8025ec73b0b8de0d83a05562cf2b522 = L.popup({&quot;maxWidth&quot;: &quot;100%&quot;});\n",
       "\n",
       "        \n",
       "            \n",
       "                var html_3e0b45f96eaad5e81c04d19681f52394 = $(`&lt;div id=&quot;html_3e0b45f96eaad5e81c04d19681f52394&quot; style=&quot;width: 100.0%; height: 100.0%;&quot;&gt;&lt;div style=&quot;width:150px&quot;&gt;麗澤大学開学50周年記念事業の一環として2011年4月&quot;森と共生するキャンパス&quot;をコンセプトに建設された校舎「あすなろ」。このコンセプトが高く評価され、2012年度グッドデザイン賞を受賞しました。&lt;/div&gt;&lt;/div&gt;`)[0];\n",
       "                popup_a8025ec73b0b8de0d83a05562cf2b522.setContent(html_3e0b45f96eaad5e81c04d19681f52394);\n",
       "            \n",
       "        \n",
       "\n",
       "        marker_6556931ffaf7e581fa9cf37e46827884.bindPopup(popup_a8025ec73b0b8de0d83a05562cf2b522)\n",
       "        ;\n",
       "\n",
       "        \n",
       "    \n",
       "    \n",
       "            marker_6556931ffaf7e581fa9cf37e46827884.bindTooltip(\n",
       "                `&lt;div&gt;\n",
       "                     校舎「あすなろ」\n",
       "                 &lt;/div&gt;`,\n",
       "                {&quot;sticky&quot;: true}\n",
       "            );\n",
       "        \n",
       "    \n",
       "            var marker_95dfbfa5d2f30190cff84380c78073f1 = L.marker(\n",
       "                [35.83286248, 139.9559251],\n",
       "                {}\n",
       "            ).addTo(map_8359d4352c148c5ce46efaf909b6f06f);\n",
       "        \n",
       "    \n",
       "            var icon_e355eb7cf0d441a1f48ee74ed0855a25 = L.AwesomeMarkers.icon(\n",
       "                {&quot;extraClasses&quot;: &quot;fa-rotate-0&quot;, &quot;icon&quot;: &quot;info-sign&quot;, &quot;iconColor&quot;: &quot;white&quot;, &quot;markerColor&quot;: &quot;green&quot;, &quot;prefix&quot;: &quot;glyphicon&quot;}\n",
       "            );\n",
       "            marker_95dfbfa5d2f30190cff84380c78073f1.setIcon(icon_e355eb7cf0d441a1f48ee74ed0855a25);\n",
       "        \n",
       "    \n",
       "        var popup_40ea3822fb3367b8f918bfbb6740397c = L.popup({&quot;maxWidth&quot;: &quot;100%&quot;});\n",
       "\n",
       "        \n",
       "            \n",
       "                var html_e0f92d7d8fcf507016badaf9e44de768 = $(`&lt;div id=&quot;html_e0f92d7d8fcf507016badaf9e44de768&quot; style=&quot;width: 100.0%; height: 100.0%;&quot;&gt;&lt;div style=&quot;width:150px&quot;&gt;AVホール・CALL教室を持ち、授業開講時は8:50から19:00（閉講期間中は9:00から16:45）まで利用可能。開架式を採用しており、貴重書を除くほとんどの資料を、自由に閲覧することができます。&lt;br&gt;&lt;br&gt; 開館時間は8：50～19：00（月～金）&lt;br&gt; ※授業閉講時は9：00～16：45まで開館（月～金）&lt;/div&gt;&lt;/div&gt;`)[0];\n",
       "                popup_40ea3822fb3367b8f918bfbb6740397c.setContent(html_e0f92d7d8fcf507016badaf9e44de768);\n",
       "            \n",
       "        \n",
       "\n",
       "        marker_95dfbfa5d2f30190cff84380c78073f1.bindPopup(popup_40ea3822fb3367b8f918bfbb6740397c)\n",
       "        ;\n",
       "\n",
       "        \n",
       "    \n",
       "    \n",
       "            marker_95dfbfa5d2f30190cff84380c78073f1.bindTooltip(\n",
       "                `&lt;div&gt;\n",
       "                     図書館\n",
       "                 &lt;/div&gt;`,\n",
       "                {&quot;sticky&quot;: true}\n",
       "            );\n",
       "        \n",
       "    \n",
       "            var marker_9a8256e6a606b3695ced37004e5f0753 = L.marker(\n",
       "                [35.83430366, 139.9549849],\n",
       "                {}\n",
       "            ).addTo(map_8359d4352c148c5ce46efaf909b6f06f);\n",
       "        \n",
       "    \n",
       "            var icon_1a5ed23d0bc561796492e58d69ab2949 = L.AwesomeMarkers.icon(\n",
       "                {&quot;extraClasses&quot;: &quot;fa-rotate-0&quot;, &quot;icon&quot;: &quot;info-sign&quot;, &quot;iconColor&quot;: &quot;white&quot;, &quot;markerColor&quot;: &quot;orange&quot;, &quot;prefix&quot;: &quot;glyphicon&quot;}\n",
       "            );\n",
       "            marker_9a8256e6a606b3695ced37004e5f0753.setIcon(icon_1a5ed23d0bc561796492e58d69ab2949);\n",
       "        \n",
       "    \n",
       "        var popup_99d433671c8c5a532049e1db542b1d56 = L.popup({&quot;maxWidth&quot;: &quot;100%&quot;});\n",
       "\n",
       "        \n",
       "            \n",
       "                var html_c5c0d945711e712a33a334c6f6c44425 = $(`&lt;div id=&quot;html_c5c0d945711e712a33a334c6f6c44425&quot; style=&quot;width: 100.0%; height: 100.0%;&quot;&gt;&lt;div style=&quot;width:150px&quot;&gt;2022年9月にリニューアルオープン。木目とグリーンを基調としたアットホームな雰囲気で、窓から見える「緑」の景色とも調和した作りとなっています。「1人席」や「ソファ席」、「ベンチ席」、「ミーティングルーム」等の様々な空間で過ごせるような工夫がされています。 2階にはカフェコーナーを設置し、焼き立てパン、淹れ立てコーヒー、サーティーワンアイスが購入できます。&lt;/div&gt;&lt;/div&gt;`)[0];\n",
       "                popup_99d433671c8c5a532049e1db542b1d56.setContent(html_c5c0d945711e712a33a334c6f6c44425);\n",
       "            \n",
       "        \n",
       "\n",
       "        marker_9a8256e6a606b3695ced37004e5f0753.bindPopup(popup_99d433671c8c5a532049e1db542b1d56)\n",
       "        ;\n",
       "\n",
       "        \n",
       "    \n",
       "    \n",
       "            marker_9a8256e6a606b3695ced37004e5f0753.bindTooltip(\n",
       "                `&lt;div&gt;\n",
       "                     学生会館「ひいらぎ」\n",
       "                 &lt;/div&gt;`,\n",
       "                {&quot;sticky&quot;: true}\n",
       "            );\n",
       "        \n",
       "    \n",
       "            var marker_150c0726d5e5f2af9e1df3de609402f0 = L.marker(\n",
       "                [35.83193431, 139.9568801],\n",
       "                {}\n",
       "            ).addTo(map_8359d4352c148c5ce46efaf909b6f06f);\n",
       "        \n",
       "    \n",
       "            var icon_b2d9477378acedfc091259d77992247c = L.AwesomeMarkers.icon(\n",
       "                {&quot;extraClasses&quot;: &quot;fa-rotate-0&quot;, &quot;icon&quot;: &quot;info-sign&quot;, &quot;iconColor&quot;: &quot;white&quot;, &quot;markerColor&quot;: &quot;green&quot;, &quot;prefix&quot;: &quot;glyphicon&quot;}\n",
       "            );\n",
       "            marker_150c0726d5e5f2af9e1df3de609402f0.setIcon(icon_b2d9477378acedfc091259d77992247c);\n",
       "        \n",
       "    \n",
       "        var popup_d21ba3411a199dcce350ff77e2a78534 = L.popup({&quot;maxWidth&quot;: &quot;100%&quot;});\n",
       "\n",
       "        \n",
       "            \n",
       "                var html_e556ec12fc22b2169e78a5c8753dbb6b = $(`&lt;div id=&quot;html_e556ec12fc22b2169e78a5c8753dbb6b&quot; style=&quot;width: 100.0%; height: 100.0%;&quot;&gt;&lt;div style=&quot;width:150px&quot;&gt;2006年（平成18年）2月竣工。大学院、研究センター、情報システム部、麗澤オープンカレッジが入る複合施設。教育活動、研究活動、社会貢献活動を積極的に推進し、これからの生涯学習への需要に的確に応えていくことを目的とした建物です。&lt;/div&gt;&lt;/div&gt;`)[0];\n",
       "                popup_d21ba3411a199dcce350ff77e2a78534.setContent(html_e556ec12fc22b2169e78a5c8753dbb6b);\n",
       "            \n",
       "        \n",
       "\n",
       "        marker_150c0726d5e5f2af9e1df3de609402f0.bindPopup(popup_d21ba3411a199dcce350ff77e2a78534)\n",
       "        ;\n",
       "\n",
       "        \n",
       "    \n",
       "    \n",
       "            marker_150c0726d5e5f2af9e1df3de609402f0.bindTooltip(\n",
       "                `&lt;div&gt;\n",
       "                     麗澤大学生涯教育プラザ\n",
       "                 &lt;/div&gt;`,\n",
       "                {&quot;sticky&quot;: true}\n",
       "            );\n",
       "        \n",
       "&lt;/script&gt;\n",
       "&lt;/html&gt;\" style=\"position:absolute;width:100%;height:100%;left:0;top:0;border:none !important;\" allowfullscreen webkitallowfullscreen mozallowfullscreen></iframe></div></div>"
      ],
      "text/plain": [
       "<folium.folium.Map at 0x11af644d0>"
      ]
     },
     "execution_count": 38,
     "metadata": {},
     "output_type": "execute_result"
    }
   ],
   "source": [
    "# make the map\n",
    "m = folium.Map(location=[center_lat,center_lon], zoom_start=17)\n",
    "\n",
    "# df をループしてマーカーを作る\n",
    "for index, row in df.iterrows():\n",
    "    latlon = [row['latitude'],row['longitude']]\n",
    "    folium.Marker(latlon, \n",
    "                  popup='<div style=\"width:150px\">'+row['description']+'</div>', \n",
    "                  tooltip=row['name'],\n",
    "                  icon=folium.Icon(color=row['color']\n",
    "                )).add_to(m)\n",
    "\n",
    "# show the map\n",
    "m"
   ]
  },
  {
   "attachments": {},
   "cell_type": "markdown",
   "metadata": {},
   "source": [
    "`popup` の値に注目！そうなんです。日本語のテキストだと、popupが縦に表示されるため、これを回避するにはテキストの周りにHTMLで強引に `width` を設定します。\n",
    "\n",
    "<img src=\"https://raw.githubusercontent.com/yohman/23-1-Reitaku-GIS/main/Weeks/Week06/images/tate%20to%20yoko.png\" width=\"400\">"
   ]
  },
  {
   "attachments": {},
   "cell_type": "markdown",
   "metadata": {},
   "source": [
    "### Basemap 色々\n",
    "\n",
    "デフォルトで使うベースマップは Open Street Map から。でも他にもオプションがいっぱいある。`folium` でマップを作るときに `tiles` と `attr` を指定することによってベースマップの変更が可能になる。\n",
    "\n",
    "日本では国土交通省の国土地理院が様々なベースマップを提供している。以下のURLを `tiles` 変数に指定する。`attr` は `attribute` の略なので、必ず出所を指定する。この場合は `attr=\"国土地理院\"`\n",
    "\n",
    "2007年以降\n",
    "- https://cyberjapandata.gsi.go.jp/xyz/seamlessphoto/{z}/{x}/{y}.jpg\n",
    "\n",
    "1987年～1990年\n",
    "- https://cyberjapandata.gsi.go.jp/xyz/gazo4/{z}/{x}/{y}.jpg\n",
    "\n",
    "1984年～1986年\n",
    "- https://cyberjapandata.gsi.go.jp/xyz/gazo3/{z}/{x}/{y}.jpg\n",
    "\n",
    "1979年～1983年\n",
    "- https://cyberjapandata.gsi.go.jp/xyz/gazo2/{z}/{x}/{y}.jpg\n",
    "\n",
    "1974年～1978年\n",
    "- https://cyberjapandata.gsi.go.jp/xyz/gazo1/{z}/{x}/{y}.jpg\n",
    "\n",
    "1961年～1969年\n",
    "- https://cyberjapandata.gsi.go.jp/xyz/ort_old10/{z}/{x}/{y}.png\n"
   ]
  },
  {
   "cell_type": "code",
   "execution_count": 39,
   "metadata": {},
   "outputs": [
    {
     "data": {
      "text/html": [
       "<div style=\"width:100%;\"><div style=\"position:relative;width:100%;height:0;padding-bottom:60%;\"><span style=\"color:#565656\">Make this Notebook Trusted to load map: File -> Trust Notebook</span><iframe srcdoc=\"&lt;!DOCTYPE html&gt;\n",
       "&lt;html&gt;\n",
       "&lt;head&gt;\n",
       "    \n",
       "    &lt;meta http-equiv=&quot;content-type&quot; content=&quot;text/html; charset=UTF-8&quot; /&gt;\n",
       "    \n",
       "        &lt;script&gt;\n",
       "            L_NO_TOUCH = false;\n",
       "            L_DISABLE_3D = false;\n",
       "        &lt;/script&gt;\n",
       "    \n",
       "    &lt;style&gt;html, body {width: 100%;height: 100%;margin: 0;padding: 0;}&lt;/style&gt;\n",
       "    &lt;style&gt;#map {position:absolute;top:0;bottom:0;right:0;left:0;}&lt;/style&gt;\n",
       "    &lt;script src=&quot;https://cdn.jsdelivr.net/npm/leaflet@1.9.3/dist/leaflet.js&quot;&gt;&lt;/script&gt;\n",
       "    &lt;script src=&quot;https://code.jquery.com/jquery-1.12.4.min.js&quot;&gt;&lt;/script&gt;\n",
       "    &lt;script src=&quot;https://cdn.jsdelivr.net/npm/bootstrap@5.2.2/dist/js/bootstrap.bundle.min.js&quot;&gt;&lt;/script&gt;\n",
       "    &lt;script src=&quot;https://cdnjs.cloudflare.com/ajax/libs/Leaflet.awesome-markers/2.0.2/leaflet.awesome-markers.js&quot;&gt;&lt;/script&gt;\n",
       "    &lt;link rel=&quot;stylesheet&quot; href=&quot;https://cdn.jsdelivr.net/npm/leaflet@1.9.3/dist/leaflet.css&quot;/&gt;\n",
       "    &lt;link rel=&quot;stylesheet&quot; href=&quot;https://cdn.jsdelivr.net/npm/bootstrap@5.2.2/dist/css/bootstrap.min.css&quot;/&gt;\n",
       "    &lt;link rel=&quot;stylesheet&quot; href=&quot;https://netdna.bootstrapcdn.com/bootstrap/3.0.0/css/bootstrap.min.css&quot;/&gt;\n",
       "    &lt;link rel=&quot;stylesheet&quot; href=&quot;https://cdn.jsdelivr.net/npm/@fortawesome/fontawesome-free@6.2.0/css/all.min.css&quot;/&gt;\n",
       "    &lt;link rel=&quot;stylesheet&quot; href=&quot;https://cdnjs.cloudflare.com/ajax/libs/Leaflet.awesome-markers/2.0.2/leaflet.awesome-markers.css&quot;/&gt;\n",
       "    &lt;link rel=&quot;stylesheet&quot; href=&quot;https://cdn.jsdelivr.net/gh/python-visualization/folium/folium/templates/leaflet.awesome.rotate.min.css&quot;/&gt;\n",
       "    \n",
       "            &lt;meta name=&quot;viewport&quot; content=&quot;width=device-width,\n",
       "                initial-scale=1.0, maximum-scale=1.0, user-scalable=no&quot; /&gt;\n",
       "            &lt;style&gt;\n",
       "                #map_3ddfb2e24528a721637dec99a97f5d0c {\n",
       "                    position: relative;\n",
       "                    width: 100.0%;\n",
       "                    height: 100.0%;\n",
       "                    left: 0.0%;\n",
       "                    top: 0.0%;\n",
       "                }\n",
       "                .leaflet-container { font-size: 1rem; }\n",
       "            &lt;/style&gt;\n",
       "        \n",
       "&lt;/head&gt;\n",
       "&lt;body&gt;\n",
       "    \n",
       "    \n",
       "            &lt;div class=&quot;folium-map&quot; id=&quot;map_3ddfb2e24528a721637dec99a97f5d0c&quot; &gt;&lt;/div&gt;\n",
       "        \n",
       "&lt;/body&gt;\n",
       "&lt;script&gt;\n",
       "    \n",
       "    \n",
       "            var map_3ddfb2e24528a721637dec99a97f5d0c = L.map(\n",
       "                &quot;map_3ddfb2e24528a721637dec99a97f5d0c&quot;,\n",
       "                {\n",
       "                    center: [35.832870184, 139.95574458000002],\n",
       "                    crs: L.CRS.EPSG3857,\n",
       "                    zoom: 17,\n",
       "                    zoomControl: true,\n",
       "                    preferCanvas: false,\n",
       "                }\n",
       "            );\n",
       "\n",
       "            \n",
       "\n",
       "        \n",
       "    \n",
       "            var tile_layer_65709571e00041ccbe9bcf6111b5cbbd = L.tileLayer(\n",
       "                &quot;https://{s}.tile.openstreetmap.org/{z}/{x}/{y}.png&quot;,\n",
       "                {&quot;attribution&quot;: &quot;Data by \\u0026copy; \\u003ca target=\\&quot;_blank\\&quot; href=\\&quot;http://openstreetmap.org\\&quot;\\u003eOpenStreetMap\\u003c/a\\u003e, under \\u003ca target=\\&quot;_blank\\&quot; href=\\&quot;http://www.openstreetmap.org/copyright\\&quot;\\u003eODbL\\u003c/a\\u003e.&quot;, &quot;detectRetina&quot;: false, &quot;maxNativeZoom&quot;: 18, &quot;maxZoom&quot;: 18, &quot;minZoom&quot;: 0, &quot;noWrap&quot;: false, &quot;opacity&quot;: 1, &quot;subdomains&quot;: &quot;abc&quot;, &quot;tms&quot;: false}\n",
       "            ).addTo(map_3ddfb2e24528a721637dec99a97f5d0c);\n",
       "        \n",
       "    \n",
       "            var tile_layer_192759e90396a181a1bc186b3da671a4 = L.tileLayer(\n",
       "                &quot;https://cyberjapandata.gsi.go.jp/xyz/seamlessphoto/{z}/{x}/{y}.jpg&quot;,\n",
       "                {&quot;attribution&quot;: &quot;\\u56fd\\u571f\\u5730\\u7406\\u9662&quot;, &quot;detectRetina&quot;: false, &quot;maxNativeZoom&quot;: 18, &quot;maxZoom&quot;: 18, &quot;minZoom&quot;: 0, &quot;noWrap&quot;: false, &quot;opacity&quot;: 1, &quot;subdomains&quot;: &quot;abc&quot;, &quot;tms&quot;: false}\n",
       "            ).addTo(map_3ddfb2e24528a721637dec99a97f5d0c);\n",
       "        \n",
       "    \n",
       "            var tile_layer_cde18331f13aca20e8a95317f1a508f9 = L.tileLayer(\n",
       "                &quot;https://cyberjapandata.gsi.go.jp/xyz/gazo4/{z}/{x}/{y}.jpg&quot;,\n",
       "                {&quot;attribution&quot;: &quot;\\u56fd\\u571f\\u5730\\u7406\\u9662&quot;, &quot;detectRetina&quot;: false, &quot;maxNativeZoom&quot;: 18, &quot;maxZoom&quot;: 18, &quot;minZoom&quot;: 0, &quot;noWrap&quot;: false, &quot;opacity&quot;: 1, &quot;subdomains&quot;: &quot;abc&quot;, &quot;tms&quot;: false}\n",
       "            ).addTo(map_3ddfb2e24528a721637dec99a97f5d0c);\n",
       "        \n",
       "    \n",
       "            var tile_layer_61b4872ef6a204a4a19f1be9f3f30089 = L.tileLayer(\n",
       "                &quot;https://cyberjapandata.gsi.go.jp/xyz/gazo3/{z}/{x}/{y}.jpg&quot;,\n",
       "                {&quot;attribution&quot;: &quot;\\u56fd\\u571f\\u5730\\u7406\\u9662&quot;, &quot;detectRetina&quot;: false, &quot;maxNativeZoom&quot;: 18, &quot;maxZoom&quot;: 18, &quot;minZoom&quot;: 0, &quot;noWrap&quot;: false, &quot;opacity&quot;: 1, &quot;subdomains&quot;: &quot;abc&quot;, &quot;tms&quot;: false}\n",
       "            ).addTo(map_3ddfb2e24528a721637dec99a97f5d0c);\n",
       "        \n",
       "    \n",
       "            var tile_layer_3ad596e6b9640809fd9b440c3c3d1d79 = L.tileLayer(\n",
       "                &quot;https://cyberjapandata.gsi.go.jp/xyz/gazo2/{z}/{x}/{y}.jpg&quot;,\n",
       "                {&quot;attribution&quot;: &quot;\\u56fd\\u571f\\u5730\\u7406\\u9662&quot;, &quot;detectRetina&quot;: false, &quot;maxNativeZoom&quot;: 18, &quot;maxZoom&quot;: 18, &quot;minZoom&quot;: 0, &quot;noWrap&quot;: false, &quot;opacity&quot;: 1, &quot;subdomains&quot;: &quot;abc&quot;, &quot;tms&quot;: false}\n",
       "            ).addTo(map_3ddfb2e24528a721637dec99a97f5d0c);\n",
       "        \n",
       "    \n",
       "            var tile_layer_f1f0ecd07036940d23f5f10eac0673d6 = L.tileLayer(\n",
       "                &quot;https://cyberjapandata.gsi.go.jp/xyz/gazo1/{z}/{x}/{y}.jpg&quot;,\n",
       "                {&quot;attribution&quot;: &quot;\\u56fd\\u571f\\u5730\\u7406\\u9662&quot;, &quot;detectRetina&quot;: false, &quot;maxNativeZoom&quot;: 18, &quot;maxZoom&quot;: 18, &quot;minZoom&quot;: 0, &quot;noWrap&quot;: false, &quot;opacity&quot;: 1, &quot;subdomains&quot;: &quot;abc&quot;, &quot;tms&quot;: false}\n",
       "            ).addTo(map_3ddfb2e24528a721637dec99a97f5d0c);\n",
       "        \n",
       "    \n",
       "            var tile_layer_bf0dc4ce8df2c47d711e03fbaefced31 = L.tileLayer(\n",
       "                &quot;https://cyberjapandata.gsi.go.jp/xyz/ort_old10/{z}/{x}/{y}.png&quot;,\n",
       "                {&quot;attribution&quot;: &quot;\\u56fd\\u571f\\u5730\\u7406\\u9662&quot;, &quot;detectRetina&quot;: false, &quot;maxNativeZoom&quot;: 18, &quot;maxZoom&quot;: 18, &quot;minZoom&quot;: 0, &quot;noWrap&quot;: false, &quot;opacity&quot;: 1, &quot;subdomains&quot;: &quot;abc&quot;, &quot;tms&quot;: false}\n",
       "            ).addTo(map_3ddfb2e24528a721637dec99a97f5d0c);\n",
       "        \n",
       "    \n",
       "            var layer_control_b699587b790b66bee2fc1021f6343313 = {\n",
       "                base_layers : {\n",
       "                    &quot;openstreetmap&quot; : tile_layer_65709571e00041ccbe9bcf6111b5cbbd,\n",
       "                    &quot;2007\\u5e74\\u4ee5\\u964d&quot; : tile_layer_192759e90396a181a1bc186b3da671a4,\n",
       "                    &quot;1987\\u5e74\\uff5e1990\\u5e74&quot; : tile_layer_cde18331f13aca20e8a95317f1a508f9,\n",
       "                    &quot;1984\\u5e74\\uff5e1986\\u5e74&quot; : tile_layer_61b4872ef6a204a4a19f1be9f3f30089,\n",
       "                    &quot;1979\\u5e74\\uff5e1983\\u5e74&quot; : tile_layer_3ad596e6b9640809fd9b440c3c3d1d79,\n",
       "                    &quot;1974\\u5e74\\uff5e1978\\u5e74&quot; : tile_layer_f1f0ecd07036940d23f5f10eac0673d6,\n",
       "                    &quot;1961\\u5e74\\uff5e1969\\u5e74&quot; : tile_layer_bf0dc4ce8df2c47d711e03fbaefced31,\n",
       "                },\n",
       "                overlays :  {\n",
       "                },\n",
       "            };\n",
       "            L.control.layers(\n",
       "                layer_control_b699587b790b66bee2fc1021f6343313.base_layers,\n",
       "                layer_control_b699587b790b66bee2fc1021f6343313.overlays,\n",
       "                {&quot;autoZIndex&quot;: true, &quot;collapsed&quot;: true, &quot;position&quot;: &quot;topright&quot;}\n",
       "            ).addTo(map_3ddfb2e24528a721637dec99a97f5d0c);\n",
       "            tile_layer_192759e90396a181a1bc186b3da671a4.remove();\n",
       "            tile_layer_cde18331f13aca20e8a95317f1a508f9.remove();\n",
       "            tile_layer_61b4872ef6a204a4a19f1be9f3f30089.remove();\n",
       "            tile_layer_3ad596e6b9640809fd9b440c3c3d1d79.remove();\n",
       "            tile_layer_f1f0ecd07036940d23f5f10eac0673d6.remove();\n",
       "            tile_layer_bf0dc4ce8df2c47d711e03fbaefced31.remove();\n",
       "        \n",
       "    \n",
       "            var marker_1fff4aa02d3de46c0f32e18054102d6e = L.marker(\n",
       "                [35.833049, 139.9550264],\n",
       "                {}\n",
       "            ).addTo(map_3ddfb2e24528a721637dec99a97f5d0c);\n",
       "        \n",
       "    \n",
       "            var icon_c9fe17c90ab8e300bdbf6a84851e5ae3 = L.AwesomeMarkers.icon(\n",
       "                {&quot;extraClasses&quot;: &quot;fa-rotate-0&quot;, &quot;icon&quot;: &quot;info-sign&quot;, &quot;iconColor&quot;: &quot;white&quot;, &quot;markerColor&quot;: &quot;green&quot;, &quot;prefix&quot;: &quot;glyphicon&quot;}\n",
       "            );\n",
       "            marker_1fff4aa02d3de46c0f32e18054102d6e.setIcon(icon_c9fe17c90ab8e300bdbf6a84851e5ae3);\n",
       "        \n",
       "    \n",
       "        var popup_fde9da51300e2a4bb14c21899c0b2967 = L.popup({&quot;maxWidth&quot;: &quot;100%&quot;});\n",
       "\n",
       "        \n",
       "            \n",
       "                var html_2d5dfedaaa5309df8b429ccd82835458 = $(`&lt;div id=&quot;html_2d5dfedaaa5309df8b429ccd82835458&quot; style=&quot;width: 100.0%; height: 100.0%;&quot;&gt;&lt;div style=&quot;width:150px&quot;&gt;校舎名の「かえで」には「楓の果実が2つの種子が密着した姿で、それぞれから翼が伸びる翼果であることから、仲間同士で切磋琢磨し合い、成長を遂げていくことができる人材の育成を行う」という願いが込められています。&lt;/div&gt;&lt;/div&gt;`)[0];\n",
       "                popup_fde9da51300e2a4bb14c21899c0b2967.setContent(html_2d5dfedaaa5309df8b429ccd82835458);\n",
       "            \n",
       "        \n",
       "\n",
       "        marker_1fff4aa02d3de46c0f32e18054102d6e.bindPopup(popup_fde9da51300e2a4bb14c21899c0b2967)\n",
       "        ;\n",
       "\n",
       "        \n",
       "    \n",
       "    \n",
       "            marker_1fff4aa02d3de46c0f32e18054102d6e.bindTooltip(\n",
       "                `&lt;div&gt;\n",
       "                     校舎「かえで」\n",
       "                 &lt;/div&gt;`,\n",
       "                {&quot;sticky&quot;: true}\n",
       "            );\n",
       "        \n",
       "    \n",
       "            var marker_87fc68d60ed3a79197f5952f5ad5ad6b = L.marker(\n",
       "                [35.83220147, 139.9559064],\n",
       "                {}\n",
       "            ).addTo(map_3ddfb2e24528a721637dec99a97f5d0c);\n",
       "        \n",
       "    \n",
       "            var icon_ecd0d6870b90d627d9a872e00517a5f0 = L.AwesomeMarkers.icon(\n",
       "                {&quot;extraClasses&quot;: &quot;fa-rotate-0&quot;, &quot;icon&quot;: &quot;info-sign&quot;, &quot;iconColor&quot;: &quot;white&quot;, &quot;markerColor&quot;: &quot;green&quot;, &quot;prefix&quot;: &quot;glyphicon&quot;}\n",
       "            );\n",
       "            marker_87fc68d60ed3a79197f5952f5ad5ad6b.setIcon(icon_ecd0d6870b90d627d9a872e00517a5f0);\n",
       "        \n",
       "    \n",
       "        var popup_7acc68b358277612609ea95512747691 = L.popup({&quot;maxWidth&quot;: &quot;100%&quot;});\n",
       "\n",
       "        \n",
       "            \n",
       "                var html_2642ea02ec864cb7c5ca1771eef6f008 = $(`&lt;div id=&quot;html_2642ea02ec864cb7c5ca1771eef6f008&quot; style=&quot;width: 100.0%; height: 100.0%;&quot;&gt;&lt;div style=&quot;width:150px&quot;&gt;麗澤大学開学50周年記念事業の一環として2011年4月&quot;森と共生するキャンパス&quot;をコンセプトに建設された校舎「あすなろ」。このコンセプトが高く評価され、2012年度グッドデザイン賞を受賞しました。&lt;/div&gt;&lt;/div&gt;`)[0];\n",
       "                popup_7acc68b358277612609ea95512747691.setContent(html_2642ea02ec864cb7c5ca1771eef6f008);\n",
       "            \n",
       "        \n",
       "\n",
       "        marker_87fc68d60ed3a79197f5952f5ad5ad6b.bindPopup(popup_7acc68b358277612609ea95512747691)\n",
       "        ;\n",
       "\n",
       "        \n",
       "    \n",
       "    \n",
       "            marker_87fc68d60ed3a79197f5952f5ad5ad6b.bindTooltip(\n",
       "                `&lt;div&gt;\n",
       "                     校舎「あすなろ」\n",
       "                 &lt;/div&gt;`,\n",
       "                {&quot;sticky&quot;: true}\n",
       "            );\n",
       "        \n",
       "    \n",
       "            var marker_967cb1d762e10e4d42150921b5061e2a = L.marker(\n",
       "                [35.83286248, 139.9559251],\n",
       "                {}\n",
       "            ).addTo(map_3ddfb2e24528a721637dec99a97f5d0c);\n",
       "        \n",
       "    \n",
       "            var icon_9120a52af5d5c76b104b0d39f09debd5 = L.AwesomeMarkers.icon(\n",
       "                {&quot;extraClasses&quot;: &quot;fa-rotate-0&quot;, &quot;icon&quot;: &quot;info-sign&quot;, &quot;iconColor&quot;: &quot;white&quot;, &quot;markerColor&quot;: &quot;green&quot;, &quot;prefix&quot;: &quot;glyphicon&quot;}\n",
       "            );\n",
       "            marker_967cb1d762e10e4d42150921b5061e2a.setIcon(icon_9120a52af5d5c76b104b0d39f09debd5);\n",
       "        \n",
       "    \n",
       "        var popup_a5171c398568d9bcb98796012a21e206 = L.popup({&quot;maxWidth&quot;: &quot;100%&quot;});\n",
       "\n",
       "        \n",
       "            \n",
       "                var html_5579d02999fb8479e7914fa21a7e731e = $(`&lt;div id=&quot;html_5579d02999fb8479e7914fa21a7e731e&quot; style=&quot;width: 100.0%; height: 100.0%;&quot;&gt;&lt;div style=&quot;width:150px&quot;&gt;AVホール・CALL教室を持ち、授業開講時は8:50から19:00（閉講期間中は9:00から16:45）まで利用可能。開架式を採用しており、貴重書を除くほとんどの資料を、自由に閲覧することができます。&lt;br&gt;&lt;br&gt; 開館時間は8：50～19：00（月～金）&lt;br&gt; ※授業閉講時は9：00～16：45まで開館（月～金）&lt;/div&gt;&lt;/div&gt;`)[0];\n",
       "                popup_a5171c398568d9bcb98796012a21e206.setContent(html_5579d02999fb8479e7914fa21a7e731e);\n",
       "            \n",
       "        \n",
       "\n",
       "        marker_967cb1d762e10e4d42150921b5061e2a.bindPopup(popup_a5171c398568d9bcb98796012a21e206)\n",
       "        ;\n",
       "\n",
       "        \n",
       "    \n",
       "    \n",
       "            marker_967cb1d762e10e4d42150921b5061e2a.bindTooltip(\n",
       "                `&lt;div&gt;\n",
       "                     図書館\n",
       "                 &lt;/div&gt;`,\n",
       "                {&quot;sticky&quot;: true}\n",
       "            );\n",
       "        \n",
       "    \n",
       "            var marker_1017766607e40dbef70828f65fdfb4a4 = L.marker(\n",
       "                [35.83430366, 139.9549849],\n",
       "                {}\n",
       "            ).addTo(map_3ddfb2e24528a721637dec99a97f5d0c);\n",
       "        \n",
       "    \n",
       "            var icon_29c31d6e417bda348f3aefe0083ec6ff = L.AwesomeMarkers.icon(\n",
       "                {&quot;extraClasses&quot;: &quot;fa-rotate-0&quot;, &quot;icon&quot;: &quot;info-sign&quot;, &quot;iconColor&quot;: &quot;white&quot;, &quot;markerColor&quot;: &quot;orange&quot;, &quot;prefix&quot;: &quot;glyphicon&quot;}\n",
       "            );\n",
       "            marker_1017766607e40dbef70828f65fdfb4a4.setIcon(icon_29c31d6e417bda348f3aefe0083ec6ff);\n",
       "        \n",
       "    \n",
       "        var popup_1a487eaedd04b60a59bf9087dc991ae7 = L.popup({&quot;maxWidth&quot;: &quot;100%&quot;});\n",
       "\n",
       "        \n",
       "            \n",
       "                var html_992a3f8dc93b3f4b2af4749d7c5b4ac7 = $(`&lt;div id=&quot;html_992a3f8dc93b3f4b2af4749d7c5b4ac7&quot; style=&quot;width: 100.0%; height: 100.0%;&quot;&gt;&lt;div style=&quot;width:150px&quot;&gt;2022年9月にリニューアルオープン。木目とグリーンを基調としたアットホームな雰囲気で、窓から見える「緑」の景色とも調和した作りとなっています。「1人席」や「ソファ席」、「ベンチ席」、「ミーティングルーム」等の様々な空間で過ごせるような工夫がされています。 2階にはカフェコーナーを設置し、焼き立てパン、淹れ立てコーヒー、サーティーワンアイスが購入できます。&lt;/div&gt;&lt;/div&gt;`)[0];\n",
       "                popup_1a487eaedd04b60a59bf9087dc991ae7.setContent(html_992a3f8dc93b3f4b2af4749d7c5b4ac7);\n",
       "            \n",
       "        \n",
       "\n",
       "        marker_1017766607e40dbef70828f65fdfb4a4.bindPopup(popup_1a487eaedd04b60a59bf9087dc991ae7)\n",
       "        ;\n",
       "\n",
       "        \n",
       "    \n",
       "    \n",
       "            marker_1017766607e40dbef70828f65fdfb4a4.bindTooltip(\n",
       "                `&lt;div&gt;\n",
       "                     学生会館「ひいらぎ」\n",
       "                 &lt;/div&gt;`,\n",
       "                {&quot;sticky&quot;: true}\n",
       "            );\n",
       "        \n",
       "    \n",
       "            var marker_932e9e02887eb0cb3298a35d4166cd43 = L.marker(\n",
       "                [35.83193431, 139.9568801],\n",
       "                {}\n",
       "            ).addTo(map_3ddfb2e24528a721637dec99a97f5d0c);\n",
       "        \n",
       "    \n",
       "            var icon_cc3cd643e0b79b19c7380c31d2189f5c = L.AwesomeMarkers.icon(\n",
       "                {&quot;extraClasses&quot;: &quot;fa-rotate-0&quot;, &quot;icon&quot;: &quot;info-sign&quot;, &quot;iconColor&quot;: &quot;white&quot;, &quot;markerColor&quot;: &quot;green&quot;, &quot;prefix&quot;: &quot;glyphicon&quot;}\n",
       "            );\n",
       "            marker_932e9e02887eb0cb3298a35d4166cd43.setIcon(icon_cc3cd643e0b79b19c7380c31d2189f5c);\n",
       "        \n",
       "    \n",
       "        var popup_96c50e0fa48f42674fd49b9257b8af62 = L.popup({&quot;maxWidth&quot;: &quot;100%&quot;});\n",
       "\n",
       "        \n",
       "            \n",
       "                var html_fdad55e53936a10bcd41a00fd5c0fd40 = $(`&lt;div id=&quot;html_fdad55e53936a10bcd41a00fd5c0fd40&quot; style=&quot;width: 100.0%; height: 100.0%;&quot;&gt;&lt;div style=&quot;width:150px&quot;&gt;2006年（平成18年）2月竣工。大学院、研究センター、情報システム部、麗澤オープンカレッジが入る複合施設。教育活動、研究活動、社会貢献活動を積極的に推進し、これからの生涯学習への需要に的確に応えていくことを目的とした建物です。&lt;/div&gt;&lt;/div&gt;`)[0];\n",
       "                popup_96c50e0fa48f42674fd49b9257b8af62.setContent(html_fdad55e53936a10bcd41a00fd5c0fd40);\n",
       "            \n",
       "        \n",
       "\n",
       "        marker_932e9e02887eb0cb3298a35d4166cd43.bindPopup(popup_96c50e0fa48f42674fd49b9257b8af62)\n",
       "        ;\n",
       "\n",
       "        \n",
       "    \n",
       "    \n",
       "            marker_932e9e02887eb0cb3298a35d4166cd43.bindTooltip(\n",
       "                `&lt;div&gt;\n",
       "                     麗澤大学生涯教育プラザ\n",
       "                 &lt;/div&gt;`,\n",
       "                {&quot;sticky&quot;: true}\n",
       "            );\n",
       "        \n",
       "&lt;/script&gt;\n",
       "&lt;/html&gt;\" style=\"position:absolute;width:100%;height:100%;left:0;top:0;border:none !important;\" allowfullscreen webkitallowfullscreen mozallowfullscreen></iframe></div></div>"
      ],
      "text/plain": [
       "<folium.folium.Map at 0x11ae57110>"
      ]
     },
     "execution_count": 39,
     "metadata": {},
     "output_type": "execute_result"
    }
   ],
   "source": [
    "# make the map\n",
    "#データソースも必ず記入\n",
    "m = folium.Map(location=[center_lat,center_lon], \n",
    "               zoom_start=17,\n",
    "               attr = '国土地理院')\n",
    "\n",
    "# add basemaps\n",
    "folium.TileLayer(name='2007年以降',tiles='https://cyberjapandata.gsi.go.jp/xyz/seamlessphoto/{z}/{x}/{y}.jpg',attr='国土地理院').add_to(m)\n",
    "folium.TileLayer(name='1987年～1990年',tiles='https://cyberjapandata.gsi.go.jp/xyz/gazo4/{z}/{x}/{y}.jpg',attr='国土地理院').add_to(m)\n",
    "folium.TileLayer(name='1984年～1986年',tiles='https://cyberjapandata.gsi.go.jp/xyz/gazo3/{z}/{x}/{y}.jpg',attr='国土地理院').add_to(m)\n",
    "folium.TileLayer(name='1979年～1983年',tiles='https://cyberjapandata.gsi.go.jp/xyz/gazo2/{z}/{x}/{y}.jpg',attr='国土地理院').add_to(m)\n",
    "folium.TileLayer(name='1974年～1978年',tiles='https://cyberjapandata.gsi.go.jp/xyz/gazo1/{z}/{x}/{y}.jpg',attr='国土地理院').add_to(m)\n",
    "folium.TileLayer(name='1961年～1969年',tiles='https://cyberjapandata.gsi.go.jp/xyz/ort_old10/{z}/{x}/{y}.png',attr='国土地理院').add_to(m)\n",
    "\n",
    "# basemapが選べるボタンをマップに足す\n",
    "folium.LayerControl().add_to(m)\n",
    "\n",
    "# add points\n",
    "for index, row in df.iterrows():\n",
    "    latlon = [row['latitude'],row['longitude']]\n",
    "    folium.Marker(latlon, popup='<div style=\"width:150px\">'+row['description']+'</div>', tooltip=row['name'],icon=folium.Icon(color=row['color'])).add_to(m)\n",
    "\n",
    "# show the map\n",
    "m\n",
    "\n"
   ]
  },
  {
   "attachments": {},
   "cell_type": "markdown",
   "metadata": {},
   "source": [
    "このように同じ「場所」を違う視点から観察することができる。これを見て、何を感じますか？"
   ]
  },
  {
   "attachments": {},
   "cell_type": "markdown",
   "metadata": {},
   "source": [
    "# Extra topic: Mapping Earthquakes\n",
    "\n",
    "世界の地震のデータをリアルタイムで提供しているのは United States Geological Survey (USGS)。このデータをcsv fileとしてダウンロードできるが、直接アクセスすることも可能である。この場合、 `csv` ではなく `geojson` というファイルフォーマットを使う。`geojson` はこれからも使うので、とりあえず、ここで紹介！\n",
    "\n",
    "`geojson` を扱うには新しいライブラリー【geopandas】を使う必要がある。\n",
    "\n",
    "[USGSの地震マップ](https://earthquake.usgs.gov/earthquakes/map/?extent=-82.76537,-120.23438&extent=84.9593,298.47656)"
   ]
  },
  {
   "cell_type": "code",
   "execution_count": 40,
   "metadata": {},
   "outputs": [],
   "source": [
    "import geopandas as gpd"
   ]
  },
  {
   "attachments": {},
   "cell_type": "markdown",
   "metadata": {},
   "source": [
    "`geopandas` を使ってUSGSからのリアルタイムデータを読み込む。`gdf` とは `geodataframe` の略である。"
   ]
  },
  {
   "cell_type": "code",
   "execution_count": 42,
   "metadata": {},
   "outputs": [
    {
     "ename": "DriverError",
     "evalue": "'/vsicurl/https://earthquake.usgs.gov/earthquakes/feed/v1.0/summary/2.5_day.geojson' not recognized as a supported file format.",
     "output_type": "error",
     "traceback": [
      "\u001b[0;31m---------------------------------------------------------------------------\u001b[0m",
      "\u001b[0;31mCPLE_OpenFailedError\u001b[0m                      Traceback (most recent call last)",
      "File \u001b[0;32mfiona/ogrext.pyx:136\u001b[0m, in \u001b[0;36mfiona.ogrext.gdal_open_vector\u001b[0;34m()\u001b[0m\n",
      "File \u001b[0;32mfiona/_err.pyx:291\u001b[0m, in \u001b[0;36mfiona._err.exc_wrap_pointer\u001b[0;34m()\u001b[0m\n",
      "\u001b[0;31mCPLE_OpenFailedError\u001b[0m: '/vsicurl/https://earthquake.usgs.gov/earthquakes/feed/v1.0/summary/2.5_day.geojson' not recognized as a supported file format.",
      "\nDuring handling of the above exception, another exception occurred:\n",
      "\u001b[0;31mDriverError\u001b[0m                               Traceback (most recent call last)",
      "Cell \u001b[0;32mIn[42], line 1\u001b[0m\n\u001b[0;32m----> 1\u001b[0m gdf \u001b[39m=\u001b[39m gpd\u001b[39m.\u001b[39;49mread_file(\u001b[39m'\u001b[39;49m\u001b[39mhttps://earthquake.usgs.gov/earthquakes/feed/v1.0/summary/2.5_day.geojson\u001b[39;49m\u001b[39m'\u001b[39;49m)\n",
      "File \u001b[0;32m~/miniconda3/envs/gis/lib/python3.11/site-packages/geopandas/io/file.py:248\u001b[0m, in \u001b[0;36m_read_file\u001b[0;34m(filename, bbox, mask, rows, engine, **kwargs)\u001b[0m\n\u001b[1;32m    245\u001b[0m     \u001b[39melse\u001b[39;00m:\n\u001b[1;32m    246\u001b[0m         path_or_bytes \u001b[39m=\u001b[39m filename\n\u001b[0;32m--> 248\u001b[0m     \u001b[39mreturn\u001b[39;00m _read_file_fiona(\n\u001b[1;32m    249\u001b[0m         path_or_bytes, from_bytes, bbox\u001b[39m=\u001b[39;49mbbox, mask\u001b[39m=\u001b[39;49mmask, rows\u001b[39m=\u001b[39;49mrows, \u001b[39m*\u001b[39;49m\u001b[39m*\u001b[39;49mkwargs\n\u001b[1;32m    250\u001b[0m     )\n\u001b[1;32m    252\u001b[0m \u001b[39melse\u001b[39;00m:\n\u001b[1;32m    253\u001b[0m     \u001b[39mraise\u001b[39;00m \u001b[39mValueError\u001b[39;00m(\u001b[39mf\u001b[39m\u001b[39m\"\u001b[39m\u001b[39munknown engine \u001b[39m\u001b[39m'\u001b[39m\u001b[39m{\u001b[39;00mengine\u001b[39m}\u001b[39;00m\u001b[39m'\u001b[39m\u001b[39m\"\u001b[39m)\n",
      "File \u001b[0;32m~/miniconda3/envs/gis/lib/python3.11/site-packages/geopandas/io/file.py:289\u001b[0m, in \u001b[0;36m_read_file_fiona\u001b[0;34m(path_or_bytes, from_bytes, bbox, mask, rows, where, **kwargs)\u001b[0m\n\u001b[1;32m    286\u001b[0m     reader \u001b[39m=\u001b[39m fiona\u001b[39m.\u001b[39mopen\n\u001b[1;32m    288\u001b[0m \u001b[39mwith\u001b[39;00m fiona_env():\n\u001b[0;32m--> 289\u001b[0m     \u001b[39mwith\u001b[39;00m reader(path_or_bytes, \u001b[39m*\u001b[39;49m\u001b[39m*\u001b[39;49mkwargs) \u001b[39mas\u001b[39;00m features:\n\u001b[1;32m    290\u001b[0m         crs \u001b[39m=\u001b[39m features\u001b[39m.\u001b[39mcrs_wkt\n\u001b[1;32m    291\u001b[0m         \u001b[39m# attempt to get EPSG code\u001b[39;00m\n",
      "File \u001b[0;32m~/miniconda3/envs/gis/lib/python3.11/site-packages/fiona/env.py:457\u001b[0m, in \u001b[0;36mensure_env_with_credentials.<locals>.wrapper\u001b[0;34m(*args, **kwds)\u001b[0m\n\u001b[1;32m    454\u001b[0m     session \u001b[39m=\u001b[39m DummySession()\n\u001b[1;32m    456\u001b[0m \u001b[39mwith\u001b[39;00m env_ctor(session\u001b[39m=\u001b[39msession):\n\u001b[0;32m--> 457\u001b[0m     \u001b[39mreturn\u001b[39;00m f(\u001b[39m*\u001b[39;49margs, \u001b[39m*\u001b[39;49m\u001b[39m*\u001b[39;49mkwds)\n",
      "File \u001b[0;32m~/miniconda3/envs/gis/lib/python3.11/site-packages/fiona/__init__.py:336\u001b[0m, in \u001b[0;36mopen\u001b[0;34m(fp, mode, driver, schema, crs, encoding, layer, vfs, enabled_drivers, crs_wkt, allow_unsupported_drivers, **kwargs)\u001b[0m\n\u001b[1;32m    333\u001b[0m     path \u001b[39m=\u001b[39m parse_path(fp)\n\u001b[1;32m    335\u001b[0m \u001b[39mif\u001b[39;00m mode \u001b[39min\u001b[39;00m (\u001b[39m\"\u001b[39m\u001b[39ma\u001b[39m\u001b[39m\"\u001b[39m, \u001b[39m\"\u001b[39m\u001b[39mr\u001b[39m\u001b[39m\"\u001b[39m):\n\u001b[0;32m--> 336\u001b[0m     colxn \u001b[39m=\u001b[39m Collection(\n\u001b[1;32m    337\u001b[0m         path,\n\u001b[1;32m    338\u001b[0m         mode,\n\u001b[1;32m    339\u001b[0m         driver\u001b[39m=\u001b[39;49mdriver,\n\u001b[1;32m    340\u001b[0m         encoding\u001b[39m=\u001b[39;49mencoding,\n\u001b[1;32m    341\u001b[0m         layer\u001b[39m=\u001b[39;49mlayer,\n\u001b[1;32m    342\u001b[0m         enabled_drivers\u001b[39m=\u001b[39;49menabled_drivers,\n\u001b[1;32m    343\u001b[0m         allow_unsupported_drivers\u001b[39m=\u001b[39;49mallow_unsupported_drivers,\n\u001b[1;32m    344\u001b[0m         \u001b[39m*\u001b[39;49m\u001b[39m*\u001b[39;49mkwargs\n\u001b[1;32m    345\u001b[0m     )\n\u001b[1;32m    346\u001b[0m \u001b[39melif\u001b[39;00m mode \u001b[39m==\u001b[39m \u001b[39m\"\u001b[39m\u001b[39mw\u001b[39m\u001b[39m\"\u001b[39m:\n\u001b[1;32m    347\u001b[0m     colxn \u001b[39m=\u001b[39m Collection(\n\u001b[1;32m    348\u001b[0m         path,\n\u001b[1;32m    349\u001b[0m         mode,\n\u001b[0;32m   (...)\u001b[0m\n\u001b[1;32m    358\u001b[0m         \u001b[39m*\u001b[39m\u001b[39m*\u001b[39mkwargs\n\u001b[1;32m    359\u001b[0m     )\n",
      "File \u001b[0;32m~/miniconda3/envs/gis/lib/python3.11/site-packages/fiona/collection.py:243\u001b[0m, in \u001b[0;36mCollection.__init__\u001b[0;34m(self, path, mode, driver, schema, crs, encoding, layer, vsi, archive, enabled_drivers, crs_wkt, ignore_fields, ignore_geometry, include_fields, wkt_version, allow_unsupported_drivers, **kwargs)\u001b[0m\n\u001b[1;32m    241\u001b[0m \u001b[39mif\u001b[39;00m \u001b[39mself\u001b[39m\u001b[39m.\u001b[39mmode \u001b[39m==\u001b[39m \u001b[39m\"\u001b[39m\u001b[39mr\u001b[39m\u001b[39m\"\u001b[39m:\n\u001b[1;32m    242\u001b[0m     \u001b[39mself\u001b[39m\u001b[39m.\u001b[39msession \u001b[39m=\u001b[39m Session()\n\u001b[0;32m--> 243\u001b[0m     \u001b[39mself\u001b[39;49m\u001b[39m.\u001b[39;49msession\u001b[39m.\u001b[39;49mstart(\u001b[39mself\u001b[39;49m, \u001b[39m*\u001b[39;49m\u001b[39m*\u001b[39;49mkwargs)\n\u001b[1;32m    244\u001b[0m \u001b[39melif\u001b[39;00m \u001b[39mself\u001b[39m\u001b[39m.\u001b[39mmode \u001b[39min\u001b[39;00m (\u001b[39m\"\u001b[39m\u001b[39ma\u001b[39m\u001b[39m\"\u001b[39m, \u001b[39m\"\u001b[39m\u001b[39mw\u001b[39m\u001b[39m\"\u001b[39m):\n\u001b[1;32m    245\u001b[0m     \u001b[39mself\u001b[39m\u001b[39m.\u001b[39msession \u001b[39m=\u001b[39m WritingSession()\n",
      "File \u001b[0;32mfiona/ogrext.pyx:588\u001b[0m, in \u001b[0;36mfiona.ogrext.Session.start\u001b[0;34m()\u001b[0m\n",
      "File \u001b[0;32mfiona/ogrext.pyx:143\u001b[0m, in \u001b[0;36mfiona.ogrext.gdal_open_vector\u001b[0;34m()\u001b[0m\n",
      "\u001b[0;31mDriverError\u001b[0m: '/vsicurl/https://earthquake.usgs.gov/earthquakes/feed/v1.0/summary/2.5_day.geojson' not recognized as a supported file format."
     ]
    }
   ],
   "source": [
    "gdf = gpd.read_file('https://earthquake.usgs.gov/earthquakes/feed/v1.0/summary/2.5_day.geojson')"
   ]
  },
  {
   "cell_type": "code",
   "execution_count": null,
   "metadata": {},
   "outputs": [],
   "source": [
    "# use head to output first 5 rows\n",
    "gdf.head()"
   ]
  },
  {
   "cell_type": "code",
   "execution_count": 43,
   "metadata": {},
   "outputs": [
    {
     "ename": "NameError",
     "evalue": "name 'gdf' is not defined",
     "output_type": "error",
     "traceback": [
      "\u001b[0;31m---------------------------------------------------------------------------\u001b[0m",
      "\u001b[0;31mNameError\u001b[0m                                 Traceback (most recent call last)",
      "Cell \u001b[0;32mIn[43], line 7\u001b[0m\n\u001b[1;32m      1\u001b[0m \u001b[39m# make the map\u001b[39;00m\n\u001b[1;32m      2\u001b[0m eqmap \u001b[39m=\u001b[39m folium\u001b[39m.\u001b[39mMap(location\u001b[39m=\u001b[39m[\u001b[39m0\u001b[39m,\u001b[39m0\u001b[39m], \n\u001b[1;32m      3\u001b[0m                zoom_start\u001b[39m=\u001b[39m\u001b[39m1\u001b[39m,\n\u001b[1;32m      4\u001b[0m                tiles \u001b[39m=\u001b[39m \u001b[39m'\u001b[39m\u001b[39mhttps://server.arcgisonline.com/ArcGIS/rest/services/World_Imagery/MapServer/tile/\u001b[39m\u001b[39m{z}\u001b[39;00m\u001b[39m/\u001b[39m\u001b[39m{y}\u001b[39;00m\u001b[39m/\u001b[39m\u001b[39m{x}\u001b[39;00m\u001b[39m'\u001b[39m,\n\u001b[1;32m      5\u001b[0m                attr \u001b[39m=\u001b[39m \u001b[39m'\u001b[39m\u001b[39mESRI\u001b[39m\u001b[39m'\u001b[39m)\n\u001b[0;32m----> 7\u001b[0m folium\u001b[39m.\u001b[39mGeoJson(gdf,\n\u001b[1;32m      8\u001b[0m                tooltip\u001b[39m=\u001b[39mfolium\u001b[39m.\u001b[39mGeoJsonTooltip(fields\u001b[39m=\u001b[39m[\u001b[39m'\u001b[39m\u001b[39mplace\u001b[39m\u001b[39m'\u001b[39m,\u001b[39m'\u001b[39m\u001b[39mmag\u001b[39m\u001b[39m'\u001b[39m]))\u001b[39m.\u001b[39madd_to(eqmap)\n\u001b[1;32m      9\u001b[0m eqmap\n",
      "\u001b[0;31mNameError\u001b[0m: name 'gdf' is not defined"
     ]
    }
   ],
   "source": [
    "# make the map\n",
    "eqmap = folium.Map(location=[0,0], \n",
    "               zoom_start=1,\n",
    "               tiles = 'https://server.arcgisonline.com/ArcGIS/rest/services/World_Imagery/MapServer/tile/{z}/{y}/{x}',\n",
    "               attr = 'ESRI')\n",
    "\n",
    "folium.GeoJson(gdf,\n",
    "               tooltip=folium.GeoJsonTooltip(fields=['place','mag'])).add_to(eqmap)\n",
    "eqmap"
   ]
  },
  {
   "attachments": {},
   "cell_type": "markdown",
   "metadata": {},
   "source": [
    "ここで考えほしいのは、csv をダウンロードした場合と、このように直接出所にリンクしてデータを入手する「違い」とは何か？"
   ]
  }
 ],
 "metadata": {
  "kernelspec": {
   "display_name": "geos",
   "language": "python",
   "name": "python3"
  },
  "language_info": {
   "codemirror_mode": {
    "name": "ipython",
    "version": 3
   },
   "file_extension": ".py",
   "mimetype": "text/x-python",
   "name": "python",
   "nbconvert_exporter": "python",
   "pygments_lexer": "ipython3",
   "version": "3.11.3"
  },
  "orig_nbformat": 4
 },
 "nbformat": 4,
 "nbformat_minor": 2
}
